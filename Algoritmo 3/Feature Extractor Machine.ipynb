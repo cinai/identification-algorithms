{
 "cells": [
  {
   "cell_type": "code",
   "execution_count": 1,
   "metadata": {
    "collapsed": false
   },
   "outputs": [],
   "source": [
    "import matplotlib.pyplot as plt\n",
    "import time\n",
    "import datetime as dt\n",
    "import pickle\n",
    "import numpy as np\n",
    "from __future__ import division\n",
    "from auxiliar_functions import *\n",
    "import tfe\n"
   ]
  },
  {
   "cell_type": "code",
   "execution_count": 2,
   "metadata": {
    "collapsed": false
   },
   "outputs": [],
   "source": [
    "frame = pd.read_csv('/home/cata/Documentos/Datois/etapas_2013_abril_allyearsids_10_100000.csv')\n"
   ]
  },
  {
   "cell_type": "code",
   "execution_count": 3,
   "metadata": {
    "collapsed": false
   },
   "outputs": [],
   "source": [
    "frame = frame_config(frame)"
   ]
  },
  {
   "cell_type": "code",
   "execution_count": 4,
   "metadata": {
    "collapsed": false,
    "scrolled": true
   },
   "outputs": [
    {
     "data": {
      "text/html": [
       "<div>\n",
       "<table border=\"1\" class=\"dataframe\">\n",
       "  <thead>\n",
       "    <tr style=\"text-align: right;\">\n",
       "      <th></th>\n",
       "      <th>tiempo_subida</th>\n",
       "      <th>id</th>\n",
       "      <th>x_subida</th>\n",
       "      <th>y_subida</th>\n",
       "      <th>tipo_transporte</th>\n",
       "      <th>serviciosentidovariante</th>\n",
       "      <th>tipo_dia</th>\n",
       "      <th>nviaje</th>\n",
       "      <th>netapa</th>\n",
       "      <th>x_bajada</th>\n",
       "      <th>...</th>\n",
       "      <th>par_bajada</th>\n",
       "      <th>zona_subida</th>\n",
       "      <th>zona_bajada</th>\n",
       "      <th>adulto</th>\n",
       "      <th>weekday</th>\n",
       "      <th>lat_subida</th>\n",
       "      <th>lat_bajada</th>\n",
       "      <th>long_subida</th>\n",
       "      <th>long_bajada</th>\n",
       "      <th>diferencia_tiempo</th>\n",
       "    </tr>\n",
       "  </thead>\n",
       "  <tbody>\n",
       "    <tr>\n",
       "      <th>23</th>\n",
       "      <td>2013-04-14 06:45:44</td>\n",
       "      <td>1132106</td>\n",
       "      <td>348108</td>\n",
       "      <td>6289153</td>\n",
       "      <td>BUS</td>\n",
       "      <td>T203 00R</td>\n",
       "      <td>DOMINGO</td>\n",
       "      <td>1</td>\n",
       "      <td>1</td>\n",
       "      <td>346818</td>\n",
       "      <td>...</td>\n",
       "      <td>E-20-190-SN-40</td>\n",
       "      <td>328</td>\n",
       "      <td>307</td>\n",
       "      <td>0</td>\n",
       "      <td>6</td>\n",
       "      <td>-33.526277</td>\n",
       "      <td>-33.526277</td>\n",
       "      <td>-70.635551</td>\n",
       "      <td>-70.647786</td>\n",
       "      <td>0 days 00:00:00</td>\n",
       "    </tr>\n",
       "    <tr>\n",
       "      <th>22</th>\n",
       "      <td>2013-04-14 07:51:52</td>\n",
       "      <td>1132106</td>\n",
       "      <td>346751</td>\n",
       "      <td>6299389</td>\n",
       "      <td>BUS</td>\n",
       "      <td>T502 00I</td>\n",
       "      <td>DOMINGO</td>\n",
       "      <td>2</td>\n",
       "      <td>1</td>\n",
       "      <td>351363</td>\n",
       "      <td>...</td>\n",
       "      <td>T-15-135-PO-5</td>\n",
       "      <td>307</td>\n",
       "      <td>188</td>\n",
       "      <td>0</td>\n",
       "      <td>6</td>\n",
       "      <td>-33.434116</td>\n",
       "      <td>-33.434116</td>\n",
       "      <td>-70.648104</td>\n",
       "      <td>-70.598251</td>\n",
       "      <td>0 days 01:06:08</td>\n",
       "    </tr>\n",
       "    <tr>\n",
       "      <th>21</th>\n",
       "      <td>2013-04-14 19:56:47</td>\n",
       "      <td>1132106</td>\n",
       "      <td>351368</td>\n",
       "      <td>6302559</td>\n",
       "      <td>BUS</td>\n",
       "      <td>T502 00R</td>\n",
       "      <td>DOMINGO</td>\n",
       "      <td>3</td>\n",
       "      <td>1</td>\n",
       "      <td>346763</td>\n",
       "      <td>...</td>\n",
       "      <td>T-4-19-NS-100</td>\n",
       "      <td>188</td>\n",
       "      <td>55</td>\n",
       "      <td>0</td>\n",
       "      <td>6</td>\n",
       "      <td>-33.405971</td>\n",
       "      <td>-33.405971</td>\n",
       "      <td>-70.598379</td>\n",
       "      <td>-70.648651</td>\n",
       "      <td>0 days 12:04:55</td>\n",
       "    </tr>\n",
       "    <tr>\n",
       "      <th>20</th>\n",
       "      <td>2013-04-14 20:15:25</td>\n",
       "      <td>1132106</td>\n",
       "      <td>346713</td>\n",
       "      <td>6299427</td>\n",
       "      <td>BUS</td>\n",
       "      <td>T203 00I</td>\n",
       "      <td>DOMINGO</td>\n",
       "      <td>3</td>\n",
       "      <td>2</td>\n",
       "      <td>348095</td>\n",
       "      <td>...</td>\n",
       "      <td>T-24-205-NS-20</td>\n",
       "      <td>307</td>\n",
       "      <td>348</td>\n",
       "      <td>0</td>\n",
       "      <td>6</td>\n",
       "      <td>-33.433463</td>\n",
       "      <td>-33.433463</td>\n",
       "      <td>-70.649060</td>\n",
       "      <td>-70.635944</td>\n",
       "      <td>0 days 00:18:38</td>\n",
       "    </tr>\n",
       "    <tr>\n",
       "      <th>19</th>\n",
       "      <td>2013-04-15 21:04:59</td>\n",
       "      <td>1132106</td>\n",
       "      <td>348103</td>\n",
       "      <td>6289191</td>\n",
       "      <td>BUS</td>\n",
       "      <td>T206 00R</td>\n",
       "      <td>LABORAL</td>\n",
       "      <td>4</td>\n",
       "      <td>1</td>\n",
       "      <td>346844</td>\n",
       "      <td>...</td>\n",
       "      <td>T-20-190-SN-35</td>\n",
       "      <td>328</td>\n",
       "      <td>309</td>\n",
       "      <td>0</td>\n",
       "      <td>0</td>\n",
       "      <td>-33.526277</td>\n",
       "      <td>-33.526277</td>\n",
       "      <td>-70.635551</td>\n",
       "      <td>-70.647429</td>\n",
       "      <td>1 days 00:49:34</td>\n",
       "    </tr>\n",
       "  </tbody>\n",
       "</table>\n",
       "<p>5 rows × 23 columns</p>\n",
       "</div>"
      ],
      "text/plain": [
       "         tiempo_subida       id  x_subida  y_subida tipo_transporte  \\\n",
       "23 2013-04-14 06:45:44  1132106    348108   6289153             BUS   \n",
       "22 2013-04-14 07:51:52  1132106    346751   6299389             BUS   \n",
       "21 2013-04-14 19:56:47  1132106    351368   6302559             BUS   \n",
       "20 2013-04-14 20:15:25  1132106    346713   6299427             BUS   \n",
       "19 2013-04-15 21:04:59  1132106    348103   6289191             BUS   \n",
       "\n",
       "   serviciosentidovariante tipo_dia  nviaje  netapa  x_bajada  \\\n",
       "23                T203 00R  DOMINGO       1       1    346818   \n",
       "22                T502 00I  DOMINGO       2       1    351363   \n",
       "21                T502 00R  DOMINGO       3       1    346763   \n",
       "20                T203 00I  DOMINGO       3       2    348095   \n",
       "19                T206 00R  LABORAL       4       1    346844   \n",
       "\n",
       "          ...              par_bajada zona_subida zona_bajada adulto  weekday  \\\n",
       "23        ...          E-20-190-SN-40         328         307      0        6   \n",
       "22        ...           T-15-135-PO-5         307         188      0        6   \n",
       "21        ...           T-4-19-NS-100         188          55      0        6   \n",
       "20        ...          T-24-205-NS-20         307         348      0        6   \n",
       "19        ...          T-20-190-SN-35         328         309      0        0   \n",
       "\n",
       "    lat_subida  lat_bajada  long_subida  long_bajada  diferencia_tiempo  \n",
       "23  -33.526277  -33.526277   -70.635551   -70.647786    0 days 00:00:00  \n",
       "22  -33.434116  -33.434116   -70.648104   -70.598251    0 days 01:06:08  \n",
       "21  -33.405971  -33.405971   -70.598379   -70.648651    0 days 12:04:55  \n",
       "20  -33.433463  -33.433463   -70.649060   -70.635944    0 days 00:18:38  \n",
       "19  -33.526277  -33.526277   -70.635551   -70.647429    1 days 00:49:34  \n",
       "\n",
       "[5 rows x 23 columns]"
      ]
     },
     "execution_count": 4,
     "metadata": {},
     "output_type": "execute_result"
    }
   ],
   "source": [
    "#frame.drop(frame.columns[[2,3,4,5,9,10,11,14,15,16]], axis=1, inplace=True)\n",
    "frame.head()"
   ]
  },
  {
   "cell_type": "code",
   "execution_count": 5,
   "metadata": {
    "collapsed": false
   },
   "outputs": [],
   "source": [
    "test_sequence_5 = frame.query('id==1261466')\n",
    "test_sequence_1187 = frame.query('id==50264508')\n",
    "test_sequence_0 = frame.query('id==1132106')\n",
    "test_sequence_9 = frame.query('id==1355530')\n",
    "test_sequence_2168 = frame.query('id==59460077')\n",
    "test_sequence_3696 = frame.query('id==68660100')\n",
    "test_sequence_4150= frame.query('id==70321252')"
   ]
  },
  {
   "cell_type": "code",
   "execution_count": 6,
   "metadata": {
    "collapsed": false,
    "scrolled": true
   },
   "outputs": [],
   "source": [
    "test_sequence = test_sequence_0\n",
    "[test_sequence_s ,test_sequence_fds] = tfe.split_sequence_by_weekdays(test_sequence)"
   ]
  },
  {
   "cell_type": "code",
   "execution_count": 7,
   "metadata": {
    "collapsed": false
   },
   "outputs": [],
   "source": [
    "shortest_activities_s = tfe.get_mean_shortests_activity_length(test_sequence_s)\n",
    "longest_activities_s = tfe.get_mean_longest_activity_length(test_sequence_s)\n",
    "shortest_activities_fds = tfe.get_mean_shortests_activity_length(test_sequence_fds)\n",
    "longest_activities_fds = tfe.get_mean_longest_activity_length(test_sequence_fds)"
   ]
  },
  {
   "cell_type": "code",
   "execution_count": 8,
   "metadata": {
    "collapsed": false
   },
   "outputs": [
    {
     "name": "stdout",
     "output_type": "stream",
     "text": [
      "0 days 00:26:16.200000 , 0 days 00:18:38\n",
      "0 days 09:52:16.400000 , 1 days 23:16:58\n"
     ]
    }
   ],
   "source": [
    "print str(shortest_activities_s) + \" , \" + str(shortest_activities_fds)\n",
    "print str(longest_activities_s) + \" , \" + str(longest_activities_fds)"
   ]
  },
  {
   "cell_type": "code",
   "execution_count": 9,
   "metadata": {
    "collapsed": false
   },
   "outputs": [],
   "source": [
    "latlong1 = (test_sequence_fds['lat_subida'][0],test_sequence_fds['long_subida'][0])\n",
    "latlong2 = (test_sequence_fds['lat_bajada'][0],test_sequence_fds['long_bajada'][0])"
   ]
  },
  {
   "cell_type": "code",
   "execution_count": 10,
   "metadata": {
    "collapsed": false
   },
   "outputs": [
    {
     "data": {
      "text/plain": [
       "221.22859034150613"
      ]
     },
     "execution_count": 10,
     "metadata": {},
     "output_type": "execute_result"
    }
   ],
   "source": [
    "tfe.get_traveled_distance(test_sequence)"
   ]
  },
  {
   "cell_type": "code",
   "execution_count": 11,
   "metadata": {
    "collapsed": false
   },
   "outputs": [
    {
     "data": {
      "text/plain": [
       "16.64618851242621"
      ]
     },
     "execution_count": 11,
     "metadata": {},
     "output_type": "execute_result"
    }
   ],
   "source": [
    "tfe.get_maximum_travel_distance(test_sequence)"
   ]
  },
  {
   "cell_type": "code",
   "execution_count": 12,
   "metadata": {
    "collapsed": false
   },
   "outputs": [
    {
     "data": {
      "text/plain": [
       "1.136515222708523"
      ]
     },
     "execution_count": 12,
     "metadata": {},
     "output_type": "execute_result"
    }
   ],
   "source": [
    "tfe.get_minimum_travel_distance(test_sequence)"
   ]
  },
  {
   "cell_type": "code",
   "execution_count": 13,
   "metadata": {
    "collapsed": false
   },
   "outputs": [
    {
     "data": {
      "text/plain": [
       "100.0"
      ]
     },
     "execution_count": 13,
     "metadata": {},
     "output_type": "execute_result"
    }
   ],
   "source": [
    "tfe.get_percentage_bus_exclusive_days(test_sequence)"
   ]
  },
  {
   "cell_type": "code",
   "execution_count": 14,
   "metadata": {
    "collapsed": false
   },
   "outputs": [
    {
     "data": {
      "text/plain": [
       "0.0"
      ]
     },
     "execution_count": 14,
     "metadata": {},
     "output_type": "execute_result"
    }
   ],
   "source": [
    "tfe.get_percentage_rail_exclusive_days(test_sequence)"
   ]
  },
  {
   "cell_type": "code",
   "execution_count": 15,
   "metadata": {
    "collapsed": false
   },
   "outputs": [
    {
     "data": {
      "text/plain": [
       "0"
      ]
     },
     "execution_count": 15,
     "metadata": {},
     "output_type": "execute_result"
    }
   ],
   "source": [
    "tfe.get_card_type(test_sequence)"
   ]
  },
  {
   "cell_type": "code",
   "execution_count": 16,
   "metadata": {
    "collapsed": false
   },
   "outputs": [
    {
     "data": {
      "text/plain": [
       "7"
      ]
     },
     "execution_count": 16,
     "metadata": {},
     "output_type": "execute_result"
    }
   ],
   "source": [
    "tfe.get_n_days_traveled(test_sequence)"
   ]
  },
  {
   "cell_type": "code",
   "execution_count": 17,
   "metadata": {
    "collapsed": false
   },
   "outputs": [
    {
     "data": {
      "text/plain": [
       "[3, 1, 2, 2, 2, 0, 1, 2]"
      ]
     },
     "execution_count": 17,
     "metadata": {},
     "output_type": "execute_result"
    }
   ],
   "source": [
    "tfe.get_n_trips_per_day(test_sequence)"
   ]
  },
  {
   "cell_type": "code",
   "execution_count": 18,
   "metadata": {
    "collapsed": false
   },
   "outputs": [
    {
     "data": {
      "text/plain": [
       "33061"
      ]
     },
     "execution_count": 18,
     "metadata": {},
     "output_type": "execute_result"
    }
   ],
   "source": [
    "tfe.get_mean_start_time_first_trip(test_sequence)"
   ]
  },
  {
   "cell_type": "code",
   "execution_count": 19,
   "metadata": {
    "collapsed": false
   },
   "outputs": [
    {
     "data": {
      "text/plain": [
       "67229"
      ]
     },
     "execution_count": 19,
     "metadata": {},
     "output_type": "execute_result"
    }
   ],
   "source": [
    "tfe.get_mean_start_time_last_trip(test_sequence)"
   ]
  },
  {
   "cell_type": "code",
   "execution_count": 20,
   "metadata": {
    "collapsed": false
   },
   "outputs": [
    {
     "data": {
      "text/plain": [
       "57.14285714285714"
      ]
     },
     "execution_count": 20,
     "metadata": {},
     "output_type": "execute_result"
    }
   ],
   "source": [
    "tfe.get_percentage_different_last_origin(test_sequence)"
   ]
  },
  {
   "cell_type": "code",
   "execution_count": 21,
   "metadata": {
    "collapsed": false
   },
   "outputs": [
    {
     "data": {
      "text/plain": [
       "42.857142857142854"
      ]
     },
     "execution_count": 21,
     "metadata": {},
     "output_type": "execute_result"
    }
   ],
   "source": [
    "tfe.get_percentage_different_first_origin(test_sequence)"
   ]
  },
  {
   "cell_type": "code",
   "execution_count": 22,
   "metadata": {
    "collapsed": false
   },
   "outputs": [
    {
     "data": {
      "text/plain": [
       "5"
      ]
     },
     "execution_count": 22,
     "metadata": {},
     "output_type": "execute_result"
    }
   ],
   "source": [
    "tfe.get_n_different_locations(test_sequence)"
   ]
  },
  {
   "cell_type": "code",
   "execution_count": 23,
   "metadata": {
    "collapsed": false
   },
   "outputs": [
    {
     "data": {
      "text/plain": [
       "5450.200714686222"
      ]
     },
     "execution_count": 23,
     "metadata": {},
     "output_type": "execute_result"
    }
   ],
   "source": [
    "tfe.get_radius_of_gyration(test_sequence)"
   ]
  },
  {
   "cell_type": "code",
   "execution_count": 24,
   "metadata": {
    "collapsed": false
   },
   "outputs": [
    {
     "data": {
      "text/plain": [
       "5421.7724863375815"
      ]
     },
     "execution_count": 24,
     "metadata": {},
     "output_type": "execute_result"
    }
   ],
   "source": [
    "tfe.get_radius_of_gyration(test_sequence_fds)"
   ]
  },
  {
   "cell_type": "code",
   "execution_count": 25,
   "metadata": {
    "collapsed": false
   },
   "outputs": [
    {
     "data": {
      "text/plain": [
       "5464.2820177023395"
      ]
     },
     "execution_count": 25,
     "metadata": {},
     "output_type": "execute_result"
    }
   ],
   "source": [
    "tfe.get_radius_of_gyration(test_sequence_s)"
   ]
  },
  {
   "cell_type": "code",
   "execution_count": 26,
   "metadata": {
    "collapsed": false
   },
   "outputs": [
    {
     "data": {
      "text/plain": [
       "2.5545851693377997"
      ]
     },
     "execution_count": 26,
     "metadata": {},
     "output_type": "execute_result"
    }
   ],
   "source": [
    "tfe.get_unc_entropy(test_sequence)"
   ]
  },
  {
   "cell_type": "code",
   "execution_count": 27,
   "metadata": {
    "collapsed": false
   },
   "outputs": [
    {
     "data": {
      "text/plain": [
       "2.3219280948873622"
      ]
     },
     "execution_count": 27,
     "metadata": {},
     "output_type": "execute_result"
    }
   ],
   "source": [
    "tfe.get_random_entropy(test_sequence)"
   ]
  },
  {
   "cell_type": "code",
   "execution_count": 28,
   "metadata": {
    "collapsed": false
   },
   "outputs": [
    {
     "data": {
      "text/plain": [
       "4"
      ]
     },
     "execution_count": 28,
     "metadata": {},
     "output_type": "execute_result"
    }
   ],
   "source": [
    "tfe.get_frequence_regularity(test_sequence)"
   ]
  },
  {
   "cell_type": "code",
   "execution_count": 29,
   "metadata": {
    "collapsed": false
   },
   "outputs": [
    {
     "data": {
      "text/plain": [
       "2.5216406363433181"
      ]
     },
     "execution_count": 29,
     "metadata": {},
     "output_type": "execute_result"
    }
   ],
   "source": [
    "tfe.get_entropy(test_sequence)"
   ]
  },
  {
   "cell_type": "code",
   "execution_count": 90,
   "metadata": {
    "collapsed": false
   },
   "outputs": [],
   "source": [
    "chronology = tfe.get_chronology(test_sequence,latlong1[0],latlong1[1])\n",
    "data_days_window = 1\n",
    "window = data_days_window*24*60 # 8 dias en minutos"
   ]
  },
  {
   "cell_type": "code",
   "execution_count": 93,
   "metadata": {
    "collapsed": false
   },
   "outputs": [
    {
     "data": {
      "text/plain": [
       "1.6020952049349486"
      ]
     },
     "execution_count": 93,
     "metadata": {},
     "output_type": "execute_result"
    }
   ],
   "source": [
    "tfe.get_regularity(chronology,window)"
   ]
  },
  {
   "cell_type": "markdown",
   "metadata": {},
   "source": [
    "## Testing de parametro de clustering"
   ]
  },
  {
   "cell_type": "markdown",
   "metadata": {},
   "source": [
    "### Usuario 0"
   ]
  },
  {
   "cell_type": "code",
   "execution_count": 32,
   "metadata": {
    "collapsed": false
   },
   "outputs": [
    {
     "data": {
      "text/plain": [
       "[array([[-33.52627673, -70.63555144],\n",
       "        [-33.43411554, -70.64810407],\n",
       "        [-33.40597083, -70.59837899],\n",
       "        [-33.52915693, -70.63529341],\n",
       "        [-33.40370241, -70.5959504 ]]),\n",
       " ['T-22-205-SN-65',\n",
       "  'E-20-291-PO-20',\n",
       "  'T-15-135-OP-110',\n",
       "  'T-22-205-SN-55',\n",
       "  'T-15-135-OP-105'],\n",
       " [0.38461538461538464,\n",
       "  0.07692307692307693,\n",
       "  0.38461538461538464,\n",
       "  0.07692307692307693,\n",
       "  0.07692307692307693]]"
      ]
     },
     "execution_count": 32,
     "metadata": {},
     "output_type": "execute_result"
    }
   ],
   "source": [
    "tfe.get_latlong_points(test_sequence_0)"
   ]
  },
  {
   "cell_type": "code",
   "execution_count": 33,
   "metadata": {
    "collapsed": false
   },
   "outputs": [
    {
     "data": {
      "text/plain": [
       "array([1, 3, 2, 1, 2], dtype=int32)"
      ]
     },
     "execution_count": 33,
     "metadata": {},
     "output_type": "execute_result"
    }
   ],
   "source": [
    "tfe.get_clusters(test_sequence_0)"
   ]
  },
  {
   "cell_type": "code",
   "execution_count": 34,
   "metadata": {
    "collapsed": false
   },
   "outputs": [
    {
     "data": {
      "text/plain": [
       "[[{'lat': -33.527716828857699, 'long': -70.63542242496419},\n",
       "  {'lat': -33.404836618443298, 'long': -70.59716469585355}],\n",
       " 0.92307692307692313]"
      ]
     },
     "execution_count": 34,
     "metadata": {},
     "output_type": "execute_result"
    }
   ],
   "source": [
    "tfe.get_ROIs(test_sequence_0,0.6)"
   ]
  },
  {
   "cell_type": "markdown",
   "metadata": {},
   "source": [
    "### Usuario 5"
   ]
  },
  {
   "cell_type": "code",
   "execution_count": 35,
   "metadata": {
    "collapsed": false
   },
   "outputs": [
    {
     "data": {
      "text/plain": [
       "[array([[-33.45538012, -70.59435763],\n",
       "        [-33.445905  , -70.572037  ],\n",
       "        [-33.446474  , -70.6605    ],\n",
       "        [-33.38088497, -70.63959576],\n",
       "        [-33.45392058, -70.60820951]]),\n",
       " ['T-18-157-PO-60',\n",
       "  'SIMON BOLIVAR',\n",
       "  'LOS HEROES',\n",
       "  'T-3-19-NS-45',\n",
       "  'T-18-157-PO-40'],\n",
       " [0.07692307692307693,\n",
       "  0.3076923076923077,\n",
       "  0.46153846153846156,\n",
       "  0.07692307692307693,\n",
       "  0.07692307692307693]]"
      ]
     },
     "execution_count": 35,
     "metadata": {},
     "output_type": "execute_result"
    }
   ],
   "source": [
    "tfe.get_latlong_points(test_sequence_5)"
   ]
  },
  {
   "cell_type": "code",
   "execution_count": 36,
   "metadata": {
    "collapsed": false
   },
   "outputs": [
    {
     "data": {
      "text/plain": [
       "array([1, 2, 3, 4, 1], dtype=int32)"
      ]
     },
     "execution_count": 36,
     "metadata": {},
     "output_type": "execute_result"
    }
   ],
   "source": [
    "tfe.get_clusters(test_sequence_5)"
   ]
  },
  {
   "cell_type": "markdown",
   "metadata": {
    "collapsed": true
   },
   "source": [
    "### Usuario 1187"
   ]
  },
  {
   "cell_type": "code",
   "execution_count": 37,
   "metadata": {
    "collapsed": false
   },
   "outputs": [
    {
     "data": {
      "text/plain": [
       "[array([[-33.445905, -70.572037],\n",
       "        [-33.445088, -70.654635],\n",
       "        [-33.418227, -70.60145 ],\n",
       "        [-33.442848, -70.645809]]),\n",
       " ['SIMON BOLIVAR', 'LA MONEDA', 'TOBALABA', 'SANTA LUCIA'],\n",
       " [0.4166666666666667,\n",
       "  0.4166666666666667,\n",
       "  0.08333333333333333,\n",
       "  0.08333333333333333]]"
      ]
     },
     "execution_count": 37,
     "metadata": {},
     "output_type": "execute_result"
    }
   ],
   "source": [
    "tfe.get_latlong_points(test_sequence_1187)"
   ]
  },
  {
   "cell_type": "code",
   "execution_count": 38,
   "metadata": {
    "collapsed": false
   },
   "outputs": [
    {
     "data": {
      "text/plain": [
       "array([2, 1, 3, 1], dtype=int32)"
      ]
     },
     "execution_count": 38,
     "metadata": {},
     "output_type": "execute_result"
    }
   ],
   "source": [
    "tfe.get_clusters(test_sequence_1187)"
   ]
  },
  {
   "cell_type": "markdown",
   "metadata": {
    "collapsed": true
   },
   "source": [
    "### Usuario 9"
   ]
  },
  {
   "cell_type": "code",
   "execution_count": 39,
   "metadata": {
    "collapsed": false
   },
   "outputs": [
    {
     "data": {
      "text/plain": [
       "[array([[-33.58569792, -70.56792786],\n",
       "        [-33.426222  , -70.590972  ],\n",
       "        [-33.425466  , -70.614272  ],\n",
       "        [-33.437258  , -70.650551  ],\n",
       "        [-33.35325793, -70.73862841],\n",
       "        [-33.3661621 , -70.69038151],\n",
       "        [-33.58878935, -70.56735882],\n",
       "        [-33.42337652, -70.60534444]]),\n",
       " ['L-34-58-SN-75',\n",
       "  'CRISTOBAL COLON',\n",
       "  'PEDRO DE VALDIVIA',\n",
       "  'PLAZA DE ARMAS',\n",
       "  'L-6-44-SN-15',\n",
       "  'T-2-7-PO-6',\n",
       "  'L-34-58-SN-85',\n",
       "  'T-14-124-PO-5'],\n",
       " [0.25,\n",
       "  0.25,\n",
       "  0.08333333333333333,\n",
       "  0.08333333333333333,\n",
       "  0.08333333333333333,\n",
       "  0.08333333333333333,\n",
       "  0.08333333333333333,\n",
       "  0.08333333333333333]]"
      ]
     },
     "execution_count": 39,
     "metadata": {},
     "output_type": "execute_result"
    }
   ],
   "source": [
    "tfe.get_latlong_points(test_sequence_9)"
   ]
  },
  {
   "cell_type": "code",
   "execution_count": 40,
   "metadata": {
    "collapsed": false
   },
   "outputs": [
    {
     "data": {
      "text/plain": [
       "array([1, 5, 4, 6, 2, 3, 1, 4], dtype=int32)"
      ]
     },
     "execution_count": 40,
     "metadata": {},
     "output_type": "execute_result"
    }
   ],
   "source": [
    "tfe.get_clusters(test_sequence_9)"
   ]
  },
  {
   "cell_type": "code",
   "execution_count": 41,
   "metadata": {
    "collapsed": false
   },
   "outputs": [
    {
     "data": {
      "text/plain": [
       "[[{'lat': -33.587243636232401, 'long': -70.567643341586745},\n",
       "  {'lat': -33.426222000000003, 'long': -70.590971999999994},\n",
       "  {'lat': -33.424421262438649, 'long': -70.609808218859499}],\n",
       " 0.74999999999999989]"
      ]
     },
     "execution_count": 41,
     "metadata": {},
     "output_type": "execute_result"
    }
   ],
   "source": [
    "tfe.get_ROIs(test_sequence_9,0.6)"
   ]
  },
  {
   "cell_type": "markdown",
   "metadata": {
    "collapsed": true
   },
   "source": [
    "### Usuario 2168"
   ]
  },
  {
   "cell_type": "code",
   "execution_count": 42,
   "metadata": {
    "collapsed": false
   },
   "outputs": [
    {
     "data": {
      "text/plain": [
       "[array([[-33.51969653, -70.69566673],\n",
       "        [-33.408     , -70.555597  ],\n",
       "        [-33.52220722, -70.69737383],\n",
       "        [-33.51585164, -70.69392295]]),\n",
       " ['T-29-238-SN-15',\n",
       "  'HERNANDO DE MAGALLANES',\n",
       "  'T-29-238-SN-10',\n",
       "  'T-29-238-NS-15'],\n",
       " [0.36363636363636365,\n",
       "  0.45454545454545453,\n",
       "  0.09090909090909091,\n",
       "  0.09090909090909091]]"
      ]
     },
     "execution_count": 42,
     "metadata": {},
     "output_type": "execute_result"
    }
   ],
   "source": [
    "tfe.get_latlong_points(test_sequence_2168)"
   ]
  },
  {
   "cell_type": "code",
   "execution_count": 43,
   "metadata": {
    "collapsed": false
   },
   "outputs": [
    {
     "data": {
      "text/plain": [
       "array([1, 2, 1, 1], dtype=int32)"
      ]
     },
     "execution_count": 43,
     "metadata": {},
     "output_type": "execute_result"
    }
   ],
   "source": [
    "tfe.get_clusters(test_sequence_2168)"
   ]
  },
  {
   "cell_type": "code",
   "execution_count": 44,
   "metadata": {
    "collapsed": false
   },
   "outputs": [
    {
     "data": {
      "text/plain": [
       "[[{'lat': -33.519251799763197, 'long': -70.695654501591832},\n",
       "  {'lat': -33.408000000000001, 'long': -70.555597000000006}],\n",
       " 1.0]"
      ]
     },
     "execution_count": 44,
     "metadata": {},
     "output_type": "execute_result"
    }
   ],
   "source": [
    "tfe.get_ROIs(test_sequence_2168,0.6)"
   ]
  },
  {
   "cell_type": "code",
   "execution_count": 112,
   "metadata": {
    "collapsed": false
   },
   "outputs": [
    {
     "data": {
      "text/plain": [
       "[1086.15, 2517.6, 3960.433333333334, 5416.216666666666, 6816.283333333334]"
      ]
     },
     "execution_count": 112,
     "metadata": {},
     "output_type": "execute_result"
    }
   ],
   "source": [
    "chronology"
   ]
  },
  {
   "cell_type": "code",
   "execution_count": 113,
   "metadata": {
    "collapsed": false
   },
   "outputs": [
    {
     "data": {
      "text/plain": [
       "1440"
      ]
     },
     "execution_count": 113,
     "metadata": {},
     "output_type": "execute_result"
    }
   ],
   "source": [
    "window"
   ]
  },
  {
   "cell_type": "code",
   "execution_count": 115,
   "metadata": {
    "collapsed": false
   },
   "outputs": [
    {
     "data": {
      "text/plain": [
       "59.69041525755263"
      ]
     },
     "execution_count": 115,
     "metadata": {},
     "output_type": "execute_result"
    }
   ],
   "source": [
    "chronology = tfe.get_chronology(test_sequence_2168,-33.408,-70.555597)\n",
    "tfe.get_regularity(chronology,window*1)"
   ]
  },
  {
   "cell_type": "markdown",
   "metadata": {
    "collapsed": true
   },
   "source": [
    "### Usuario 3696"
   ]
  },
  {
   "cell_type": "code",
   "execution_count": 45,
   "metadata": {
    "collapsed": false
   },
   "outputs": [
    {
     "data": {
      "text/plain": [
       "[array([[-33.491584  , -70.617529  ],\n",
       "        [-33.5968712 , -70.56581313],\n",
       "        [-33.52824548, -70.58893172],\n",
       "        [-33.52617858, -70.58906619],\n",
       "        [-33.59713105, -70.56879213]]),\n",
       " ['CAMINO AGRICOLA',\n",
       "  'L-34-70-OP-85',\n",
       "  'L-33-23-OP-50',\n",
       "  'L-33-9-NS-5',\n",
       "  'L-34-70-OP-75'],\n",
       " [0.5384615384615384,\n",
       "  0.07692307692307693,\n",
       "  0.23076923076923078,\n",
       "  0.07692307692307693,\n",
       "  0.07692307692307693]]"
      ]
     },
     "execution_count": 45,
     "metadata": {},
     "output_type": "execute_result"
    }
   ],
   "source": [
    "tfe.get_latlong_points(test_sequence_3696)"
   ]
  },
  {
   "cell_type": "code",
   "execution_count": 46,
   "metadata": {
    "collapsed": false
   },
   "outputs": [
    {
     "data": {
      "text/plain": [
       "array([3, 1, 2, 2, 1], dtype=int32)"
      ]
     },
     "execution_count": 46,
     "metadata": {},
     "output_type": "execute_result"
    }
   ],
   "source": [
    "tfe.get_clusters(test_sequence_3696)"
   ]
  },
  {
   "cell_type": "code",
   "execution_count": 47,
   "metadata": {
    "collapsed": false
   },
   "outputs": [
    {
     "data": {
      "text/plain": [
       "[[{'lat': -33.491584000000003, 'long': -70.617529000000005},\n",
       "  {'lat': -33.527212030973004, 'long': -70.588998953262049}],\n",
       " 0.84615384615384615]"
      ]
     },
     "execution_count": 47,
     "metadata": {},
     "output_type": "execute_result"
    }
   ],
   "source": [
    "tfe.get_ROIs(test_sequence_3696,0.6)"
   ]
  },
  {
   "cell_type": "markdown",
   "metadata": {
    "collapsed": true
   },
   "source": [
    "### Usuario 4150"
   ]
  },
  {
   "cell_type": "code",
   "execution_count": 56,
   "metadata": {
    "collapsed": false
   },
   "outputs": [
    {
     "data": {
      "text/plain": [
       "[array([[-33.60973119, -70.52173709],\n",
       "        [-33.56950568, -70.5831589 ],\n",
       "        [-33.60212   , -70.577195  ],\n",
       "        [-33.60957101, -70.52156182],\n",
       "        [-33.60800907, -70.52317261]]),\n",
       " ['L-34-37-PO-20',\n",
       "  'L-34-52-PO-5',\n",
       "  'LAS MERCEDES',\n",
       "  'L-34-114-NS-5',\n",
       "  'L-34-2-OP-50'],\n",
       " [0.09090909090909091,\n",
       "  0.45454545454545453,\n",
       "  0.09090909090909091,\n",
       "  0.18181818181818182,\n",
       "  0.18181818181818182]]"
      ]
     },
     "execution_count": 56,
     "metadata": {},
     "output_type": "execute_result"
    }
   ],
   "source": [
    "tfe.get_latlong_points(test_sequence_4150)"
   ]
  },
  {
   "cell_type": "code",
   "execution_count": 57,
   "metadata": {
    "collapsed": false
   },
   "outputs": [
    {
     "data": {
      "text/plain": [
       "array([1, 2, 3, 1, 1], dtype=int32)"
      ]
     },
     "execution_count": 57,
     "metadata": {},
     "output_type": "execute_result"
    }
   ],
   "source": [
    "tfe.get_clusters(test_sequence_4150)"
   ]
  },
  {
   "cell_type": "code",
   "execution_count": 58,
   "metadata": {
    "collapsed": false
   },
   "outputs": [
    {
     "data": {
      "text/plain": [
       "[[{'lat': -33.609103755975731, 'long': -70.522157174440835},\n",
       "  {'lat': -33.569505683331002, 'long': -70.583158899591695}],\n",
       " 0.90909090909090906]"
      ]
     },
     "execution_count": 58,
     "metadata": {},
     "output_type": "execute_result"
    }
   ],
   "source": [
    "tfe.get_ROIs(test_sequence_4150,0.6)"
   ]
  },
  {
   "cell_type": "code",
   "execution_count": 98,
   "metadata": {
    "collapsed": false
   },
   "outputs": [
    {
     "data": {
      "text/plain": [
       "1.9834816567142834"
      ]
     },
     "execution_count": 98,
     "metadata": {},
     "output_type": "execute_result"
    }
   ],
   "source": [
    "chronology = tfe.get_chronology(test_sequence_4150,-33.56950568,-70.5831589)\n",
    "data_days_window = 1\n",
    "window = data_days_window*24*60 # 8 dias en minutos\n",
    "tfe.get_regularity(chronology,window)"
   ]
  },
  {
   "cell_type": "code",
   "execution_count": 99,
   "metadata": {
    "collapsed": false
   },
   "outputs": [
    {
     "data": {
      "text/plain": [
       "1440"
      ]
     },
     "execution_count": 99,
     "metadata": {},
     "output_type": "execute_result"
    }
   ],
   "source": [
    "window"
   ]
  },
  {
   "cell_type": "code",
   "execution_count": null,
   "metadata": {
    "collapsed": true
   },
   "outputs": [],
   "source": [
    "# regularity not working!"
   ]
  }
 ],
 "metadata": {
  "kernelspec": {
   "display_name": "Python 2",
   "language": "python",
   "name": "python2"
  },
  "language_info": {
   "codemirror_mode": {
    "name": "ipython",
    "version": 2
   },
   "file_extension": ".py",
   "mimetype": "text/x-python",
   "name": "python",
   "nbconvert_exporter": "python",
   "pygments_lexer": "ipython2",
   "version": "2.7.11"
  }
 },
 "nbformat": 4,
 "nbformat_minor": 0
}
