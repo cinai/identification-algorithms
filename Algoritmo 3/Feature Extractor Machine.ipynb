{
 "cells": [
  {
   "cell_type": "code",
   "execution_count": 1,
   "metadata": {
    "collapsed": false
   },
   "outputs": [],
   "source": [
    "import matplotlib.pyplot as plt\n",
    "import time\n",
    "import datetime as dt\n",
    "import pickle\n",
    "import numpy as np\n",
    "import borrador\n",
    "from __future__ import division\n",
    "from auxiliar_functions import *\n",
    "import tfe\n"
   ]
  },
  {
   "cell_type": "code",
   "execution_count": 2,
   "metadata": {
    "collapsed": false
   },
   "outputs": [],
   "source": [
    "datos_abril = pd.read_csv('/home/cata/Documentos/Datois/etapas_2013_abril_allyearsids_10_100000.csv')\n"
   ]
  },
  {
   "cell_type": "code",
   "execution_count": 3,
   "metadata": {
    "collapsed": false
   },
   "outputs": [],
   "source": [
    "datos_abril = frame_config(datos_abril)"
   ]
  },
  {
   "cell_type": "code",
   "execution_count": 4,
   "metadata": {
    "collapsed": false,
    "scrolled": true
   },
   "outputs": [
    {
     "data": {
      "text/html": [
       "<div>\n",
       "<table border=\"1\" class=\"dataframe\">\n",
       "  <thead>\n",
       "    <tr style=\"text-align: right;\">\n",
       "      <th></th>\n",
       "      <th>tiempo_subida</th>\n",
       "      <th>id</th>\n",
       "      <th>x_subida</th>\n",
       "      <th>y_subida</th>\n",
       "      <th>tipo_transporte</th>\n",
       "      <th>serviciosentidovariante</th>\n",
       "      <th>tipo_dia</th>\n",
       "      <th>nviaje</th>\n",
       "      <th>netapa</th>\n",
       "      <th>x_bajada</th>\n",
       "      <th>...</th>\n",
       "      <th>par_bajada</th>\n",
       "      <th>zona_subida</th>\n",
       "      <th>zona_bajada</th>\n",
       "      <th>adulto</th>\n",
       "      <th>weekday</th>\n",
       "      <th>lat_subida</th>\n",
       "      <th>lat_bajada</th>\n",
       "      <th>long_subida</th>\n",
       "      <th>long_bajada</th>\n",
       "      <th>diferencia_tiempo</th>\n",
       "    </tr>\n",
       "  </thead>\n",
       "  <tbody>\n",
       "    <tr>\n",
       "      <th>23</th>\n",
       "      <td>2013-04-14 06:45:44</td>\n",
       "      <td>1132106</td>\n",
       "      <td>348108</td>\n",
       "      <td>6289153</td>\n",
       "      <td>BUS</td>\n",
       "      <td>T203 00R</td>\n",
       "      <td>DOMINGO</td>\n",
       "      <td>1</td>\n",
       "      <td>1</td>\n",
       "      <td>346818</td>\n",
       "      <td>...</td>\n",
       "      <td>E-20-190-SN-40</td>\n",
       "      <td>328</td>\n",
       "      <td>307</td>\n",
       "      <td>0</td>\n",
       "      <td>6</td>\n",
       "      <td>-33.526277</td>\n",
       "      <td>-33.526277</td>\n",
       "      <td>-70.635551</td>\n",
       "      <td>-70.647786</td>\n",
       "      <td>0 days 00:00:00</td>\n",
       "    </tr>\n",
       "    <tr>\n",
       "      <th>22</th>\n",
       "      <td>2013-04-14 07:51:52</td>\n",
       "      <td>1132106</td>\n",
       "      <td>346751</td>\n",
       "      <td>6299389</td>\n",
       "      <td>BUS</td>\n",
       "      <td>T502 00I</td>\n",
       "      <td>DOMINGO</td>\n",
       "      <td>2</td>\n",
       "      <td>1</td>\n",
       "      <td>351363</td>\n",
       "      <td>...</td>\n",
       "      <td>T-15-135-PO-5</td>\n",
       "      <td>307</td>\n",
       "      <td>188</td>\n",
       "      <td>0</td>\n",
       "      <td>6</td>\n",
       "      <td>-33.434116</td>\n",
       "      <td>-33.434116</td>\n",
       "      <td>-70.648104</td>\n",
       "      <td>-70.598251</td>\n",
       "      <td>0 days 01:06:08</td>\n",
       "    </tr>\n",
       "    <tr>\n",
       "      <th>21</th>\n",
       "      <td>2013-04-14 19:56:47</td>\n",
       "      <td>1132106</td>\n",
       "      <td>351368</td>\n",
       "      <td>6302559</td>\n",
       "      <td>BUS</td>\n",
       "      <td>T502 00R</td>\n",
       "      <td>DOMINGO</td>\n",
       "      <td>3</td>\n",
       "      <td>1</td>\n",
       "      <td>346763</td>\n",
       "      <td>...</td>\n",
       "      <td>T-4-19-NS-100</td>\n",
       "      <td>188</td>\n",
       "      <td>55</td>\n",
       "      <td>0</td>\n",
       "      <td>6</td>\n",
       "      <td>-33.405971</td>\n",
       "      <td>-33.405971</td>\n",
       "      <td>-70.598379</td>\n",
       "      <td>-70.648651</td>\n",
       "      <td>0 days 12:04:55</td>\n",
       "    </tr>\n",
       "    <tr>\n",
       "      <th>20</th>\n",
       "      <td>2013-04-14 20:15:25</td>\n",
       "      <td>1132106</td>\n",
       "      <td>346713</td>\n",
       "      <td>6299427</td>\n",
       "      <td>BUS</td>\n",
       "      <td>T203 00I</td>\n",
       "      <td>DOMINGO</td>\n",
       "      <td>3</td>\n",
       "      <td>2</td>\n",
       "      <td>348095</td>\n",
       "      <td>...</td>\n",
       "      <td>T-24-205-NS-20</td>\n",
       "      <td>307</td>\n",
       "      <td>348</td>\n",
       "      <td>0</td>\n",
       "      <td>6</td>\n",
       "      <td>-33.433463</td>\n",
       "      <td>-33.433463</td>\n",
       "      <td>-70.649060</td>\n",
       "      <td>-70.635944</td>\n",
       "      <td>0 days 00:18:38</td>\n",
       "    </tr>\n",
       "    <tr>\n",
       "      <th>19</th>\n",
       "      <td>2013-04-15 21:04:59</td>\n",
       "      <td>1132106</td>\n",
       "      <td>348103</td>\n",
       "      <td>6289191</td>\n",
       "      <td>BUS</td>\n",
       "      <td>T206 00R</td>\n",
       "      <td>LABORAL</td>\n",
       "      <td>4</td>\n",
       "      <td>1</td>\n",
       "      <td>346844</td>\n",
       "      <td>...</td>\n",
       "      <td>T-20-190-SN-35</td>\n",
       "      <td>328</td>\n",
       "      <td>309</td>\n",
       "      <td>0</td>\n",
       "      <td>0</td>\n",
       "      <td>-33.526277</td>\n",
       "      <td>-33.526277</td>\n",
       "      <td>-70.635551</td>\n",
       "      <td>-70.647429</td>\n",
       "      <td>1 days 00:49:34</td>\n",
       "    </tr>\n",
       "  </tbody>\n",
       "</table>\n",
       "<p>5 rows × 23 columns</p>\n",
       "</div>"
      ],
      "text/plain": [
       "         tiempo_subida       id  x_subida  y_subida tipo_transporte  \\\n",
       "23 2013-04-14 06:45:44  1132106    348108   6289153             BUS   \n",
       "22 2013-04-14 07:51:52  1132106    346751   6299389             BUS   \n",
       "21 2013-04-14 19:56:47  1132106    351368   6302559             BUS   \n",
       "20 2013-04-14 20:15:25  1132106    346713   6299427             BUS   \n",
       "19 2013-04-15 21:04:59  1132106    348103   6289191             BUS   \n",
       "\n",
       "   serviciosentidovariante tipo_dia  nviaje  netapa  x_bajada  \\\n",
       "23                T203 00R  DOMINGO       1       1    346818   \n",
       "22                T502 00I  DOMINGO       2       1    351363   \n",
       "21                T502 00R  DOMINGO       3       1    346763   \n",
       "20                T203 00I  DOMINGO       3       2    348095   \n",
       "19                T206 00R  LABORAL       4       1    346844   \n",
       "\n",
       "          ...              par_bajada zona_subida zona_bajada adulto  weekday  \\\n",
       "23        ...          E-20-190-SN-40         328         307      0        6   \n",
       "22        ...           T-15-135-PO-5         307         188      0        6   \n",
       "21        ...           T-4-19-NS-100         188          55      0        6   \n",
       "20        ...          T-24-205-NS-20         307         348      0        6   \n",
       "19        ...          T-20-190-SN-35         328         309      0        0   \n",
       "\n",
       "    lat_subida  lat_bajada  long_subida  long_bajada  diferencia_tiempo  \n",
       "23  -33.526277  -33.526277   -70.635551   -70.647786    0 days 00:00:00  \n",
       "22  -33.434116  -33.434116   -70.648104   -70.598251    0 days 01:06:08  \n",
       "21  -33.405971  -33.405971   -70.598379   -70.648651    0 days 12:04:55  \n",
       "20  -33.433463  -33.433463   -70.649060   -70.635944    0 days 00:18:38  \n",
       "19  -33.526277  -33.526277   -70.635551   -70.647429    1 days 00:49:34  \n",
       "\n",
       "[5 rows x 23 columns]"
      ]
     },
     "execution_count": 4,
     "metadata": {},
     "output_type": "execute_result"
    }
   ],
   "source": [
    "#frame.drop(frame.columns[[2,3,4,5,9,10,11,14,15,16]], axis=1, inplace=True)\n",
    "datos_abril.head()"
   ]
  },
  {
   "cell_type": "code",
   "execution_count": 5,
   "metadata": {
    "collapsed": false
   },
   "outputs": [
    {
     "name": "stdout",
     "output_type": "stream",
     "text": [
      "<class 'pandas.core.frame.DataFrame'>\n",
      "Int64Index: 100000 entries, 23 to 99994\n",
      "Data columns (total 23 columns):\n",
      "tiempo_subida              100000 non-null datetime64[ns]\n",
      "id                         100000 non-null int64\n",
      "x_subida                   99224 non-null float64\n",
      "y_subida                   99224 non-null float64\n",
      "tipo_transporte            100000 non-null object\n",
      "serviciosentidovariante    98074 non-null object\n",
      "tipo_dia                   100000 non-null object\n",
      "nviaje                     100000 non-null int64\n",
      "netapa                     100000 non-null int64\n",
      "x_bajada                   86774 non-null float64\n",
      "y_bajada                   86774 non-null float64\n",
      "tiempo_bajada              86774 non-null object\n",
      "par_subida                 99195 non-null object\n",
      "par_bajada                 86767 non-null object\n",
      "zona_subida                99180 non-null float64\n",
      "zona_bajada                86764 non-null float64\n",
      "adulto                     86774 non-null float64\n",
      "weekday                    100000 non-null int64\n",
      "lat_subida                 99195 non-null float64\n",
      "lat_bajada                 99195 non-null float64\n",
      "long_subida                99195 non-null float64\n",
      "long_bajada                86767 non-null float64\n",
      "diferencia_tiempo          100000 non-null timedelta64[ns]\n",
      "dtypes: datetime64[ns](1), float64(11), int64(4), object(6), timedelta64[ns](1)\n",
      "memory usage: 18.3+ MB\n"
     ]
    }
   ],
   "source": [
    "datos_abril.info()"
   ]
  },
  {
   "cell_type": "code",
   "execution_count": 6,
   "metadata": {
    "collapsed": false
   },
   "outputs": [],
   "source": [
    "test_sequence_5 = datos_abril.query('id==1261466')\n",
    "test_sequence_1187 = datos_abril.query('id==50264508')\n",
    "test_sequence_0 = datos_abril.query('id==1132106')\n",
    "test_sequence_9 = datos_abril.query('id==1355530')\n",
    "test_sequence_2168 = datos_abril.query('id==59460077')\n",
    "test_sequence_3696 = datos_abril.query('id==68660100')\n",
    "test_sequence_4150= datos_abril.query('id==70321252')"
   ]
  },
  {
   "cell_type": "code",
   "execution_count": 7,
   "metadata": {
    "collapsed": false,
    "scrolled": true
   },
   "outputs": [],
   "source": [
    "test_sequence = test_sequence_0\n",
    "[test_sequence_s ,test_sequence_fds] = tfe.split_sequence_by_weekdays(test_sequence)"
   ]
  },
  {
   "cell_type": "code",
   "execution_count": 8,
   "metadata": {
    "collapsed": false
   },
   "outputs": [],
   "source": [
    "shortest_activities_s = tfe.get_mean_shortest_activity_length(test_sequence_s)\n",
    "longest_activities_s = tfe.get_mean_longest_activity_length(test_sequence_s)\n",
    "shortest_activities_fds = tfe.get_mean_shortest_activity_length(test_sequence_fds)\n",
    "longest_activities_fds = tfe.get_mean_longest_activity_length(test_sequence_fds)"
   ]
  },
  {
   "cell_type": "code",
   "execution_count": 9,
   "metadata": {
    "collapsed": false
   },
   "outputs": [
    {
     "name": "stdout",
     "output_type": "stream",
     "text": [
      "495.8 , 66.0\n",
      "606.6 , 1456.0\n"
     ]
    }
   ],
   "source": [
    "print str(shortest_activities_s) + \" , \" + str(shortest_activities_fds)\n",
    "print str(longest_activities_s) + \" , \" + str(longest_activities_fds)"
   ]
  },
  {
   "cell_type": "code",
   "execution_count": 10,
   "metadata": {
    "collapsed": false
   },
   "outputs": [],
   "source": [
    "latlong1 = (test_sequence_fds['lat_subida'][0],test_sequence_fds['long_subida'][0])\n",
    "latlong2 = (test_sequence_fds['lat_bajada'][0],test_sequence_fds['long_bajada'][0])"
   ]
  },
  {
   "cell_type": "code",
   "execution_count": 11,
   "metadata": {
    "collapsed": false
   },
   "outputs": [
    {
     "data": {
      "text/plain": [
       "221.22859034150613"
      ]
     },
     "execution_count": 11,
     "metadata": {},
     "output_type": "execute_result"
    }
   ],
   "source": [
    "tfe.get_traveled_distance(test_sequence)"
   ]
  },
  {
   "cell_type": "code",
   "execution_count": 12,
   "metadata": {
    "collapsed": false
   },
   "outputs": [
    {
     "data": {
      "text/plain": [
       "16.64618851242621"
      ]
     },
     "execution_count": 12,
     "metadata": {},
     "output_type": "execute_result"
    }
   ],
   "source": [
    "tfe.get_maximum_travel_distance(test_sequence)"
   ]
  },
  {
   "cell_type": "code",
   "execution_count": 13,
   "metadata": {
    "collapsed": false
   },
   "outputs": [
    {
     "data": {
      "text/plain": [
       "1.136515222708523"
      ]
     },
     "execution_count": 13,
     "metadata": {},
     "output_type": "execute_result"
    }
   ],
   "source": [
    "tfe.get_minimum_travel_distance(test_sequence)"
   ]
  },
  {
   "cell_type": "code",
   "execution_count": 14,
   "metadata": {
    "collapsed": false
   },
   "outputs": [
    {
     "data": {
      "text/plain": [
       "100.0"
      ]
     },
     "execution_count": 14,
     "metadata": {},
     "output_type": "execute_result"
    }
   ],
   "source": [
    "tfe.get_percentage_bus_exclusive_days(test_sequence)"
   ]
  },
  {
   "cell_type": "code",
   "execution_count": 15,
   "metadata": {
    "collapsed": false
   },
   "outputs": [
    {
     "data": {
      "text/plain": [
       "0.0"
      ]
     },
     "execution_count": 15,
     "metadata": {},
     "output_type": "execute_result"
    }
   ],
   "source": [
    "tfe.get_percentage_rail_exclusive_days(test_sequence)"
   ]
  },
  {
   "cell_type": "code",
   "execution_count": 16,
   "metadata": {
    "collapsed": false
   },
   "outputs": [
    {
     "data": {
      "text/plain": [
       "0"
      ]
     },
     "execution_count": 16,
     "metadata": {},
     "output_type": "execute_result"
    }
   ],
   "source": [
    "tfe.get_card_type(test_sequence)"
   ]
  },
  {
   "cell_type": "code",
   "execution_count": 17,
   "metadata": {
    "collapsed": false
   },
   "outputs": [
    {
     "data": {
      "text/plain": [
       "7"
      ]
     },
     "execution_count": 17,
     "metadata": {},
     "output_type": "execute_result"
    }
   ],
   "source": [
    "tfe.get_n_days_traveled(test_sequence)"
   ]
  },
  {
   "cell_type": "code",
   "execution_count": 18,
   "metadata": {
    "collapsed": false
   },
   "outputs": [
    {
     "data": {
      "text/plain": [
       "[3, 1, 2, 2, 2, 1, 0, 2]"
      ]
     },
     "execution_count": 18,
     "metadata": {},
     "output_type": "execute_result"
    }
   ],
   "source": [
    "tfe.get_n_trips_per_day(test_sequence)"
   ]
  },
  {
   "cell_type": "code",
   "execution_count": 19,
   "metadata": {
    "collapsed": false
   },
   "outputs": [
    {
     "data": {
      "text/plain": [
       "33061"
      ]
     },
     "execution_count": 19,
     "metadata": {},
     "output_type": "execute_result"
    }
   ],
   "source": [
    "tfe.get_mean_start_time_first_trip(test_sequence)"
   ]
  },
  {
   "cell_type": "code",
   "execution_count": 20,
   "metadata": {
    "collapsed": false
   },
   "outputs": [
    {
     "data": {
      "text/plain": [
       "67229"
      ]
     },
     "execution_count": 20,
     "metadata": {},
     "output_type": "execute_result"
    }
   ],
   "source": [
    "tfe.get_mean_start_time_last_trip(test_sequence)"
   ]
  },
  {
   "cell_type": "code",
   "execution_count": 21,
   "metadata": {
    "collapsed": false
   },
   "outputs": [
    {
     "data": {
      "text/plain": [
       "57.14285714285714"
      ]
     },
     "execution_count": 21,
     "metadata": {},
     "output_type": "execute_result"
    }
   ],
   "source": [
    "tfe.get_percentage_different_last_origin(test_sequence)"
   ]
  },
  {
   "cell_type": "code",
   "execution_count": 22,
   "metadata": {
    "collapsed": false
   },
   "outputs": [
    {
     "data": {
      "text/plain": [
       "42.857142857142854"
      ]
     },
     "execution_count": 22,
     "metadata": {},
     "output_type": "execute_result"
    }
   ],
   "source": [
    "tfe.get_percentage_different_first_origin(test_sequence)"
   ]
  },
  {
   "cell_type": "code",
   "execution_count": 23,
   "metadata": {
    "collapsed": false
   },
   "outputs": [
    {
     "data": {
      "text/plain": [
       "5"
      ]
     },
     "execution_count": 23,
     "metadata": {},
     "output_type": "execute_result"
    }
   ],
   "source": [
    "tfe.get_n_different_locations(test_sequence)"
   ]
  },
  {
   "cell_type": "code",
   "execution_count": 24,
   "metadata": {
    "collapsed": false
   },
   "outputs": [
    {
     "data": {
      "text/plain": [
       "5450.200714686222"
      ]
     },
     "execution_count": 24,
     "metadata": {},
     "output_type": "execute_result"
    }
   ],
   "source": [
    "tfe.get_radius_of_gyration(test_sequence)"
   ]
  },
  {
   "cell_type": "code",
   "execution_count": 25,
   "metadata": {
    "collapsed": false
   },
   "outputs": [
    {
     "data": {
      "text/plain": [
       "5421.7724863375815"
      ]
     },
     "execution_count": 25,
     "metadata": {},
     "output_type": "execute_result"
    }
   ],
   "source": [
    "tfe.get_radius_of_gyration(test_sequence_fds)"
   ]
  },
  {
   "cell_type": "code",
   "execution_count": 26,
   "metadata": {
    "collapsed": false
   },
   "outputs": [
    {
     "data": {
      "text/plain": [
       "5464.2820177023395"
      ]
     },
     "execution_count": 26,
     "metadata": {},
     "output_type": "execute_result"
    }
   ],
   "source": [
    "tfe.get_radius_of_gyration(test_sequence_s)"
   ]
  },
  {
   "cell_type": "code",
   "execution_count": 27,
   "metadata": {
    "collapsed": false
   },
   "outputs": [
    {
     "data": {
      "text/plain": [
       "2.5545851693377997"
      ]
     },
     "execution_count": 27,
     "metadata": {},
     "output_type": "execute_result"
    }
   ],
   "source": [
    "tfe.get_unc_entropy(test_sequence)"
   ]
  },
  {
   "cell_type": "code",
   "execution_count": 28,
   "metadata": {
    "collapsed": false
   },
   "outputs": [
    {
     "data": {
      "text/plain": [
       "2.3219280948873622"
      ]
     },
     "execution_count": 28,
     "metadata": {},
     "output_type": "execute_result"
    }
   ],
   "source": [
    "tfe.get_random_entropy(test_sequence)"
   ]
  },
  {
   "cell_type": "code",
   "execution_count": 29,
   "metadata": {
    "collapsed": false
   },
   "outputs": [
    {
     "data": {
      "text/plain": [
       "4"
      ]
     },
     "execution_count": 29,
     "metadata": {},
     "output_type": "execute_result"
    }
   ],
   "source": [
    "tfe.get_frequence_regularity(test_sequence)"
   ]
  },
  {
   "cell_type": "code",
   "execution_count": 30,
   "metadata": {
    "collapsed": false
   },
   "outputs": [
    {
     "data": {
      "text/plain": [
       "2.5216406363433181"
      ]
     },
     "execution_count": 30,
     "metadata": {},
     "output_type": "execute_result"
    }
   ],
   "source": [
    "tfe.get_entropy(test_sequence)"
   ]
  },
  {
   "cell_type": "code",
   "execution_count": 31,
   "metadata": {
    "collapsed": false
   },
   "outputs": [],
   "source": [
    "chronology = tfe.get_chronology(test_sequence,latlong1[0],latlong1[1])\n",
    "data_days_window = 1\n",
    "window = data_days_window*24*60 # 8 dias en minutos"
   ]
  },
  {
   "cell_type": "code",
   "execution_count": 32,
   "metadata": {
    "collapsed": false
   },
   "outputs": [
    {
     "name": "stderr",
     "output_type": "stream",
     "text": [
      "/home/cata/anaconda2/lib/python2.7/site-packages/scipy/integrate/quadpack.py:352: IntegrationWarning: The maximum number of subdivisions (50) has been achieved.\n",
      "  If increasing the limit yields no improvement it is advised to analyze \n",
      "  the integrand in order to determine the difficulties.  If the position of a \n",
      "  local difficulty can be determined (singularity, discontinuity) one will \n",
      "  probably gain from splitting up the interval and calling the integrator \n",
      "  on the subranges.  Perhaps a special-purpose integrator should be used.\n",
      "  warnings.warn(msg, IntegrationWarning)\n"
     ]
    },
    {
     "data": {
      "text/plain": [
       "1.6020952049349486"
      ]
     },
     "execution_count": 32,
     "metadata": {},
     "output_type": "execute_result"
    }
   ],
   "source": [
    "tfe.get_regularity(chronology,window)"
   ]
  },
  {
   "cell_type": "markdown",
   "metadata": {},
   "source": [
    "## Testing de parametro de clustering"
   ]
  },
  {
   "cell_type": "markdown",
   "metadata": {},
   "source": [
    "### Usuario 0"
   ]
  },
  {
   "cell_type": "code",
   "execution_count": 33,
   "metadata": {
    "collapsed": false
   },
   "outputs": [
    {
     "data": {
      "text/plain": [
       "[array([[-33.52627673, -70.63555144],\n",
       "        [-33.43411554, -70.64810407],\n",
       "        [-33.40597083, -70.59837899],\n",
       "        [-33.52915693, -70.63529341],\n",
       "        [-33.40370241, -70.5959504 ]]),\n",
       " ['T-22-205-SN-65',\n",
       "  'E-20-291-PO-20',\n",
       "  'T-15-135-OP-110',\n",
       "  'T-22-205-SN-55',\n",
       "  'T-15-135-OP-105'],\n",
       " [0.38461538461538464,\n",
       "  0.07692307692307693,\n",
       "  0.38461538461538464,\n",
       "  0.07692307692307693,\n",
       "  0.07692307692307693]]"
      ]
     },
     "execution_count": 33,
     "metadata": {},
     "output_type": "execute_result"
    }
   ],
   "source": [
    "tfe.get_latlong_points(test_sequence_0)"
   ]
  },
  {
   "cell_type": "code",
   "execution_count": 34,
   "metadata": {
    "collapsed": false
   },
   "outputs": [
    {
     "data": {
      "text/plain": [
       "array([1, 3, 2, 1, 2], dtype=int32)"
      ]
     },
     "execution_count": 34,
     "metadata": {},
     "output_type": "execute_result"
    }
   ],
   "source": [
    "tfe.get_clusters(test_sequence_0)"
   ]
  },
  {
   "cell_type": "code",
   "execution_count": 35,
   "metadata": {
    "collapsed": false
   },
   "outputs": [
    {
     "data": {
      "text/plain": [
       "[[{'lat': -33.527716828857699, 'long': -70.63542242496419},\n",
       "  {'lat': -33.404836618443298, 'long': -70.59716469585355}],\n",
       " 0.92307692307692313]"
      ]
     },
     "execution_count": 35,
     "metadata": {},
     "output_type": "execute_result"
    }
   ],
   "source": [
    "tfe.get_ROIs(test_sequence_0,0.6)"
   ]
  },
  {
   "cell_type": "markdown",
   "metadata": {},
   "source": [
    "### Usuario 5"
   ]
  },
  {
   "cell_type": "code",
   "execution_count": 36,
   "metadata": {
    "collapsed": false
   },
   "outputs": [
    {
     "data": {
      "text/plain": [
       "[array([[-33.45538012, -70.59435763],\n",
       "        [-33.445905  , -70.572037  ],\n",
       "        [-33.446474  , -70.6605    ],\n",
       "        [-33.38088497, -70.63959576],\n",
       "        [-33.45392058, -70.60820951]]),\n",
       " ['T-18-157-PO-60',\n",
       "  'SIMON BOLIVAR',\n",
       "  'LOS HEROES',\n",
       "  'T-3-19-NS-45',\n",
       "  'T-18-157-PO-40'],\n",
       " [0.07692307692307693,\n",
       "  0.3076923076923077,\n",
       "  0.46153846153846156,\n",
       "  0.07692307692307693,\n",
       "  0.07692307692307693]]"
      ]
     },
     "execution_count": 36,
     "metadata": {},
     "output_type": "execute_result"
    }
   ],
   "source": [
    "tfe.get_latlong_points(test_sequence_5)"
   ]
  },
  {
   "cell_type": "code",
   "execution_count": 37,
   "metadata": {
    "collapsed": false
   },
   "outputs": [
    {
     "data": {
      "text/plain": [
       "array([1, 2, 3, 4, 1], dtype=int32)"
      ]
     },
     "execution_count": 37,
     "metadata": {},
     "output_type": "execute_result"
    }
   ],
   "source": [
    "tfe.get_clusters(test_sequence_5)"
   ]
  },
  {
   "cell_type": "markdown",
   "metadata": {
    "collapsed": true
   },
   "source": [
    "### Usuario 1187"
   ]
  },
  {
   "cell_type": "code",
   "execution_count": 38,
   "metadata": {
    "collapsed": false
   },
   "outputs": [
    {
     "data": {
      "text/plain": [
       "[array([[-33.445905, -70.572037],\n",
       "        [-33.445088, -70.654635],\n",
       "        [-33.418227, -70.60145 ],\n",
       "        [-33.442848, -70.645809]]),\n",
       " ['SIMON BOLIVAR', 'LA MONEDA', 'TOBALABA', 'SANTA LUCIA'],\n",
       " [0.4166666666666667,\n",
       "  0.4166666666666667,\n",
       "  0.08333333333333333,\n",
       "  0.08333333333333333]]"
      ]
     },
     "execution_count": 38,
     "metadata": {},
     "output_type": "execute_result"
    }
   ],
   "source": [
    "tfe.get_latlong_points(test_sequence_1187)"
   ]
  },
  {
   "cell_type": "code",
   "execution_count": 39,
   "metadata": {
    "collapsed": false
   },
   "outputs": [
    {
     "data": {
      "text/plain": [
       "array([2, 1, 3, 1], dtype=int32)"
      ]
     },
     "execution_count": 39,
     "metadata": {},
     "output_type": "execute_result"
    }
   ],
   "source": [
    "tfe.get_clusters(test_sequence_1187)"
   ]
  },
  {
   "cell_type": "markdown",
   "metadata": {
    "collapsed": true
   },
   "source": [
    "### Usuario 9"
   ]
  },
  {
   "cell_type": "code",
   "execution_count": 40,
   "metadata": {
    "collapsed": false
   },
   "outputs": [
    {
     "data": {
      "text/plain": [
       "[array([[-33.58569792, -70.56792786],\n",
       "        [-33.426222  , -70.590972  ],\n",
       "        [-33.425466  , -70.614272  ],\n",
       "        [-33.437258  , -70.650551  ],\n",
       "        [-33.35325793, -70.73862841],\n",
       "        [-33.3661621 , -70.69038151],\n",
       "        [-33.58878935, -70.56735882],\n",
       "        [-33.42337652, -70.60534444]]),\n",
       " ['L-34-58-SN-75',\n",
       "  'CRISTOBAL COLON',\n",
       "  'PEDRO DE VALDIVIA',\n",
       "  'PLAZA DE ARMAS',\n",
       "  'L-6-44-SN-15',\n",
       "  'T-2-7-PO-6',\n",
       "  'L-34-58-SN-85',\n",
       "  'T-14-124-PO-5'],\n",
       " [0.25,\n",
       "  0.25,\n",
       "  0.08333333333333333,\n",
       "  0.08333333333333333,\n",
       "  0.08333333333333333,\n",
       "  0.08333333333333333,\n",
       "  0.08333333333333333,\n",
       "  0.08333333333333333]]"
      ]
     },
     "execution_count": 40,
     "metadata": {},
     "output_type": "execute_result"
    }
   ],
   "source": [
    "tfe.get_latlong_points(test_sequence_9)"
   ]
  },
  {
   "cell_type": "code",
   "execution_count": 41,
   "metadata": {
    "collapsed": false
   },
   "outputs": [
    {
     "data": {
      "text/plain": [
       "array([1, 5, 4, 6, 2, 3, 1, 4], dtype=int32)"
      ]
     },
     "execution_count": 41,
     "metadata": {},
     "output_type": "execute_result"
    }
   ],
   "source": [
    "tfe.get_clusters(test_sequence_9)"
   ]
  },
  {
   "cell_type": "code",
   "execution_count": 42,
   "metadata": {
    "collapsed": false
   },
   "outputs": [
    {
     "data": {
      "text/plain": [
       "[[{'lat': -33.587243636232401, 'long': -70.567643341586745},\n",
       "  {'lat': -33.426222000000003, 'long': -70.590971999999994},\n",
       "  {'lat': -33.424421262438649, 'long': -70.609808218859499}],\n",
       " 0.74999999999999989]"
      ]
     },
     "execution_count": 42,
     "metadata": {},
     "output_type": "execute_result"
    }
   ],
   "source": [
    "tfe.get_ROIs(test_sequence_9,0.6)"
   ]
  },
  {
   "cell_type": "markdown",
   "metadata": {
    "collapsed": true
   },
   "source": [
    "### Usuario 2168"
   ]
  },
  {
   "cell_type": "code",
   "execution_count": 43,
   "metadata": {
    "collapsed": false
   },
   "outputs": [
    {
     "data": {
      "text/plain": [
       "[array([[-33.51969653, -70.69566673],\n",
       "        [-33.408     , -70.555597  ],\n",
       "        [-33.52220722, -70.69737383],\n",
       "        [-33.51585164, -70.69392295]]),\n",
       " ['T-29-238-SN-15',\n",
       "  'HERNANDO DE MAGALLANES',\n",
       "  'T-29-238-SN-10',\n",
       "  'T-29-238-NS-15'],\n",
       " [0.36363636363636365,\n",
       "  0.45454545454545453,\n",
       "  0.09090909090909091,\n",
       "  0.09090909090909091]]"
      ]
     },
     "execution_count": 43,
     "metadata": {},
     "output_type": "execute_result"
    }
   ],
   "source": [
    "tfe.get_latlong_points(test_sequence_2168)"
   ]
  },
  {
   "cell_type": "code",
   "execution_count": 44,
   "metadata": {
    "collapsed": false
   },
   "outputs": [
    {
     "data": {
      "text/plain": [
       "array([1, 2, 1, 1], dtype=int32)"
      ]
     },
     "execution_count": 44,
     "metadata": {},
     "output_type": "execute_result"
    }
   ],
   "source": [
    "tfe.get_clusters(test_sequence_2168)"
   ]
  },
  {
   "cell_type": "code",
   "execution_count": 45,
   "metadata": {
    "collapsed": false
   },
   "outputs": [
    {
     "data": {
      "text/plain": [
       "[[{'lat': -33.519251799763197, 'long': -70.695654501591832},\n",
       "  {'lat': -33.408000000000001, 'long': -70.555597000000006}],\n",
       " 1.0]"
      ]
     },
     "execution_count": 45,
     "metadata": {},
     "output_type": "execute_result"
    }
   ],
   "source": [
    "tfe.get_ROIs(test_sequence_2168,0.6)"
   ]
  },
  {
   "cell_type": "code",
   "execution_count": 46,
   "metadata": {
    "collapsed": false
   },
   "outputs": [
    {
     "data": {
      "text/plain": [
       "[405.73333333333335,\n",
       " 2704.983333333333,\n",
       " 4141.35,\n",
       " 5579.233333333334,\n",
       " 7016.8,\n",
       " 10482.116666666667]"
      ]
     },
     "execution_count": 46,
     "metadata": {},
     "output_type": "execute_result"
    }
   ],
   "source": [
    "chronology"
   ]
  },
  {
   "cell_type": "code",
   "execution_count": 47,
   "metadata": {
    "collapsed": false
   },
   "outputs": [
    {
     "data": {
      "text/plain": [
       "1440"
      ]
     },
     "execution_count": 47,
     "metadata": {},
     "output_type": "execute_result"
    }
   ],
   "source": [
    "window"
   ]
  },
  {
   "cell_type": "code",
   "execution_count": 48,
   "metadata": {
    "collapsed": false
   },
   "outputs": [
    {
     "data": {
      "text/plain": [
       "59.69041525755263"
      ]
     },
     "execution_count": 48,
     "metadata": {},
     "output_type": "execute_result"
    }
   ],
   "source": [
    "chronology = tfe.get_chronology(test_sequence_2168,-33.408,-70.555597)\n",
    "tfe.get_regularity(chronology,window*1)"
   ]
  },
  {
   "cell_type": "markdown",
   "metadata": {
    "collapsed": true
   },
   "source": [
    "### Usuario 3696"
   ]
  },
  {
   "cell_type": "code",
   "execution_count": 49,
   "metadata": {
    "collapsed": false
   },
   "outputs": [
    {
     "data": {
      "text/plain": [
       "[array([[-33.491584  , -70.617529  ],\n",
       "        [-33.5968712 , -70.56581313],\n",
       "        [-33.52824548, -70.58893172],\n",
       "        [-33.52617858, -70.58906619],\n",
       "        [-33.59713105, -70.56879213]]),\n",
       " ['CAMINO AGRICOLA',\n",
       "  'L-34-70-OP-85',\n",
       "  'L-33-23-OP-50',\n",
       "  'L-33-9-NS-5',\n",
       "  'L-34-70-OP-75'],\n",
       " [0.5384615384615384,\n",
       "  0.07692307692307693,\n",
       "  0.23076923076923078,\n",
       "  0.07692307692307693,\n",
       "  0.07692307692307693]]"
      ]
     },
     "execution_count": 49,
     "metadata": {},
     "output_type": "execute_result"
    }
   ],
   "source": [
    "tfe.get_latlong_points(test_sequence_3696)"
   ]
  },
  {
   "cell_type": "code",
   "execution_count": 50,
   "metadata": {
    "collapsed": false
   },
   "outputs": [
    {
     "data": {
      "text/plain": [
       "array([3, 1, 2, 2, 1], dtype=int32)"
      ]
     },
     "execution_count": 50,
     "metadata": {},
     "output_type": "execute_result"
    }
   ],
   "source": [
    "tfe.get_clusters(test_sequence_3696)"
   ]
  },
  {
   "cell_type": "code",
   "execution_count": 51,
   "metadata": {
    "collapsed": false
   },
   "outputs": [
    {
     "data": {
      "text/plain": [
       "[[{'lat': -33.491584000000003, 'long': -70.617529000000005},\n",
       "  {'lat': -33.527212030973004, 'long': -70.588998953262049}],\n",
       " 0.84615384615384615]"
      ]
     },
     "execution_count": 51,
     "metadata": {},
     "output_type": "execute_result"
    }
   ],
   "source": [
    "tfe.get_ROIs(test_sequence_3696,0.6)"
   ]
  },
  {
   "cell_type": "markdown",
   "metadata": {
    "collapsed": true
   },
   "source": [
    "### Usuario 4150"
   ]
  },
  {
   "cell_type": "code",
   "execution_count": 52,
   "metadata": {
    "collapsed": false
   },
   "outputs": [
    {
     "data": {
      "text/plain": [
       "[array([[-33.60973119, -70.52173709],\n",
       "        [-33.56950568, -70.5831589 ],\n",
       "        [-33.60212   , -70.577195  ],\n",
       "        [-33.60957101, -70.52156182],\n",
       "        [-33.60800907, -70.52317261]]),\n",
       " ['L-34-37-PO-20',\n",
       "  'L-34-52-PO-5',\n",
       "  'LAS MERCEDES',\n",
       "  'L-34-114-NS-5',\n",
       "  'L-34-2-OP-50'],\n",
       " [0.09090909090909091,\n",
       "  0.45454545454545453,\n",
       "  0.09090909090909091,\n",
       "  0.18181818181818182,\n",
       "  0.18181818181818182]]"
      ]
     },
     "execution_count": 52,
     "metadata": {},
     "output_type": "execute_result"
    }
   ],
   "source": [
    "tfe.get_latlong_points(test_sequence_4150)"
   ]
  },
  {
   "cell_type": "code",
   "execution_count": 53,
   "metadata": {
    "collapsed": false
   },
   "outputs": [
    {
     "data": {
      "text/plain": [
       "array([1, 2, 3, 1, 1], dtype=int32)"
      ]
     },
     "execution_count": 53,
     "metadata": {},
     "output_type": "execute_result"
    }
   ],
   "source": [
    "tfe.get_clusters(test_sequence_4150)"
   ]
  },
  {
   "cell_type": "code",
   "execution_count": 54,
   "metadata": {
    "collapsed": false
   },
   "outputs": [
    {
     "data": {
      "text/plain": [
       "[[{'lat': -33.609103755975731, 'long': -70.522157174440835},\n",
       "  {'lat': -33.569505683331002, 'long': -70.583158899591695}],\n",
       " 0.90909090909090906]"
      ]
     },
     "execution_count": 54,
     "metadata": {},
     "output_type": "execute_result"
    }
   ],
   "source": [
    "tfe.get_ROIs(test_sequence_4150,0.6)"
   ]
  },
  {
   "cell_type": "code",
   "execution_count": 55,
   "metadata": {
    "collapsed": false
   },
   "outputs": [
    {
     "data": {
      "text/plain": [
       "1.9834816567142834"
      ]
     },
     "execution_count": 55,
     "metadata": {},
     "output_type": "execute_result"
    }
   ],
   "source": [
    "chronology = tfe.get_chronology(test_sequence_4150,-33.56950568,-70.5831589)\n",
    "data_days_window = 1\n",
    "window = data_days_window*24*60 # 8 dias en minutos\n",
    "tfe.get_regularity(chronology,window)"
   ]
  },
  {
   "cell_type": "code",
   "execution_count": 56,
   "metadata": {
    "collapsed": true
   },
   "outputs": [],
   "source": [
    "# regularity not working!"
   ]
  },
  {
   "cell_type": "markdown",
   "metadata": {},
   "source": [
    "## Testing Big Function"
   ]
  },
  {
   "cell_type": "raw",
   "metadata": {},
   "source": [
    "[msal,mlal,kmDistance,kmMaxDist,kmMinDist,rg,unc_entropy, \\\n",
    "\trandom_entropy,p100_diff_last_origin,p100_diff_first_origin,card_type,\\\n",
    "\tstart_time,end_time,traveled_days,traveled_days_bs,frequence_regularity,\\\n",
    "\tp100_exclusive_bus_days,p100_exclusive_metro_days,P100_bus_trips]"
   ]
  },
  {
   "cell_type": "code",
   "execution_count": 100,
   "metadata": {
    "collapsed": false
   },
   "outputs": [],
   "source": [
    "test_sequences = [ test_sequence_5, test_sequence_1187, test_sequence_0, test_sequence_9, \\\n",
    "                  test_sequence_2168, test_sequence_3696, test_sequence_4150]\n",
    "the_vectors = []\n",
    "for test_seq in test_sequences:\n",
    "    the_vectors.append(borrador.get_features(test_seq))"
   ]
  },
  {
   "cell_type": "code",
   "execution_count": 101,
   "metadata": {
    "collapsed": false
   },
   "outputs": [
    {
     "name": "stdout",
     "output_type": "stream",
     "text": [
      "Test de  5\n",
      "Test de  1187\n",
      "Test de  0\n",
      "Test de  9\n",
      "Test de  2168\n",
      "Test de  3696\n",
      "Test de  4150\n"
     ]
    }
   ],
   "source": [
    "counter = 0\n",
    "ids = [5,1187,0,9,2168,3696,4150]\n",
    "for test_seq in test_sequences:\n",
    "    print \"Test de \", ids[counter]\n",
    "    a = borrador.get_features(test_seq)\n",
    "    assert tfe.get_mean_shortest_activity_length(test_seq) == a[0]\n",
    "    assert tfe.get_mean_longest_activity_length(test_seq) == a[1]\n",
    "    assert tfe.get_traveled_distance(test_seq) == a[2]\n",
    "    assert tfe.get_maximum_travel_distance(test_seq) == a[3]\n",
    "    assert tfe.get_minimum_travel_distance(test_seq) == a[4]\n",
    "    assert tfe.get_radius_of_gyration(test_seq) == a[5]\n",
    "    assert tfe.get_unc_entropy(test_seq) == a[6]\n",
    "    assert tfe.get_random_entropy(test_seq) == a[7]\n",
    "    assert tfe.get_percentage_different_last_origin(test_seq) == a[8]\n",
    "    assert tfe.get_percentage_different_first_origin(test_seq) == a[9]\n",
    "    assert tfe.get_card_type(test_seq) == a[10]\n",
    "    assert tfe.get_mean_start_time_first_trip(test_seq) == a[11]\n",
    "    assert tfe.get_mean_start_time_last_trip(test_seq) == a[12]\n",
    "    assert tfe.get_n_days_traveled(test_seq) == a[13]\n",
    "    assert tfe.get_n_days_traveled_before_stop(test_seq) == a[14]\n",
    "    assert tfe.get_frequence_regularity(test_seq) == a[15]\n",
    "    assert tfe.get_percentage_bus_exclusive_days(test_seq) == a[16]\n",
    "    assert tfe.get_percentage_rail_exclusive_days(test_seq) == a[17]\n",
    "    assert tfe.get_percentage_bus_trips(test_seq) == a[18]\n",
    "    counter += 1"
   ]
  },
  {
   "cell_type": "markdown",
   "metadata": {},
   "source": [
    "## Measuring euclidean distance between vectors"
   ]
  },
  {
   "cell_type": "code",
   "execution_count": 60,
   "metadata": {
    "collapsed": true
   },
   "outputs": [],
   "source": [
    "datos_septiembre = pd.read_csv('/home/cata/Documentos/Datois/etapas_2013_septiembre_allyearsids_10_100000.csv')"
   ]
  },
  {
   "cell_type": "code",
   "execution_count": 61,
   "metadata": {
    "collapsed": true
   },
   "outputs": [],
   "source": [
    "datos_semptiembre = frame_config(datos_semptiembre)"
   ]
  },
  {
   "cell_type": "code",
   "execution_count": 62,
   "metadata": {
    "collapsed": true
   },
   "outputs": [],
   "source": [
    "user_ids = [1261466,50264508,1132106,1355530,59460077,68660100,70321252]"
   ]
  },
  {
   "cell_type": "code",
   "execution_count": 63,
   "metadata": {
    "collapsed": false
   },
   "outputs": [],
   "source": [
    "the_dfs = []\n",
    "for i in user_ids:\n",
    "    a_str = 'datos_semptiembre.query(\"id=='+str(i)+'\")'\n",
    "    the_dfs.append(eval(a_str))\n"
   ]
  },
  {
   "cell_type": "code",
   "execution_count": 64,
   "metadata": {
    "collapsed": false
   },
   "outputs": [],
   "source": [
    "septiembre_vectors = []\n",
    "for test_seq in the_dfs:\n",
    "    septiembre_vectors.append(borrador.get_features(test_seq))"
   ]
  },
  {
   "cell_type": "code",
   "execution_count": 65,
   "metadata": {
    "collapsed": false,
    "scrolled": true
   },
   "outputs": [],
   "source": [
    "counter = 0\n",
    "counteri = 0\n",
    "a_matrix = np.zeros((7, 7))\n",
    "for j in ids:\n",
    "    abril_vector = the_vectors[counter]\n",
    "    for i in ids:\n",
    "        septiembre_vector = septiembre_vectors[counteri]\n",
    "        dist = np.linalg.norm(np.asarray(abril_vector)-np.asarray(septiembre_vector))\n",
    "        a_matrix[counter,counteri] = dist\n",
    "        counteri += 1\n",
    "    counter += 1\n",
    "    counteri = 0\n"
   ]
  },
  {
   "cell_type": "code",
   "execution_count": 66,
   "metadata": {
    "collapsed": false
   },
   "outputs": [],
   "source": [
    "comparacion = pd.DataFrame(a_matrix)\n",
    "comparacion.columns = ids\n",
    "comparacion.index = ids"
   ]
  },
  {
   "cell_type": "code",
   "execution_count": 67,
   "metadata": {
    "collapsed": false
   },
   "outputs": [
    {
     "data": {
      "text/html": [
       "<div>\n",
       "<table border=\"1\" class=\"dataframe\">\n",
       "  <thead>\n",
       "    <tr style=\"text-align: right;\">\n",
       "      <th></th>\n",
       "      <th>5</th>\n",
       "      <th>1187</th>\n",
       "      <th>0</th>\n",
       "      <th>9</th>\n",
       "      <th>2168</th>\n",
       "      <th>3696</th>\n",
       "      <th>4150</th>\n",
       "    </tr>\n",
       "  </thead>\n",
       "  <tbody>\n",
       "    <tr>\n",
       "      <th>5</th>\n",
       "      <td>8698.065499</td>\n",
       "      <td>9215.020121</td>\n",
       "      <td>8318.888476</td>\n",
       "      <td>12369.119785</td>\n",
       "      <td>13987.983062</td>\n",
       "      <td>3509.919340</td>\n",
       "      <td>4982.998149</td>\n",
       "    </tr>\n",
       "    <tr>\n",
       "      <th>1187</th>\n",
       "      <td>4405.479536</td>\n",
       "      <td>1010.542175</td>\n",
       "      <td>3700.352041</td>\n",
       "      <td>12576.240427</td>\n",
       "      <td>4266.490953</td>\n",
       "      <td>12574.190350</td>\n",
       "      <td>5596.497994</td>\n",
       "    </tr>\n",
       "    <tr>\n",
       "      <th>0</th>\n",
       "      <td>6056.313595</td>\n",
       "      <td>3543.371417</td>\n",
       "      <td>652.250216</td>\n",
       "      <td>12923.684821</td>\n",
       "      <td>7715.778219</td>\n",
       "      <td>9775.465495</td>\n",
       "      <td>4819.295210</td>\n",
       "    </tr>\n",
       "    <tr>\n",
       "      <th>9</th>\n",
       "      <td>14014.219853</td>\n",
       "      <td>16864.781561</td>\n",
       "      <td>18601.335710</td>\n",
       "      <td>6830.979660</td>\n",
       "      <td>16109.947142</td>\n",
       "      <td>22420.379524</td>\n",
       "      <td>16448.670519</td>\n",
       "    </tr>\n",
       "    <tr>\n",
       "      <th>2168</th>\n",
       "      <td>9467.923321</td>\n",
       "      <td>7854.094333</td>\n",
       "      <td>9043.102875</td>\n",
       "      <td>14570.023826</td>\n",
       "      <td>4188.467695</td>\n",
       "      <td>18945.486342</td>\n",
       "      <td>11985.784427</td>\n",
       "    </tr>\n",
       "    <tr>\n",
       "      <th>3696</th>\n",
       "      <td>15521.498056</td>\n",
       "      <td>15017.214407</td>\n",
       "      <td>12827.739082</td>\n",
       "      <td>18882.805347</td>\n",
       "      <td>19895.262905</td>\n",
       "      <td>3765.200560</td>\n",
       "      <td>11689.312500</td>\n",
       "    </tr>\n",
       "    <tr>\n",
       "      <th>4150</th>\n",
       "      <td>4163.466705</td>\n",
       "      <td>7700.611540</td>\n",
       "      <td>10458.535257</td>\n",
       "      <td>6315.598113</td>\n",
       "      <td>8620.984540</td>\n",
       "      <td>14475.649278</td>\n",
       "      <td>7061.016367</td>\n",
       "    </tr>\n",
       "  </tbody>\n",
       "</table>\n",
       "</div>"
      ],
      "text/plain": [
       "              5             1187          0             9             2168  \\\n",
       "5      8698.065499   9215.020121   8318.888476  12369.119785  13987.983062   \n",
       "1187   4405.479536   1010.542175   3700.352041  12576.240427   4266.490953   \n",
       "0      6056.313595   3543.371417    652.250216  12923.684821   7715.778219   \n",
       "9     14014.219853  16864.781561  18601.335710   6830.979660  16109.947142   \n",
       "2168   9467.923321   7854.094333   9043.102875  14570.023826   4188.467695   \n",
       "3696  15521.498056  15017.214407  12827.739082  18882.805347  19895.262905   \n",
       "4150   4163.466705   7700.611540  10458.535257   6315.598113   8620.984540   \n",
       "\n",
       "              3696          4150  \n",
       "5      3509.919340   4982.998149  \n",
       "1187  12574.190350   5596.497994  \n",
       "0      9775.465495   4819.295210  \n",
       "9     22420.379524  16448.670519  \n",
       "2168  18945.486342  11985.784427  \n",
       "3696   3765.200560  11689.312500  \n",
       "4150  14475.649278   7061.016367  "
      ]
     },
     "execution_count": 67,
     "metadata": {},
     "output_type": "execute_result"
    }
   ],
   "source": [
    "comparacion"
   ]
  },
  {
   "cell_type": "code",
   "execution_count": 68,
   "metadata": {
    "collapsed": false
   },
   "outputs": [
    {
     "data": {
      "text/plain": [
       "5        8698.065499\n",
       "1187     4405.479536\n",
       "0        6056.313595\n",
       "9       14014.219853\n",
       "2168     9467.923321\n",
       "3696    15521.498056\n",
       "4150     4163.466705\n",
       "Name: 5, dtype: float64"
      ]
     },
     "execution_count": 68,
     "metadata": {},
     "output_type": "execute_result"
    }
   ],
   "source": [
    "comparacion[5]"
   ]
  },
  {
   "cell_type": "code",
   "execution_count": 69,
   "metadata": {
    "collapsed": false
   },
   "outputs": [
    {
     "name": "stdout",
     "output_type": "stream",
     "text": [
      "4150\n",
      "1187\n",
      "0\n",
      "4150\n",
      "2168\n",
      "5\n",
      "0\n"
     ]
    }
   ],
   "source": [
    "for i in ids:\n",
    "    print np.argmin(comparacion[i])"
   ]
  },
  {
   "cell_type": "markdown",
   "metadata": {},
   "source": [
    "## Measuring distance between vectors (100.000)"
   ]
  },
  {
   "cell_type": "code",
   "execution_count": 103,
   "metadata": {
    "collapsed": false
   },
   "outputs": [
    {
     "data": {
      "text/plain": [
       "<module 'tfe' from 'tfe.pyc'>"
      ]
     },
     "execution_count": 103,
     "metadata": {},
     "output_type": "execute_result"
    }
   ],
   "source": [
    "reload(borrador)\n",
    "reload(tfe)"
   ]
  },
  {
   "cell_type": "code",
   "execution_count": 76,
   "metadata": {
    "collapsed": false
   },
   "outputs": [],
   "source": [
    "datos_abril.set_index(keys=['id'], drop=False,inplace=True)\n",
    "# get a list of names\n",
    "ids_abril=datos_abril['id'].unique().tolist()\n",
    "\n",
    "datos_septiembre.set_index(keys=['id'],drop=False,inplace=True)\n",
    "# get a list of names\n",
    "ids_septiembre = datos_septiembre['id'].unique().tolist()"
   ]
  },
  {
   "cell_type": "code",
   "execution_count": 77,
   "metadata": {
    "collapsed": false
   },
   "outputs": [
    {
     "data": {
      "text/plain": [
       "5169"
      ]
     },
     "execution_count": 77,
     "metadata": {},
     "output_type": "execute_result"
    }
   ],
   "source": [
    "limit = np.min((len(ids_abril),len(ids_septiembre)))\n",
    "limit"
   ]
  },
  {
   "cell_type": "code",
   "execution_count": 104,
   "metadata": {
    "collapsed": false
   },
   "outputs": [
    {
     "name": "stdout",
     "output_type": "stream",
     "text": [
      "69.8989849091\n"
     ]
    }
   ],
   "source": [
    "abril_vectors = []\n",
    "septiembre_vectors = []\n",
    "init_time = time.time()\n",
    "for i in range(limit):\n",
    "    an_id = ids_abril[i]\n",
    "    abril_sequence = datos_abril.loc[datos_abril.id==an_id]\n",
    "    abril_vector = borrador.get_features(abril_sequence)\n",
    "    abril_vectors.append(abril_vector)\n",
    "delta_time = time.time()-init_time\n",
    "print delta_time"
   ]
  },
  {
   "cell_type": "code",
   "execution_count": 105,
   "metadata": {
    "collapsed": false
   },
   "outputs": [
    {
     "name": "stdout",
     "output_type": "stream",
     "text": [
      "68.1145610809\n"
     ]
    }
   ],
   "source": [
    "septiembre_vectors = []\n",
    "init_time = time.time()\n",
    "for i in range(limit):\n",
    "    an_id = ids_abril[i]\n",
    "    septiembre_sequence = datos_septiembre.loc[datos_septiembre.id==an_id]\n",
    "    septiembre_vector = borrador.get_features(septiembre_sequence)\n",
    "    septiembre_vectors.append(septiembre_vector)\n",
    "delta_time = time.time()-init_time\n",
    "print delta_time"
   ]
  },
  {
   "cell_type": "raw",
   "metadata": {},
   "source": [
    "abril_vectors = []\n",
    "septiembre_vectors = []\n",
    "init_time = time.time()\n",
    "for i in range(limit):\n",
    "    an_id = ids_abril[i]\n",
    "    abril_sequence = datos_abril.loc[datos_abril.id==an_id]\n",
    "    abril_vector = borrador.get_features(abril_sequence)\n",
    "    abril_vectors.append(abril_vector)\n",
    "    septiembre_sequence = datos_septiembre.loc[datos_septiembre.id==an_id]\n",
    "    septiembre_vector = borrador.get_features(septiembre_sequence)\n",
    "    septiembre_vectors.append(septiembre_vector)\n",
    "delta_time = time.time()-init_time\n",
    "print delta_time"
   ]
  },
  {
   "cell_type": "code",
   "execution_count": null,
   "metadata": {
    "collapsed": false
   },
   "outputs": [],
   "source": [
    "a_matrix = np.zeros((limit, limit)) \n",
    "init_time = time.time()\n",
    "for i in range(limit):\n",
    "    for j in range(limit):\n",
    "        dist = np.linalg.norm(np.asarray(abril_vectors[i])-np.asarray(septiembre_vectors[j]))\n",
    "        a_matrix[i,j] = dist\n",
    "delta_time = time.time()-init_time\n",
    "print delta_time"
   ]
  },
  {
   "cell_type": "code",
   "execution_count": null,
   "metadata": {
    "collapsed": true
   },
   "outputs": [],
   "source": [
    "identified_indexs = []\n",
    "wrong_indexs = []\n",
    "correct_indexs = []\n",
    "selected_indexs = []\n",
    "n_identified = 0\n",
    "for i in range(limit):\n",
    "    the_index = np.argmin(iden_matrix[:,i])\n",
    "    selected_indexs.append(np.max(iden_matrix[:,i]))\n",
    "    identified_indexs.append(the_index)\n",
    "    if(the_index!=i):\n",
    "        wrong_indexs.append(the_index)\n",
    "    else:\n",
    "        correct_indexs.append(the_index)\n",
    "        n_identified += 1\n"
   ]
  },
  {
   "cell_type": "code",
   "execution_count": null,
   "metadata": {
    "collapsed": true
   },
   "outputs": [],
   "source": []
  }
 ],
 "metadata": {
  "kernelspec": {
   "display_name": "Python 2",
   "language": "python",
   "name": "python2"
  },
  "language_info": {
   "codemirror_mode": {
    "name": "ipython",
    "version": 2
   },
   "file_extension": ".py",
   "mimetype": "text/x-python",
   "name": "python",
   "nbconvert_exporter": "python",
   "pygments_lexer": "ipython2",
   "version": "2.7.11"
  }
 },
 "nbformat": 4,
 "nbformat_minor": 0
}
