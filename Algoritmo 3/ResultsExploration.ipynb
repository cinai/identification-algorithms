{
 "cells": [
  {
   "cell_type": "markdown",
   "metadata": {},
   "source": [
    "## Importar lo importante"
   ]
  },
  {
   "cell_type": "code",
   "execution_count": null,
   "metadata": {
    "collapsed": false
   },
   "outputs": [],
   "source": [
    "%matplotlib inline\n",
    "import matplotlib.pyplot as plt\n",
    "import time\n",
    "import datetime as dt\n",
    "import pickle\n",
    "import numpy as np\n",
    "import borrador\n",
    "from __future__ import division\n",
    "from auxiliar_functions import *\n",
    "from aux_functions_comparisson import *\n",
    "import tfe\n",
    "from geopy.distance import vincenty\n",
    "from itertools import chain, combinations\n",
    "import random\n",
    "import scipy as sp"
   ]
  },
  {
   "cell_type": "markdown",
   "metadata": {},
   "source": [
    "## Obtener datos"
   ]
  },
  {
   "cell_type": "code",
   "execution_count": null,
   "metadata": {
    "collapsed": true
   },
   "outputs": [],
   "source": [
    "with open('data/shared_rois_and_min_distance.pickle') as f:\n",
    "    shared_rois = pickle.load(f)\n",
    "    min_distance = pickle.load(f)"
   ]
  },
  {
   "cell_type": "code",
   "execution_count": null,
   "metadata": {
    "collapsed": true
   },
   "outputs": [],
   "source": [
    "with open('data/feature_data.pickle') as f:\n",
    "    abril_vectors = pickle.load(f)\n",
    "    septiembre_vectors = pickle.load(f)"
   ]
  },
  {
   "cell_type": "code",
   "execution_count": null,
   "metadata": {
    "collapsed": true
   },
   "outputs": [],
   "source": [
    "with open('data/rois_meters_data.pickle') as f:\n",
    "    abril_the_rois = pickle.load(f)\n",
    "    septiembre_the_rois = pickle.load(f)"
   ]
  },
  {
   "cell_type": "code",
   "execution_count": null,
   "metadata": {
    "collapsed": false
   },
   "outputs": [],
   "source": [
    "limit = np.min((len(abril_vectors),len(septiembre_vectors)))\n",
    "limit"
   ]
  },
  {
   "cell_type": "code",
   "execution_count": null,
   "metadata": {
    "collapsed": false
   },
   "outputs": [],
   "source": [
    "shared_1_rois_2_month = 0\n",
    "shared_2_rois_2_month = 0\n",
    "for i in range(limit):\n",
    "    if shared_rois[i,i] > 0:\n",
    "        shared_1_rois_2_month += 1\n",
    "    if shared_rois[i,i] > 1:\n",
    "        shared_2_rois_2_month += 1\n",
    "print \"% de tarjetas que comparten un roi en ambos meses:\",str(round(shared_1_rois_2_month*100/limit,2)) + \"%\"\n",
    "print \"% de tarjetas que comparten dos roi en ambos meses:\", str(round(shared_2_rois_2_month*100/limit,2)) + \"%\""
   ]
  },
  {
   "cell_type": "markdown",
   "metadata": {},
   "source": [
    "### Histograma cantidad de vecinos de hogar y trabajo (2 rois) entre abril y septiembre"
   ]
  },
  {
   "cell_type": "code",
   "execution_count": null,
   "metadata": {
    "collapsed": false
   },
   "outputs": [],
   "source": [
    "n_of_neighbours = []\n",
    "for i in range(limit):\n",
    "    n_of_neighbours.append(len(get_neighbours_index(abril_the_rois,shared_rois,i,2)))"
   ]
  },
  {
   "cell_type": "code",
   "execution_count": null,
   "metadata": {
    "collapsed": false
   },
   "outputs": [],
   "source": [
    "plt.hist(n_of_neighbours,range(10))"
   ]
  },
  {
   "cell_type": "markdown",
   "metadata": {},
   "source": [
    "### Histograma cantidad de vecinos de hogar y trabajo (2 rois) entre abril y septiembre"
   ]
  },
  {
   "cell_type": "code",
   "execution_count": null,
   "metadata": {
    "collapsed": true
   },
   "outputs": [],
   "source": [
    "n10_of_neighbours = filter(lambda x: x>9,n_of_neighbours)"
   ]
  },
  {
   "cell_type": "code",
   "execution_count": null,
   "metadata": {
    "collapsed": false
   },
   "outputs": [],
   "source": [
    "plt.hist(n10_of_neighbours,30)"
   ]
  },
  {
   "cell_type": "markdown",
   "metadata": {},
   "source": [
    "## Feature Exploration"
   ]
  },
  {
   "cell_type": "code",
   "execution_count": null,
   "metadata": {
    "collapsed": true
   },
   "outputs": [],
   "source": [
    "N_FEATURES = 19"
   ]
  },
  {
   "cell_type": "code",
   "execution_count": null,
   "metadata": {
    "collapsed": true
   },
   "outputs": [],
   "source": [
    "features_names = [\"msal\",\"mlal\",\"kmDistance\",\"kmMaxDist\",\"kmMinDist\",\"rg\",\"unc_entropy\", \\\n",
    "    \"random_entropy\",\"p100_diff_last_origin\",\"p100_diff_first_origin\",\"card_type\",\\\n",
    "    \"start_time\",\"end_time\",\"traveled_days\",\"traveled_days_bs\",\"frequence_regularity\",\\\n",
    "    \"p100_exclusive_bus_days\",\"p100_exclusive_metro_days\",\"P100_bus_trips\"]"
   ]
  },
  {
   "cell_type": "code",
   "execution_count": null,
   "metadata": {
    "collapsed": true
   },
   "outputs": [],
   "source": [
    "features_dict = {\"msal\":0,\"mlal\":1,\"kmDistance\":2,\"kmMaxDist\":3,\"kmMinDist\":4,\"rg\":5,\"unc_entropy\":6,\n",
    "                  \"random_entropy\":7,\"p100_diff_last_origin\":8,\"p100_diff_first_origin\":9,\"card_type\":10,\n",
    "                  \"start_time\":11,\"end_time\":12,\"traveled_days\":13,\"traveled_days_bs\":14,\"frequence_regularity\":15,\n",
    "                  \"p100_exclusive_bus_days\":16,\"p100_exclusive_metro_days\":17,\"P100_bus_trips\":18}"
   ]
  },
  {
   "cell_type": "markdown",
   "metadata": {},
   "source": [
    "## Seleccionar Features para la comparación"
   ]
  },
  {
   "cell_type": "code",
   "execution_count": null,
   "metadata": {
    "collapsed": true
   },
   "outputs": [],
   "source": [
    "selected_features = [\"msal\",\"mlal\",\"kmDistance\",\"kmMaxDist\",\"kmMinDist\",\"rg\",\"unc_entropy\", \\\n",
    "    \"random_entropy\",\"p100_diff_last_origin\",\"p100_diff_first_origin\",\\\n",
    "    \"start_time\",\"end_time\",\"traveled_days\",\"frequence_regularity\",\\\n",
    "    \"p100_exclusive_bus_days\",\"p100_exclusive_metro_days\",\"P100_bus_trips\"]\n"
   ]
  },
  {
   "cell_type": "code",
   "execution_count": null,
   "metadata": {
    "collapsed": false
   },
   "outputs": [],
   "source": [
    "abril_selected_features = filter_features(abril_vectors,selected_features,features_dict)\n",
    "septiembre_selected_features = filter_features(septiembre_vectors,selected_features,features_dict)"
   ]
  },
  {
   "cell_type": "raw",
   "metadata": {},
   "source": [
    "feature_min_max = np.ones((4,N_FEATURES))\n",
    "for feature in range(abril_vectors.shape[1]):\n",
    "    feature_min_max[:,feature] = [min(abril_vectors[feature]),min(septiembre_vectors[feature]), max(abril_vectors[feature]),\\\n",
    "                                   max(septiembre_vectors[feature])]\n",
    "    \n",
    "feature_min_max_df = pd.DataFrame(feature_min_max)    \n",
    "feature_min_max_df.index = [\"min_abril\",\"min_sept\",\"max_abril\",\"max_sept\"]\n",
    "feature_min_max_df.columns = features_names\n",
    "feature_min_max_df"
   ]
  },
  {
   "cell_type": "markdown",
   "metadata": {},
   "source": [
    "### Seleccionar con distancia euclidiana y similitud braycurtis entre los vecinos con las features ya normalizadas con min max"
   ]
  },
  {
   "cell_type": "code",
   "execution_count": null,
   "metadata": {
    "collapsed": false
   },
   "outputs": [],
   "source": [
    "abril_norm_vectors = np.ones((limit, N_FEATURES))\n",
    "septiembre_norm_vectors = np.ones((limit, N_FEATURES))\n",
    "for i in range(abril_selected_features.shape[1]):\n",
    "    abril_norm_vectors[:,i] = normalizar_min_max(abril_selected_features[:,i])\n",
    "    septiembre_norm_vectors[:,i] = normalizar_min_max(septiembre_selected_features[:,i])"
   ]
  },
  {
   "cell_type": "code",
   "execution_count": null,
   "metadata": {
    "collapsed": false
   },
   "outputs": [],
   "source": [
    "a_matrix_euclidiana = compare_vectors_with_neighbours_normalized(abril_norm_vectors,septiembre_norm_vectors,abril_the_rois,\\\n",
    "                                           septiembre_the_rois,shared_rois,limit,2,sp.spatial.distance.euclidean)\n",
    "n_identified_e,selected_distance_e,identified_indexs_e,abstenidos_e = get_n_correct(a_matrix_euclidiana,limit)\n",
    "porcentaje_correcto = n_identified_e*100/limit\n",
    "print \"Dist Euclidiana con norma minmax general: \"+str(round(porcentaje_correcto,2))+ \"%\"\n",
    "print \"Falsos positivos: \"+ str(((limit-n_identified_e-len(abstenidos_e))*100/limit)) + \"%\"\n",
    "print \"Falsos negativos: \"+ str(len(abstenidos_e)*100/limit) + \"%\""
   ]
  },
  {
   "cell_type": "code",
   "execution_count": null,
   "metadata": {
    "collapsed": false
   },
   "outputs": [],
   "source": [
    "a_matrix_braycurtis = compare_vectors_with_neighbours_normalized(abril_norm_vectors,septiembre_norm_vectors,\\\n",
    "                                                     abril_the_rois,septiembre_the_rois,shared_rois,limit,2,\\\n",
    "                                                     sp.spatial.distance.braycurtis)\n",
    "n_identified_b,selected_distance_b,identified_indexs_b,abstenidos_b = get_n_correct(a_matrix_braycurtis,limit)\n",
    "porcentaje_correcto = n_identified_b*100/limit\n",
    "print \"Dist braycurtis con norma minmax general: \"+str(round(porcentaje_correcto,2))+ \"%\"\n",
    "print \"Falsos positivos: \"+ str(((limit-n_identified_b-len(abstenidos_b))*100/limit)) + \"%\"\n",
    "print \"Falsos negativos: \"+ str(len(abstenidos_b)*100/limit) + \"%\""
   ]
  },
  {
   "cell_type": "markdown",
   "metadata": {},
   "source": [
    "### Ver si son los mismos seleccionados"
   ]
  },
  {
   "cell_type": "code",
   "execution_count": null,
   "metadata": {
    "collapsed": false
   },
   "outputs": [],
   "source": [
    "corr_in_both = []\n",
    "abst_in_both = []\n",
    "wrong_in_both = []\n",
    "corr_id_in_e = []\n",
    "corr_id_in_b = []\n",
    "wrong_id_in_e = []\n",
    "wrong_id_in_b = []\n",
    "for i in range(limit):\n",
    "    if identified_indexs_b[i] == identified_indexs_e[i]:\n",
    "        if identified_indexs_b[i] == -1:\n",
    "            abst_in_both.append(i)\n",
    "        elif identified_indexs_b[i] == i:\n",
    "            corr_in_both.append(i)\n",
    "        else:\n",
    "            wrong_in_both.append(i)\n",
    "    elif identified_indexs_b[i] != identified_indexs_e[i]:\n",
    "        if  identified_indexs_b[i] == -1 and identified_indexs_e[i] == i:\n",
    "            corr_id_in_e.append(i)\n",
    "        elif identified_indexs_b[i] == -1:\n",
    "            wrong_id_in_e.append(i)\n",
    "        elif identified_indexs_e[i] == -1 and identified_indexs_b[i] == i:\n",
    "            corr_id_in_b.append(i)\n",
    "        else:\n",
    "            wrong_id_in_b.append(i)\n",
    "            "
   ]
  },
  {
   "cell_type": "code",
   "execution_count": null,
   "metadata": {
    "collapsed": false
   },
   "outputs": [],
   "source": [
    "print \"Ambos correctos: \"+ str(len(corr_in_both))\n",
    "print \"Ambos incorrectos: \"+ str(len(wrong_in_both))\n",
    "print \"Ambos abstenidos: \"+ str(len(abst_in_both))\n",
    "print \"Porcentaje en ambos igual: \"+ str((len(corr_in_both)+len(wrong_in_both)+len(abst_in_both))*100/limit)"
   ]
  },
  {
   "cell_type": "code",
   "execution_count": null,
   "metadata": {
    "collapsed": false
   },
   "outputs": [],
   "source": [
    "print \"Correcto con euclidiana y abstenido con braycurtis: \"+ str(len(corr_id_in_e))\n",
    "print \"Incorrecto con euclidiana y abstenido con braycurtis: \"+ str(len(wrong_id_in_e))\n",
    "print \"Correcto con braycurtis y abstenido con euclidiana: \"+ str(len(corr_id_in_b))\n",
    "print \"Incorrecto con braycurtis y abstenido con euclidiana: \"+ str(len(wrong_id_in_b))\n"
   ]
  },
  {
   "cell_type": "markdown",
   "metadata": {},
   "source": [
    "### Ver en que orden queda el vector correcto"
   ]
  },
  {
   "cell_type": "code",
   "execution_count": null,
   "metadata": {
    "collapsed": true
   },
   "outputs": [],
   "source": [
    "def get_position_right_answer(distance_matrix):\n",
    "    positions = []\n",
    "    n_neighbours = []\n",
    "    neighbours_distances = []\n",
    "    for i in range(limit):\n",
    "        neighbours = np.where(distance_matrix[i] != -1)\n",
    "        the_index = np.argmax(distance_matrix[i,:])\n",
    "        if distance_matrix[i,the_index] == -1:\n",
    "            continue\n",
    "        elif(the_index!=i):\n",
    "            for j in neighbours:\n",
    "                neighbours_distances.append(distance_matrix[i,j])\n",
    "            sorted_neighbours = np.sort(neighbours_distances)\n",
    "            positions.append(np.where(sorted_neighbours==distance_matrix[i,i]))\n",
    "            n_neighbours.append(len(neighbours))\n",
    "    return [positions,n_neighbours]"
   ]
  },
  {
   "cell_type": "code",
   "execution_count": null,
   "metadata": {
    "collapsed": false
   },
   "outputs": [],
   "source": [
    "p,nn = get_position_right_answer(a_matrix_braycurtis)"
   ]
  },
  {
   "cell_type": "code",
   "execution_count": null,
   "metadata": {
    "collapsed": true
   },
   "outputs": [],
   "source": []
  }
 ],
 "metadata": {
  "kernelspec": {
   "display_name": "Python 2",
   "language": "python",
   "name": "python2"
  },
  "language_info": {
   "codemirror_mode": {
    "name": "ipython",
    "version": 2
   },
   "file_extension": ".py",
   "mimetype": "text/x-python",
   "name": "python",
   "nbconvert_exporter": "python",
   "pygments_lexer": "ipython2",
   "version": "2.7.11"
  }
 },
 "nbformat": 4,
 "nbformat_minor": 0
}
