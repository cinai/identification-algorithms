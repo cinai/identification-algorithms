{
 "cells": [
  {
   "cell_type": "code",
   "execution_count": 1,
   "metadata": {
    "collapsed": false
   },
   "outputs": [],
   "source": [
    "import matplotlib.pyplot as plt\n",
    "import time\n",
    "import datetime as dt\n",
    "import pickle\n",
    "import numpy as np\n",
    "from __future__ import division\n",
    "from auxiliar_functions import *\n",
    "import tfe\n"
   ]
  },
  {
   "cell_type": "code",
   "execution_count": 3,
   "metadata": {
    "collapsed": false
   },
   "outputs": [],
   "source": [
    "frame = pd.read_csv('/home/cata/Documentos/Datois/etapas_2013_abril_allyearsids_10_100000.csv')\n"
   ]
  },
  {
   "cell_type": "code",
   "execution_count": 4,
   "metadata": {
    "collapsed": false
   },
   "outputs": [],
   "source": [
    "frame = frame_config(frame)"
   ]
  },
  {
   "cell_type": "code",
   "execution_count": 7,
   "metadata": {
    "collapsed": false,
    "scrolled": true
   },
   "outputs": [
    {
     "data": {
      "text/html": [
       "<div>\n",
       "<table border=\"1\" class=\"dataframe\">\n",
       "  <thead>\n",
       "    <tr style=\"text-align: right;\">\n",
       "      <th></th>\n",
       "      <th>tiempo_subida</th>\n",
       "      <th>id</th>\n",
       "      <th>x_subida</th>\n",
       "      <th>y_subida</th>\n",
       "      <th>tipo_transporte</th>\n",
       "      <th>serviciosentidovariante</th>\n",
       "      <th>tipo_dia</th>\n",
       "      <th>nviaje</th>\n",
       "      <th>netapa</th>\n",
       "      <th>x_bajada</th>\n",
       "      <th>...</th>\n",
       "      <th>par_bajada</th>\n",
       "      <th>zona_subida</th>\n",
       "      <th>zona_bajada</th>\n",
       "      <th>adulto</th>\n",
       "      <th>weekday</th>\n",
       "      <th>lat_subida</th>\n",
       "      <th>lat_bajada</th>\n",
       "      <th>long_subida</th>\n",
       "      <th>long_bajada</th>\n",
       "      <th>diferencia_tiempo</th>\n",
       "    </tr>\n",
       "  </thead>\n",
       "  <tbody>\n",
       "    <tr>\n",
       "      <th>23</th>\n",
       "      <td>2013-04-14 06:45:44</td>\n",
       "      <td>1132106</td>\n",
       "      <td>348108</td>\n",
       "      <td>6289153</td>\n",
       "      <td>BUS</td>\n",
       "      <td>T203 00R</td>\n",
       "      <td>DOMINGO</td>\n",
       "      <td>1</td>\n",
       "      <td>1</td>\n",
       "      <td>346818</td>\n",
       "      <td>...</td>\n",
       "      <td>E-20-190-SN-40</td>\n",
       "      <td>328</td>\n",
       "      <td>307</td>\n",
       "      <td>0</td>\n",
       "      <td>6</td>\n",
       "      <td>-33.526277</td>\n",
       "      <td>-33.526277</td>\n",
       "      <td>-70.635551</td>\n",
       "      <td>-70.647786</td>\n",
       "      <td>0 days 00:00:00</td>\n",
       "    </tr>\n",
       "    <tr>\n",
       "      <th>22</th>\n",
       "      <td>2013-04-14 07:51:52</td>\n",
       "      <td>1132106</td>\n",
       "      <td>346751</td>\n",
       "      <td>6299389</td>\n",
       "      <td>BUS</td>\n",
       "      <td>T502 00I</td>\n",
       "      <td>DOMINGO</td>\n",
       "      <td>2</td>\n",
       "      <td>1</td>\n",
       "      <td>351363</td>\n",
       "      <td>...</td>\n",
       "      <td>T-15-135-PO-5</td>\n",
       "      <td>307</td>\n",
       "      <td>188</td>\n",
       "      <td>0</td>\n",
       "      <td>6</td>\n",
       "      <td>-33.434116</td>\n",
       "      <td>-33.434116</td>\n",
       "      <td>-70.648104</td>\n",
       "      <td>-70.598251</td>\n",
       "      <td>0 days 01:06:08</td>\n",
       "    </tr>\n",
       "    <tr>\n",
       "      <th>21</th>\n",
       "      <td>2013-04-14 19:56:47</td>\n",
       "      <td>1132106</td>\n",
       "      <td>351368</td>\n",
       "      <td>6302559</td>\n",
       "      <td>BUS</td>\n",
       "      <td>T502 00R</td>\n",
       "      <td>DOMINGO</td>\n",
       "      <td>3</td>\n",
       "      <td>1</td>\n",
       "      <td>346763</td>\n",
       "      <td>...</td>\n",
       "      <td>T-4-19-NS-100</td>\n",
       "      <td>188</td>\n",
       "      <td>55</td>\n",
       "      <td>0</td>\n",
       "      <td>6</td>\n",
       "      <td>-33.405971</td>\n",
       "      <td>-33.405971</td>\n",
       "      <td>-70.598379</td>\n",
       "      <td>-70.648651</td>\n",
       "      <td>0 days 12:04:55</td>\n",
       "    </tr>\n",
       "    <tr>\n",
       "      <th>20</th>\n",
       "      <td>2013-04-14 20:15:25</td>\n",
       "      <td>1132106</td>\n",
       "      <td>346713</td>\n",
       "      <td>6299427</td>\n",
       "      <td>BUS</td>\n",
       "      <td>T203 00I</td>\n",
       "      <td>DOMINGO</td>\n",
       "      <td>3</td>\n",
       "      <td>2</td>\n",
       "      <td>348095</td>\n",
       "      <td>...</td>\n",
       "      <td>T-24-205-NS-20</td>\n",
       "      <td>307</td>\n",
       "      <td>348</td>\n",
       "      <td>0</td>\n",
       "      <td>6</td>\n",
       "      <td>-33.433463</td>\n",
       "      <td>-33.433463</td>\n",
       "      <td>-70.649060</td>\n",
       "      <td>-70.635944</td>\n",
       "      <td>0 days 00:18:38</td>\n",
       "    </tr>\n",
       "    <tr>\n",
       "      <th>19</th>\n",
       "      <td>2013-04-15 21:04:59</td>\n",
       "      <td>1132106</td>\n",
       "      <td>348103</td>\n",
       "      <td>6289191</td>\n",
       "      <td>BUS</td>\n",
       "      <td>T206 00R</td>\n",
       "      <td>LABORAL</td>\n",
       "      <td>4</td>\n",
       "      <td>1</td>\n",
       "      <td>346844</td>\n",
       "      <td>...</td>\n",
       "      <td>T-20-190-SN-35</td>\n",
       "      <td>328</td>\n",
       "      <td>309</td>\n",
       "      <td>0</td>\n",
       "      <td>0</td>\n",
       "      <td>-33.526277</td>\n",
       "      <td>-33.526277</td>\n",
       "      <td>-70.635551</td>\n",
       "      <td>-70.647429</td>\n",
       "      <td>1 days 00:49:34</td>\n",
       "    </tr>\n",
       "  </tbody>\n",
       "</table>\n",
       "<p>5 rows × 23 columns</p>\n",
       "</div>"
      ],
      "text/plain": [
       "         tiempo_subida       id  x_subida  y_subida tipo_transporte  \\\n",
       "23 2013-04-14 06:45:44  1132106    348108   6289153             BUS   \n",
       "22 2013-04-14 07:51:52  1132106    346751   6299389             BUS   \n",
       "21 2013-04-14 19:56:47  1132106    351368   6302559             BUS   \n",
       "20 2013-04-14 20:15:25  1132106    346713   6299427             BUS   \n",
       "19 2013-04-15 21:04:59  1132106    348103   6289191             BUS   \n",
       "\n",
       "   serviciosentidovariante tipo_dia  nviaje  netapa  x_bajada  \\\n",
       "23                T203 00R  DOMINGO       1       1    346818   \n",
       "22                T502 00I  DOMINGO       2       1    351363   \n",
       "21                T502 00R  DOMINGO       3       1    346763   \n",
       "20                T203 00I  DOMINGO       3       2    348095   \n",
       "19                T206 00R  LABORAL       4       1    346844   \n",
       "\n",
       "          ...              par_bajada zona_subida zona_bajada adulto  weekday  \\\n",
       "23        ...          E-20-190-SN-40         328         307      0        6   \n",
       "22        ...           T-15-135-PO-5         307         188      0        6   \n",
       "21        ...           T-4-19-NS-100         188          55      0        6   \n",
       "20        ...          T-24-205-NS-20         307         348      0        6   \n",
       "19        ...          T-20-190-SN-35         328         309      0        0   \n",
       "\n",
       "    lat_subida  lat_bajada  long_subida  long_bajada  diferencia_tiempo  \n",
       "23  -33.526277  -33.526277   -70.635551   -70.647786    0 days 00:00:00  \n",
       "22  -33.434116  -33.434116   -70.648104   -70.598251    0 days 01:06:08  \n",
       "21  -33.405971  -33.405971   -70.598379   -70.648651    0 days 12:04:55  \n",
       "20  -33.433463  -33.433463   -70.649060   -70.635944    0 days 00:18:38  \n",
       "19  -33.526277  -33.526277   -70.635551   -70.647429    1 days 00:49:34  \n",
       "\n",
       "[5 rows x 23 columns]"
      ]
     },
     "execution_count": 7,
     "metadata": {},
     "output_type": "execute_result"
    }
   ],
   "source": [
    "#frame.drop(frame.columns[[2,3,4,5,9,10,11,14,15,16]], axis=1, inplace=True)\n",
    "frame.head()"
   ]
  },
  {
   "cell_type": "code",
   "execution_count": 10,
   "metadata": {
    "collapsed": false
   },
   "outputs": [],
   "source": [
    "test_sequence_5 = frame.query('id==1261466')\n",
    "test_sequence_1187 = frame.query('id==50264508')\n",
    "test_sequence_0 = frame.query('id==1132106')\n",
    "test_sequence_9 = frame.query('id==1355530')\n",
    "test_sequence_2168 = frame.query('id==59460077')\n",
    "test_sequence_3696 = frame.query('id==68660100')\n",
    "test_sequence_4150= frame.query('id==70321252')"
   ]
  },
  {
   "cell_type": "code",
   "execution_count": 11,
   "metadata": {
    "collapsed": false,
    "scrolled": true
   },
   "outputs": [],
   "source": [
    "test_sequence = test_sequence_0\n",
    "[test_sequence_s ,test_sequence_fds] = tfe.split_sequence_by_weekdays(test_sequence)"
   ]
  },
  {
   "cell_type": "code",
   "execution_count": 12,
   "metadata": {
    "collapsed": false
   },
   "outputs": [],
   "source": [
    "shortest_activities_s = tfe.get_mean_shortests_activity_length(test_sequence_s)\n",
    "longest_activities_s = tfe.get_mean_longest_activity_length(test_sequence_s)\n",
    "shortest_activities_fds = tfe.get_mean_shortests_activity_length(test_sequence_fds)\n",
    "longest_activities_fds = tfe.get_mean_longest_activity_length(test_sequence_fds)"
   ]
  },
  {
   "cell_type": "code",
   "execution_count": 13,
   "metadata": {
    "collapsed": false
   },
   "outputs": [
    {
     "name": "stdout",
     "output_type": "stream",
     "text": [
      "0 days 00:26:16.200000 , 0 days 00:18:38\n",
      "0 days 09:52:16.400000 , 1 days 23:16:58\n"
     ]
    }
   ],
   "source": [
    "print str(shortest_activities_s) + \" , \" + str(shortest_activities_fds)\n",
    "print str(longest_activities_s) + \" , \" + str(longest_activities_fds)"
   ]
  },
  {
   "cell_type": "code",
   "execution_count": 14,
   "metadata": {
    "collapsed": false
   },
   "outputs": [],
   "source": [
    "latlong1 = (test_sequence_fds['lat_subida'][0],test_sequence_fds['long_subida'][0])\n",
    "latlong2 = (test_sequence_fds['lat_bajada'][0],test_sequence_fds['long_bajada'][0])"
   ]
  },
  {
   "cell_type": "code",
   "execution_count": 17,
   "metadata": {
    "collapsed": false
   },
   "outputs": [
    {
     "data": {
      "text/plain": [
       "221.22859034150613"
      ]
     },
     "execution_count": 17,
     "metadata": {},
     "output_type": "execute_result"
    }
   ],
   "source": [
    "tfe.get_traveled_distance(test_sequence)"
   ]
  },
  {
   "cell_type": "code",
   "execution_count": 18,
   "metadata": {
    "collapsed": false
   },
   "outputs": [
    {
     "data": {
      "text/plain": [
       "16.64618851242621"
      ]
     },
     "execution_count": 18,
     "metadata": {},
     "output_type": "execute_result"
    }
   ],
   "source": [
    "tfe.get_maximum_travel_distance(test_sequence)"
   ]
  },
  {
   "cell_type": "code",
   "execution_count": 19,
   "metadata": {
    "collapsed": false
   },
   "outputs": [
    {
     "data": {
      "text/plain": [
       "1.136515222708523"
      ]
     },
     "execution_count": 19,
     "metadata": {},
     "output_type": "execute_result"
    }
   ],
   "source": [
    "tfe.get_minimum_travel_distance(test_sequence)"
   ]
  },
  {
   "cell_type": "code",
   "execution_count": 20,
   "metadata": {
    "collapsed": false
   },
   "outputs": [
    {
     "data": {
      "text/plain": [
       "100.0"
      ]
     },
     "execution_count": 20,
     "metadata": {},
     "output_type": "execute_result"
    }
   ],
   "source": [
    "tfe.get_percentage_bus_exclusive_days(test_sequence)"
   ]
  },
  {
   "cell_type": "code",
   "execution_count": 21,
   "metadata": {
    "collapsed": false
   },
   "outputs": [
    {
     "data": {
      "text/plain": [
       "0.0"
      ]
     },
     "execution_count": 21,
     "metadata": {},
     "output_type": "execute_result"
    }
   ],
   "source": [
    "tfe.get_percentage_rail_exclusive_days(test_sequence)"
   ]
  },
  {
   "cell_type": "code",
   "execution_count": 22,
   "metadata": {
    "collapsed": false
   },
   "outputs": [
    {
     "data": {
      "text/plain": [
       "0"
      ]
     },
     "execution_count": 22,
     "metadata": {},
     "output_type": "execute_result"
    }
   ],
   "source": [
    "tfe.get_card_type(test_sequence)"
   ]
  },
  {
   "cell_type": "code",
   "execution_count": 23,
   "metadata": {
    "collapsed": false
   },
   "outputs": [
    {
     "data": {
      "text/plain": [
       "7"
      ]
     },
     "execution_count": 23,
     "metadata": {},
     "output_type": "execute_result"
    }
   ],
   "source": [
    "tfe.get_n_days_traveled(test_sequence)"
   ]
  },
  {
   "cell_type": "code",
   "execution_count": 24,
   "metadata": {
    "collapsed": false
   },
   "outputs": [
    {
     "data": {
      "text/plain": [
       "[3, 1, 2, 2, 2, 0, 1, 2]"
      ]
     },
     "execution_count": 24,
     "metadata": {},
     "output_type": "execute_result"
    }
   ],
   "source": [
    "tfe.get_n_trips_per_day(test_sequence)"
   ]
  },
  {
   "cell_type": "code",
   "execution_count": 25,
   "metadata": {
    "collapsed": false
   },
   "outputs": [
    {
     "data": {
      "text/plain": [
       "33061"
      ]
     },
     "execution_count": 25,
     "metadata": {},
     "output_type": "execute_result"
    }
   ],
   "source": [
    "tfe.get_mean_start_time_first_trip(test_sequence)"
   ]
  },
  {
   "cell_type": "code",
   "execution_count": 26,
   "metadata": {
    "collapsed": false
   },
   "outputs": [
    {
     "data": {
      "text/plain": [
       "67229"
      ]
     },
     "execution_count": 26,
     "metadata": {},
     "output_type": "execute_result"
    }
   ],
   "source": [
    "tfe.get_mean_start_time_last_trip(test_sequence)"
   ]
  },
  {
   "cell_type": "code",
   "execution_count": 27,
   "metadata": {
    "collapsed": false
   },
   "outputs": [
    {
     "data": {
      "text/plain": [
       "57.14285714285714"
      ]
     },
     "execution_count": 27,
     "metadata": {},
     "output_type": "execute_result"
    }
   ],
   "source": [
    "tfe.get_percentage_different_last_origin(test_sequence)"
   ]
  },
  {
   "cell_type": "code",
   "execution_count": 28,
   "metadata": {
    "collapsed": false
   },
   "outputs": [
    {
     "data": {
      "text/plain": [
       "42.857142857142854"
      ]
     },
     "execution_count": 28,
     "metadata": {},
     "output_type": "execute_result"
    }
   ],
   "source": [
    "tfe.get_percentage_different_first_origin(test_sequence)"
   ]
  },
  {
   "cell_type": "code",
   "execution_count": 29,
   "metadata": {
    "collapsed": false
   },
   "outputs": [
    {
     "data": {
      "text/plain": [
       "5"
      ]
     },
     "execution_count": 29,
     "metadata": {},
     "output_type": "execute_result"
    }
   ],
   "source": [
    "tfe.get_n_different_locations(test_sequence)"
   ]
  },
  {
   "cell_type": "code",
   "execution_count": 30,
   "metadata": {
    "collapsed": false
   },
   "outputs": [
    {
     "data": {
      "text/plain": [
       "5450.200714686222"
      ]
     },
     "execution_count": 30,
     "metadata": {},
     "output_type": "execute_result"
    }
   ],
   "source": [
    "tfe.get_radius_of_gyration(test_sequence)"
   ]
  },
  {
   "cell_type": "code",
   "execution_count": 31,
   "metadata": {
    "collapsed": false
   },
   "outputs": [
    {
     "data": {
      "text/plain": [
       "5421.7724863375815"
      ]
     },
     "execution_count": 31,
     "metadata": {},
     "output_type": "execute_result"
    }
   ],
   "source": [
    "tfe.get_radius_of_gyration(test_sequence_fds)"
   ]
  },
  {
   "cell_type": "code",
   "execution_count": 32,
   "metadata": {
    "collapsed": false
   },
   "outputs": [
    {
     "data": {
      "text/plain": [
       "5464.2820177023395"
      ]
     },
     "execution_count": 32,
     "metadata": {},
     "output_type": "execute_result"
    }
   ],
   "source": [
    "tfe.get_radius_of_gyration(test_sequence_s)"
   ]
  },
  {
   "cell_type": "code",
   "execution_count": 33,
   "metadata": {
    "collapsed": false
   },
   "outputs": [
    {
     "data": {
      "text/plain": [
       "2.5545851693377997"
      ]
     },
     "execution_count": 33,
     "metadata": {},
     "output_type": "execute_result"
    }
   ],
   "source": [
    "tfe.get_unc_entropy(test_sequence)"
   ]
  },
  {
   "cell_type": "code",
   "execution_count": 34,
   "metadata": {
    "collapsed": false
   },
   "outputs": [
    {
     "data": {
      "text/plain": [
       "2.3219280948873622"
      ]
     },
     "execution_count": 34,
     "metadata": {},
     "output_type": "execute_result"
    }
   ],
   "source": [
    "tfe.get_random_entropy(test_sequence)"
   ]
  },
  {
   "cell_type": "code",
   "execution_count": 35,
   "metadata": {
    "collapsed": false
   },
   "outputs": [
    {
     "data": {
      "text/plain": [
       "4"
      ]
     },
     "execution_count": 35,
     "metadata": {},
     "output_type": "execute_result"
    }
   ],
   "source": [
    "tfe.get_frequence_regularity(test_sequence)"
   ]
  },
  {
   "cell_type": "code",
   "execution_count": 36,
   "metadata": {
    "collapsed": false
   },
   "outputs": [
    {
     "data": {
      "text/plain": [
       "2.5216406363433181"
      ]
     },
     "execution_count": 36,
     "metadata": {},
     "output_type": "execute_result"
    }
   ],
   "source": [
    "tfe.get_entropy(test_sequence)"
   ]
  },
  {
   "cell_type": "code",
   "execution_count": 59,
   "metadata": {
    "collapsed": false
   },
   "outputs": [
    {
     "data": {
      "text/plain": [
       "7"
      ]
     },
     "execution_count": 59,
     "metadata": {},
     "output_type": "execute_result"
    }
   ],
   "source": [
    "chronology = tfe.get_chronology(test_sequence,latlong1[0],latlong1[1])\n",
    "traveled_days = tfe.get_n_days_traveled(test_sequence)\n",
    "window = traveled_days*24*60 # 8 dias en minutos"
   ]
  },
  {
   "cell_type": "code",
   "execution_count": 60,
   "metadata": {
    "collapsed": false
   },
   "outputs": [
    {
     "name": "stderr",
     "output_type": "stream",
     "text": [
      "/home/cata/anaconda2/lib/python2.7/site-packages/scipy/integrate/quadpack.py:352: IntegrationWarning: The maximum number of subdivisions (50) has been achieved.\n",
      "  If increasing the limit yields no improvement it is advised to analyze \n",
      "  the integrand in order to determine the difficulties.  If the position of a \n",
      "  local difficulty can be determined (singularity, discontinuity) one will \n",
      "  probably gain from splitting up the interval and calling the integrator \n",
      "  on the subranges.  Perhaps a special-purpose integrator should be used.\n",
      "  warnings.warn(msg, IntegrationWarning)\n"
     ]
    },
    {
     "data": {
      "text/plain": [
       "2.1903473824222157"
      ]
     },
     "execution_count": 60,
     "metadata": {},
     "output_type": "execute_result"
    }
   ],
   "source": [
    "tfe.get_regularity(chronology,window*1.0/2)"
   ]
  },
  {
   "cell_type": "code",
   "execution_count": null,
   "metadata": {
    "collapsed": false
   },
   "outputs": [],
   "source": [
    "tfe.get_ROIs(test_sequence,0.95)"
   ]
  },
  {
   "cell_type": "code",
   "execution_count": null,
   "metadata": {
    "collapsed": true
   },
   "outputs": [],
   "source": []
  }
 ],
 "metadata": {
  "kernelspec": {
   "display_name": "Python 2",
   "language": "python",
   "name": "python2"
  },
  "language_info": {
   "codemirror_mode": {
    "name": "ipython",
    "version": 2
   },
   "file_extension": ".py",
   "mimetype": "text/x-python",
   "name": "python",
   "nbconvert_exporter": "python",
   "pygments_lexer": "ipython2",
   "version": "2.7.11"
  }
 },
 "nbformat": 4,
 "nbformat_minor": 0
}
