{
 "cells": [
  {
   "cell_type": "code",
   "execution_count": 1,
   "metadata": {
    "collapsed": false
   },
   "outputs": [],
   "source": [
    "import matplotlib.pyplot as plt\n",
    "import time\n",
    "import datetime as dt\n",
    "import pickle\n",
    "import numpy as np\n",
    "from __future__ import division\n",
    "from auxiliar_functions import *\n",
    "import tfe\n"
   ]
  },
  {
   "cell_type": "code",
   "execution_count": 2,
   "metadata": {
    "collapsed": false
   },
   "outputs": [],
   "source": [
    "frame = pd.read_csv('/home/cata/Documentos/Datois/etapas_2013_abril_allyearsids_10_100000.csv')\n"
   ]
  },
  {
   "cell_type": "code",
   "execution_count": 3,
   "metadata": {
    "collapsed": false
   },
   "outputs": [],
   "source": [
    "frame = frame_config(frame)"
   ]
  },
  {
   "cell_type": "code",
   "execution_count": 94,
   "metadata": {
    "collapsed": false,
    "scrolled": true
   },
   "outputs": [
    {
     "name": "stdout",
     "output_type": "stream",
     "text": [
      "<class 'pandas.core.frame.DataFrame'>\n",
      "Int64Index: 100000 entries, 23 to 99994\n",
      "Data columns (total 23 columns):\n",
      "tiempo_subida              100000 non-null datetime64[ns]\n",
      "id                         100000 non-null int64\n",
      "x_subida                   99224 non-null float64\n",
      "y_subida                   99224 non-null float64\n",
      "tipo_transporte            100000 non-null object\n",
      "serviciosentidovariante    98074 non-null object\n",
      "tipo_dia                   100000 non-null object\n",
      "nviaje                     100000 non-null int64\n",
      "netapa                     100000 non-null int64\n",
      "x_bajada                   86774 non-null float64\n",
      "y_bajada                   86774 non-null float64\n",
      "tiempo_bajada              86774 non-null object\n",
      "par_subida                 99195 non-null object\n",
      "par_bajada                 86767 non-null object\n",
      "zona_subida                99180 non-null float64\n",
      "zona_bajada                86764 non-null float64\n",
      "adulto                     86774 non-null float64\n",
      "weekday                    100000 non-null int64\n",
      "lat_subida                 94014 non-null float64\n",
      "lat_bajada                 94014 non-null float64\n",
      "long_subida                94014 non-null float64\n",
      "long_bajada                81704 non-null float64\n",
      "diferencia_tiempo          100000 non-null timedelta64[ns]\n",
      "dtypes: datetime64[ns](1), float64(11), int64(4), object(6), timedelta64[ns](1)\n",
      "memory usage: 18.3+ MB\n"
     ]
    }
   ],
   "source": [
    "#frame.drop(frame.columns[[2,3,4,5,9,10,11,14,15,16]], axis=1, inplace=True)\n",
    "frame.info()"
   ]
  },
  {
   "cell_type": "code",
   "execution_count": 5,
   "metadata": {
    "collapsed": false
   },
   "outputs": [],
   "source": [
    "test_sequence = frame.query('id==1132106')"
   ]
  },
  {
   "cell_type": "code",
   "execution_count": 7,
   "metadata": {
    "collapsed": false,
    "scrolled": true
   },
   "outputs": [],
   "source": [
    "[test_sequence_s ,test_sequence_fds] = tfe.split_sequence_by_weekdays(test_sequence)"
   ]
  },
  {
   "cell_type": "code",
   "execution_count": 8,
   "metadata": {
    "collapsed": false
   },
   "outputs": [],
   "source": [
    "shortest_activities_s = tfe.get_mean_shortests_activity_length(test_sequence_s)\n",
    "longest_activities_s = tfe.get_mean_longest_activity_length(test_sequence_s)\n",
    "shortest_activities_fds = tfe.get_mean_shortests_activity_length(test_sequence_fds)\n",
    "longest_activities_fds = tfe.get_mean_longest_activity_length(test_sequence_fds)"
   ]
  },
  {
   "cell_type": "code",
   "execution_count": 9,
   "metadata": {
    "collapsed": false
   },
   "outputs": [
    {
     "name": "stdout",
     "output_type": "stream",
     "text": [
      "0 days 00:26:16.200000 , 0 days 00:18:38\n",
      "0 days 09:52:16.400000 , 1 days 23:16:58\n"
     ]
    }
   ],
   "source": [
    "print str(shortest_activities_s) + \" , \" + str(shortest_activities_fds)\n",
    "print str(longest_activities_s) + \" , \" + str(longest_activities_fds)"
   ]
  },
  {
   "cell_type": "code",
   "execution_count": 60,
   "metadata": {
    "collapsed": false,
    "scrolled": true
   },
   "outputs": [
    {
     "data": {
      "text/html": [
       "<div>\n",
       "<table border=\"1\" class=\"dataframe\">\n",
       "  <thead>\n",
       "    <tr style=\"text-align: right;\">\n",
       "      <th></th>\n",
       "      <th>tiempo_subida</th>\n",
       "      <th>id</th>\n",
       "      <th>x_subida</th>\n",
       "      <th>y_subida</th>\n",
       "      <th>tipo_transporte</th>\n",
       "      <th>serviciosentidovariante</th>\n",
       "      <th>tipo_dia</th>\n",
       "      <th>nviaje</th>\n",
       "      <th>netapa</th>\n",
       "      <th>x_bajada</th>\n",
       "      <th>...</th>\n",
       "      <th>par_bajada</th>\n",
       "      <th>zona_subida</th>\n",
       "      <th>zona_bajada</th>\n",
       "      <th>adulto</th>\n",
       "      <th>weekday</th>\n",
       "      <th>lat_subida</th>\n",
       "      <th>lat_bajada</th>\n",
       "      <th>long_subida</th>\n",
       "      <th>long_bajada</th>\n",
       "      <th>diferencia_tiempo</th>\n",
       "    </tr>\n",
       "  </thead>\n",
       "  <tbody>\n",
       "    <tr>\n",
       "      <th>23</th>\n",
       "      <td>2013-04-14 06:45:44</td>\n",
       "      <td>1132106</td>\n",
       "      <td>348108</td>\n",
       "      <td>6289153</td>\n",
       "      <td>BUS</td>\n",
       "      <td>T203 00R</td>\n",
       "      <td>DOMINGO</td>\n",
       "      <td>1</td>\n",
       "      <td>1</td>\n",
       "      <td>346818</td>\n",
       "      <td>...</td>\n",
       "      <td>E-20-190-SN-40</td>\n",
       "      <td>328</td>\n",
       "      <td>307</td>\n",
       "      <td>0</td>\n",
       "      <td>6</td>\n",
       "      <td>-33.526277</td>\n",
       "      <td>-33.526277</td>\n",
       "      <td>-70.635551</td>\n",
       "      <td>-70.647786</td>\n",
       "      <td>0 days 00:00:00</td>\n",
       "    </tr>\n",
       "    <tr>\n",
       "      <th>22</th>\n",
       "      <td>2013-04-14 07:51:52</td>\n",
       "      <td>1132106</td>\n",
       "      <td>346751</td>\n",
       "      <td>6299389</td>\n",
       "      <td>BUS</td>\n",
       "      <td>T502 00I</td>\n",
       "      <td>DOMINGO</td>\n",
       "      <td>2</td>\n",
       "      <td>1</td>\n",
       "      <td>351363</td>\n",
       "      <td>...</td>\n",
       "      <td>T-15-135-PO-5</td>\n",
       "      <td>307</td>\n",
       "      <td>188</td>\n",
       "      <td>0</td>\n",
       "      <td>6</td>\n",
       "      <td>-33.434116</td>\n",
       "      <td>-33.434116</td>\n",
       "      <td>-70.648104</td>\n",
       "      <td>-70.598251</td>\n",
       "      <td>0 days 01:06:08</td>\n",
       "    </tr>\n",
       "    <tr>\n",
       "      <th>21</th>\n",
       "      <td>2013-04-14 19:56:47</td>\n",
       "      <td>1132106</td>\n",
       "      <td>351368</td>\n",
       "      <td>6302559</td>\n",
       "      <td>BUS</td>\n",
       "      <td>T502 00R</td>\n",
       "      <td>DOMINGO</td>\n",
       "      <td>3</td>\n",
       "      <td>1</td>\n",
       "      <td>346763</td>\n",
       "      <td>...</td>\n",
       "      <td>T-4-19-NS-100</td>\n",
       "      <td>188</td>\n",
       "      <td>55</td>\n",
       "      <td>0</td>\n",
       "      <td>6</td>\n",
       "      <td>-33.405971</td>\n",
       "      <td>-33.405971</td>\n",
       "      <td>-70.598379</td>\n",
       "      <td>-70.648651</td>\n",
       "      <td>0 days 12:04:55</td>\n",
       "    </tr>\n",
       "    <tr>\n",
       "      <th>20</th>\n",
       "      <td>2013-04-14 20:15:25</td>\n",
       "      <td>1132106</td>\n",
       "      <td>346713</td>\n",
       "      <td>6299427</td>\n",
       "      <td>BUS</td>\n",
       "      <td>T203 00I</td>\n",
       "      <td>DOMINGO</td>\n",
       "      <td>3</td>\n",
       "      <td>2</td>\n",
       "      <td>348095</td>\n",
       "      <td>...</td>\n",
       "      <td>T-24-205-NS-20</td>\n",
       "      <td>307</td>\n",
       "      <td>348</td>\n",
       "      <td>0</td>\n",
       "      <td>6</td>\n",
       "      <td>-33.433463</td>\n",
       "      <td>-33.433463</td>\n",
       "      <td>-70.649060</td>\n",
       "      <td>-70.635944</td>\n",
       "      <td>0 days 00:18:38</td>\n",
       "    </tr>\n",
       "    <tr>\n",
       "      <th>19</th>\n",
       "      <td>2013-04-15 21:04:59</td>\n",
       "      <td>1132106</td>\n",
       "      <td>348103</td>\n",
       "      <td>6289191</td>\n",
       "      <td>BUS</td>\n",
       "      <td>T206 00R</td>\n",
       "      <td>LABORAL</td>\n",
       "      <td>4</td>\n",
       "      <td>1</td>\n",
       "      <td>346844</td>\n",
       "      <td>...</td>\n",
       "      <td>T-20-190-SN-35</td>\n",
       "      <td>328</td>\n",
       "      <td>309</td>\n",
       "      <td>0</td>\n",
       "      <td>0</td>\n",
       "      <td>-33.526277</td>\n",
       "      <td>-33.526277</td>\n",
       "      <td>-70.635551</td>\n",
       "      <td>-70.647429</td>\n",
       "      <td>1 days 00:49:34</td>\n",
       "    </tr>\n",
       "    <tr>\n",
       "      <th>18</th>\n",
       "      <td>2013-04-15 21:41:14</td>\n",
       "      <td>1132106</td>\n",
       "      <td>346724</td>\n",
       "      <td>6299394</td>\n",
       "      <td>BUS</td>\n",
       "      <td>T502 00I</td>\n",
       "      <td>LABORAL</td>\n",
       "      <td>4</td>\n",
       "      <td>2</td>\n",
       "      <td>351382</td>\n",
       "      <td>...</td>\n",
       "      <td>T-15-135-PO-5</td>\n",
       "      <td>266</td>\n",
       "      <td>188</td>\n",
       "      <td>0</td>\n",
       "      <td>0</td>\n",
       "      <td>-33.433236</td>\n",
       "      <td>-33.433236</td>\n",
       "      <td>-70.653896</td>\n",
       "      <td>-70.598251</td>\n",
       "      <td>0 days 00:36:15</td>\n",
       "    </tr>\n",
       "    <tr>\n",
       "      <th>17</th>\n",
       "      <td>2013-04-16 07:28:39</td>\n",
       "      <td>1132106</td>\n",
       "      <td>351356</td>\n",
       "      <td>6302557</td>\n",
       "      <td>BUS</td>\n",
       "      <td>T502 00R</td>\n",
       "      <td>LABORAL</td>\n",
       "      <td>5</td>\n",
       "      <td>1</td>\n",
       "      <td>346750</td>\n",
       "      <td>...</td>\n",
       "      <td>T-4-19-NS-100</td>\n",
       "      <td>188</td>\n",
       "      <td>55</td>\n",
       "      <td>0</td>\n",
       "      <td>1</td>\n",
       "      <td>-33.405971</td>\n",
       "      <td>-33.405971</td>\n",
       "      <td>-70.598379</td>\n",
       "      <td>-70.648651</td>\n",
       "      <td>0 days 09:47:25</td>\n",
       "    </tr>\n",
       "    <tr>\n",
       "      <th>16</th>\n",
       "      <td>2013-04-16 07:53:14</td>\n",
       "      <td>1132106</td>\n",
       "      <td>346719</td>\n",
       "      <td>6299432</td>\n",
       "      <td>BUS</td>\n",
       "      <td>T206 06I</td>\n",
       "      <td>LABORAL</td>\n",
       "      <td>5</td>\n",
       "      <td>2</td>\n",
       "      <td>348101</td>\n",
       "      <td>...</td>\n",
       "      <td>T-24-205-NS-20</td>\n",
       "      <td>307</td>\n",
       "      <td>348</td>\n",
       "      <td>0</td>\n",
       "      <td>1</td>\n",
       "      <td>-33.433463</td>\n",
       "      <td>-33.433463</td>\n",
       "      <td>-70.649060</td>\n",
       "      <td>-70.635944</td>\n",
       "      <td>0 days 00:24:35</td>\n",
       "    </tr>\n",
       "    <tr>\n",
       "      <th>15</th>\n",
       "      <td>2013-04-16 21:01:21</td>\n",
       "      <td>1132106</td>\n",
       "      <td>348111</td>\n",
       "      <td>6289112</td>\n",
       "      <td>BUS</td>\n",
       "      <td>T203 00R</td>\n",
       "      <td>LABORAL</td>\n",
       "      <td>6</td>\n",
       "      <td>1</td>\n",
       "      <td>346815</td>\n",
       "      <td>...</td>\n",
       "      <td>E-20-190-SN-40</td>\n",
       "      <td>330</td>\n",
       "      <td>307</td>\n",
       "      <td>0</td>\n",
       "      <td>1</td>\n",
       "      <td>-33.529157</td>\n",
       "      <td>-33.529157</td>\n",
       "      <td>-70.635293</td>\n",
       "      <td>-70.647786</td>\n",
       "      <td>0 days 13:08:07</td>\n",
       "    </tr>\n",
       "    <tr>\n",
       "      <th>14</th>\n",
       "      <td>2013-04-16 21:31:20</td>\n",
       "      <td>1132106</td>\n",
       "      <td>346747</td>\n",
       "      <td>6299384</td>\n",
       "      <td>BUS</td>\n",
       "      <td>T502 00I</td>\n",
       "      <td>LABORAL</td>\n",
       "      <td>6</td>\n",
       "      <td>2</td>\n",
       "      <td>351404</td>\n",
       "      <td>...</td>\n",
       "      <td>T-15-135-PO-5</td>\n",
       "      <td>307</td>\n",
       "      <td>188</td>\n",
       "      <td>0</td>\n",
       "      <td>1</td>\n",
       "      <td>-33.434116</td>\n",
       "      <td>-33.434116</td>\n",
       "      <td>-70.648104</td>\n",
       "      <td>-70.598251</td>\n",
       "      <td>0 days 00:29:59</td>\n",
       "    </tr>\n",
       "    <tr>\n",
       "      <th>13</th>\n",
       "      <td>2013-04-17 07:19:15</td>\n",
       "      <td>1132106</td>\n",
       "      <td>351382</td>\n",
       "      <td>6302585</td>\n",
       "      <td>BUS</td>\n",
       "      <td>T502 00R</td>\n",
       "      <td>LABORAL</td>\n",
       "      <td>7</td>\n",
       "      <td>1</td>\n",
       "      <td>346745</td>\n",
       "      <td>...</td>\n",
       "      <td>T-4-19-NS-100</td>\n",
       "      <td>188</td>\n",
       "      <td>55</td>\n",
       "      <td>0</td>\n",
       "      <td>2</td>\n",
       "      <td>-33.405971</td>\n",
       "      <td>-33.405971</td>\n",
       "      <td>-70.598379</td>\n",
       "      <td>-70.648651</td>\n",
       "      <td>0 days 09:47:55</td>\n",
       "    </tr>\n",
       "    <tr>\n",
       "      <th>12</th>\n",
       "      <td>2013-04-17 07:43:33</td>\n",
       "      <td>1132106</td>\n",
       "      <td>346714</td>\n",
       "      <td>6299401</td>\n",
       "      <td>BUS</td>\n",
       "      <td>T206 00I</td>\n",
       "      <td>LABORAL</td>\n",
       "      <td>7</td>\n",
       "      <td>2</td>\n",
       "      <td>348075</td>\n",
       "      <td>...</td>\n",
       "      <td>T-24-205-NS-20</td>\n",
       "      <td>307</td>\n",
       "      <td>348</td>\n",
       "      <td>0</td>\n",
       "      <td>2</td>\n",
       "      <td>-33.433463</td>\n",
       "      <td>-33.433463</td>\n",
       "      <td>-70.649060</td>\n",
       "      <td>-70.635944</td>\n",
       "      <td>0 days 00:24:18</td>\n",
       "    </tr>\n",
       "    <tr>\n",
       "      <th>11</th>\n",
       "      <td>2013-04-17 20:59:14</td>\n",
       "      <td>1132106</td>\n",
       "      <td>348104</td>\n",
       "      <td>6289158</td>\n",
       "      <td>BUS</td>\n",
       "      <td>T203 00R</td>\n",
       "      <td>LABORAL</td>\n",
       "      <td>8</td>\n",
       "      <td>1</td>\n",
       "      <td>346816</td>\n",
       "      <td>...</td>\n",
       "      <td>E-20-190-SN-40</td>\n",
       "      <td>328</td>\n",
       "      <td>307</td>\n",
       "      <td>0</td>\n",
       "      <td>2</td>\n",
       "      <td>-33.526277</td>\n",
       "      <td>-33.526277</td>\n",
       "      <td>-70.635551</td>\n",
       "      <td>-70.647786</td>\n",
       "      <td>0 days 13:15:41</td>\n",
       "    </tr>\n",
       "    <tr>\n",
       "      <th>10</th>\n",
       "      <td>2013-04-17 21:33:58</td>\n",
       "      <td>1132106</td>\n",
       "      <td>346753</td>\n",
       "      <td>6299384</td>\n",
       "      <td>BUS</td>\n",
       "      <td>T502 00I</td>\n",
       "      <td>LABORAL</td>\n",
       "      <td>8</td>\n",
       "      <td>2</td>\n",
       "      <td>351352</td>\n",
       "      <td>...</td>\n",
       "      <td>T-15-135-PO-5</td>\n",
       "      <td>307</td>\n",
       "      <td>188</td>\n",
       "      <td>0</td>\n",
       "      <td>2</td>\n",
       "      <td>-33.434116</td>\n",
       "      <td>-33.434116</td>\n",
       "      <td>-70.648104</td>\n",
       "      <td>-70.598251</td>\n",
       "      <td>0 days 00:34:44</td>\n",
       "    </tr>\n",
       "    <tr>\n",
       "      <th>9</th>\n",
       "      <td>2013-04-18 07:48:06</td>\n",
       "      <td>1132106</td>\n",
       "      <td>351373</td>\n",
       "      <td>6302574</td>\n",
       "      <td>BUS</td>\n",
       "      <td>T502 00R</td>\n",
       "      <td>LABORAL</td>\n",
       "      <td>9</td>\n",
       "      <td>1</td>\n",
       "      <td>346756</td>\n",
       "      <td>...</td>\n",
       "      <td>T-4-19-NS-100</td>\n",
       "      <td>188</td>\n",
       "      <td>55</td>\n",
       "      <td>0</td>\n",
       "      <td>3</td>\n",
       "      <td>-33.405971</td>\n",
       "      <td>-33.405971</td>\n",
       "      <td>-70.598379</td>\n",
       "      <td>-70.648651</td>\n",
       "      <td>0 days 10:14:08</td>\n",
       "    </tr>\n",
       "    <tr>\n",
       "      <th>8</th>\n",
       "      <td>2013-04-18 08:17:33</td>\n",
       "      <td>1132106</td>\n",
       "      <td>346721</td>\n",
       "      <td>6299433</td>\n",
       "      <td>BUS</td>\n",
       "      <td>T206 E0 07I</td>\n",
       "      <td>LABORAL</td>\n",
       "      <td>9</td>\n",
       "      <td>2</td>\n",
       "      <td>348114</td>\n",
       "      <td>...</td>\n",
       "      <td>T-24-205-NS-30</td>\n",
       "      <td>307</td>\n",
       "      <td>350</td>\n",
       "      <td>0</td>\n",
       "      <td>3</td>\n",
       "      <td>-33.433463</td>\n",
       "      <td>-33.433463</td>\n",
       "      <td>-70.649060</td>\n",
       "      <td>-70.635353</td>\n",
       "      <td>0 days 00:29:27</td>\n",
       "    </tr>\n",
       "    <tr>\n",
       "      <th>7</th>\n",
       "      <td>2013-04-18 20:56:48</td>\n",
       "      <td>1132106</td>\n",
       "      <td>348103</td>\n",
       "      <td>6289175</td>\n",
       "      <td>BUS</td>\n",
       "      <td>T203 00R</td>\n",
       "      <td>LABORAL</td>\n",
       "      <td>10</td>\n",
       "      <td>1</td>\n",
       "      <td>346815</td>\n",
       "      <td>...</td>\n",
       "      <td>E-20-190-SN-40</td>\n",
       "      <td>328</td>\n",
       "      <td>307</td>\n",
       "      <td>0</td>\n",
       "      <td>3</td>\n",
       "      <td>-33.526277</td>\n",
       "      <td>-33.526277</td>\n",
       "      <td>-70.635551</td>\n",
       "      <td>-70.647786</td>\n",
       "      <td>0 days 12:39:15</td>\n",
       "    </tr>\n",
       "    <tr>\n",
       "      <th>6</th>\n",
       "      <td>2013-04-18 21:26:19</td>\n",
       "      <td>1132106</td>\n",
       "      <td>346776</td>\n",
       "      <td>6299378</td>\n",
       "      <td>BUS</td>\n",
       "      <td>T502 00I</td>\n",
       "      <td>LABORAL</td>\n",
       "      <td>10</td>\n",
       "      <td>2</td>\n",
       "      <td>351353</td>\n",
       "      <td>...</td>\n",
       "      <td>T-15-135-PO-5</td>\n",
       "      <td>307</td>\n",
       "      <td>188</td>\n",
       "      <td>0</td>\n",
       "      <td>3</td>\n",
       "      <td>-33.434116</td>\n",
       "      <td>-33.434116</td>\n",
       "      <td>-70.648104</td>\n",
       "      <td>-70.598251</td>\n",
       "      <td>0 days 00:29:31</td>\n",
       "    </tr>\n",
       "    <tr>\n",
       "      <th>5</th>\n",
       "      <td>2013-04-19 07:08:23</td>\n",
       "      <td>1132106</td>\n",
       "      <td>351414</td>\n",
       "      <td>6302620</td>\n",
       "      <td>BUS</td>\n",
       "      <td>T502 00R</td>\n",
       "      <td>LABORAL</td>\n",
       "      <td>11</td>\n",
       "      <td>1</td>\n",
       "      <td>346664</td>\n",
       "      <td>...</td>\n",
       "      <td>T-4-19-NS-100</td>\n",
       "      <td>188</td>\n",
       "      <td>55</td>\n",
       "      <td>0</td>\n",
       "      <td>4</td>\n",
       "      <td>-33.403702</td>\n",
       "      <td>-33.403702</td>\n",
       "      <td>-70.595950</td>\n",
       "      <td>-70.648651</td>\n",
       "      <td>0 days 09:42:04</td>\n",
       "    </tr>\n",
       "    <tr>\n",
       "      <th>4</th>\n",
       "      <td>2013-04-19 07:25:09</td>\n",
       "      <td>1132106</td>\n",
       "      <td>346717</td>\n",
       "      <td>6299455</td>\n",
       "      <td>BUS</td>\n",
       "      <td>T203 00I</td>\n",
       "      <td>LABORAL</td>\n",
       "      <td>11</td>\n",
       "      <td>2</td>\n",
       "      <td>NaN</td>\n",
       "      <td>...</td>\n",
       "      <td>NaN</td>\n",
       "      <td>307</td>\n",
       "      <td>NaN</td>\n",
       "      <td>NaN</td>\n",
       "      <td>4</td>\n",
       "      <td>-33.433463</td>\n",
       "      <td>-33.433463</td>\n",
       "      <td>-70.649060</td>\n",
       "      <td>NaN</td>\n",
       "      <td>0 days 00:16:46</td>\n",
       "    </tr>\n",
       "    <tr>\n",
       "      <th>3</th>\n",
       "      <td>2013-04-21 06:42:07</td>\n",
       "      <td>1132106</td>\n",
       "      <td>348110</td>\n",
       "      <td>6289140</td>\n",
       "      <td>BUS</td>\n",
       "      <td>T203 00R</td>\n",
       "      <td>DOMINGO</td>\n",
       "      <td>12</td>\n",
       "      <td>1</td>\n",
       "      <td>346813</td>\n",
       "      <td>...</td>\n",
       "      <td>E-20-190-SN-40</td>\n",
       "      <td>328</td>\n",
       "      <td>307</td>\n",
       "      <td>0</td>\n",
       "      <td>6</td>\n",
       "      <td>-33.526277</td>\n",
       "      <td>-33.526277</td>\n",
       "      <td>-70.635551</td>\n",
       "      <td>-70.647786</td>\n",
       "      <td>1 days 23:16:58</td>\n",
       "    </tr>\n",
       "    <tr>\n",
       "      <th>2</th>\n",
       "      <td>2013-04-21 07:12:35</td>\n",
       "      <td>1132106</td>\n",
       "      <td>346722</td>\n",
       "      <td>6299393</td>\n",
       "      <td>BUS</td>\n",
       "      <td>T502 00I</td>\n",
       "      <td>DOMINGO</td>\n",
       "      <td>12</td>\n",
       "      <td>2</td>\n",
       "      <td>351366</td>\n",
       "      <td>...</td>\n",
       "      <td>T-15-135-PO-5</td>\n",
       "      <td>266</td>\n",
       "      <td>188</td>\n",
       "      <td>0</td>\n",
       "      <td>6</td>\n",
       "      <td>-33.433236</td>\n",
       "      <td>-33.433236</td>\n",
       "      <td>-70.653896</td>\n",
       "      <td>-70.598251</td>\n",
       "      <td>0 days 00:30:28</td>\n",
       "    </tr>\n",
       "    <tr>\n",
       "      <th>1</th>\n",
       "      <td>2013-04-21 19:35:52</td>\n",
       "      <td>1132106</td>\n",
       "      <td>351378</td>\n",
       "      <td>6302574</td>\n",
       "      <td>BUS</td>\n",
       "      <td>T502 00R</td>\n",
       "      <td>DOMINGO</td>\n",
       "      <td>13</td>\n",
       "      <td>1</td>\n",
       "      <td>346761</td>\n",
       "      <td>...</td>\n",
       "      <td>T-4-19-NS-100</td>\n",
       "      <td>188</td>\n",
       "      <td>55</td>\n",
       "      <td>0</td>\n",
       "      <td>6</td>\n",
       "      <td>-33.405971</td>\n",
       "      <td>-33.405971</td>\n",
       "      <td>-70.598379</td>\n",
       "      <td>-70.648651</td>\n",
       "      <td>0 days 12:23:17</td>\n",
       "    </tr>\n",
       "    <tr>\n",
       "      <th>0</th>\n",
       "      <td>2013-04-21 19:55:16</td>\n",
       "      <td>1132106</td>\n",
       "      <td>346723</td>\n",
       "      <td>6299454</td>\n",
       "      <td>BUS</td>\n",
       "      <td>T203 00I</td>\n",
       "      <td>DOMINGO</td>\n",
       "      <td>13</td>\n",
       "      <td>2</td>\n",
       "      <td>348100</td>\n",
       "      <td>...</td>\n",
       "      <td>T-24-205-NS-20</td>\n",
       "      <td>307</td>\n",
       "      <td>348</td>\n",
       "      <td>0</td>\n",
       "      <td>6</td>\n",
       "      <td>-33.433463</td>\n",
       "      <td>-33.433463</td>\n",
       "      <td>-70.649060</td>\n",
       "      <td>-70.635944</td>\n",
       "      <td>0 days 00:19:24</td>\n",
       "    </tr>\n",
       "  </tbody>\n",
       "</table>\n",
       "<p>24 rows × 23 columns</p>\n",
       "</div>"
      ],
      "text/plain": [
       "         tiempo_subida       id  x_subida  y_subida tipo_transporte  \\\n",
       "23 2013-04-14 06:45:44  1132106    348108   6289153             BUS   \n",
       "22 2013-04-14 07:51:52  1132106    346751   6299389             BUS   \n",
       "21 2013-04-14 19:56:47  1132106    351368   6302559             BUS   \n",
       "20 2013-04-14 20:15:25  1132106    346713   6299427             BUS   \n",
       "19 2013-04-15 21:04:59  1132106    348103   6289191             BUS   \n",
       "18 2013-04-15 21:41:14  1132106    346724   6299394             BUS   \n",
       "17 2013-04-16 07:28:39  1132106    351356   6302557             BUS   \n",
       "16 2013-04-16 07:53:14  1132106    346719   6299432             BUS   \n",
       "15 2013-04-16 21:01:21  1132106    348111   6289112             BUS   \n",
       "14 2013-04-16 21:31:20  1132106    346747   6299384             BUS   \n",
       "13 2013-04-17 07:19:15  1132106    351382   6302585             BUS   \n",
       "12 2013-04-17 07:43:33  1132106    346714   6299401             BUS   \n",
       "11 2013-04-17 20:59:14  1132106    348104   6289158             BUS   \n",
       "10 2013-04-17 21:33:58  1132106    346753   6299384             BUS   \n",
       "9  2013-04-18 07:48:06  1132106    351373   6302574             BUS   \n",
       "8  2013-04-18 08:17:33  1132106    346721   6299433             BUS   \n",
       "7  2013-04-18 20:56:48  1132106    348103   6289175             BUS   \n",
       "6  2013-04-18 21:26:19  1132106    346776   6299378             BUS   \n",
       "5  2013-04-19 07:08:23  1132106    351414   6302620             BUS   \n",
       "4  2013-04-19 07:25:09  1132106    346717   6299455             BUS   \n",
       "3  2013-04-21 06:42:07  1132106    348110   6289140             BUS   \n",
       "2  2013-04-21 07:12:35  1132106    346722   6299393             BUS   \n",
       "1  2013-04-21 19:35:52  1132106    351378   6302574             BUS   \n",
       "0  2013-04-21 19:55:16  1132106    346723   6299454             BUS   \n",
       "\n",
       "   serviciosentidovariante tipo_dia  nviaje  netapa  x_bajada  \\\n",
       "23                T203 00R  DOMINGO       1       1    346818   \n",
       "22                T502 00I  DOMINGO       2       1    351363   \n",
       "21                T502 00R  DOMINGO       3       1    346763   \n",
       "20                T203 00I  DOMINGO       3       2    348095   \n",
       "19                T206 00R  LABORAL       4       1    346844   \n",
       "18                T502 00I  LABORAL       4       2    351382   \n",
       "17                T502 00R  LABORAL       5       1    346750   \n",
       "16                T206 06I  LABORAL       5       2    348101   \n",
       "15                T203 00R  LABORAL       6       1    346815   \n",
       "14                T502 00I  LABORAL       6       2    351404   \n",
       "13                T502 00R  LABORAL       7       1    346745   \n",
       "12                T206 00I  LABORAL       7       2    348075   \n",
       "11                T203 00R  LABORAL       8       1    346816   \n",
       "10                T502 00I  LABORAL       8       2    351352   \n",
       "9                 T502 00R  LABORAL       9       1    346756   \n",
       "8              T206 E0 07I  LABORAL       9       2    348114   \n",
       "7                 T203 00R  LABORAL      10       1    346815   \n",
       "6                 T502 00I  LABORAL      10       2    351353   \n",
       "5                 T502 00R  LABORAL      11       1    346664   \n",
       "4                 T203 00I  LABORAL      11       2       NaN   \n",
       "3                 T203 00R  DOMINGO      12       1    346813   \n",
       "2                 T502 00I  DOMINGO      12       2    351366   \n",
       "1                 T502 00R  DOMINGO      13       1    346761   \n",
       "0                 T203 00I  DOMINGO      13       2    348100   \n",
       "\n",
       "          ...              par_bajada zona_subida zona_bajada adulto  weekday  \\\n",
       "23        ...          E-20-190-SN-40         328         307      0        6   \n",
       "22        ...           T-15-135-PO-5         307         188      0        6   \n",
       "21        ...           T-4-19-NS-100         188          55      0        6   \n",
       "20        ...          T-24-205-NS-20         307         348      0        6   \n",
       "19        ...          T-20-190-SN-35         328         309      0        0   \n",
       "18        ...           T-15-135-PO-5         266         188      0        0   \n",
       "17        ...           T-4-19-NS-100         188          55      0        1   \n",
       "16        ...          T-24-205-NS-20         307         348      0        1   \n",
       "15        ...          E-20-190-SN-40         330         307      0        1   \n",
       "14        ...           T-15-135-PO-5         307         188      0        1   \n",
       "13        ...           T-4-19-NS-100         188          55      0        2   \n",
       "12        ...          T-24-205-NS-20         307         348      0        2   \n",
       "11        ...          E-20-190-SN-40         328         307      0        2   \n",
       "10        ...           T-15-135-PO-5         307         188      0        2   \n",
       "9         ...           T-4-19-NS-100         188          55      0        3   \n",
       "8         ...          T-24-205-NS-30         307         350      0        3   \n",
       "7         ...          E-20-190-SN-40         328         307      0        3   \n",
       "6         ...           T-15-135-PO-5         307         188      0        3   \n",
       "5         ...           T-4-19-NS-100         188          55      0        4   \n",
       "4         ...                     NaN         307         NaN    NaN        4   \n",
       "3         ...          E-20-190-SN-40         328         307      0        6   \n",
       "2         ...           T-15-135-PO-5         266         188      0        6   \n",
       "1         ...           T-4-19-NS-100         188          55      0        6   \n",
       "0         ...          T-24-205-NS-20         307         348      0        6   \n",
       "\n",
       "    lat_subida  lat_bajada  long_subida  long_bajada  diferencia_tiempo  \n",
       "23  -33.526277  -33.526277   -70.635551   -70.647786    0 days 00:00:00  \n",
       "22  -33.434116  -33.434116   -70.648104   -70.598251    0 days 01:06:08  \n",
       "21  -33.405971  -33.405971   -70.598379   -70.648651    0 days 12:04:55  \n",
       "20  -33.433463  -33.433463   -70.649060   -70.635944    0 days 00:18:38  \n",
       "19  -33.526277  -33.526277   -70.635551   -70.647429    1 days 00:49:34  \n",
       "18  -33.433236  -33.433236   -70.653896   -70.598251    0 days 00:36:15  \n",
       "17  -33.405971  -33.405971   -70.598379   -70.648651    0 days 09:47:25  \n",
       "16  -33.433463  -33.433463   -70.649060   -70.635944    0 days 00:24:35  \n",
       "15  -33.529157  -33.529157   -70.635293   -70.647786    0 days 13:08:07  \n",
       "14  -33.434116  -33.434116   -70.648104   -70.598251    0 days 00:29:59  \n",
       "13  -33.405971  -33.405971   -70.598379   -70.648651    0 days 09:47:55  \n",
       "12  -33.433463  -33.433463   -70.649060   -70.635944    0 days 00:24:18  \n",
       "11  -33.526277  -33.526277   -70.635551   -70.647786    0 days 13:15:41  \n",
       "10  -33.434116  -33.434116   -70.648104   -70.598251    0 days 00:34:44  \n",
       "9   -33.405971  -33.405971   -70.598379   -70.648651    0 days 10:14:08  \n",
       "8   -33.433463  -33.433463   -70.649060   -70.635353    0 days 00:29:27  \n",
       "7   -33.526277  -33.526277   -70.635551   -70.647786    0 days 12:39:15  \n",
       "6   -33.434116  -33.434116   -70.648104   -70.598251    0 days 00:29:31  \n",
       "5   -33.403702  -33.403702   -70.595950   -70.648651    0 days 09:42:04  \n",
       "4   -33.433463  -33.433463   -70.649060          NaN    0 days 00:16:46  \n",
       "3   -33.526277  -33.526277   -70.635551   -70.647786    1 days 23:16:58  \n",
       "2   -33.433236  -33.433236   -70.653896   -70.598251    0 days 00:30:28  \n",
       "1   -33.405971  -33.405971   -70.598379   -70.648651    0 days 12:23:17  \n",
       "0   -33.433463  -33.433463   -70.649060   -70.635944    0 days 00:19:24  \n",
       "\n",
       "[24 rows x 23 columns]"
      ]
     },
     "execution_count": 60,
     "metadata": {},
     "output_type": "execute_result"
    }
   ],
   "source": [
    "test_sequence"
   ]
  },
  {
   "cell_type": "code",
   "execution_count": 11,
   "metadata": {
    "collapsed": false
   },
   "outputs": [],
   "source": [
    "latlong1 = (test_sequence_fds['lat_subida'][0],test_sequence_fds['long_subida'][0])\n",
    "latlong2 = (test_sequence_fds['lat_bajada'][0],test_sequence_fds['long_bajada'][0])"
   ]
  },
  {
   "cell_type": "code",
   "execution_count": 12,
   "metadata": {
    "collapsed": false
   },
   "outputs": [
    {
     "name": "stdout",
     "output_type": "stream",
     "text": [
      "1136.51522271\n"
     ]
    }
   ],
   "source": [
    "print(vincenty(latlong1,latlong2).meters)"
   ]
  },
  {
   "cell_type": "code",
   "execution_count": 13,
   "metadata": {
    "collapsed": false
   },
   "outputs": [
    {
     "data": {
      "text/plain": [
       "(-33.52627672709, -70.635551439884395)"
      ]
     },
     "execution_count": 13,
     "metadata": {},
     "output_type": "execute_result"
    }
   ],
   "source": [
    "latlong1"
   ]
  },
  {
   "cell_type": "code",
   "execution_count": 14,
   "metadata": {
    "collapsed": false
   },
   "outputs": [
    {
     "data": {
      "text/plain": [
       "(-33.52627672709, -70.6477859181593)"
      ]
     },
     "execution_count": 14,
     "metadata": {},
     "output_type": "execute_result"
    }
   ],
   "source": [
    "latlong2"
   ]
  },
  {
   "cell_type": "code",
   "execution_count": 16,
   "metadata": {
    "collapsed": false
   },
   "outputs": [
    {
     "name": "stdout",
     "output_type": "stream",
     "text": [
      "hjola\n"
     ]
    }
   ],
   "source": [
    "if 1<2:\n",
    "    print \"hjola\"\n",
    "elif 2<3:\n",
    "    print \"chao\""
   ]
  },
  {
   "cell_type": "code",
   "execution_count": 48,
   "metadata": {
    "collapsed": false
   },
   "outputs": [
    {
     "data": {
      "text/plain": [
       "221.22859034150613"
      ]
     },
     "execution_count": 48,
     "metadata": {},
     "output_type": "execute_result"
    }
   ],
   "source": [
    "tfe.get_traveled_distance(test_sequence)"
   ]
  },
  {
   "cell_type": "code",
   "execution_count": 49,
   "metadata": {
    "collapsed": false
   },
   "outputs": [
    {
     "data": {
      "text/plain": [
       "16.64618851242621"
      ]
     },
     "execution_count": 49,
     "metadata": {},
     "output_type": "execute_result"
    }
   ],
   "source": [
    "tfe.get_maximum_travel_distance(test_sequence)"
   ]
  },
  {
   "cell_type": "code",
   "execution_count": 66,
   "metadata": {
    "collapsed": false
   },
   "outputs": [
    {
     "data": {
      "text/plain": [
       "1.136515222708523"
      ]
     },
     "execution_count": 66,
     "metadata": {},
     "output_type": "execute_result"
    }
   ],
   "source": [
    "tfe.get_minimum_travel_distance(test_sequence)"
   ]
  },
  {
   "cell_type": "code",
   "execution_count": 92,
   "metadata": {
    "collapsed": false
   },
   "outputs": [
    {
     "data": {
      "text/plain": [
       "100.0"
      ]
     },
     "execution_count": 92,
     "metadata": {},
     "output_type": "execute_result"
    }
   ],
   "source": [
    "tfe.get_percentage_bus_exclusive_days(test_sequence)"
   ]
  },
  {
   "cell_type": "code",
   "execution_count": 93,
   "metadata": {
    "collapsed": false
   },
   "outputs": [
    {
     "data": {
      "text/plain": [
       "0.0"
      ]
     },
     "execution_count": 93,
     "metadata": {},
     "output_type": "execute_result"
    }
   ],
   "source": [
    "tfe.get_percentage_rail_exclusive_days(test_sequence)"
   ]
  },
  {
   "cell_type": "code",
   "execution_count": 99,
   "metadata": {
    "collapsed": false
   },
   "outputs": [
    {
     "data": {
      "text/plain": [
       "0"
      ]
     },
     "execution_count": 99,
     "metadata": {},
     "output_type": "execute_result"
    }
   ],
   "source": [
    "tfe.get_card_type(test_sequence)"
   ]
  },
  {
   "cell_type": "code",
   "execution_count": 100,
   "metadata": {
    "collapsed": false
   },
   "outputs": [
    {
     "data": {
      "text/plain": [
       "<module 'tfe' from 'tfe.py'>"
      ]
     },
     "execution_count": 100,
     "metadata": {},
     "output_type": "execute_result"
    }
   ],
   "source": [
    "reload(tfe)"
   ]
  },
  {
   "cell_type": "code",
   "execution_count": null,
   "metadata": {
    "collapsed": true
   },
   "outputs": [],
   "source": [
    "tfe.get_n_days_traveled(test_sequence)"
   ]
  }
 ],
 "metadata": {
  "kernelspec": {
   "display_name": "Python 2",
   "language": "python",
   "name": "python2"
  },
  "language_info": {
   "codemirror_mode": {
    "name": "ipython",
    "version": 2
   },
   "file_extension": ".py",
   "mimetype": "text/x-python",
   "name": "python",
   "nbconvert_exporter": "python",
   "pygments_lexer": "ipython2",
   "version": "2.7.11"
  }
 },
 "nbformat": 4,
 "nbformat_minor": 0
}
