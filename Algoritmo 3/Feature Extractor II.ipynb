{
 "cells": [
  {
   "cell_type": "code",
   "execution_count": 1,
   "metadata": {
    "collapsed": true
   },
   "outputs": [],
   "source": [
    "%matplotlib inline\n",
    "import matplotlib.pyplot as plt\n",
    "import time\n",
    "import datetime as dt\n",
    "import pickle\n",
    "import numpy as np\n",
    "import borrador\n",
    "from __future__ import division\n",
    "from auxiliar_functions import *\n",
    "import tfe\n",
    "from geopy.distance import vincenty"
   ]
  },
  {
   "cell_type": "markdown",
   "metadata": {},
   "source": [
    "## Funciones Auxiliares"
   ]
  },
  {
   "cell_type": "code",
   "execution_count": 33,
   "metadata": {
    "collapsed": true
   },
   "outputs": [],
   "source": [
    "#Función que filtra columnas de acuerdo a una lista de indices\n",
    "#filter_features: matrix list -> matrix\n",
    "def filter_features(vector,selected_features):\n",
    "    selected = []\n",
    "    for i in range(len(selected_features)):\n",
    "        selected.append(features_dict[selected_features[i]])\n",
    "    return vector[:,selected]"
   ]
  },
  {
   "cell_type": "code",
   "execution_count": 44,
   "metadata": {
    "collapsed": true
   },
   "outputs": [],
   "source": [
    "#Función que identifica cuantos rois comparten dos grupos de rois y cual es la minima distancia que se descarta como\n",
    "#rois compartidos\n",
    "#share_rois: list(dict) list(dict) -> [int,int]\n",
    "def share_rois(rois_a,rois_b):\n",
    "    shared = 0\n",
    "    rois = [rois_a,rois_b]\n",
    "    index = np.argmin([len(rois_a),len(rois_b)])\n",
    "    other_index = abs(index-1)\n",
    "    min_distance = -1\n",
    "    for i in range(len(rois[index])):\n",
    "        an_a_roi = rois[index][i]\n",
    "        lat_a_roi = an_a_roi['lat']\n",
    "        long_a_roi = an_a_roi['long']\n",
    "        for j in range(len(rois[other_index])):\n",
    "            an_b_roi = rois[other_index][j]\n",
    "            lat_b_roi = an_b_roi['lat']\n",
    "            long_b_roi = an_b_roi['long']\n",
    "            a_distance = vincenty((lat_a_roi,long_a_roi),(lat_b_roi,long_b_roi)).meters\n",
    "            if a_distance < 500:\n",
    "                shared +=1\n",
    "            elif min_distance == -1 or min_distance > a_distance:\n",
    "                min_distance = a_distance\n",
    "    return [shared,min_distance]"
   ]
  },
  {
   "cell_type": "code",
   "execution_count": 61,
   "metadata": {
    "collapsed": true
   },
   "outputs": [],
   "source": [
    "def compare_vectors(vector_a,vector_b,rois_a,rois_b,limit,min_shared):\n",
    "    a_matrix = np.ones((limit, limit)) * -1\n",
    "    init_time = time.time()\n",
    "    shared = []\n",
    "    for i in range(limit):\n",
    "        rois_abril = rois_a[i]\n",
    "        for j in range(limit):\n",
    "            rois_septiembre = rois_b[j]\n",
    "            min_shared_x = min(len(rois_abril),len(rois_septiembre),min_shared)\n",
    "            share_RoIs,min_distance_not_shared = share_rois(rois_abril[0],rois_septiembre[0])\n",
    "            shared.append(share_RoIs)\n",
    "            if share_RoIs >= min_shared_x:\n",
    "                a_sequence = vector_a[i]\n",
    "                b_sequence = vector_b[j]\n",
    "                dist = np.linalg.norm(np.asarray(a_sequence)-np.asarray(b_sequence))\n",
    "                a_matrix[i,j] = -dist\n",
    "    delta_time = time.time() - init_time\n",
    "    print delta_time\n",
    "    return a_matrix"
   ]
  },
  {
   "cell_type": "code",
   "execution_count": null,
   "metadata": {
    "collapsed": true
   },
   "outputs": [],
   "source": [
    "def get_n_correct(a_matrix,limit):\n",
    "    identified_indexs = [] #almacena los indices de que secuencia fue seleccionada como match\n",
    "    wrong_indexs = [] # almacena los indices de los que se clasificaron incorrectamente\n",
    "    correct_indexs = [] # almacena los indices de los que se clasificaron correctamente\n",
    "    selected_distance = [] # almacena la distancia de los seleccionados\n",
    "    n_identified = 0\n",
    "    for i in range(limit):\n",
    "        the_index = np.argmax(a_matrix[:,i])\n",
    "        selected_distance.append(np.max(a_matrix[:,i]))\n",
    "        identified_indexs.append(the_index)\n",
    "        if(the_index!=i):\n",
    "            wrong_indexs.append(the_index)\n",
    "        else:\n",
    "            correct_indexs.append(the_index)\n",
    "            n_identified += 1\n",
    "    return [n_identified,selected_distance,wrong_indexs]\n"
   ]
  },
  {
   "cell_type": "markdown",
   "metadata": {},
   "source": [
    "## Obtener datos"
   ]
  },
  {
   "cell_type": "code",
   "execution_count": 7,
   "metadata": {
    "collapsed": false
   },
   "outputs": [],
   "source": [
    "with open('data/datos_abril_sep_sequence.pickle') as f:\n",
    "    datos_abril = pickle.load(f)\n",
    "    datos_septiembre = pickle.load(f)"
   ]
  },
  {
   "cell_type": "code",
   "execution_count": 16,
   "metadata": {
    "collapsed": false
   },
   "outputs": [],
   "source": [
    "with open('data/feature_data.pickle') as f:\n",
    "    abril_vectors = pickle.load(f)\n",
    "    septiembre_vectors = pickle.load(f)"
   ]
  },
  {
   "cell_type": "code",
   "execution_count": 42,
   "metadata": {
    "collapsed": true
   },
   "outputs": [],
   "source": [
    "with open('data/rois_meters_data.pickle') as f:\n",
    "    abril_the_rois = pickle.load(f)\n",
    "    septiembre_the_rois = pickle.load(f)"
   ]
  },
  {
   "cell_type": "code",
   "execution_count": 48,
   "metadata": {
    "collapsed": false
   },
   "outputs": [
    {
     "data": {
      "text/plain": [
       "5169"
      ]
     },
     "execution_count": 48,
     "metadata": {},
     "output_type": "execute_result"
    }
   ],
   "source": [
    "limit = np.min((len(abril_vectors),len(septiembre_vectors)))\n",
    "limit"
   ]
  },
  {
   "cell_type": "markdown",
   "metadata": {},
   "source": [
    "## Seleccionar Features para la comparación"
   ]
  },
  {
   "cell_type": "code",
   "execution_count": 31,
   "metadata": {
    "collapsed": true
   },
   "outputs": [],
   "source": [
    "features_names = [\"msal\",\"mlal\",\"kmDistance\",\"kmMaxDist\",\"kmMinDist\",\"rg\",\"unc_entropy\", \\\n",
    "    \"random_entropy\",\"p100_diff_last_origin\",\"p100_diff_first_origin\",\"card_type\",\\\n",
    "    \"start_time\",\"end_time\",\"traveled_days\",\"traveled_days_bs\",\"frequence_regularity\",\\\n",
    "    \"p100_exclusive_bus_days\",\"p100_exclusive_metro_days\",\"P100_bus_trips\"]"
   ]
  },
  {
   "cell_type": "code",
   "execution_count": 32,
   "metadata": {
    "collapsed": false
   },
   "outputs": [],
   "source": [
    "features_dict = {\"msal\":0,\"mlal\":1,\"kmDistance\":2,\"kmMaxDist\":3,\"kmMinDist\":4,\"rg\":5,\"unc_entropy\":6,\n",
    "                  \"random_entropy\":7,\"p100_diff_last_origin\":8,\"p100_diff_first_origin\":9,\"card_type\":10,\n",
    "                  \"start_time\":11,\"end_time\":12,\"traveled_days\":13,\"traveled_days_bs\":14,\"frequence_regularity\":15,\n",
    "                  \"p100_exclusive_bus_days\":16,\"p100_exclusive_metro_days\":17,\"P100_bus_trips\":18}"
   ]
  },
  {
   "cell_type": "code",
   "execution_count": 52,
   "metadata": {
    "collapsed": true
   },
   "outputs": [],
   "source": [
    "selected_features = [\"msal\",\"mlal\",\"kmDistance\",\"kmMaxDist\",\"kmMinDist\",\"rg\",\"unc_entropy\",\"random_entropy\",\\\n",
    "                     \"p100_diff_last_origin\",\"p100_diff_first_origin\",\"start_time\",\"end_time\",\\\n",
    "                     \"traveled_days\",\"frequence_regularity\",\"P100_bus_trips\"]"
   ]
  },
  {
   "cell_type": "code",
   "execution_count": 53,
   "metadata": {
    "collapsed": true
   },
   "outputs": [],
   "source": [
    "abril_selected_features = filter_features(abril_vectors,selected_features)\n",
    "septiembre_selected_features = filter_features(septiembre_vectors,selected_features)"
   ]
  },
  {
   "cell_type": "markdown",
   "metadata": {},
   "source": [
    "## Comparar"
   ]
  },
  {
   "cell_type": "code",
   "execution_count": 54,
   "metadata": {
    "collapsed": false
   },
   "outputs": [
    {
     "name": "stdout",
     "output_type": "stream",
     "text": [
      "5731.19753885\n"
     ]
    }
   ],
   "source": [
    "a_matrix = compare_vectors(abril_selected_features,septiembre_selected_features,abril_the_rois,septiembre_the_rois,limit,1)"
   ]
  },
  {
   "cell_type": "code",
   "execution_count": 55,
   "metadata": {
    "collapsed": false
   },
   "outputs": [
    {
     "data": {
      "text/plain": [
       "95.51995898083332"
      ]
     },
     "execution_count": 55,
     "metadata": {},
     "output_type": "execute_result"
    }
   ],
   "source": [
    "5731.19753885/60\n"
   ]
  },
  {
   "cell_type": "code",
   "execution_count": 56,
   "metadata": {
    "collapsed": true
   },
   "outputs": [],
   "source": [
    "n_identified,selected_distance,wrong_indexs = get_n_correct(a_matrix,limit)"
   ]
  },
  {
   "cell_type": "code",
   "execution_count": 57,
   "metadata": {
    "collapsed": false
   },
   "outputs": [
    {
     "name": "stdout",
     "output_type": "stream",
     "text": [
      "20.08%\n"
     ]
    }
   ],
   "source": [
    "porcentaje_correcto = n_identified*100/limit\n",
    "print str(round(porcentaje_correcto,2))+ \"%\""
   ]
  },
  {
   "cell_type": "code",
   "execution_count": 58,
   "metadata": {
    "collapsed": true
   },
   "outputs": [],
   "source": [
    "counter = []\n",
    "for i in range(limit):\n",
    "    #contar con cuantos comparte cada secuencia\n",
    "    count = sum(x != -1 for x in a_matrix[i,:])\n",
    "    counter.append(count)"
   ]
  },
  {
   "cell_type": "markdown",
   "metadata": {},
   "source": [
    "Hay rois que son muy compartidos, por tanto quizás convenga ser más exigentes"
   ]
  },
  {
   "cell_type": "code",
   "execution_count": 60,
   "metadata": {
    "collapsed": false
   },
   "outputs": [
    {
     "data": {
      "text/plain": [
       "(array([ 4.,  0.,  4., ...,  0.,  0.,  1.]),\n",
       " array([  1.00000000e+00,   2.11037344e+00,   3.22074689e+00, ...,\n",
       "          1.33677925e+03,   1.33788963e+03,   1.33900000e+03]),\n",
       " <a list of 1205 Patch objects>)"
      ]
     },
     "execution_count": 60,
     "metadata": {},
     "output_type": "execute_result"
    },
    {
     "data": {
      "image/png": "[encoded data removed]",
      "text/plain": [
       "<matplotlib.figure.Figure at 0x7f2a0d349990>"
      ]
     },
     "metadata": {},
     "output_type": "display_data"
    }
   ],
   "source": [
    "plt.hist(counter,1205)"
   ]
  },
  {
   "cell_type": "code",
   "execution_count": null,
   "metadata": {
    "collapsed": true
   },
   "outputs": [],
   "source": [
    "a_matrix = compare_vectors(abril_selected_features,septiembre_selected_features,abril_the_rois,septiembre_the_rois,limit,2)"
   ]
  },
  {
   "cell_type": "code",
   "execution_count": null,
   "metadata": {
    "collapsed": true
   },
   "outputs": [],
   "source": [
    "n_identified_2,selected_distance_2,wrong_indexs_2 = get_n_correct(a_matrix,limit)"
   ]
  },
  {
   "cell_type": "code",
   "execution_count": null,
   "metadata": {
    "collapsed": true
   },
   "outputs": [],
   "source": []
  }
 ],
 "metadata": {
  "kernelspec": {
   "display_name": "Python 2",
   "language": "python",
   "name": "python2"
  },
  "language_info": {
   "codemirror_mode": {
    "name": "ipython",
    "version": 2
   },
   "file_extension": ".py",
   "mimetype": "text/x-python",
   "name": "python",
   "nbconvert_exporter": "python",
   "pygments_lexer": "ipython2",
   "version": "2.7.11"
  }
 },
 "nbformat": 4,
 "nbformat_minor": 0
}
