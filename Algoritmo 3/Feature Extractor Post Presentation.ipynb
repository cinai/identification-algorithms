{
 "cells": [
  {
   "cell_type": "markdown",
   "metadata": {},
   "source": [
    "## Importar lo importante"
   ]
  },
  {
   "cell_type": "code",
   "execution_count": 1,
   "metadata": {
    "collapsed": true
   },
   "outputs": [],
   "source": [
    "%matplotlib inline\n",
    "import matplotlib.pyplot as plt\n",
    "import time\n",
    "import datetime as dt\n",
    "import pickle\n",
    "import numpy as np\n",
    "import borrador\n",
    "from __future__ import division\n",
    "from auxiliar_functions import *\n",
    "import tfe\n",
    "from geopy.distance import vincenty\n",
    "from itertools import chain, combinations\n",
    "import random\n",
    "import scipy as sp"
   ]
  },
  {
   "cell_type": "markdown",
   "metadata": {},
   "source": [
    "## Funciones Auxiliares"
   ]
  },
  {
   "cell_type": "code",
   "execution_count": 2,
   "metadata": {
    "collapsed": true
   },
   "outputs": [],
   "source": [
    "#Función que filtra columnas de acuerdo a una lista de indices\n",
    "#filter_features: matrix list -> matrix\n",
    "def filter_features(vector,selected_features):\n",
    "    selected = []\n",
    "    for i in range(len(selected_features)):\n",
    "        selected.append(features_dict[selected_features[i]])\n",
    "    return vector[:,selected]"
   ]
  },
  {
   "cell_type": "code",
   "execution_count": 3,
   "metadata": {
    "collapsed": true
   },
   "outputs": [],
   "source": [
    "def only_one_match_home_and_work(limit,shared_rois):\n",
    "    a_matrix = np.ones((limit, limit)) * -1\n",
    "    init_time = time.time()\n",
    "    for i in range(limit):\n",
    "        neighbours = get_neighbours_index(shared_rois,i,2)\n",
    "        if len(neighbours) > 0:\n",
    "            if len(neighbours) == 1:\n",
    "                a_matrix[i,neighbours[0]] = 0\n",
    "    delta_time = time.time() - init_time\n",
    "    print delta_time\n",
    "    return a_matrix"
   ]
  },
  {
   "cell_type": "code",
   "execution_count": 6,
   "metadata": {
    "collapsed": true
   },
   "outputs": [],
   "source": [
    "def random_match_home_and_work(limit,shared_rois):\n",
    "    a_matrix = np.ones((limit, limit)) * -1\n",
    "    init_time = time.time()\n",
    "    for i in range(limit):\n",
    "        neighbours = get_neighbours_index(shared_rois,i,2)\n",
    "        n_neighbours = len(neighbours)\n",
    "        if n_neighbours > 0:\n",
    "            if n_neighbours == 1:\n",
    "                a_matrix[i,neighbours[0]] = 0\n",
    "            else:\n",
    "                random_neighbour = random.choice(neighbours)\n",
    "                a_matrix[i,random_neighbour] = 0\n",
    "    delta_time = time.time() - init_time\n",
    "    print delta_time\n",
    "    return a_matrix"
   ]
  },
  {
   "cell_type": "code",
   "execution_count": 339,
   "metadata": {
    "collapsed": true
   },
   "outputs": [],
   "source": [
    "def compare_vectors_with_neighbours(vector_a,vector_b,rois_a,rois_b,shared_rois,limit,min_shared,f_normalizar,f_distancia):\n",
    "    a_matrix = np.ones((limit, limit)) * -1\n",
    "    init_time = time.time()\n",
    "    for i in range(limit):\n",
    "        #print \"Usuario \",i\n",
    "        rois_abril = rois_a[i]\n",
    "        neighbours = get_neighbours_index(rois_abril,shared_rois,i,min_shared)\n",
    "        if len(neighbours) > 0:\n",
    "            if len(neighbours) == 1:\n",
    "                a_matrix[i,neighbours[0]] = 0\n",
    "            else:\n",
    "                a_sequence = vector_a[i,:]\n",
    "                b_sequences = vector_b[neighbours,:]\n",
    "                ab_sequences = np.vstack((a_sequence,b_sequences))\n",
    "                for j in range(ab_sequences.shape[1]):\n",
    "                    ab_sequences[:,j] = f_normalizar(ab_sequences[:,j])\n",
    "                counter = 0\n",
    "                for neighbour in neighbours:\n",
    "                    dist = f_distancia(np.asarray(ab_sequences[0,:]),np.asarray(ab_sequences[counter+1,:]))\n",
    "                    a_matrix[i,neighbour] = -dist\n",
    "                    counter += 1\n",
    "    delta_time = time.time() - init_time\n",
    "    print delta_time\n",
    "    return a_matrix"
   ]
  },
  {
   "cell_type": "code",
   "execution_count": 297,
   "metadata": {
    "collapsed": false
   },
   "outputs": [
    {
     "data": {
      "text/plain": [
       "array([1829, 2110, 2712, 3271, 4424])"
      ]
     },
     "execution_count": 297,
     "metadata": {},
     "output_type": "execute_result"
    }
   ],
   "source": [
    "neighburs = get_neighbours_index(shared_rois,1829,2)\n",
    "neighburs"
   ]
  },
  {
   "cell_type": "code",
   "execution_count": 298,
   "metadata": {
    "collapsed": false
   },
   "outputs": [
    {
     "data": {
      "text/html": [
       "<div>\n",
       "<table border=\"1\" class=\"dataframe\">\n",
       "  <thead>\n",
       "    <tr style=\"text-align: right;\">\n",
       "      <th></th>\n",
       "      <th>0</th>\n",
       "      <th>1</th>\n",
       "      <th>2</th>\n",
       "      <th>3</th>\n",
       "      <th>4</th>\n",
       "      <th>5</th>\n",
       "      <th>6</th>\n",
       "      <th>7</th>\n",
       "      <th>8</th>\n",
       "      <th>9</th>\n",
       "      <th>10</th>\n",
       "      <th>11</th>\n",
       "      <th>12</th>\n",
       "      <th>13</th>\n",
       "      <th>14</th>\n",
       "      <th>15</th>\n",
       "      <th>16</th>\n",
       "    </tr>\n",
       "  </thead>\n",
       "  <tbody>\n",
       "    <tr>\n",
       "      <th>0</th>\n",
       "      <td>0.768005</td>\n",
       "      <td>0.234478</td>\n",
       "      <td>0.107873</td>\n",
       "      <td>0.268945</td>\n",
       "      <td>0.236329</td>\n",
       "      <td>0.184279</td>\n",
       "      <td>0.279562</td>\n",
       "      <td>0.135152</td>\n",
       "      <td>0.285714</td>\n",
       "      <td>0.371429</td>\n",
       "      <td>0.518907</td>\n",
       "      <td>0.157296</td>\n",
       "      <td>0.428571</td>\n",
       "      <td>0.333333</td>\n",
       "      <td>0.5</td>\n",
       "      <td>0.00</td>\n",
       "      <td>0.789474</td>\n",
       "    </tr>\n",
       "    <tr>\n",
       "      <th>1</th>\n",
       "      <td>0.170092</td>\n",
       "      <td>0.256958</td>\n",
       "      <td>0.141095</td>\n",
       "      <td>0.312517</td>\n",
       "      <td>0.822196</td>\n",
       "      <td>0.247446</td>\n",
       "      <td>0.124270</td>\n",
       "      <td>0.000000</td>\n",
       "      <td>0.428571</td>\n",
       "      <td>0.550000</td>\n",
       "      <td>0.134181</td>\n",
       "      <td>0.122713</td>\n",
       "      <td>0.000000</td>\n",
       "      <td>0.000000</td>\n",
       "      <td>0.0</td>\n",
       "      <td>0.00</td>\n",
       "      <td>0.544737</td>\n",
       "    </tr>\n",
       "    <tr>\n",
       "      <th>2</th>\n",
       "      <td>0.000000</td>\n",
       "      <td>0.356958</td>\n",
       "      <td>0.050553</td>\n",
       "      <td>0.115478</td>\n",
       "      <td>0.375303</td>\n",
       "      <td>0.245689</td>\n",
       "      <td>0.270979</td>\n",
       "      <td>0.171268</td>\n",
       "      <td>0.428571</td>\n",
       "      <td>0.800000</td>\n",
       "      <td>0.273788</td>\n",
       "      <td>0.000000</td>\n",
       "      <td>0.000000</td>\n",
       "      <td>0.333333</td>\n",
       "      <td>0.0</td>\n",
       "      <td>0.25</td>\n",
       "      <td>0.605263</td>\n",
       "    </tr>\n",
       "    <tr>\n",
       "      <th>3</th>\n",
       "      <td>0.129063</td>\n",
       "      <td>0.025692</td>\n",
       "      <td>0.878229</td>\n",
       "      <td>0.790451</td>\n",
       "      <td>0.003350</td>\n",
       "      <td>0.772343</td>\n",
       "      <td>0.421315</td>\n",
       "      <td>0.262650</td>\n",
       "      <td>0.000000</td>\n",
       "      <td>0.085714</td>\n",
       "      <td>0.122805</td>\n",
       "      <td>0.118542</td>\n",
       "      <td>0.428571</td>\n",
       "      <td>0.000000</td>\n",
       "      <td>0.0</td>\n",
       "      <td>0.00</td>\n",
       "      <td>0.759144</td>\n",
       "    </tr>\n",
       "    <tr>\n",
       "      <th>4</th>\n",
       "      <td>0.225940</td>\n",
       "      <td>0.000000</td>\n",
       "      <td>0.088745</td>\n",
       "      <td>0.316488</td>\n",
       "      <td>0.000000</td>\n",
       "      <td>0.196454</td>\n",
       "      <td>0.320780</td>\n",
       "      <td>0.171268</td>\n",
       "      <td>0.428571</td>\n",
       "      <td>0.228571</td>\n",
       "      <td>0.326611</td>\n",
       "      <td>0.220585</td>\n",
       "      <td>0.428571</td>\n",
       "      <td>0.333333</td>\n",
       "      <td>1.0</td>\n",
       "      <td>0.00</td>\n",
       "      <td>1.000000</td>\n",
       "    </tr>\n",
       "    <tr>\n",
       "      <th>5</th>\n",
       "      <td>0.631294</td>\n",
       "      <td>0.098044</td>\n",
       "      <td>0.000000</td>\n",
       "      <td>0.000000</td>\n",
       "      <td>0.236841</td>\n",
       "      <td>0.000000</td>\n",
       "      <td>0.000000</td>\n",
       "      <td>0.000000</td>\n",
       "      <td>0.028571</td>\n",
       "      <td>0.000000</td>\n",
       "      <td>0.000000</td>\n",
       "      <td>0.105401</td>\n",
       "      <td>0.142857</td>\n",
       "      <td>0.333333</td>\n",
       "      <td>0.0</td>\n",
       "      <td>1.00</td>\n",
       "      <td>0.000000</td>\n",
       "    </tr>\n",
       "  </tbody>\n",
       "</table>\n",
       "</div>"
      ],
      "text/plain": [
       "         0         1         2         3         4         5         6   \\\n",
       "0  0.768005  0.234478  0.107873  0.268945  0.236329  0.184279  0.279562   \n",
       "1  0.170092  0.256958  0.141095  0.312517  0.822196  0.247446  0.124270   \n",
       "2  0.000000  0.356958  0.050553  0.115478  0.375303  0.245689  0.270979   \n",
       "3  0.129063  0.025692  0.878229  0.790451  0.003350  0.772343  0.421315   \n",
       "4  0.225940  0.000000  0.088745  0.316488  0.000000  0.196454  0.320780   \n",
       "5  0.631294  0.098044  0.000000  0.000000  0.236841  0.000000  0.000000   \n",
       "\n",
       "         7         8         9         10        11        12        13   14  \\\n",
       "0  0.135152  0.285714  0.371429  0.518907  0.157296  0.428571  0.333333  0.5   \n",
       "1  0.000000  0.428571  0.550000  0.134181  0.122713  0.000000  0.000000  0.0   \n",
       "2  0.171268  0.428571  0.800000  0.273788  0.000000  0.000000  0.333333  0.0   \n",
       "3  0.262650  0.000000  0.085714  0.122805  0.118542  0.428571  0.000000  0.0   \n",
       "4  0.171268  0.428571  0.228571  0.326611  0.220585  0.428571  0.333333  1.0   \n",
       "5  0.000000  0.028571  0.000000  0.000000  0.105401  0.142857  0.333333  0.0   \n",
       "\n",
       "     15        16  \n",
       "0  0.00  0.789474  \n",
       "1  0.00  0.544737  \n",
       "2  0.25  0.605263  \n",
       "3  0.00  0.759144  \n",
       "4  0.00  1.000000  \n",
       "5  1.00  0.000000  "
      ]
     },
     "execution_count": 298,
     "metadata": {},
     "output_type": "execute_result"
    }
   ],
   "source": [
    "neighburs = get_neighbours_index(shared_rois,1829,2)\n",
    "i = 1829\n",
    "a_sequence = abril_selected_features[i,:]\n",
    "b_sequences = septiembre_selected_features[neighburs,:]\n",
    "ab_sequences = np.vstack((a_sequence,b_sequences))\n",
    "for i in range(ab_sequences.shape[1]):\n",
    "    ab_sequences[:,i] = normalizar(ab_sequences[:,i])\n",
    "pd.DataFrame(ab_sequences)"
   ]
  },
  {
   "cell_type": "code",
   "execution_count": 299,
   "metadata": {
    "collapsed": false
   },
   "outputs": [
    {
     "name": "stdout",
     "output_type": "stream",
     "text": [
      "-1.24772003022\n",
      "-1.21455669278\n",
      "-1.56121688142\n",
      "-0.886884446948\n",
      "-1.63786205831\n"
     ]
    }
   ],
   "source": [
    "counter = 0\n",
    "for neighbour in neighburs:\n",
    "    dist = sp.spatial.distance.euclidean(np.asarray(ab_sequences[0,:]),np.asarray(ab_sequences[counter+1,:]))\n",
    "    print -dist\n",
    "    counter += 1"
   ]
  },
  {
   "cell_type": "code",
   "execution_count": 300,
   "metadata": {
    "collapsed": false
   },
   "outputs": [
    {
     "name": "stdout",
     "output_type": "stream",
     "text": [
      "-1.24772003022\n",
      "-1.21455669278\n",
      "-1.56121688142\n",
      "-0.886884446948\n",
      "-1.63786205831\n"
     ]
    }
   ],
   "source": [
    "counter = 0\n",
    "for neighbour in neighburs:\n",
    "    dist = abs(np.linalg.norm(np.asarray(ab_sequences[0,:])-np.asarray(ab_sequences[counter+1,:])))\n",
    "    print -dist\n",
    "    counter += 1"
   ]
  },
  {
   "cell_type": "code",
   "execution_count": 301,
   "metadata": {
    "collapsed": false
   },
   "outputs": [
    {
     "name": "stdout",
     "output_type": "stream",
     "text": [
      "-1.24772003022\n",
      "-1.21455669278\n",
      "-1.56121688142\n",
      "-0.886884446948\n",
      "-1.63786205831\n"
     ]
    }
   ],
   "source": [
    "counter = 0\n",
    "for neighbour in neighburs:\n",
    "    dist = abs(np.linalg.norm(np.asarray(ab_sequences[0,:])-np.asarray(ab_sequences[counter+1,:])))\n",
    "    print -dist\n",
    "    counter += 1"
   ]
  },
  {
   "cell_type": "code",
   "execution_count": 302,
   "metadata": {
    "collapsed": false
   },
   "outputs": [
    {
     "data": {
      "text/plain": [
       "(5, 19)"
      ]
     },
     "execution_count": 302,
     "metadata": {},
     "output_type": "execute_result"
    }
   ],
   "source": [
    "np.vstack((septiembre_vectors[0],septiembre_vectors[[1,2,3,4]])).shape"
   ]
  },
  {
   "cell_type": "code",
   "execution_count": 10,
   "metadata": {
    "collapsed": true
   },
   "outputs": [],
   "source": [
    "def get_n_correct(a_matrix,limit):\n",
    "    identified_indexs = [] #almacena los indices de que secuencia fue seleccionada como match\n",
    "    wrong_indexs = [] # almacena los indices de los que se clasificaron incorrectamente\n",
    "    correct_indexs = [] # almacena los indices de los que se clasificaron correctamente\n",
    "    selected_distance = [] # almacena la distancia de los seleccionados\n",
    "    abstenidos = []\n",
    "    n_identified = 0\n",
    "    for i in range(limit):\n",
    "        the_index = np.argmax(a_matrix[:,i])\n",
    "        selected_distance.append(a_matrix[the_index,i])\n",
    "        identified_indexs.append(the_index)\n",
    "        if a_matrix[the_index,i] == -1:\n",
    "            abstenidos.append(the_index)\n",
    "        elif(the_index!=i):\n",
    "            wrong_indexs.append(the_index)\n",
    "        else:\n",
    "            correct_indexs.append(the_index)\n",
    "            n_identified += 1\n",
    "    return [n_identified,selected_distance,identified_indexs,abstenidos]\n"
   ]
  },
  {
   "cell_type": "code",
   "execution_count": 235,
   "metadata": {
    "collapsed": true
   },
   "outputs": [],
   "source": [
    "#normalizar: [float] -> [float(0,1)]\n",
    "#Normalizacion mayor menor\n",
    "def normalizar(vector):\n",
    "    a_max = np.max(vector)\n",
    "    a_min = np.min(vector)\n",
    "    if a_max == 0 and a_min == 0:\n",
    "        return vector\n",
    "    #if a_max == 0:\n",
    "     #   a_max= a_min*0.0000001\n",
    "    for i in range(len(vector)):\n",
    "        vector[i] = (vector[i] - a_min)/a_max\n",
    "    return vector    "
   ]
  },
  {
   "cell_type": "code",
   "execution_count": 330,
   "metadata": {
    "collapsed": true
   },
   "outputs": [],
   "source": [
    "#get_neighbours_index: np.matrix int -> np.array\n",
    "#obtiene los vecinos del usuario \"user\",\n",
    "#considerando como vecino a quien comparte dos ubicaciones\n",
    "def get_neighbours_index(rois_a,shared_rois,user,min_shared):\n",
    "    min_shared_x = min(len(rois_a),min_shared)\n",
    "    neighbours = np.where(shared_rois[user] >= min_shared_x)\n",
    "    return neighbours[0]"
   ]
  },
  {
   "cell_type": "markdown",
   "metadata": {},
   "source": [
    "## Obtener datos"
   ]
  },
  {
   "cell_type": "code",
   "execution_count": 14,
   "metadata": {
    "collapsed": true
   },
   "outputs": [],
   "source": [
    "with open('data/shared_rois.pickle') as f:\n",
    "    shared_rois = pickle.load(f)"
   ]
  },
  {
   "cell_type": "code",
   "execution_count": 36,
   "metadata": {
    "collapsed": false
   },
   "outputs": [],
   "source": [
    "with open('data/Distancia_Euclideana/features.pickle') as f:\n",
    "    abril_vectors = pickle.load(f)\n",
    "    septiembre_vectors = pickle.load(f)"
   ]
  },
  {
   "cell_type": "code",
   "execution_count": 40,
   "metadata": {
    "collapsed": true
   },
   "outputs": [],
   "source": [
    "with open('data/rois_meters_data.pickle') as f:\n",
    "    abril_the_rois = pickle.load(f)\n",
    "    septiembre_the_rois = pickle.load(f)"
   ]
  },
  {
   "cell_type": "code",
   "execution_count": 41,
   "metadata": {
    "collapsed": false
   },
   "outputs": [
    {
     "data": {
      "text/plain": [
       "5169"
      ]
     },
     "execution_count": 41,
     "metadata": {},
     "output_type": "execute_result"
    }
   ],
   "source": [
    "limit = np.min((len(abril_vectors),len(septiembre_vectors)))\n",
    "limit"
   ]
  },
  {
   "cell_type": "code",
   "execution_count": 327,
   "metadata": {
    "collapsed": false
   },
   "outputs": [
    {
     "name": "stdout",
     "output_type": "stream",
     "text": [
      "% de tarjetas que comparten un roi en ambos meses:  93.38%\n",
      "% de tarjetas que comparten dos roi en ambos meses:  54.85%\n"
     ]
    }
   ],
   "source": [
    "shared_1_rois_2_month = 0\n",
    "shared_2_rois_2_month = 0\n",
    "for i in range(limit):\n",
    "    if shared_rois[i,i] > 0:\n",
    "        shared_1_rois_2_month += 1\n",
    "    if shared_rois[i,i] > 1:\n",
    "        shared_2_rois_2_month += 1\n",
    "print \"% de tarjetas que comparten un roi en ambos meses:\",str(round(shared_1_rois_2_month*100/limit,2)) + \"%\"\n",
    "print \"% de tarjetas que comparten dos roi en ambos meses:\", str(round(shared_2_rois_2_month*100/limit,2)) + \"%\""
   ]
  },
  {
   "cell_type": "markdown",
   "metadata": {},
   "source": [
    "### Histograma cantidad de vecinos de hogar y trabajo (2 rois) entre abril y septiembre"
   ]
  },
  {
   "cell_type": "code",
   "execution_count": 73,
   "metadata": {
    "collapsed": false
   },
   "outputs": [],
   "source": [
    "n_of_neighbours = []\n",
    "for i in range(limit):\n",
    "    n_of_neighbours.append(len(get_neighbours_index(shared_rois,i,2)))"
   ]
  },
  {
   "cell_type": "code",
   "execution_count": 74,
   "metadata": {
    "collapsed": false
   },
   "outputs": [
    {
     "data": {
      "text/plain": [
       "(array([ 1051.,  1642.,   808.,   431.,   263.,   191.,   116.,    91.,\n",
       "          117.]),\n",
       " array([0, 1, 2, 3, 4, 5, 6, 7, 8, 9]),\n",
       " <a list of 9 Patch objects>)"
      ]
     },
     "execution_count": 74,
     "metadata": {},
     "output_type": "execute_result"
    },
    {
     "data": {
      "image/png": "[encoded data removed]",
      "text/plain": [
       "<matplotlib.figure.Figure at 0x7fcc24ccb450>"
      ]
     },
     "metadata": {},
     "output_type": "display_data"
    }
   ],
   "source": [
    "plt.hist(n_of_neighbours,range(10))"
   ]
  },
  {
   "cell_type": "markdown",
   "metadata": {},
   "source": [
    "### Histograma cantidad de vecinos de hogar y trabajo (2 rois) entre abril y septiembre"
   ]
  },
  {
   "cell_type": "code",
   "execution_count": 328,
   "metadata": {
    "collapsed": false
   },
   "outputs": [],
   "source": [
    "n10_of_neighbours = filter(lambda x: x>9,n_of_neighbours)"
   ]
  },
  {
   "cell_type": "code",
   "execution_count": 329,
   "metadata": {
    "collapsed": false
   },
   "outputs": [
    {
     "data": {
      "text/plain": [
       "(array([ 269.,  109.,   36.,    8.,    8.,    8.,    5.,    4.,    1.,\n",
       "           0.,    0.,    1.,    2.,    1.,    0.,    0.,    0.,    0.,\n",
       "           1.,    0.,    2.,    0.,    0.,    1.,    1.,    0.,    1.,\n",
       "           0.,    0.,    1.]),\n",
       " array([  10.        ,   19.06666667,   28.13333333,   37.2       ,\n",
       "          46.26666667,   55.33333333,   64.4       ,   73.46666667,\n",
       "          82.53333333,   91.6       ,  100.66666667,  109.73333333,\n",
       "         118.8       ,  127.86666667,  136.93333333,  146.        ,\n",
       "         155.06666667,  164.13333333,  173.2       ,  182.26666667,\n",
       "         191.33333333,  200.4       ,  209.46666667,  218.53333333,\n",
       "         227.6       ,  236.66666667,  245.73333333,  254.8       ,\n",
       "         263.86666667,  272.93333333,  282.        ]),\n",
       " <a list of 30 Patch objects>)"
      ]
     },
     "execution_count": 329,
     "metadata": {},
     "output_type": "execute_result"
    },
    {
     "data": {
      "image/png": "[encoded data removed]",
      "text/plain": [
       "<matplotlib.figure.Figure at 0x7fcc24522450>"
      ]
     },
     "metadata": {},
     "output_type": "display_data"
    }
   ],
   "source": [
    "plt.hist(n10_of_neighbours,30)"
   ]
  },
  {
   "cell_type": "markdown",
   "metadata": {},
   "source": [
    "## Seleccionar Features para la comparación"
   ]
  },
  {
   "cell_type": "code",
   "execution_count": 139,
   "metadata": {
    "collapsed": true
   },
   "outputs": [],
   "source": [
    "features_names = [\"msal\",\"mlal\",\"kmDistance\",\"kmMaxDist\",\"kmMinDist\",\"rg\",\"unc_entropy\", \\\n",
    "    \"random_entropy\",\"p100_diff_last_origin\",\"p100_diff_first_origin\",\"card_type\",\\\n",
    "    \"start_time\",\"end_time\",\"traveled_days\",\"traveled_days_bs\",\"frequence_regularity\",\\\n",
    "    \"p100_exclusive_bus_days\",\"p100_exclusive_metro_days\",\"P100_bus_trips\"]"
   ]
  },
  {
   "cell_type": "code",
   "execution_count": 140,
   "metadata": {
    "collapsed": true
   },
   "outputs": [],
   "source": [
    "features_dict = {\"msal\":0,\"mlal\":1,\"kmDistance\":2,\"kmMaxDist\":3,\"kmMinDist\":4,\"rg\":5,\"unc_entropy\":6,\n",
    "                  \"random_entropy\":7,\"p100_diff_last_origin\":8,\"p100_diff_first_origin\":9,\"card_type\":10,\n",
    "                  \"start_time\":11,\"end_time\":12,\"traveled_days\":13,\"traveled_days_bs\":14,\"frequence_regularity\":15,\n",
    "                  \"p100_exclusive_bus_days\":16,\"p100_exclusive_metro_days\":17,\"P100_bus_trips\":18}"
   ]
  },
  {
   "cell_type": "code",
   "execution_count": 141,
   "metadata": {
    "collapsed": true
   },
   "outputs": [],
   "source": [
    "selected_features = [\"msal\",\"mlal\",\"kmDistance\",\"kmMaxDist\",\"kmMinDist\",\"rg\",\"unc_entropy\", \\\n",
    "    \"random_entropy\",\"p100_diff_last_origin\",\"p100_diff_first_origin\",\\\n",
    "    \"start_time\",\"end_time\",\"traveled_days\",\"frequence_regularity\",\\\n",
    "    \"p100_exclusive_bus_days\",\"p100_exclusive_metro_days\",\"P100_bus_trips\"]\n"
   ]
  },
  {
   "cell_type": "code",
   "execution_count": 142,
   "metadata": {
    "collapsed": true
   },
   "outputs": [],
   "source": [
    "#selected_features = features_names"
   ]
  },
  {
   "cell_type": "code",
   "execution_count": 143,
   "metadata": {
    "collapsed": false
   },
   "outputs": [
    {
     "data": {
      "text/plain": [
       "17"
      ]
     },
     "execution_count": 143,
     "metadata": {},
     "output_type": "execute_result"
    }
   ],
   "source": [
    "len(selected_features)"
   ]
  },
  {
   "cell_type": "code",
   "execution_count": 144,
   "metadata": {
    "collapsed": true
   },
   "outputs": [],
   "source": [
    "abril_selected_features = filter_features(abril_vectors,selected_features)\n",
    "septiembre_selected_features = filter_features(septiembre_vectors,selected_features)"
   ]
  },
  {
   "cell_type": "markdown",
   "metadata": {},
   "source": [
    "## Normalizar con respecto a los vecinos"
   ]
  },
  {
   "cell_type": "code",
   "execution_count": 145,
   "metadata": {
    "collapsed": false
   },
   "outputs": [
    {
     "data": {
      "text/plain": [
       "(5169, 17)"
      ]
     },
     "execution_count": 145,
     "metadata": {},
     "output_type": "execute_result"
    }
   ],
   "source": [
    "abril_selected_features.shape"
   ]
  },
  {
   "cell_type": "markdown",
   "metadata": {},
   "source": [
    "## Hacer las comparaciones"
   ]
  },
  {
   "cell_type": "markdown",
   "metadata": {},
   "source": [
    "### Seleccionar solo los que se tiene un match"
   ]
  },
  {
   "cell_type": "code",
   "execution_count": 146,
   "metadata": {
    "collapsed": false
   },
   "outputs": [
    {
     "name": "stdout",
     "output_type": "stream",
     "text": [
      "0.0594351291656\n"
     ]
    }
   ],
   "source": [
    "a_matrix_unique_match = only_one_match_home_and_work(limit,shared_rois)"
   ]
  },
  {
   "cell_type": "code",
   "execution_count": 147,
   "metadata": {
    "collapsed": true
   },
   "outputs": [],
   "source": [
    "n_identified_unique_match,selected_distance_unique_match,identified_indexs_unique_match,abstenidos_unique_match = get_n_correct(a_matrix_unique_match,limit)"
   ]
  },
  {
   "cell_type": "code",
   "execution_count": 148,
   "metadata": {
    "collapsed": false
   },
   "outputs": [
    {
     "name": "stdout",
     "output_type": "stream",
     "text": [
      "21.88%\n"
     ]
    }
   ],
   "source": [
    "porcentaje_correcto_unique_match = n_identified_unique_match*100/limit\n",
    "print str(round(porcentaje_correcto_unique_match,2))+ \"%\""
   ]
  },
  {
   "cell_type": "markdown",
   "metadata": {},
   "source": [
    "### Seleccionar randommente entre los vecinos que matchean hogar y trabajo"
   ]
  },
  {
   "cell_type": "code",
   "execution_count": 198,
   "metadata": {
    "collapsed": false
   },
   "outputs": [
    {
     "name": "stdout",
     "output_type": "stream",
     "text": [
      "0.0673789978027\n"
     ]
    }
   ],
   "source": [
    "a_matrix_random_match = random_match_home_and_work(limit,shared_rois)"
   ]
  },
  {
   "cell_type": "code",
   "execution_count": 199,
   "metadata": {
    "collapsed": false
   },
   "outputs": [],
   "source": [
    "n_identified_random_match,selected_distance_random_match,identified_indexs_random_match,abstenidos_random_match = get_n_correct(a_matrix_random_match,limit)"
   ]
  },
  {
   "cell_type": "code",
   "execution_count": 200,
   "metadata": {
    "collapsed": false
   },
   "outputs": [
    {
     "name": "stdout",
     "output_type": "stream",
     "text": [
      "28.86%\n"
     ]
    }
   ],
   "source": [
    "porcentaje_correcto_random_match = n_identified_random_match*100/limit\n",
    "print str(round(porcentaje_correcto_random_match,2))+ \"%\""
   ]
  },
  {
   "cell_type": "markdown",
   "metadata": {},
   "source": [
    "### Seleccionar con distancia euclidiana entre los vecinos"
   ]
  },
  {
   "cell_type": "code",
   "execution_count": 343,
   "metadata": {
    "collapsed": false
   },
   "outputs": [
    {
     "name": "stdout",
     "output_type": "stream",
     "text": [
      "1.16690897942\n"
     ]
    }
   ],
   "source": [
    "a_matrix = compare_vectors_with_neighbours(abril_selected_features,septiembre_selected_features,abril_the_rois,septiembre_the_rois,shared_rois,limit,2,normalizar,sp.spatial.distance.euclidean)"
   ]
  },
  {
   "cell_type": "code",
   "execution_count": 344,
   "metadata": {
    "collapsed": true
   },
   "outputs": [],
   "source": [
    "n_identified,selected_distance,identified_indexs,abstenidos = get_n_correct(a_matrix,limit)"
   ]
  },
  {
   "cell_type": "code",
   "execution_count": 345,
   "metadata": {
    "collapsed": false
   },
   "outputs": [
    {
     "name": "stdout",
     "output_type": "stream",
     "text": [
      "35.46%\n"
     ]
    }
   ],
   "source": [
    "porcentaje_correcto = n_identified*100/limit\n",
    "print str(round(porcentaje_correcto,2))+ \"%\""
   ]
  },
  {
   "cell_type": "code",
   "execution_count": 248,
   "metadata": {
    "collapsed": false
   },
   "outputs": [
    {
     "data": {
      "text/plain": [
       "3769"
      ]
     },
     "execution_count": 248,
     "metadata": {},
     "output_type": "execute_result"
    }
   ],
   "source": [
    "len(abstenidos)"
   ]
  },
  {
   "cell_type": "markdown",
   "metadata": {},
   "source": [
    "### Pruebas con diferentes distancias"
   ]
  },
  {
   "cell_type": "markdown",
   "metadata": {},
   "source": [
    "#### Euclidiana"
   ]
  },
  {
   "cell_type": "code",
   "execution_count": 346,
   "metadata": {
    "collapsed": false
   },
   "outputs": [
    {
     "name": "stdout",
     "output_type": "stream",
     "text": [
      "1.14804697037\n"
     ]
    }
   ],
   "source": [
    "a_matrix_euclidiana = compare_vectors_with_neighbours(abril_selected_features,septiembre_selected_features,abril_the_rois,septiembre_the_rois,shared_rois,limit,2,normalizar,sp.spatial.distance.euclidean)"
   ]
  },
  {
   "cell_type": "code",
   "execution_count": 347,
   "metadata": {
    "collapsed": false
   },
   "outputs": [],
   "source": [
    "n_identified,selected_distance,identified_indexs,abstenidos = get_n_correct(a_matrix_euclidiana,limit)"
   ]
  },
  {
   "cell_type": "code",
   "execution_count": 348,
   "metadata": {
    "collapsed": false
   },
   "outputs": [
    {
     "name": "stdout",
     "output_type": "stream",
     "text": [
      "35.46%\n"
     ]
    }
   ],
   "source": [
    "porcentaje_correcto = n_identified*100/limit\n",
    "print str(round(porcentaje_correcto,2))+ \"%\""
   ]
  },
  {
   "cell_type": "markdown",
   "metadata": {},
   "source": [
    "#### Manhattan"
   ]
  },
  {
   "cell_type": "code",
   "execution_count": 349,
   "metadata": {
    "collapsed": false
   },
   "outputs": [
    {
     "name": "stdout",
     "output_type": "stream",
     "text": [
      "0.955871105194\n"
     ]
    }
   ],
   "source": [
    "a_matrix_manhattan = compare_vectors_with_neighbours(abril_selected_features,septiembre_selected_features,abril_the_rois,septiembre_the_rois,shared_rois,limit,2,normalizar,sp.spatial.distance.cityblock)"
   ]
  },
  {
   "cell_type": "code",
   "execution_count": 350,
   "metadata": {
    "collapsed": true
   },
   "outputs": [],
   "source": [
    "n_identified,selected_distance,identified_indexs,abstenidos = get_n_correct(a_matrix_manhattan,limit)"
   ]
  },
  {
   "cell_type": "code",
   "execution_count": 351,
   "metadata": {
    "collapsed": false
   },
   "outputs": [
    {
     "name": "stdout",
     "output_type": "stream",
     "text": [
      "23.97%\n"
     ]
    }
   ],
   "source": [
    "porcentaje_correcto = n_identified*100/limit\n",
    "print str(round(porcentaje_correcto,2))+ \"%\""
   ]
  },
  {
   "cell_type": "markdown",
   "metadata": {},
   "source": [
    "#### braycurtis"
   ]
  },
  {
   "cell_type": "code",
   "execution_count": 352,
   "metadata": {
    "collapsed": false
   },
   "outputs": [
    {
     "name": "stdout",
     "output_type": "stream",
     "text": [
      "1.08965706825\n"
     ]
    }
   ],
   "source": [
    "a_matrix_braycurtis = compare_vectors_with_neighbours(abril_selected_features,septiembre_selected_features,abril_the_rois,septiembre_the_rois,shared_rois,limit,2,normalizar,sp.spatial.distance.braycurtis)"
   ]
  },
  {
   "cell_type": "code",
   "execution_count": 353,
   "metadata": {
    "collapsed": true
   },
   "outputs": [],
   "source": [
    "n_identified,selected_distance,identified_indexs,abstenidos = get_n_correct(a_matrix_braycurtis,limit)"
   ]
  },
  {
   "cell_type": "code",
   "execution_count": 354,
   "metadata": {
    "collapsed": false
   },
   "outputs": [
    {
     "name": "stdout",
     "output_type": "stream",
     "text": [
      "39.89%\n"
     ]
    }
   ],
   "source": [
    "porcentaje_correcto = n_identified*100/limit\n",
    "print str(round(porcentaje_correcto,2))+ \"%\""
   ]
  },
  {
   "cell_type": "markdown",
   "metadata": {},
   "source": [
    "#### hamming"
   ]
  },
  {
   "cell_type": "code",
   "execution_count": 319,
   "metadata": {
    "collapsed": false
   },
   "outputs": [
    {
     "name": "stdout",
     "output_type": "stream",
     "text": [
      "1.0786049366\n"
     ]
    }
   ],
   "source": [
    "a_matrix_hamming = compare_vectors_with_neighbours(abril_selected_features,septiembre_selected_features,abril_the_rois,septiembre_the_rois,shared_rois,limit,2,normalizar,sp.spatial.distance.hamming)"
   ]
  },
  {
   "cell_type": "code",
   "execution_count": 320,
   "metadata": {
    "collapsed": true
   },
   "outputs": [],
   "source": [
    "n_identified,selected_distance,identified_indexs,abstenidos = get_n_correct(a_matrix_hamming,limit)"
   ]
  },
  {
   "cell_type": "code",
   "execution_count": 321,
   "metadata": {
    "collapsed": false
   },
   "outputs": [
    {
     "name": "stdout",
     "output_type": "stream",
     "text": [
      "40.74%\n"
     ]
    }
   ],
   "source": [
    "porcentaje_correcto = n_identified*100/limit\n",
    "print str(round(porcentaje_correcto,2))+ \"%\""
   ]
  },
  {
   "cell_type": "markdown",
   "metadata": {},
   "source": [
    "#### chebyshev"
   ]
  },
  {
   "cell_type": "code",
   "execution_count": 322,
   "metadata": {
    "collapsed": false
   },
   "outputs": [
    {
     "name": "stdout",
     "output_type": "stream",
     "text": [
      "0.929002046585\n"
     ]
    }
   ],
   "source": [
    "a_matrix_chebyshev= compare_vectors_with_neighbours(abril_selected_features,septiembre_selected_features,abril_the_rois,septiembre_the_rois,shared_rois,limit,2,normalizar,sp.spatial.distance.chebyshev)"
   ]
  },
  {
   "cell_type": "code",
   "execution_count": 323,
   "metadata": {
    "collapsed": true
   },
   "outputs": [],
   "source": [
    "n_identified,selected_distance,identified_indexs,abstenidos = get_n_correct(a_matrix_chebyshev,limit)"
   ]
  },
  {
   "cell_type": "code",
   "execution_count": 324,
   "metadata": {
    "collapsed": false
   },
   "outputs": [
    {
     "name": "stdout",
     "output_type": "stream",
     "text": [
      "38.05%\n"
     ]
    }
   ],
   "source": [
    "porcentaje_correcto = n_identified*100/limit\n",
    "print str(round(porcentaje_correcto,2))+ \"%\""
   ]
  }
 ],
 "metadata": {
  "kernelspec": {
   "display_name": "Python 2",
   "language": "python",
   "name": "python2"
  },
  "language_info": {
   "codemirror_mode": {
    "name": "ipython",
    "version": 2
   },
   "file_extension": ".py",
   "mimetype": "text/x-python",
   "name": "python",
   "nbconvert_exporter": "python",
   "pygments_lexer": "ipython2",
   "version": "2.7.11"
  }
 },
 "nbformat": 4,
 "nbformat_minor": 0
}
