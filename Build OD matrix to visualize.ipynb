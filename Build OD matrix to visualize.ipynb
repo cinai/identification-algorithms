{
 "cells": [
  {
   "cell_type": "code",
   "execution_count": 2,
   "metadata": {
    "collapsed": false
   },
   "outputs": [],
   "source": [
    "%matplotlib inline\n",
    "import matplotlib.pyplot as plt\n",
    "import time\n",
    "import datetime as dt\n",
    "import pickle\n",
    "import numpy as np\n",
    "from itertools import chain, combinations\n",
    "import random\n",
    "import scipy as sp\n",
    "from __future__ import division\n",
    "from dict_stops import * \n",
    "import pandas as pd\n",
    "import os\n",
    "import csv"
   ]
  },
  {
   "cell_type": "code",
   "execution_count": 3,
   "metadata": {
    "collapsed": true
   },
   "outputs": [],
   "source": [
    "frame = pd.read_csv('/home/cata/Documentos/Datois/etapas_2013_abril_allyearsids_10_100000.csv')"
   ]
  },
  {
   "cell_type": "code",
   "execution_count": 4,
   "metadata": {
    "collapsed": true
   },
   "outputs": [],
   "source": [
    "if os.name == 'nt':\n",
    "    path_subway_dictionary = 'C:\\Users\\catalina\\Documents\\Datois\\Diccionario-EstacionesMetro.csv'\n",
    "    path_csv_sequences = 'C:\\Users\\catalina\\Documents\\sequences\\\\'\n",
    "else:\n",
    "    path_subway_dictionary = '/home/cata/Documentos/Datois/Diccionario-EstacionesMetro.csv'\n",
    "    path_csv_sequences = '/home/cata/Documentos/sequences/'\n",
    "\n",
    "# Función que carga las estaciones de metro\n",
    "# en un diccionario\n",
    "def load_metro_dictionary():\n",
    "    dict_metro = {}\n",
    "    with open(path_subway_dictionary,mode='r') as infile:\n",
    "        reader = csv.reader(infile,delimiter=';')\n",
    "        dict_metro = {rows[5]:rows[7] for rows in reader}\n",
    "    return dict_metro\n"
   ]
  },
  {
   "cell_type": "code",
   "execution_count": 5,
   "metadata": {
    "collapsed": true
   },
   "outputs": [],
   "source": [
    "# Función que estandariza los valores de los paraderos de subida \n",
    "# y bajada\n",
    "def update_vals(row,data = load_metro_dictionary()):\n",
    "    if row.par_subida in data:\n",
    "        row.par_subida = data[row.par_subida]\n",
    "    if row.par_bajada in data:\n",
    "        row.par_bajada = data[row.par_bajada]\n",
    "    return row"
   ]
  },
  {
   "cell_type": "code",
   "execution_count": 6,
   "metadata": {
    "collapsed": true
   },
   "outputs": [],
   "source": [
    "# Función que estandariza los valores de los paraderos de subida \n",
    "# y bajada\n",
    "def add_vals(row,latlong,paradero,data = dict_latlong_stops):\n",
    "    stop_name = row[paradero]\n",
    "    if stop_name in data:\n",
    "        return data[stop_name][latlong]\n",
    "    else :\n",
    "        return np.nan"
   ]
  },
  {
   "cell_type": "code",
   "execution_count": 7,
   "metadata": {
    "collapsed": true
   },
   "outputs": [],
   "source": [
    "def frame_config(frame):\n",
    "    frame['tiempo_subida'] = pd.to_datetime(frame.tiempo_subida)\n",
    "    frame['tiempo_bajada'] = pd.to_datetime(frame.tiempo_bajada)\n",
    "    frame = frame.apply(update_vals, axis=1)\n",
    "    frame['weekday'] = frame.tiempo_subida.dt.dayofweek\n",
    "    frame['lat_subida'] = frame.apply(add_vals,args=('lat','par_subida'),axis=1)\n",
    "    frame['lat_bajada'] = frame.apply(add_vals,args=('lat','par_bajada'),axis=1)\n",
    "    frame['long_subida'] = frame.apply(add_vals,args=('long','par_subida'),axis=1)\n",
    "    frame['long_bajada'] = frame.apply(add_vals,args=('long','par_bajada'),axis=1)\n",
    "    frame = frame.sort_values(by=['id', 'tiempo_subida'])\n",
    "    frame['diferencia_tiempo'] = (frame['tiempo_subida']-frame['tiempo_subida'].shift()).fillna(0)\n",
    "    return frame"
   ]
  },
  {
   "cell_type": "code",
   "execution_count": 8,
   "metadata": {
    "collapsed": true
   },
   "outputs": [],
   "source": [
    "def hour_to_seconds(an_hour):\n",
    "    return int(an_hour.hour*3600 + an_hour.minute *60 + an_hour.second)"
   ]
  },
  {
   "cell_type": "code",
   "execution_count": 9,
   "metadata": {
    "collapsed": true
   },
   "outputs": [],
   "source": [
    "frame = frame_config(frame)"
   ]
  },
  {
   "cell_type": "code",
   "execution_count": 10,
   "metadata": {
    "collapsed": false
   },
   "outputs": [
    {
     "data": {
      "text/html": [
       "<div>\n",
       "<table border=\"1\" class=\"dataframe\">\n",
       "  <thead>\n",
       "    <tr style=\"text-align: right;\">\n",
       "      <th></th>\n",
       "      <th>tiempo_subida</th>\n",
       "      <th>id</th>\n",
       "      <th>x_subida</th>\n",
       "      <th>y_subida</th>\n",
       "      <th>tipo_transporte</th>\n",
       "      <th>serviciosentidovariante</th>\n",
       "      <th>tipo_dia</th>\n",
       "      <th>nviaje</th>\n",
       "      <th>netapa</th>\n",
       "      <th>x_bajada</th>\n",
       "      <th>...</th>\n",
       "      <th>par_bajada</th>\n",
       "      <th>zona_subida</th>\n",
       "      <th>zona_bajada</th>\n",
       "      <th>adulto</th>\n",
       "      <th>weekday</th>\n",
       "      <th>lat_subida</th>\n",
       "      <th>lat_bajada</th>\n",
       "      <th>long_subida</th>\n",
       "      <th>long_bajada</th>\n",
       "      <th>diferencia_tiempo</th>\n",
       "    </tr>\n",
       "  </thead>\n",
       "  <tbody>\n",
       "    <tr>\n",
       "      <th>23</th>\n",
       "      <td>2013-04-14 06:45:44</td>\n",
       "      <td>1132106</td>\n",
       "      <td>348108.0</td>\n",
       "      <td>6289153.0</td>\n",
       "      <td>BUS</td>\n",
       "      <td>T203 00R</td>\n",
       "      <td>DOMINGO</td>\n",
       "      <td>1</td>\n",
       "      <td>1</td>\n",
       "      <td>346818.0</td>\n",
       "      <td>...</td>\n",
       "      <td>E-20-190-SN-40</td>\n",
       "      <td>328.0</td>\n",
       "      <td>307.0</td>\n",
       "      <td>0.0</td>\n",
       "      <td>6</td>\n",
       "      <td>-33.526277</td>\n",
       "      <td>-33.433786</td>\n",
       "      <td>-70.635551</td>\n",
       "      <td>-70.647786</td>\n",
       "      <td>0 days 00:00:00</td>\n",
       "    </tr>\n",
       "    <tr>\n",
       "      <th>22</th>\n",
       "      <td>2013-04-14 07:51:52</td>\n",
       "      <td>1132106</td>\n",
       "      <td>346751.0</td>\n",
       "      <td>6299389.0</td>\n",
       "      <td>BUS</td>\n",
       "      <td>T502 00I</td>\n",
       "      <td>DOMINGO</td>\n",
       "      <td>2</td>\n",
       "      <td>1</td>\n",
       "      <td>351363.0</td>\n",
       "      <td>...</td>\n",
       "      <td>T-15-135-PO-5</td>\n",
       "      <td>307.0</td>\n",
       "      <td>188.0</td>\n",
       "      <td>0.0</td>\n",
       "      <td>6</td>\n",
       "      <td>-33.434116</td>\n",
       "      <td>-33.406027</td>\n",
       "      <td>-70.648104</td>\n",
       "      <td>-70.598251</td>\n",
       "      <td>0 days 01:06:08</td>\n",
       "    </tr>\n",
       "    <tr>\n",
       "      <th>21</th>\n",
       "      <td>2013-04-14 19:56:47</td>\n",
       "      <td>1132106</td>\n",
       "      <td>351368.0</td>\n",
       "      <td>6302559.0</td>\n",
       "      <td>BUS</td>\n",
       "      <td>T502 00R</td>\n",
       "      <td>DOMINGO</td>\n",
       "      <td>3</td>\n",
       "      <td>1</td>\n",
       "      <td>346763.0</td>\n",
       "      <td>...</td>\n",
       "      <td>T-4-19-NS-100</td>\n",
       "      <td>188.0</td>\n",
       "      <td>55.0</td>\n",
       "      <td>0.0</td>\n",
       "      <td>6</td>\n",
       "      <td>-33.405971</td>\n",
       "      <td>-33.432332</td>\n",
       "      <td>-70.598379</td>\n",
       "      <td>-70.648651</td>\n",
       "      <td>0 days 12:04:55</td>\n",
       "    </tr>\n",
       "    <tr>\n",
       "      <th>20</th>\n",
       "      <td>2013-04-14 20:15:25</td>\n",
       "      <td>1132106</td>\n",
       "      <td>346713.0</td>\n",
       "      <td>6299427.0</td>\n",
       "      <td>BUS</td>\n",
       "      <td>T203 00I</td>\n",
       "      <td>DOMINGO</td>\n",
       "      <td>3</td>\n",
       "      <td>2</td>\n",
       "      <td>348095.0</td>\n",
       "      <td>...</td>\n",
       "      <td>T-24-205-NS-20</td>\n",
       "      <td>307.0</td>\n",
       "      <td>348.0</td>\n",
       "      <td>0.0</td>\n",
       "      <td>6</td>\n",
       "      <td>-33.433463</td>\n",
       "      <td>-33.525983</td>\n",
       "      <td>-70.649060</td>\n",
       "      <td>-70.635944</td>\n",
       "      <td>0 days 00:18:38</td>\n",
       "    </tr>\n",
       "    <tr>\n",
       "      <th>19</th>\n",
       "      <td>2013-04-15 21:04:59</td>\n",
       "      <td>1132106</td>\n",
       "      <td>348103.0</td>\n",
       "      <td>6289191.0</td>\n",
       "      <td>BUS</td>\n",
       "      <td>T206 00R</td>\n",
       "      <td>LABORAL</td>\n",
       "      <td>4</td>\n",
       "      <td>1</td>\n",
       "      <td>346844.0</td>\n",
       "      <td>...</td>\n",
       "      <td>T-20-190-SN-35</td>\n",
       "      <td>328.0</td>\n",
       "      <td>309.0</td>\n",
       "      <td>0.0</td>\n",
       "      <td>0</td>\n",
       "      <td>-33.526277</td>\n",
       "      <td>-33.434819</td>\n",
       "      <td>-70.635551</td>\n",
       "      <td>-70.647429</td>\n",
       "      <td>1 days 00:49:34</td>\n",
       "    </tr>\n",
       "  </tbody>\n",
       "</table>\n",
       "<p>5 rows × 23 columns</p>\n",
       "</div>"
      ],
      "text/plain": [
       "         tiempo_subida       id  x_subida   y_subida tipo_transporte  \\\n",
       "23 2013-04-14 06:45:44  1132106  348108.0  6289153.0             BUS   \n",
       "22 2013-04-14 07:51:52  1132106  346751.0  6299389.0             BUS   \n",
       "21 2013-04-14 19:56:47  1132106  351368.0  6302559.0             BUS   \n",
       "20 2013-04-14 20:15:25  1132106  346713.0  6299427.0             BUS   \n",
       "19 2013-04-15 21:04:59  1132106  348103.0  6289191.0             BUS   \n",
       "\n",
       "   serviciosentidovariante tipo_dia  nviaje  netapa  x_bajada  \\\n",
       "23                T203 00R  DOMINGO       1       1  346818.0   \n",
       "22                T502 00I  DOMINGO       2       1  351363.0   \n",
       "21                T502 00R  DOMINGO       3       1  346763.0   \n",
       "20                T203 00I  DOMINGO       3       2  348095.0   \n",
       "19                T206 00R  LABORAL       4       1  346844.0   \n",
       "\n",
       "          ...              par_bajada zona_subida zona_bajada adulto  weekday  \\\n",
       "23        ...          E-20-190-SN-40       328.0       307.0    0.0        6   \n",
       "22        ...           T-15-135-PO-5       307.0       188.0    0.0        6   \n",
       "21        ...           T-4-19-NS-100       188.0        55.0    0.0        6   \n",
       "20        ...          T-24-205-NS-20       307.0       348.0    0.0        6   \n",
       "19        ...          T-20-190-SN-35       328.0       309.0    0.0        0   \n",
       "\n",
       "    lat_subida  lat_bajada  long_subida  long_bajada  diferencia_tiempo  \n",
       "23  -33.526277  -33.433786   -70.635551   -70.647786    0 days 00:00:00  \n",
       "22  -33.434116  -33.406027   -70.648104   -70.598251    0 days 01:06:08  \n",
       "21  -33.405971  -33.432332   -70.598379   -70.648651    0 days 12:04:55  \n",
       "20  -33.433463  -33.525983   -70.649060   -70.635944    0 days 00:18:38  \n",
       "19  -33.526277  -33.434819   -70.635551   -70.647429    1 days 00:49:34  \n",
       "\n",
       "[5 rows x 23 columns]"
      ]
     },
     "execution_count": 10,
     "metadata": {},
     "output_type": "execute_result"
    }
   ],
   "source": [
    "frame.head()"
   ]
  },
  {
   "cell_type": "code",
   "execution_count": 11,
   "metadata": {
    "collapsed": false
   },
   "outputs": [],
   "source": [
    "from scipy.stats.mstats import mode\n",
    "f = lambda x: mode(x, axis=None)[0][0]\n",
    "g = lambda x: mode(x,axis=None)[1][0]\n",
    "aggregations = {\n",
    "    'tiempo_subida': \"count\"  # Calculate two results for the 'network' column with a list\n",
    "    \n",
    "}\n",
    "a_group = frame.groupby(['par_subida','tipo_transporte']).agg(aggregations)\n",
    "another_group = frame.groupby(['par_subida','par_bajada','tipo_transporte']).agg(aggregations)"
   ]
  },
  {
   "cell_type": "code",
   "execution_count": 12,
   "metadata": {
    "collapsed": false
   },
   "outputs": [
    {
     "data": {
      "text/html": [
       "<div>\n",
       "<table border=\"1\" class=\"dataframe\">\n",
       "  <thead>\n",
       "    <tr style=\"text-align: right;\">\n",
       "      <th></th>\n",
       "      <th></th>\n",
       "      <th></th>\n",
       "      <th>tiempo_subida</th>\n",
       "    </tr>\n",
       "    <tr>\n",
       "      <th>par_subida</th>\n",
       "      <th>par_bajada</th>\n",
       "      <th>tipo_transporte</th>\n",
       "      <th></th>\n",
       "    </tr>\n",
       "  </thead>\n",
       "  <tbody>\n",
       "    <tr>\n",
       "      <th>PLAZA DE ARMAS</th>\n",
       "      <th>PLAZA MAIPU</th>\n",
       "      <th>METRO</th>\n",
       "      <td>100</td>\n",
       "    </tr>\n",
       "    <tr>\n",
       "      <th>PLAZA MAIPU</th>\n",
       "      <th>PLAZA DE ARMAS</th>\n",
       "      <th>METRO</th>\n",
       "      <td>98</td>\n",
       "    </tr>\n",
       "    <tr>\n",
       "      <th>PLAZA DE PUENTE ALTO</th>\n",
       "      <th>TOBALABA</th>\n",
       "      <th>METRO</th>\n",
       "      <td>95</td>\n",
       "    </tr>\n",
       "    <tr>\n",
       "      <th>LA CISTERNA</th>\n",
       "      <th>ESCUELA MILITAR</th>\n",
       "      <th>METRO</th>\n",
       "      <td>84</td>\n",
       "    </tr>\n",
       "    <tr>\n",
       "      <th>LAS REJAS</th>\n",
       "      <th>TOBALABA</th>\n",
       "      <th>METRO</th>\n",
       "      <td>79</td>\n",
       "    </tr>\n",
       "  </tbody>\n",
       "</table>\n",
       "</div>"
      ],
      "text/plain": [
       "                                                      tiempo_subida\n",
       "par_subida           par_bajada      tipo_transporte               \n",
       "PLAZA DE ARMAS       PLAZA MAIPU     METRO                      100\n",
       "PLAZA MAIPU          PLAZA DE ARMAS  METRO                       98\n",
       "PLAZA DE PUENTE ALTO TOBALABA        METRO                       95\n",
       "LA CISTERNA          ESCUELA MILITAR METRO                       84\n",
       "LAS REJAS            TOBALABA        METRO                       79"
      ]
     },
     "execution_count": 12,
     "metadata": {},
     "output_type": "execute_result"
    }
   ],
   "source": [
    "sorted_group = another_group.sort_values('tiempo_subida',ascending=False)\n",
    "sorted_group.head()"
   ]
  },
  {
   "cell_type": "code",
   "execution_count": 25,
   "metadata": {
    "collapsed": false,
    "scrolled": false
   },
   "outputs": [],
   "source": [
    "sorted_group.to_csv('od.csv')"
   ]
  },
  {
   "cell_type": "code",
   "execution_count": 28,
   "metadata": {
    "collapsed": false
   },
   "outputs": [
    {
     "data": {
      "text/html": [
       "<div>\n",
       "<table border=\"1\" class=\"dataframe\">\n",
       "  <thead>\n",
       "    <tr style=\"text-align: right;\">\n",
       "      <th></th>\n",
       "      <th></th>\n",
       "      <th></th>\n",
       "      <th>tiempo_subida</th>\n",
       "    </tr>\n",
       "    <tr>\n",
       "      <th>par_subida</th>\n",
       "      <th>par_bajada</th>\n",
       "      <th>tipo_transporte</th>\n",
       "      <th></th>\n",
       "    </tr>\n",
       "  </thead>\n",
       "  <tbody>\n",
       "    <tr>\n",
       "      <th rowspan=\"5\" valign=\"top\">ALCANTARA</th>\n",
       "      <th>BELLAS ARTES</th>\n",
       "      <th>METRO</th>\n",
       "      <td>2</td>\n",
       "    </tr>\n",
       "    <tr>\n",
       "      <th>BELLAVISTA DE LA FLORIDA</th>\n",
       "      <th>METRO</th>\n",
       "      <td>2</td>\n",
       "    </tr>\n",
       "    <tr>\n",
       "      <th>CAL Y CANTO</th>\n",
       "      <th>METRO</th>\n",
       "      <td>1</td>\n",
       "    </tr>\n",
       "    <tr>\n",
       "      <th>CIUDAD DEL NINO</th>\n",
       "      <th>METRO</th>\n",
       "      <td>11</td>\n",
       "    </tr>\n",
       "    <tr>\n",
       "      <th>CUMMING</th>\n",
       "      <th>METRO</th>\n",
       "      <td>2</td>\n",
       "    </tr>\n",
       "  </tbody>\n",
       "</table>\n",
       "</div>"
      ],
      "text/plain": [
       "                                                     tiempo_subida\n",
       "par_subida par_bajada               tipo_transporte               \n",
       "ALCANTARA  BELLAS ARTES             METRO                        2\n",
       "           BELLAVISTA DE LA FLORIDA METRO                        2\n",
       "           CAL Y CANTO              METRO                        1\n",
       "           CIUDAD DEL NINO          METRO                       11\n",
       "           CUMMING                  METRO                        2"
      ]
     },
     "execution_count": 28,
     "metadata": {},
     "output_type": "execute_result"
    }
   ],
   "source": [
    "another_group.head()"
   ]
  },
  {
   "cell_type": "code",
   "execution_count": 72,
   "metadata": {
    "collapsed": false
   },
   "outputs": [
    {
     "data": {
      "text/html": [
       "<div>\n",
       "<table border=\"1\" class=\"dataframe\">\n",
       "  <thead>\n",
       "    <tr style=\"text-align: right;\">\n",
       "      <th></th>\n",
       "      <th></th>\n",
       "      <th>tiempo_subida</th>\n",
       "    </tr>\n",
       "    <tr>\n",
       "      <th>par_subida</th>\n",
       "      <th>tipo_transporte</th>\n",
       "      <th></th>\n",
       "    </tr>\n",
       "  </thead>\n",
       "  <tbody>\n",
       "    <tr>\n",
       "      <th>LA CISTERNA</th>\n",
       "      <th>METRO</th>\n",
       "      <td>1382</td>\n",
       "    </tr>\n",
       "    <tr>\n",
       "      <th>TOBALABA</th>\n",
       "      <th>METRO</th>\n",
       "      <td>1361</td>\n",
       "    </tr>\n",
       "    <tr>\n",
       "      <th>MANQUEHUE</th>\n",
       "      <th>METRO</th>\n",
       "      <td>1116</td>\n",
       "    </tr>\n",
       "    <tr>\n",
       "      <th>UNIVERSIDAD DE CHILE</th>\n",
       "      <th>METRO</th>\n",
       "      <td>1057</td>\n",
       "    </tr>\n",
       "    <tr>\n",
       "      <th>PLAZA DE ARMAS</th>\n",
       "      <th>METRO</th>\n",
       "      <td>1022</td>\n",
       "    </tr>\n",
       "  </tbody>\n",
       "</table>\n",
       "</div>"
      ],
      "text/plain": [
       "                                      tiempo_subida\n",
       "par_subida           tipo_transporte               \n",
       "LA CISTERNA          METRO                     1382\n",
       "TOBALABA             METRO                     1361\n",
       "MANQUEHUE            METRO                     1116\n",
       "UNIVERSIDAD DE CHILE METRO                     1057\n",
       "PLAZA DE ARMAS       METRO                     1022"
      ]
     },
     "execution_count": 72,
     "metadata": {},
     "output_type": "execute_result"
    }
   ],
   "source": [
    "groupie_group = frame.groupby(['par_subida','tipo_transporte']).agg({'tiempo_subida':\"count\"})\n",
    "sorted_par_subidas = groupie_group.sort_values('tiempo_subida',ascending=False)\n",
    "#sorted_par_subidas.to_csv('origin_.csv')\n",
    "sorted_par_subidas.head()"
   ]
  },
  {
   "cell_type": "code",
   "execution_count": 40,
   "metadata": {
    "collapsed": false
   },
   "outputs": [
    {
     "data": {
      "text/html": [
       "<div>\n",
       "<table border=\"1\" class=\"dataframe\">\n",
       "  <thead>\n",
       "    <tr style=\"text-align: right;\">\n",
       "      <th></th>\n",
       "      <th>tiempo_subida</th>\n",
       "    </tr>\n",
       "    <tr>\n",
       "      <th>par_bajada</th>\n",
       "      <th></th>\n",
       "    </tr>\n",
       "  </thead>\n",
       "  <tbody>\n",
       "    <tr>\n",
       "      <th>TOBALABA</th>\n",
       "      <td>1492</td>\n",
       "    </tr>\n",
       "    <tr>\n",
       "      <th>LA CISTERNA</th>\n",
       "      <td>1213</td>\n",
       "    </tr>\n",
       "    <tr>\n",
       "      <th>PLAZA DE ARMAS</th>\n",
       "      <td>1142</td>\n",
       "    </tr>\n",
       "    <tr>\n",
       "      <th>UNIVERSIDAD DE CHILE</th>\n",
       "      <td>953</td>\n",
       "    </tr>\n",
       "    <tr>\n",
       "      <th>ESCUELA MILITAR</th>\n",
       "      <td>929</td>\n",
       "    </tr>\n",
       "  </tbody>\n",
       "</table>\n",
       "</div>"
      ],
      "text/plain": [
       "                      tiempo_subida\n",
       "par_bajada                         \n",
       "TOBALABA                       1492\n",
       "LA CISTERNA                    1213\n",
       "PLAZA DE ARMAS                 1142\n",
       "UNIVERSIDAD DE CHILE            953\n",
       "ESCUELA MILITAR                 929"
      ]
     },
     "execution_count": 40,
     "metadata": {},
     "output_type": "execute_result"
    }
   ],
   "source": [
    "groupie_group = frame.groupby(['par_bajada']).agg({'tiempo_subida':\"count\"})\n",
    "sorted_par_bajadas = groupie_group.sort_values('tiempo_subida',ascending=False)\n",
    "sorted_par_bajadas.to_csv('destination_.csv')\n",
    "sorted_par_bajadas.head()"
   ]
  },
  {
   "cell_type": "code",
   "execution_count": 46,
   "metadata": {
    "collapsed": false
   },
   "outputs": [],
   "source": [
    "sorted_par_subidas[sorted_par_subidas['tiempo_subida']>10].to_csv('origin_10.csv')\n",
    "sorted_par_bajadas[sorted_par_bajadas['tiempo_subida']>10].to_csv('destination_10.csv')"
   ]
  },
  {
   "cell_type": "code",
   "execution_count": 15,
   "metadata": {
    "collapsed": false
   },
   "outputs": [],
   "source": [
    "with open('correct_and_wrong_indexs_alg1.pickle') as f:\n",
    "    correct_alg1 =  pickle.load(f)\n",
    "    wrong_alg1 = pickle.load(f)"
   ]
  },
  {
   "cell_type": "code",
   "execution_count": 16,
   "metadata": {
    "collapsed": true
   },
   "outputs": [],
   "source": [
    "with open('index_id_users.pickle') as f:\n",
    "    users_id = pickle.load(f)\n",
    "    "
   ]
  },
  {
   "cell_type": "code",
   "execution_count": 17,
   "metadata": {
    "collapsed": false
   },
   "outputs": [],
   "source": [
    "correct_alg1_ids = []\n",
    "wrong_alg1_ids = []\n",
    "for i in range(len(correct_alg1)):\n",
    "    correct_alg1_ids.append(users_id[i])\n",
    "for i in range(len(wrong_alg1)):\n",
    "    wrong_alg1_ids.append(users_id[i])"
   ]
  },
  {
   "cell_type": "code",
   "execution_count": 18,
   "metadata": {
    "collapsed": true
   },
   "outputs": [],
   "source": [
    "def write_csv_grouped_data(a_frame,name,threshold):\n",
    "    groupie_group = a_frame.groupby(['par_bajada','tipo_transporte']).agg({'tiempo_subida':\"count\"})\n",
    "    sorted_par_bajadas = groupie_group.sort_values('tiempo_subida',ascending=False)\n",
    "    sorted_par_bajadas[sorted_par_bajadas['tiempo_subida']>threshold].to_csv(name+'_'+str(threshold)+'_destination.csv')\n",
    "    groupie_group = a_frame.groupby(['par_subida','tipo_transporte']).agg({'tiempo_subida':\"count\"})\n",
    "    sorted_par_subidas = groupie_group.sort_values('tiempo_subida',ascending=False)\n",
    "    sorted_par_subidas[sorted_par_subidas['tiempo_subida']>threshold].to_csv(name+'_'+str(threshold)+'_origin.csv')"
   ]
  },
  {
   "cell_type": "markdown",
   "metadata": {},
   "source": [
    "### Guardar en csv viajes de los correctos e incorrectos"
   ]
  },
  {
   "cell_type": "code",
   "execution_count": 19,
   "metadata": {
    "collapsed": false
   },
   "outputs": [],
   "source": [
    "write_csv_grouped_data(frame[frame['id'].isin(wrong_alg1_ids)],'wrong_alg1',1)"
   ]
  },
  {
   "cell_type": "code",
   "execution_count": 20,
   "metadata": {
    "collapsed": true
   },
   "outputs": [],
   "source": [
    "write_csv_grouped_data(frame[frame['id'].isin(correct_alg1_ids)],'correct_alg1',1)"
   ]
  },
  {
   "cell_type": "markdown",
   "metadata": {},
   "source": [
    "### Guardar en csv viajes de los correctos e incorrectos. sin transbordo"
   ]
  },
  {
   "cell_type": "code",
   "execution_count": 23,
   "metadata": {
    "collapsed": true
   },
   "outputs": [],
   "source": [
    "without_transbordors_frame = frame[frame['netapa']==1]"
   ]
  },
  {
   "cell_type": "code",
   "execution_count": 24,
   "metadata": {
    "collapsed": true
   },
   "outputs": [],
   "source": [
    "write_csv_grouped_data(without_transbordors_frame[without_transbordors_frame['id'].isin(wrong_alg1_ids)],'wrong_alg1_wo_tr',1)\n",
    "write_csv_grouped_data(without_transbordors_frame[without_transbordors_frame['id'].isin(correct_alg1_ids)],'correct_alg1_wo_tr',1)"
   ]
  },
  {
   "cell_type": "code",
   "execution_count": null,
   "metadata": {
    "collapsed": true
   },
   "outputs": [],
   "source": []
  }
 ],
 "metadata": {
  "kernelspec": {
   "display_name": "Python 2",
   "language": "python",
   "name": "python2"
  },
  "language_info": {
   "codemirror_mode": {
    "name": "ipython",
    "version": 2
   },
   "file_extension": ".py",
   "mimetype": "text/x-python",
   "name": "python",
   "nbconvert_exporter": "python",
   "pygments_lexer": "ipython2",
   "version": "2.7.11"
  }
 },
 "nbformat": 4,
 "nbformat_minor": 0
}
