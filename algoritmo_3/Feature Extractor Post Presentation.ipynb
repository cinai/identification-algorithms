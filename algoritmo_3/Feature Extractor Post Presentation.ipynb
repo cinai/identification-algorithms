{
 "cells": [
  {
   "cell_type": "markdown",
   "metadata": {},
   "source": [
    "## Importar lo importante"
   ]
  },
  {
   "cell_type": "code",
   "execution_count": 1,
   "metadata": {
    "collapsed": true
   },
   "outputs": [],
   "source": [
    "%matplotlib inline\n",
    "import matplotlib.pyplot as plt\n",
    "import time\n",
    "import datetime as dt\n",
    "import pickle\n",
    "import numpy as np\n",
    "import borrador\n",
    "from __future__ import division\n",
    "from auxiliar_functions import *\n",
    "import tfe\n",
    "from geopy.distance import vincenty\n",
    "from itertools import chain, combinations\n",
    "import random\n",
    "import scipy as sp"
   ]
  },
  {
   "cell_type": "markdown",
   "metadata": {},
   "source": [
    "## Funciones Auxiliares"
   ]
  },
  {
   "cell_type": "code",
   "execution_count": 2,
   "metadata": {
    "collapsed": true
   },
   "outputs": [],
   "source": [
    "#Función que filtra columnas de acuerdo a una lista de indices\n",
    "#filter_features: matrix list -> matrix\n",
    "def filter_features(vector,selected_features):\n",
    "    selected = []\n",
    "    for i in range(len(selected_features)):\n",
    "        selected.append(features_dict[selected_features[i]])\n",
    "    return vector[:,selected]"
   ]
  },
  {
   "cell_type": "code",
   "execution_count": 29,
   "metadata": {
    "collapsed": true
   },
   "outputs": [],
   "source": [
    "def only_one_match_home_and_work(rois_a,limit,shared_rois):\n",
    "    a_matrix = np.ones((limit, limit)) * -1\n",
    "    init_time = time.time()\n",
    "    for i in range(limit):\n",
    "        neighbours = get_neighbours_index(rois_a[i],shared_rois,i,2)\n",
    "        if len(neighbours) > 0:\n",
    "            if len(neighbours) == 1:\n",
    "                a_matrix[i,neighbours[0]] = 0\n",
    "    delta_time = time.time() - init_time\n",
    "    print delta_time\n",
    "    return a_matrix"
   ]
  },
  {
   "cell_type": "code",
   "execution_count": 30,
   "metadata": {
    "collapsed": true
   },
   "outputs": [],
   "source": [
    "def random_match_home_and_work(rois_a,limit,shared_rois):\n",
    "    a_matrix = np.ones((limit, limit)) * -1\n",
    "    init_time = time.time()\n",
    "    for i in range(limit):\n",
    "        neighbours = get_neighbours_index(rois_a[i],shared_rois,i,2)\n",
    "        n_neighbours = len(neighbours)\n",
    "        if n_neighbours > 0:\n",
    "            if n_neighbours == 1:\n",
    "                a_matrix[i,neighbours[0]] = 0\n",
    "            else:\n",
    "                random_neighbour = random.choice(neighbours)\n",
    "                a_matrix[i,random_neighbour] = 0\n",
    "    delta_time = time.time() - init_time\n",
    "    print delta_time\n",
    "    return a_matrix"
   ]
  },
  {
   "cell_type": "code",
   "execution_count": 5,
   "metadata": {
    "collapsed": true
   },
   "outputs": [],
   "source": [
    "def compare_vectors_with_neighbours(vector_a,vector_b,rois_a,rois_b,shared_rois,limit,min_shared,f_normalizar,f_distancia):\n",
    "    a_matrix = np.ones((limit, limit)) * -1\n",
    "    init_time = time.time()\n",
    "    for i in range(limit):\n",
    "        #print \"Usuario \",i\n",
    "        rois_abril = rois_a[i]\n",
    "        neighbours = get_neighbours_index(rois_abril,shared_rois,i,min_shared)\n",
    "        if len(neighbours) > 0:\n",
    "            if len(neighbours) == 1:\n",
    "                a_matrix[i,neighbours[0]] = 0\n",
    "            else:\n",
    "                a_sequence = vector_a[i,:]\n",
    "                b_sequences = vector_b[neighbours,:]\n",
    "                ab_sequences = np.vstack((a_sequence,b_sequences))\n",
    "                for j in range(ab_sequences.shape[1]):\n",
    "                    ab_sequences[:,j] = f_normalizar(ab_sequences[:,j])\n",
    "                counter = 0\n",
    "                for neighbour in neighbours:\n",
    "                    dist = f_distancia(np.asarray(ab_sequences[0,:]),np.asarray(ab_sequences[counter+1,:]))\n",
    "                    a_matrix[i,neighbour] = -dist\n",
    "                    counter += 1\n",
    "    delta_time = time.time() - init_time\n",
    "    print delta_time\n",
    "    return a_matrix"
   ]
  },
  {
   "cell_type": "code",
   "execution_count": 81,
   "metadata": {
    "collapsed": true
   },
   "outputs": [],
   "source": [
    "def compare_vectors_with_neighbours_normalized(vector_a,vector_b,rois_a,rois_b,shared_rois,limit,min_shared,f_dist):\n",
    "    a_matrix = np.ones((limit, limit)) * -1\n",
    "    init_time = time.time()\n",
    "    for i in range(limit):\n",
    "        #print \"Usuario \",i\n",
    "        rois_abril = rois_a[i]\n",
    "        neighbours = get_neighbours_index(rois_abril,shared_rois,i,min_shared)\n",
    "        if len(neighbours) > 0:\n",
    "            if len(neighbours) == 1:\n",
    "                a_matrix[i,neighbours[0]] = 0\n",
    "            else:\n",
    "                a_sequence = vector_a[i,:]\n",
    "                b_sequences = vector_b[neighbours,:]\n",
    "                ab_sequences = np.vstack((a_sequence,b_sequences))\n",
    "                counter = 0\n",
    "                for neighbour in neighbours:\n",
    "                    dist = f_dist(np.asarray(ab_sequences[0,:]),np.asarray(ab_sequences[counter+1,:]))\n",
    "                    a_matrix[i,neighbour] = -dist\n",
    "                    counter += 1\n",
    "    delta_time = time.time() - init_time\n",
    "    print delta_time\n",
    "    return a_matrix"
   ]
  },
  {
   "cell_type": "code",
   "execution_count": 7,
   "metadata": {
    "collapsed": true
   },
   "outputs": [],
   "source": [
    "def get_n_correct(a_matrix,limit):\n",
    "    identified_indexs = [] #almacena los indices de que secuencia fue seleccionada como match\n",
    "    wrong_indexs = [] # almacena los indices de los que se clasificaron incorrectamente\n",
    "    correct_indexs = [] # almacena los indices de los que se clasificaron correctamente\n",
    "    selected_distance = [] # almacena la distancia de los seleccionados\n",
    "    abstenidos = []\n",
    "    n_identified = 0\n",
    "    for i in range(limit):\n",
    "        the_index = np.argmax(a_matrix[:,i])\n",
    "        selected_distance.append(a_matrix[the_index,i])\n",
    "        identified_indexs.append(the_index)\n",
    "        if a_matrix[the_index,i] == -1:\n",
    "            abstenidos.append(the_index)\n",
    "        elif(the_index!=i):\n",
    "            wrong_indexs.append(the_index)\n",
    "        else:\n",
    "            correct_indexs.append(the_index)\n",
    "            n_identified += 1\n",
    "    return [n_identified,selected_distance,identified_indexs,abstenidos]\n"
   ]
  },
  {
   "cell_type": "code",
   "execution_count": 8,
   "metadata": {
    "collapsed": true
   },
   "outputs": [],
   "source": [
    "#normalizar: [float] -> [float(0,1)]\n",
    "#Normalizacion mayor menor\n",
    "def normalizar_min_max(vector):\n",
    "    a_max = np.max(vector)\n",
    "    a_min = np.min(vector)\n",
    "    if a_max == 0 and a_min == 0:\n",
    "        return vector\n",
    "    #if a_max == 0:\n",
    "     #   a_max= a_min*0.0000001\n",
    "    for i in range(len(vector)):\n",
    "        vector[i] = (vector[i] - a_min)/a_max\n",
    "    return vector    "
   ]
  },
  {
   "cell_type": "code",
   "execution_count": 58,
   "metadata": {
    "collapsed": false
   },
   "outputs": [],
   "source": [
    "#normalizar: [float] -> [float(0,1)]\n",
    "#Normalizacion mayor menor\n",
    "def normalizar_norma(vector):\n",
    "    norm = np.linalg.norm(vector)\n",
    "    if norm == 0:\n",
    "        return vector \n",
    "    return vector / np.linalg.norm(vector)"
   ]
  },
  {
   "cell_type": "code",
   "execution_count": 17,
   "metadata": {
    "collapsed": true
   },
   "outputs": [],
   "source": [
    "#get_neighbours_index: np.matrix int -> np.array\n",
    "#obtiene los vecinos del usuario \"user\",\n",
    "#considerando como vecino a quien comparte dos ubicaciones\n",
    "def get_neighbours_index(rois_a,shared_rois,user,min_shared):\n",
    "    min_shared_x = min(len(rois_a),min_shared)\n",
    "    neighbours = np.where(shared_rois[user] >= min_shared_x)\n",
    "    return neighbours[0]"
   ]
  },
  {
   "cell_type": "markdown",
   "metadata": {},
   "source": [
    "## Obtener datos"
   ]
  },
  {
   "cell_type": "code",
   "execution_count": 10,
   "metadata": {
    "collapsed": true
   },
   "outputs": [],
   "source": [
    "with open('data/shared_rois_and_min_distance.pickle') as f:\n",
    "    shared_rois = pickle.load(f)\n",
    "    min_distance = pickle.load(f)"
   ]
  },
  {
   "cell_type": "code",
   "execution_count": 11,
   "metadata": {
    "collapsed": false
   },
   "outputs": [],
   "source": [
    "with open('data/feature_data.pickle') as f:\n",
    "    abril_vectors = pickle.load(f)\n",
    "    septiembre_vectors = pickle.load(f)"
   ]
  },
  {
   "cell_type": "code",
   "execution_count": 12,
   "metadata": {
    "collapsed": true
   },
   "outputs": [],
   "source": [
    "with open('data/rois_meters_data.pickle') as f:\n",
    "    abril_the_rois = pickle.load(f)\n",
    "    septiembre_the_rois = pickle.load(f)"
   ]
  },
  {
   "cell_type": "code",
   "execution_count": 13,
   "metadata": {
    "collapsed": false
   },
   "outputs": [
    {
     "data": {
      "text/plain": [
       "5169"
      ]
     },
     "execution_count": 13,
     "metadata": {},
     "output_type": "execute_result"
    }
   ],
   "source": [
    "limit = np.min((len(abril_vectors),len(septiembre_vectors)))\n",
    "limit"
   ]
  },
  {
   "cell_type": "code",
   "execution_count": 14,
   "metadata": {
    "collapsed": false
   },
   "outputs": [
    {
     "name": "stdout",
     "output_type": "stream",
     "text": [
      "% de tarjetas que comparten un roi en ambos meses: 93.38%\n",
      "% de tarjetas que comparten dos roi en ambos meses: 54.85%\n"
     ]
    }
   ],
   "source": [
    "shared_1_rois_2_month = 0\n",
    "shared_2_rois_2_month = 0\n",
    "for i in range(limit):\n",
    "    if shared_rois[i,i] > 0:\n",
    "        shared_1_rois_2_month += 1\n",
    "    if shared_rois[i,i] > 1:\n",
    "        shared_2_rois_2_month += 1\n",
    "print \"% de tarjetas que comparten un roi en ambos meses:\",str(round(shared_1_rois_2_month*100/limit,2)) + \"%\"\n",
    "print \"% de tarjetas que comparten dos roi en ambos meses:\", str(round(shared_2_rois_2_month*100/limit,2)) + \"%\""
   ]
  },
  {
   "cell_type": "markdown",
   "metadata": {},
   "source": [
    "### Histograma cantidad de vecinos de hogar y trabajo (2 rois) entre abril y septiembre"
   ]
  },
  {
   "cell_type": "code",
   "execution_count": 18,
   "metadata": {
    "collapsed": false
   },
   "outputs": [],
   "source": [
    "n_of_neighbours = []\n",
    "for i in range(limit):\n",
    "    n_of_neighbours.append(len(get_neighbours_index(abril_the_rois,shared_rois,i,2)))"
   ]
  },
  {
   "cell_type": "code",
   "execution_count": 19,
   "metadata": {
    "collapsed": false
   },
   "outputs": [
    {
     "data": {
      "text/plain": [
       "(array([ 1051.,  1642.,   808.,   431.,   263.,   191.,   116.,    91.,\n",
       "          117.]),\n",
       " array([0, 1, 2, 3, 4, 5, 6, 7, 8, 9]),\n",
       " <a list of 9 Patch objects>)"
      ]
     },
     "execution_count": 19,
     "metadata": {},
     "output_type": "execute_result"
    },
    {
     "data": {
      "image/png": "[encoded data removed]",
      "text/plain": [
       "<matplotlib.figure.Figure at 0xac744a8>"
      ]
     },
     "metadata": {},
     "output_type": "display_data"
    }
   ],
   "source": [
    "plt.hist(n_of_neighbours,range(10))"
   ]
  },
  {
   "cell_type": "markdown",
   "metadata": {},
   "source": [
    "### Histograma cantidad de vecinos de hogar y trabajo (2 rois) entre abril y septiembre"
   ]
  },
  {
   "cell_type": "code",
   "execution_count": 328,
   "metadata": {
    "collapsed": false
   },
   "outputs": [],
   "source": [
    "n10_of_neighbours = filter(lambda x: x>9,n_of_neighbours)"
   ]
  },
  {
   "cell_type": "code",
   "execution_count": 329,
   "metadata": {
    "collapsed": false
   },
   "outputs": [
    {
     "data": {
      "text/plain": [
       "(array([ 269.,  109.,   36.,    8.,    8.,    8.,    5.,    4.,    1.,\n",
       "           0.,    0.,    1.,    2.,    1.,    0.,    0.,    0.,    0.,\n",
       "           1.,    0.,    2.,    0.,    0.,    1.,    1.,    0.,    1.,\n",
       "           0.,    0.,    1.]),\n",
       " array([  10.        ,   19.06666667,   28.13333333,   37.2       ,\n",
       "          46.26666667,   55.33333333,   64.4       ,   73.46666667,\n",
       "          82.53333333,   91.6       ,  100.66666667,  109.73333333,\n",
       "         118.8       ,  127.86666667,  136.93333333,  146.        ,\n",
       "         155.06666667,  164.13333333,  173.2       ,  182.26666667,\n",
       "         191.33333333,  200.4       ,  209.46666667,  218.53333333,\n",
       "         227.6       ,  236.66666667,  245.73333333,  254.8       ,\n",
       "         263.86666667,  272.93333333,  282.        ]),\n",
       " <a list of 30 Patch objects>)"
      ]
     },
     "execution_count": 329,
     "metadata": {},
     "output_type": "execute_result"
    },
    {
     "data": {
      "image/png": "[encoded data removed]",
      "text/plain": [
       "<matplotlib.figure.Figure at 0x7fcc24522450>"
      ]
     },
     "metadata": {},
     "output_type": "display_data"
    }
   ],
   "source": [
    "plt.hist(n10_of_neighbours,30)"
   ]
  },
  {
   "cell_type": "markdown",
   "metadata": {},
   "source": [
    "## Feature Exploration"
   ]
  },
  {
   "cell_type": "code",
   "execution_count": 48,
   "metadata": {
    "collapsed": true
   },
   "outputs": [],
   "source": [
    "N_FEATURES = 19"
   ]
  },
  {
   "cell_type": "code",
   "execution_count": 20,
   "metadata": {
    "collapsed": true
   },
   "outputs": [],
   "source": [
    "features_names = [\"msal\",\"mlal\",\"kmDistance\",\"kmMaxDist\",\"kmMinDist\",\"rg\",\"unc_entropy\", \\\n",
    "    \"random_entropy\",\"p100_diff_last_origin\",\"p100_diff_first_origin\",\"card_type\",\\\n",
    "    \"start_time\",\"end_time\",\"traveled_days\",\"traveled_days_bs\",\"frequence_regularity\",\\\n",
    "    \"p100_exclusive_bus_days\",\"p100_exclusive_metro_days\",\"P100_bus_trips\"]"
   ]
  },
  {
   "cell_type": "code",
   "execution_count": 21,
   "metadata": {
    "collapsed": true
   },
   "outputs": [],
   "source": [
    "features_dict = {\"msal\":0,\"mlal\":1,\"kmDistance\":2,\"kmMaxDist\":3,\"kmMinDist\":4,\"rg\":5,\"unc_entropy\":6,\n",
    "                  \"random_entropy\":7,\"p100_diff_last_origin\":8,\"p100_diff_first_origin\":9,\"card_type\":10,\n",
    "                  \"start_time\":11,\"end_time\":12,\"traveled_days\":13,\"traveled_days_bs\":14,\"frequence_regularity\":15,\n",
    "                  \"p100_exclusive_bus_days\":16,\"p100_exclusive_metro_days\":17,\"P100_bus_trips\":18}"
   ]
  },
  {
   "cell_type": "code",
   "execution_count": 55,
   "metadata": {
    "collapsed": false
   },
   "outputs": [
    {
     "data": {
      "text/html": [
       "<div>\n",
       "<table border=\"1\" class=\"dataframe\">\n",
       "  <thead>\n",
       "    <tr style=\"text-align: right;\">\n",
       "      <th></th>\n",
       "      <th>msal</th>\n",
       "      <th>mlal</th>\n",
       "      <th>kmDistance</th>\n",
       "      <th>kmMaxDist</th>\n",
       "      <th>kmMinDist</th>\n",
       "      <th>rg</th>\n",
       "      <th>unc_entropy</th>\n",
       "      <th>random_entropy</th>\n",
       "      <th>p100_diff_last_origin</th>\n",
       "      <th>p100_diff_first_origin</th>\n",
       "      <th>card_type</th>\n",
       "      <th>start_time</th>\n",
       "      <th>end_time</th>\n",
       "      <th>traveled_days</th>\n",
       "      <th>traveled_days_bs</th>\n",
       "      <th>frequence_regularity</th>\n",
       "      <th>p100_exclusive_bus_days</th>\n",
       "      <th>p100_exclusive_metro_days</th>\n",
       "      <th>P100_bus_trips</th>\n",
       "    </tr>\n",
       "  </thead>\n",
       "  <tbody>\n",
       "    <tr>\n",
       "      <th>min_abril</th>\n",
       "      <td>0</td>\n",
       "      <td>0</td>\n",
       "      <td>0</td>\n",
       "      <td>0</td>\n",
       "      <td>0</td>\n",
       "      <td>0</td>\n",
       "      <td>0</td>\n",
       "      <td>0</td>\n",
       "      <td>0</td>\n",
       "      <td>0</td>\n",
       "      <td>0</td>\n",
       "      <td>0</td>\n",
       "      <td>0</td>\n",
       "      <td>0</td>\n",
       "      <td>0</td>\n",
       "      <td>0</td>\n",
       "      <td>0</td>\n",
       "      <td>0</td>\n",
       "      <td>0</td>\n",
       "    </tr>\n",
       "    <tr>\n",
       "      <th>min_sept</th>\n",
       "      <td>0</td>\n",
       "      <td>0</td>\n",
       "      <td>0</td>\n",
       "      <td>0</td>\n",
       "      <td>0</td>\n",
       "      <td>0</td>\n",
       "      <td>0</td>\n",
       "      <td>0</td>\n",
       "      <td>0</td>\n",
       "      <td>0</td>\n",
       "      <td>0</td>\n",
       "      <td>0</td>\n",
       "      <td>0</td>\n",
       "      <td>0</td>\n",
       "      <td>0</td>\n",
       "      <td>0</td>\n",
       "      <td>0</td>\n",
       "      <td>0</td>\n",
       "      <td>0</td>\n",
       "    </tr>\n",
       "    <tr>\n",
       "      <th>max_abril</th>\n",
       "      <td>67229</td>\n",
       "      <td>64806</td>\n",
       "      <td>63735</td>\n",
       "      <td>56383</td>\n",
       "      <td>66933</td>\n",
       "      <td>62618</td>\n",
       "      <td>66372</td>\n",
       "      <td>54879</td>\n",
       "      <td>61621</td>\n",
       "      <td>51861</td>\n",
       "      <td>73504</td>\n",
       "      <td>71853</td>\n",
       "      <td>74677</td>\n",
       "      <td>60732</td>\n",
       "      <td>68207</td>\n",
       "      <td>45172</td>\n",
       "      <td>77776</td>\n",
       "      <td>68167</td>\n",
       "      <td>57114</td>\n",
       "    </tr>\n",
       "    <tr>\n",
       "      <th>max_sept</th>\n",
       "      <td>67797</td>\n",
       "      <td>57012</td>\n",
       "      <td>71085</td>\n",
       "      <td>65188</td>\n",
       "      <td>62837</td>\n",
       "      <td>62151</td>\n",
       "      <td>60960</td>\n",
       "      <td>72503</td>\n",
       "      <td>63535</td>\n",
       "      <td>54962</td>\n",
       "      <td>73814</td>\n",
       "      <td>68407</td>\n",
       "      <td>55748</td>\n",
       "      <td>63399</td>\n",
       "      <td>60512</td>\n",
       "      <td>61810</td>\n",
       "      <td>81971</td>\n",
       "      <td>68809</td>\n",
       "      <td>58159</td>\n",
       "    </tr>\n",
       "  </tbody>\n",
       "</table>\n",
       "</div>"
      ],
      "text/plain": [
       "            msal   mlal  kmDistance  kmMaxDist  kmMinDist     rg  unc_entropy  \\\n",
       "min_abril      0      0           0          0          0      0            0   \n",
       "min_sept       0      0           0          0          0      0            0   \n",
       "max_abril  67229  64806       63735      56383      66933  62618        66372   \n",
       "max_sept   67797  57012       71085      65188      62837  62151        60960   \n",
       "\n",
       "           random_entropy  p100_diff_last_origin  p100_diff_first_origin  \\\n",
       "min_abril               0                      0                       0   \n",
       "min_sept                0                      0                       0   \n",
       "max_abril           54879                  61621                   51861   \n",
       "max_sept            72503                  63535                   54962   \n",
       "\n",
       "           card_type  start_time  end_time  traveled_days  traveled_days_bs  \\\n",
       "min_abril          0           0         0              0                 0   \n",
       "min_sept           0           0         0              0                 0   \n",
       "max_abril      73504       71853     74677          60732             68207   \n",
       "max_sept       73814       68407     55748          63399             60512   \n",
       "\n",
       "           frequence_regularity  p100_exclusive_bus_days  \\\n",
       "min_abril                     0                        0   \n",
       "min_sept                      0                        0   \n",
       "max_abril                 45172                    77776   \n",
       "max_sept                  61810                    81971   \n",
       "\n",
       "           p100_exclusive_metro_days  P100_bus_trips  \n",
       "min_abril                          0               0  \n",
       "min_sept                           0               0  \n",
       "max_abril                      68167           57114  \n",
       "max_sept                       68809           58159  "
      ]
     },
     "execution_count": 55,
     "metadata": {},
     "output_type": "execute_result"
    }
   ],
   "source": [
    "feature_min_max = np.ones((4,N_FEATURES))\n",
    "for feature in range(abril_vectors.shape[1]):\n",
    "    feature_min_max[:,feature] = [min(abril_vectors[feature]),min(septiembre_vectors[feature]), max(abril_vectors[feature]),\\\n",
    "                                   max(septiembre_vectors[feature])]\n",
    "    \n",
    "feature_min_max_df = pd.DataFrame(feature_min_max)    \n",
    "feature_min_max_df.index = [\"min_abril\",\"min_sept\",\"max_abril\",\"max_sept\"]\n",
    "feature_min_max_df.columns = features_names\n",
    "feature_min_max_df"
   ]
  },
  {
   "cell_type": "markdown",
   "metadata": {},
   "source": [
    "## Seleccionar Features para la comparación"
   ]
  },
  {
   "cell_type": "code",
   "execution_count": 22,
   "metadata": {
    "collapsed": true
   },
   "outputs": [],
   "source": [
    "selected_features = [\"msal\",\"mlal\",\"kmDistance\",\"kmMaxDist\",\"kmMinDist\",\"rg\",\"unc_entropy\", \\\n",
    "    \"random_entropy\",\"p100_diff_last_origin\",\"p100_diff_first_origin\",\\\n",
    "    \"start_time\",\"end_time\",\"traveled_days\",\"frequence_regularity\",\\\n",
    "    \"p100_exclusive_bus_days\",\"p100_exclusive_metro_days\",\"P100_bus_trips\"]\n"
   ]
  },
  {
   "cell_type": "code",
   "execution_count": 23,
   "metadata": {
    "collapsed": true
   },
   "outputs": [],
   "source": [
    "#selected_features = features_names"
   ]
  },
  {
   "cell_type": "code",
   "execution_count": 24,
   "metadata": {
    "collapsed": false
   },
   "outputs": [
    {
     "data": {
      "text/plain": [
       "17"
      ]
     },
     "execution_count": 24,
     "metadata": {},
     "output_type": "execute_result"
    }
   ],
   "source": [
    "len(selected_features)"
   ]
  },
  {
   "cell_type": "code",
   "execution_count": 25,
   "metadata": {
    "collapsed": true
   },
   "outputs": [],
   "source": [
    "abril_selected_features = filter_features(abril_vectors,selected_features)\n",
    "septiembre_selected_features = filter_features(septiembre_vectors,selected_features)"
   ]
  },
  {
   "cell_type": "markdown",
   "metadata": {},
   "source": [
    "## Normalizar con respecto a los vecinos"
   ]
  },
  {
   "cell_type": "code",
   "execution_count": 26,
   "metadata": {
    "collapsed": false
   },
   "outputs": [
    {
     "data": {
      "text/plain": [
       "(5169L, 17L)"
      ]
     },
     "execution_count": 26,
     "metadata": {},
     "output_type": "execute_result"
    }
   ],
   "source": [
    "abril_selected_features.shape"
   ]
  },
  {
   "cell_type": "markdown",
   "metadata": {},
   "source": [
    "## Hacer las comparaciones"
   ]
  },
  {
   "cell_type": "markdown",
   "metadata": {},
   "source": [
    "### Seleccionar solo los que se tiene un match"
   ]
  },
  {
   "cell_type": "code",
   "execution_count": 31,
   "metadata": {
    "collapsed": false
   },
   "outputs": [
    {
     "name": "stdout",
     "output_type": "stream",
     "text": [
      "0.0780000686646\n"
     ]
    }
   ],
   "source": [
    "a_matrix_unique_match = only_one_match_home_and_work(abril_the_rois,limit,shared_rois)"
   ]
  },
  {
   "cell_type": "code",
   "execution_count": 32,
   "metadata": {
    "collapsed": false
   },
   "outputs": [],
   "source": [
    "n_identified_unique_match,selected_distance_unique_match,identified_indexs_unique_match,abstenidos_unique_match = get_n_correct(a_matrix_unique_match,limit)"
   ]
  },
  {
   "cell_type": "code",
   "execution_count": 33,
   "metadata": {
    "collapsed": false
   },
   "outputs": [
    {
     "name": "stdout",
     "output_type": "stream",
     "text": [
      "21.88%\n"
     ]
    }
   ],
   "source": [
    "porcentaje_correcto_unique_match = n_identified_unique_match*100/limit\n",
    "print str(round(porcentaje_correcto_unique_match,2))+ \"%\""
   ]
  },
  {
   "cell_type": "markdown",
   "metadata": {},
   "source": [
    "### Seleccionar randommente entre los vecinos que matchean hogar y trabajo"
   ]
  },
  {
   "cell_type": "code",
   "execution_count": 34,
   "metadata": {
    "collapsed": false
   },
   "outputs": [
    {
     "name": "stdout",
     "output_type": "stream",
     "text": [
      "0.0789999961853\n"
     ]
    }
   ],
   "source": [
    "a_matrix_random_match = random_match_home_and_work(abril_the_rois,limit,shared_rois)"
   ]
  },
  {
   "cell_type": "code",
   "execution_count": 35,
   "metadata": {
    "collapsed": false
   },
   "outputs": [],
   "source": [
    "n_identified_random_match,selected_distance_random_match,identified_indexs_random_match,abstenidos_random_match = get_n_correct(a_matrix_random_match,limit)"
   ]
  },
  {
   "cell_type": "code",
   "execution_count": 36,
   "metadata": {
    "collapsed": false
   },
   "outputs": [
    {
     "name": "stdout",
     "output_type": "stream",
     "text": [
      "29.0%\n"
     ]
    }
   ],
   "source": [
    "porcentaje_correcto_random_match = n_identified_random_match*100/limit\n",
    "print str(round(porcentaje_correcto_random_match,2))+ \"%\""
   ]
  },
  {
   "cell_type": "markdown",
   "metadata": {},
   "source": [
    "### Seleccionar con distancia euclidiana entre los vecinos con norma minmax"
   ]
  },
  {
   "cell_type": "code",
   "execution_count": 62,
   "metadata": {
    "collapsed": false
   },
   "outputs": [
    {
     "name": "stdout",
     "output_type": "stream",
     "text": [
      "1.80500006676\n"
     ]
    }
   ],
   "source": [
    "a_matrix = compare_vectors_with_neighbours(abril_selected_features,septiembre_selected_features,abril_the_rois,\\\n",
    "                                           septiembre_the_rois,shared_rois,limit,2,normalizar,sp.spatial.distance.euclidean)"
   ]
  },
  {
   "cell_type": "code",
   "execution_count": 63,
   "metadata": {
    "collapsed": true
   },
   "outputs": [],
   "source": [
    "n_identified,selected_distance,identified_indexs,abstenidos = get_n_correct(a_matrix,limit)"
   ]
  },
  {
   "cell_type": "code",
   "execution_count": 64,
   "metadata": {
    "collapsed": false
   },
   "outputs": [
    {
     "name": "stdout",
     "output_type": "stream",
     "text": [
      "35.46%\n"
     ]
    }
   ],
   "source": [
    "porcentaje_correcto = n_identified*100/limit\n",
    "print str(round(porcentaje_correcto,2))+ \"%\""
   ]
  },
  {
   "cell_type": "code",
   "execution_count": 40,
   "metadata": {
    "collapsed": false
   },
   "outputs": [
    {
     "data": {
      "text/plain": [
       "2149"
      ]
     },
     "execution_count": 40,
     "metadata": {},
     "output_type": "execute_result"
    }
   ],
   "source": [
    "len(abstenidos)"
   ]
  },
  {
   "cell_type": "markdown",
   "metadata": {},
   "source": [
    "### Seleccionar con distancia euclidiana entre los vecinos con norma norm"
   ]
  },
  {
   "cell_type": "code",
   "execution_count": 59,
   "metadata": {
    "collapsed": false
   },
   "outputs": [
    {
     "name": "stdout",
     "output_type": "stream",
     "text": [
      "1.84200000763\n"
     ]
    }
   ],
   "source": [
    "a_matrix = compare_vectors_with_neighbours(abril_selected_features,septiembre_selected_features,abril_the_rois,\\\n",
    "                                           septiembre_the_rois,shared_rois,limit,2,normalizar_norma,sp.spatial.distance.euclidean)"
   ]
  },
  {
   "cell_type": "code",
   "execution_count": 60,
   "metadata": {
    "collapsed": true
   },
   "outputs": [],
   "source": [
    "n_identified,selected_distance,identified_indexs,abstenidos = get_n_correct(a_matrix,limit)"
   ]
  },
  {
   "cell_type": "code",
   "execution_count": 61,
   "metadata": {
    "collapsed": false
   },
   "outputs": [
    {
     "name": "stdout",
     "output_type": "stream",
     "text": [
      "33.16%\n"
     ]
    }
   ],
   "source": [
    "porcentaje_correcto = n_identified*100/limit\n",
    "print \"Por\"+str(round(porcentaje_correcto,2))+ \"%\""
   ]
  },
  {
   "cell_type": "markdown",
   "metadata": {},
   "source": [
    "### Seleccionar con distancia euclidiana entre los vecinos con las features ya normalizadas con norma"
   ]
  },
  {
   "cell_type": "code",
   "execution_count": 72,
   "metadata": {
    "collapsed": true
   },
   "outputs": [],
   "source": [
    "abril_norm_vectors = np.ones((limit, N_FEATURES))\n",
    "septiembre_norm_vectors = np.ones((limit, N_FEATURES))\n",
    "for i in range(abril_selected_features.shape[1]):\n",
    "    abril_norm_vectors[:,i] = normalizar_norma(abril_selected_features[:,i])\n",
    "    septiembre_norm_vectors[:,i] = normalizar_norma(septiembre_selected_features[:,i])"
   ]
  },
  {
   "cell_type": "code",
   "execution_count": 74,
   "metadata": {
    "collapsed": false
   },
   "outputs": [
    {
     "name": "stdout",
     "output_type": "stream",
     "text": [
      "0.37700009346\n"
     ]
    }
   ],
   "source": [
    "a_matrix = compare_vectors_with_neighbours_normalized(abril_norm_vectors,septiembre_norm_vectors,abril_the_rois,\\\n",
    "                                           septiembre_the_rois,shared_rois,limit,2,sp.spatial.distance.euclidean)"
   ]
  },
  {
   "cell_type": "code",
   "execution_count": 75,
   "metadata": {
    "collapsed": true
   },
   "outputs": [],
   "source": [
    "n_identified,selected_distance,identified_indexs,abstenidos = get_n_correct(a_matrix,limit)"
   ]
  },
  {
   "cell_type": "code",
   "execution_count": 76,
   "metadata": {
    "collapsed": false
   },
   "outputs": [
    {
     "name": "stdout",
     "output_type": "stream",
     "text": [
      "44.61%\n"
     ]
    }
   ],
   "source": [
    "porcentaje_correcto = n_identified*100/limit\n",
    "print str(round(porcentaje_correcto,2))+ \"%\""
   ]
  },
  {
   "cell_type": "markdown",
   "metadata": {},
   "source": [
    "### Seleccionar con distancia euclidiana entre los vecinos con las features ya normalizadas con min max"
   ]
  },
  {
   "cell_type": "code",
   "execution_count": 77,
   "metadata": {
    "collapsed": true
   },
   "outputs": [],
   "source": [
    "abril_norm_vectors = np.ones((limit, N_FEATURES))\n",
    "septiembre_norm_vectors = np.ones((limit, N_FEATURES))\n",
    "for i in range(abril_selected_features.shape[1]):\n",
    "    abril_norm_vectors[:,i] = normalizar(abril_selected_features[:,i])\n",
    "    septiembre_norm_vectors[:,i] = normalizar(septiembre_selected_features[:,i])"
   ]
  },
  {
   "cell_type": "code",
   "execution_count": 78,
   "metadata": {
    "collapsed": false
   },
   "outputs": [
    {
     "name": "stdout",
     "output_type": "stream",
     "text": [
      "0.388000011444\n"
     ]
    }
   ],
   "source": [
    "a_matrix = compare_vectors_with_neighbours_normalized(abril_norm_vectors,septiembre_norm_vectors,abril_the_rois,\\\n",
    "                                           septiembre_the_rois,shared_rois,limit,2,sp.spatial.distance.euclidean)"
   ]
  },
  {
   "cell_type": "code",
   "execution_count": 79,
   "metadata": {
    "collapsed": true
   },
   "outputs": [],
   "source": [
    "n_identified,selected_distance,identified_indexs,abstenidos = get_n_correct(a_matrix,limit)"
   ]
  },
  {
   "cell_type": "code",
   "execution_count": 80,
   "metadata": {
    "collapsed": false
   },
   "outputs": [
    {
     "name": "stdout",
     "output_type": "stream",
     "text": [
      "44.84%\n"
     ]
    }
   ],
   "source": [
    "porcentaje_correcto = n_identified*100/limit\n",
    "print str(round(porcentaje_correcto,2))+ \"%\""
   ]
  },
  {
   "cell_type": "markdown",
   "metadata": {},
   "source": [
    "### Pruebas con diferentes distancias con normalización entre vecinos y normalizacion general"
   ]
  },
  {
   "cell_type": "code",
   "execution_count": null,
   "metadata": {
    "collapsed": true
   },
   "outputs": [],
   "source": [
    "abril_norm_vectors = np.ones((limit, N_FEATURES))\n",
    "septiembre_norm_vectors = np.ones((limit, N_FEATURES))\n",
    "for i in range(abril_selected_features.shape[1]):\n",
    "    abril_norm_vectors[:,i] = normalizar_norma(abril_selected_features[:,i])\n",
    "    septiembre_norm_vectors[:,i] = normalizar_norma(septiembre_selected_features[:,i])"
   ]
  },
  {
   "cell_type": "markdown",
   "metadata": {},
   "source": [
    "#### Euclidiana"
   ]
  },
  {
   "cell_type": "code",
   "execution_count": 89,
   "metadata": {
    "collapsed": false
   },
   "outputs": [
    {
     "name": "stdout",
     "output_type": "stream",
     "text": [
      "1.53100013733\n",
      "Dist Euclidiana con norma minmax entre vecinos: 33.43%\n"
     ]
    }
   ],
   "source": [
    "a_matrix_euclidiana = compare_vectors_with_neighbours(abril_selected_features,septiembre_selected_features,abril_the_rois,\\\n",
    "                                                      septiembre_the_rois,shared_rois,limit,2,normalizar,sp.spatial.distance.euclidean)\n",
    "n_identified,selected_distance,identified_indexs,abstenidos = get_n_correct(a_matrix_euclidiana,limit)\n",
    "porcentaje_correcto = n_identified*100/limit\n",
    "print \"Dist Euclidiana con norma minmax entre vecinos: \"+str(round(porcentaje_correcto,2))+ \"%\""
   ]
  },
  {
   "cell_type": "code",
   "execution_count": 88,
   "metadata": {
    "collapsed": false
   },
   "outputs": [
    {
     "name": "stdout",
     "output_type": "stream",
     "text": [
      "0.74799990654\n",
      "Dist Euclidiana con norma minmax general: 44.84%\n"
     ]
    }
   ],
   "source": [
    "a_matrix_euclidiana = compare_vectors_with_neighbours_normalized(abril_norm_vectors,septiembre_norm_vectors,abril_the_rois,\\\n",
    "                                           septiembre_the_rois,shared_rois,limit,2,sp.spatial.distance.euclidean)\n",
    "n_identified,selected_distance,identified_indexs,abstenidos = get_n_correct(a_matrix_euclidiana,limit)\n",
    "porcentaje_correcto = n_identified*100/limit\n",
    "print \"Dist Euclidiana con norma minmax general: \"+str(round(porcentaje_correcto,2))+ \"%\""
   ]
  },
  {
   "cell_type": "markdown",
   "metadata": {},
   "source": [
    "#### Manhattan"
   ]
  },
  {
   "cell_type": "code",
   "execution_count": 90,
   "metadata": {
    "collapsed": false
   },
   "outputs": [
    {
     "name": "stdout",
     "output_type": "stream",
     "text": [
      "1.23399996758\n",
      "Dist manhattan con norma minmax entre vecinos: 22.5%\n"
     ]
    }
   ],
   "source": [
    "a_matrix_manhattan = compare_vectors_with_neighbours(abril_selected_features,septiembre_selected_features,\\\n",
    "                                                     abril_the_rois,septiembre_the_rois,shared_rois,limit,2,\\\n",
    "                                                     normalizar,sp.spatial.distance.cityblock)\n",
    "n_identified,selected_distance,identified_indexs,abstenidos = get_n_correct(a_matrix_manhattan,limit)\n",
    "porcentaje_correcto = n_identified*100/limit\n",
    "print \"Dist manhattan con norma minmax entre vecinos: \"+str(round(porcentaje_correcto,2))+ \"%\""
   ]
  },
  {
   "cell_type": "code",
   "execution_count": 92,
   "metadata": {
    "collapsed": false
   },
   "outputs": [
    {
     "name": "stdout",
     "output_type": "stream",
     "text": [
      "0.467000007629\n",
      "Dist manhattan con norma minmax general: 26.43%\n"
     ]
    }
   ],
   "source": [
    "a_matrix_manhattan = compare_vectors_with_neighbours_normalized(abril_norm_vectors,septiembre_norm_vectors,\\\n",
    "                                                     abril_the_rois,septiembre_the_rois,shared_rois,limit,2,\\\n",
    "                                                     sp.spatial.distance.cityblock)\n",
    "n_identified,selected_distance,identified_indexs,abstenidos = get_n_correct(a_matrix_manhattan,limit)\n",
    "porcentaje_correcto = n_identified*100/limit\n",
    "print \"Dist manhattan con norma minmax general: \"+str(round(porcentaje_correcto,2))+ \"%\""
   ]
  },
  {
   "cell_type": "markdown",
   "metadata": {},
   "source": [
    "#### braycurtis"
   ]
  },
  {
   "cell_type": "code",
   "execution_count": 93,
   "metadata": {
    "collapsed": false
   },
   "outputs": [
    {
     "name": "stdout",
     "output_type": "stream",
     "text": [
      "1.44799995422\n",
      "Dist braycurtis con norma minmax entre vecinos: 38.79%\n"
     ]
    }
   ],
   "source": [
    "a_matrix_braycurtis = compare_vectors_with_neighbours(abril_selected_features,septiembre_selected_features,\\\n",
    "                                                      abril_the_rois,septiembre_the_rois,shared_rois,limit,2,normalizar,\\\n",
    "                                                      sp.spatial.distance.braycurtis)\n",
    "n_identified,selected_distance,identified_indexs,abstenidos = get_n_correct(a_matrix_braycurtis,limit)\n",
    "porcentaje_correcto = n_identified*100/limit\n",
    "print \"Dist braycurtis con norma minmax entre vecinos: \"+str(round(porcentaje_correcto,2))+ \"%\""
   ]
  },
  {
   "cell_type": "code",
   "execution_count": 95,
   "metadata": {
    "collapsed": false
   },
   "outputs": [
    {
     "name": "stdout",
     "output_type": "stream",
     "text": [
      "0.683000087738\n",
      "Dist braycurtis con norma minmax general: 45.35%\n"
     ]
    }
   ],
   "source": [
    "a_matrix_braycurtis = compare_vectors_with_neighbours_normalized(abril_norm_vectors,septiembre_norm_vectors,\\\n",
    "                                                     abril_the_rois,septiembre_the_rois,shared_rois,limit,2,\\\n",
    "                                                     sp.spatial.distance.braycurtis)\n",
    "n_identified,selected_distance,identified_indexs,abstenidos = get_n_correct(a_matrix_braycurtis,limit)\n",
    "porcentaje_correcto = n_identified*100/limit\n",
    "print \"Dist braycurtis con norma minmax general: \"+str(round(porcentaje_correcto,2))+ \"%\""
   ]
  },
  {
   "cell_type": "markdown",
   "metadata": {},
   "source": [
    "#### hamming"
   ]
  },
  {
   "cell_type": "code",
   "execution_count": 96,
   "metadata": {
    "collapsed": false
   },
   "outputs": [
    {
     "name": "stdout",
     "output_type": "stream",
     "text": [
      "1.48300004005\n",
      "Dist hamming con norma minmax entre vecinos: 39.04%\n"
     ]
    }
   ],
   "source": [
    "a_matrix_hamming = compare_vectors_with_neighbours(abril_selected_features,septiembre_selected_features,\\\n",
    "                                                   abril_the_rois,septiembre_the_rois,shared_rois,limit,2,\\\n",
    "                                                   normalizar,sp.spatial.distance.hamming)\n",
    "n_identified,selected_distance,identified_indexs,abstenidos = get_n_correct(a_matrix_hamming,limit)\n",
    "porcentaje_correcto = n_identified*100/limit\n",
    "print \"Dist hamming con norma minmax entre vecinos: \"+str(round(porcentaje_correcto,2))+ \"%\""
   ]
  },
  {
   "cell_type": "code",
   "execution_count": 98,
   "metadata": {
    "collapsed": false
   },
   "outputs": [
    {
     "name": "stdout",
     "output_type": "stream",
     "text": [
      "0.682000160217\n",
      "Dist hamming con norma minmax general: 39.7%\n"
     ]
    }
   ],
   "source": [
    "a_matrix_hamming = compare_vectors_with_neighbours_normalized(abril_norm_vectors,septiembre_norm_vectors,\\\n",
    "                                                   abril_the_rois,septiembre_the_rois,shared_rois,limit,2,\\\n",
    "                                                   sp.spatial.distance.hamming)\n",
    "n_identified,selected_distance,identified_indexs,abstenidos = get_n_correct(a_matrix_hamming,limit)\n",
    "porcentaje_correcto = n_identified*100/limit\n",
    "print \"Dist hamming con norma minmax general: \"+str(round(porcentaje_correcto,2))+ \"%\""
   ]
  },
  {
   "cell_type": "markdown",
   "metadata": {},
   "source": [
    "#### chebyshev"
   ]
  },
  {
   "cell_type": "code",
   "execution_count": 100,
   "metadata": {
    "collapsed": false
   },
   "outputs": [
    {
     "name": "stdout",
     "output_type": "stream",
     "text": [
      "1.27600002289\n",
      "Dist chebyshev con norma minmax general: 37.98%\n"
     ]
    }
   ],
   "source": [
    "a_matrix_chebyshev= compare_vectors_with_neighbours(abril_selected_features,septiembre_selected_features,abril_the_rois,\\\n",
    "                                                    septiembre_the_rois,shared_rois,limit,2,normalizar,sp.spatial.distance.chebyshev)\n",
    "n_identified,selected_distance,identified_indexs,abstenidos = get_n_correct(a_matrix_chebyshev,limit)\n",
    "porcentaje_correcto = n_identified*100/limit\n",
    "print \"Dist chebyshev con norma minmax general: \"+str(round(porcentaje_correcto,2))+ \"%\""
   ]
  },
  {
   "cell_type": "code",
   "execution_count": 101,
   "metadata": {
    "collapsed": false
   },
   "outputs": [
    {
     "name": "stdout",
     "output_type": "stream",
     "text": [
      "0.483999967575\n",
      "Dist chebyshev con norma minmax entre vecinos: 43.74%\n"
     ]
    }
   ],
   "source": [
    "a_matrix_chebyshev= compare_vectors_with_neighbours_normalized(abril_norm_vectors,septiembre_norm_vectors,abril_the_rois,\\\n",
    "                                                    septiembre_the_rois,shared_rois,limit,2,sp.spatial.distance.chebyshev)\n",
    "n_identified,selected_distance,identified_indexs,abstenidos = get_n_correct(a_matrix_chebyshev,limit)\n",
    "porcentaje_correcto = n_identified*100/limit\n",
    "print \"Dist chebyshev con norma minmax entre vecinos: \"+str(round(porcentaje_correcto,2))+ \"%\""
   ]
  },
  {
   "cell_type": "code",
   "execution_count": 1,
   "metadata": {
    "collapsed": false
   },
   "outputs": [
    {
     "data": {
      "text/plain": [
       "23"
      ]
     },
     "execution_count": 1,
     "metadata": {},
     "output_type": "execute_result"
    }
   ],
   "source": [
    "1388/60\n"
   ]
  },
  {
   "cell_type": "code",
   "execution_count": 5,
   "metadata": {
    "collapsed": false
   },
   "outputs": [
    {
     "data": {
      "text/plain": [
       "19"
      ]
     },
     "execution_count": 5,
     "metadata": {},
     "output_type": "execute_result"
    }
   ],
   "source": [
    "71620/3600"
   ]
  }
 ],
 "metadata": {
  "kernelspec": {
   "display_name": "Python 2",
   "language": "python",
   "name": "python2"
  },
  "language_info": {
   "codemirror_mode": {
    "name": "ipython",
    "version": 2
   },
   "file_extension": ".py",
   "mimetype": "text/x-python",
   "name": "python",
   "nbconvert_exporter": "python",
   "pygments_lexer": "ipython2",
   "version": "2.7.11"
  }
 },
 "nbformat": 4,
 "nbformat_minor": 0
}
