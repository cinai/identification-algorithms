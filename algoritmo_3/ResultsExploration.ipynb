{
 "cells": [
  {
   "cell_type": "markdown",
   "metadata": {},
   "source": [
    "## Importar lo importante"
   ]
  },
  {
   "cell_type": "code",
   "execution_count": 1,
   "metadata": {
    "collapsed": false
   },
   "outputs": [],
   "source": [
    "%matplotlib inline\n",
    "import matplotlib.pyplot as plt\n",
    "import time\n",
    "import datetime as dt\n",
    "import pickle\n",
    "import numpy as np\n",
    "import borrador\n",
    "from __future__ import division\n",
    "from auxiliar_functions import *\n",
    "from aux_functions_comparisson import *\n",
    "import tfe\n",
    "from geopy.distance import vincenty\n",
    "from itertools import chain, combinations\n",
    "import random\n",
    "import scipy as sp"
   ]
  },
  {
   "cell_type": "markdown",
   "metadata": {},
   "source": [
    "## Obtener datos"
   ]
  },
  {
   "cell_type": "code",
   "execution_count": 2,
   "metadata": {
    "collapsed": false
   },
   "outputs": [],
   "source": [
    "with open('data/shared_rois.pickle') as f:\n",
    "    shared_rois = pickle.load(f)"
   ]
  },
  {
   "cell_type": "code",
   "execution_count": 51,
   "metadata": {
    "collapsed": true
   },
   "outputs": [],
   "source": [
    "with open('data/feature_data.pickle') as f:\n",
    "    abril_vectors = pickle.load(f)\n",
    "    septiembre_vectors = pickle.load(f)"
   ]
  },
  {
   "cell_type": "code",
   "execution_count": 4,
   "metadata": {
    "collapsed": true
   },
   "outputs": [],
   "source": [
    "with open('data/rois_meters_data.pickle') as f:\n",
    "    abril_the_rois = pickle.load(f)\n",
    "    septiembre_the_rois = pickle.load(f)"
   ]
  },
  {
   "cell_type": "code",
   "execution_count": 5,
   "metadata": {
    "collapsed": false
   },
   "outputs": [
    {
     "data": {
      "text/plain": [
       "5169"
      ]
     },
     "execution_count": 5,
     "metadata": {},
     "output_type": "execute_result"
    }
   ],
   "source": [
    "limit = np.min((len(abril_vectors),len(septiembre_vectors)))\n",
    "limit"
   ]
  },
  {
   "cell_type": "code",
   "execution_count": 6,
   "metadata": {
    "collapsed": false
   },
   "outputs": [
    {
     "name": "stdout",
     "output_type": "stream",
     "text": [
      "% de tarjetas que comparten un roi en ambos meses: 93.38%\n",
      "% de tarjetas que comparten dos roi en ambos meses: 54.85%\n"
     ]
    }
   ],
   "source": [
    "shared_1_rois_2_month = 0\n",
    "shared_2_rois_2_month = 0\n",
    "for i in range(limit):\n",
    "    if shared_rois[i,i] > 0:\n",
    "        shared_1_rois_2_month += 1\n",
    "    if shared_rois[i,i] > 1:\n",
    "        shared_2_rois_2_month += 1\n",
    "print \"% de tarjetas que comparten un roi en ambos meses:\",str(round(shared_1_rois_2_month*100/limit,2)) + \"%\"\n",
    "print \"% de tarjetas que comparten dos roi en ambos meses:\", str(round(shared_2_rois_2_month*100/limit,2)) + \"%\""
   ]
  },
  {
   "cell_type": "markdown",
   "metadata": {},
   "source": [
    "### Histograma cantidad de vecinos de hogar y trabajo (2 rois) entre abril y septiembre"
   ]
  },
  {
   "cell_type": "code",
   "execution_count": 7,
   "metadata": {
    "collapsed": false
   },
   "outputs": [],
   "source": [
    "n_of_neighbours = []\n",
    "for i in range(limit):\n",
    "    n_of_neighbours.append(len(get_neighbours_index(abril_the_rois,shared_rois,i,2)))"
   ]
  },
  {
   "cell_type": "code",
   "execution_count": 8,
   "metadata": {
    "collapsed": false
   },
   "outputs": [
    {
     "data": {
      "text/plain": [
       "(array([ 1051.,  1642.,   808.,   431.,   263.,   191.,   116.,    91.,\n",
       "          117.]),\n",
       " array([0, 1, 2, 3, 4, 5, 6, 7, 8, 9]),\n",
       " <a list of 9 Patch objects>)"
      ]
     },
     "execution_count": 8,
     "metadata": {},
     "output_type": "execute_result"
    },
    {
     "data": {
      "image/png": "[encoded data removed]",
      "text/plain": [
       "<matplotlib.figure.Figure at 0x7f5e5bbc6d90>"
      ]
     },
     "metadata": {},
     "output_type": "display_data"
    }
   ],
   "source": [
    "plt.hist(n_of_neighbours,range(10))"
   ]
  },
  {
   "cell_type": "markdown",
   "metadata": {},
   "source": [
    "### Histograma cantidad de vecinos de hogar y trabajo (2 rois) entre abril y septiembre"
   ]
  },
  {
   "cell_type": "code",
   "execution_count": 9,
   "metadata": {
    "collapsed": true
   },
   "outputs": [],
   "source": [
    "n10_of_neighbours = filter(lambda x: x>9,n_of_neighbours)"
   ]
  },
  {
   "cell_type": "code",
   "execution_count": 10,
   "metadata": {
    "collapsed": false
   },
   "outputs": [
    {
     "data": {
      "text/plain": [
       "(array([ 269.,  109.,   36.,    8.,    8.,    8.,    5.,    4.,    1.,\n",
       "           0.,    0.,    1.,    2.,    1.,    0.,    0.,    0.,    0.,\n",
       "           1.,    0.,    2.,    0.,    0.,    1.,    1.,    0.,    1.,\n",
       "           0.,    0.,    1.]),\n",
       " array([  10.        ,   19.06666667,   28.13333333,   37.2       ,\n",
       "          46.26666667,   55.33333333,   64.4       ,   73.46666667,\n",
       "          82.53333333,   91.6       ,  100.66666667,  109.73333333,\n",
       "         118.8       ,  127.86666667,  136.93333333,  146.        ,\n",
       "         155.06666667,  164.13333333,  173.2       ,  182.26666667,\n",
       "         191.33333333,  200.4       ,  209.46666667,  218.53333333,\n",
       "         227.6       ,  236.66666667,  245.73333333,  254.8       ,\n",
       "         263.86666667,  272.93333333,  282.        ]),\n",
       " <a list of 30 Patch objects>)"
      ]
     },
     "execution_count": 10,
     "metadata": {},
     "output_type": "execute_result"
    },
    {
     "data": {
      "image/png": "[encoded data removed]",
      "text/plain": [
       "<matplotlib.figure.Figure at 0x7f5e4dc89510>"
      ]
     },
     "metadata": {},
     "output_type": "display_data"
    }
   ],
   "source": [
    "plt.hist(n10_of_neighbours,30)"
   ]
  },
  {
   "cell_type": "markdown",
   "metadata": {},
   "source": [
    "## Feature Exploration"
   ]
  },
  {
   "cell_type": "code",
   "execution_count": 7,
   "metadata": {
    "collapsed": true
   },
   "outputs": [],
   "source": [
    "N_FEATURES = 19"
   ]
  },
  {
   "cell_type": "code",
   "execution_count": 8,
   "metadata": {
    "collapsed": true
   },
   "outputs": [],
   "source": [
    "features_names = [\"msal\",\"mlal\",\"kmDistance\",\"kmMaxDist\",\"kmMinDist\",\"rg\",\"unc_entropy\", \\\n",
    "    \"random_entropy\",\"p100_diff_last_origin\",\"p100_diff_first_origin\",\"card_type\",\\\n",
    "    \"start_time\",\"end_time\",\"traveled_days\",\"traveled_days_bs\",\"frequence_regularity\",\\\n",
    "    \"p100_exclusive_bus_days\",\"p100_exclusive_metro_days\",\"P100_bus_trips\"]"
   ]
  },
  {
   "cell_type": "code",
   "execution_count": 9,
   "metadata": {
    "collapsed": true
   },
   "outputs": [],
   "source": [
    "features_dict = {\"msal\":0,\"mlal\":1,\"kmDistance\":2,\"kmMaxDist\":3,\"kmMinDist\":4,\"rg\":5,\"unc_entropy\":6,\n",
    "                  \"random_entropy\":7,\"p100_diff_last_origin\":8,\"p100_diff_first_origin\":9,\"card_type\":10,\n",
    "                  \"start_time\":11,\"end_time\":12,\"traveled_days\":13,\"traveled_days_bs\":14,\"frequence_regularity\":15,\n",
    "                  \"p100_exclusive_bus_days\":16,\"p100_exclusive_metro_days\":17,\"P100_bus_trips\":18}"
   ]
  },
  {
   "cell_type": "markdown",
   "metadata": {},
   "source": [
    "## Seleccionar Features para la comparación"
   ]
  },
  {
   "cell_type": "code",
   "execution_count": 10,
   "metadata": {
    "collapsed": true
   },
   "outputs": [],
   "source": [
    "selected_features = ['msal',\n",
    "  'kmMaxDist',\n",
    "  'rg',\n",
    "  'unc_entropy',\n",
    "  'card_type',\n",
    "  'start_time',\n",
    "  'end_time',\n",
    "  'traveled_days',\n",
    "  'P100_bus_trips']\n"
   ]
  },
  {
   "cell_type": "code",
   "execution_count": 11,
   "metadata": {
    "collapsed": false
   },
   "outputs": [],
   "source": [
    "abril_selected_features = filter_features(abril_vectors,selected_features,features_dict)\n",
    "septiembre_selected_features = filter_features(septiembre_vectors,selected_features,features_dict)"
   ]
  },
  {
   "cell_type": "raw",
   "metadata": {},
   "source": [
    "feature_min_max = np.ones((4,N_FEATURES))\n",
    "for feature in range(abril_vectors.shape[1]):\n",
    "    feature_min_max[:,feature] = [min(abril_vectors[feature]),min(septiembre_vectors[feature]), max(abril_vectors[feature]),\\\n",
    "                                   max(septiembre_vectors[feature])]\n",
    "    \n",
    "feature_min_max_df = pd.DataFrame(feature_min_max)    \n",
    "feature_min_max_df.index = [\"min_abril\",\"min_sept\",\"max_abril\",\"max_sept\"]\n",
    "feature_min_max_df.columns = features_names\n",
    "feature_min_max_df"
   ]
  },
  {
   "cell_type": "markdown",
   "metadata": {},
   "source": [
    "### Seleccionar con distancia euclidiana y similitud braycurtis entre los vecinos con las features ya normalizadas con min max"
   ]
  },
  {
   "cell_type": "code",
   "execution_count": 12,
   "metadata": {
    "collapsed": false
   },
   "outputs": [],
   "source": [
    "abril_norm_vectors = np.ones((limit, N_FEATURES))\n",
    "septiembre_norm_vectors = np.ones((limit, N_FEATURES))\n",
    "for i in range(abril_selected_features.shape[1]):\n",
    "    abril_norm_vectors[:,i] = normalizar_min_max(abril_selected_features[:,i])\n",
    "    septiembre_norm_vectors[:,i] = normalizar_min_max(septiembre_selected_features[:,i])"
   ]
  },
  {
   "cell_type": "code",
   "execution_count": 13,
   "metadata": {
    "collapsed": false
   },
   "outputs": [
    {
     "name": "stdout",
     "output_type": "stream",
     "text": [
      "0.71674990654\n",
      "Dist Euclidiana con norma minmax general: 47.17%\n",
      "Falsos positivos: 30.7796479009%\n",
      "Falsos negativos: 22.054556007%\n"
     ]
    }
   ],
   "source": [
    "a_matrix_euclidiana = compare_vectors_with_neighbours_normalized(abril_norm_vectors,septiembre_norm_vectors,abril_the_rois,\\\n",
    "                                           septiembre_the_rois,shared_rois,limit,2,sp.spatial.distance.euclidean)\n",
    "n_identified_e,selected_distance_e,identified_indexs_e,abstenidos_e = get_n_correct(a_matrix_euclidiana,limit)\n",
    "porcentaje_correcto = n_identified_e*100/limit\n",
    "print \"Dist Euclidiana con norma minmax general: \"+str(round(porcentaje_correcto,2))+ \"%\"\n",
    "print \"Falsos positivos: \"+ str(((limit-n_identified_e-len(abstenidos_e))*100/limit)) + \"%\"\n",
    "print \"Falsos negativos: \"+ str(len(abstenidos_e)*100/limit) + \"%\""
   ]
  },
  {
   "cell_type": "code",
   "execution_count": 41,
   "metadata": {
    "collapsed": false
   },
   "outputs": [
    {
     "data": {
      "text/plain": [
       "2"
      ]
     },
     "execution_count": 41,
     "metadata": {},
     "output_type": "execute_result"
    }
   ],
   "source": [
    "identified_indexs_e[2]"
   ]
  },
  {
   "cell_type": "code",
   "execution_count": 14,
   "metadata": {
    "collapsed": false
   },
   "outputs": [
    {
     "name": "stdout",
     "output_type": "stream",
     "text": [
      "0.516053199768\n",
      "Dist braycurtis con norma minmax general: 47.84%\n",
      "Falsos positivos: 31.824337396%\n",
      "Falsos negativos: 20.3327529503%\n"
     ]
    }
   ],
   "source": [
    "a_matrix_braycurtis = compare_vectors_with_neighbours_normalized(abril_norm_vectors,septiembre_norm_vectors,\\\n",
    "                                                     abril_the_rois,septiembre_the_rois,shared_rois,limit,2,\\\n",
    "                                                     sp.spatial.distance.braycurtis)\n",
    "n_identified_b,selected_distance_b,identified_indexs_b,abstenidos_b = get_n_correct(a_matrix_braycurtis,limit)\n",
    "porcentaje_correcto = n_identified_b*100/limit\n",
    "print \"Dist braycurtis con norma minmax general: \"+str(round(porcentaje_correcto,2))+ \"%\"\n",
    "print \"Falsos positivos: \"+ str(((limit-n_identified_b-len(abstenidos_b))*100/limit)) + \"%\"\n",
    "print \"Falsos negativos: \"+ str(len(abstenidos_b)*100/limit) + \"%\""
   ]
  },
  {
   "cell_type": "markdown",
   "metadata": {},
   "source": [
    "### Ver si son los mismos seleccionados"
   ]
  },
  {
   "cell_type": "code",
   "execution_count": 15,
   "metadata": {
    "collapsed": false
   },
   "outputs": [],
   "source": [
    "corr_in_both = []\n",
    "abst_in_both = []\n",
    "wrong_in_both = []\n",
    "corr_id_in_e = []\n",
    "corr_id_in_b = []\n",
    "wrong_id_in_e = []\n",
    "wrong_id_in_b = []\n",
    "for i in range(limit):\n",
    "    if identified_indexs_b[i] == identified_indexs_e[i]:\n",
    "        if identified_indexs_b[i] == -1:\n",
    "            abst_in_both.append(i)\n",
    "        elif identified_indexs_b[i] == i:\n",
    "            corr_in_both.append(i)\n",
    "        else:\n",
    "            wrong_in_both.append(i)\n",
    "    elif identified_indexs_b[i] != identified_indexs_e[i]:\n",
    "        if  identified_indexs_b[i] == -1 and identified_indexs_e[i] == i:\n",
    "            corr_id_in_e.append(i)\n",
    "        elif identified_indexs_b[i] == -1:\n",
    "            wrong_id_in_e.append(i)\n",
    "        elif identified_indexs_e[i] == -1 and identified_indexs_b[i] == i:\n",
    "            corr_id_in_b.append(i)\n",
    "        else:\n",
    "            wrong_id_in_b.append(i)\n",
    "            "
   ]
  },
  {
   "cell_type": "code",
   "execution_count": 16,
   "metadata": {
    "collapsed": false
   },
   "outputs": [
    {
     "name": "stdout",
     "output_type": "stream",
     "text": [
      "Ambos correctos: 2403\n",
      "Ambos incorrectos: 1381\n",
      "Ambos abstenidos: 1051\n",
      "Porcentaje en ambos igual: 93.538402012\n"
     ]
    }
   ],
   "source": [
    "print \"Ambos correctos: \"+ str(len(corr_in_both))\n",
    "print \"Ambos incorrectos: \"+ str(len(wrong_in_both))\n",
    "print \"Ambos abstenidos: \"+ str(len(abst_in_both))\n",
    "print \"Porcentaje en ambos igual: \"+ str((len(corr_in_both)+len(wrong_in_both)+len(abst_in_both))*100/limit)"
   ]
  },
  {
   "cell_type": "code",
   "execution_count": 17,
   "metadata": {
    "collapsed": false
   },
   "outputs": [
    {
     "name": "stdout",
     "output_type": "stream",
     "text": [
      "Correcto con euclidiana y abstenido con braycurtis: 0\n",
      "Incorrecto con euclidiana y abstenido con braycurtis: 0\n",
      "Correcto con braycurtis y abstenido con euclidiana: 17\n",
      "Incorrecto con braycurtis y abstenido con euclidiana: 317\n"
     ]
    }
   ],
   "source": [
    "print \"Correcto con euclidiana y abstenido con braycurtis: \"+ str(len(corr_id_in_e))\n",
    "print \"Incorrecto con euclidiana y abstenido con braycurtis: \"+ str(len(wrong_id_in_e))\n",
    "print \"Correcto con braycurtis y abstenido con euclidiana: \"+ str(len(corr_id_in_b))\n",
    "print \"Incorrecto con braycurtis y abstenido con euclidiana: \"+ str(len(wrong_id_in_b))\n"
   ]
  },
  {
   "cell_type": "markdown",
   "metadata": {},
   "source": [
    "### Ver en que orden queda el vector correcto con braycurtis"
   ]
  },
  {
   "cell_type": "code",
   "execution_count": 18,
   "metadata": {
    "collapsed": true
   },
   "outputs": [],
   "source": [
    "def get_position_right_answer(distance_matrix):\n",
    "    positions = []\n",
    "    n_neighbours = []\n",
    "    n_n_correct = []\n",
    "    neighbours_distances = []\n",
    "    limit = len(distance_matrix)\n",
    "    result = []\n",
    "    possible_same_person = []\n",
    "    for i in range(limit):\n",
    "        neighbours = np.where(distance_matrix[i] != -1)[0]\n",
    "        the_index = np.argmax(distance_matrix[i,:])\n",
    "        neighbours_distances = []\n",
    "        if distance_matrix[i,the_index] == -1:\n",
    "            continue\n",
    "        num_neighbours = len(neighbours)\n",
    "        if distance_matrix[i,i] == -1:\n",
    "            if num_neighbours == 1:\n",
    "                possible_same_person.append([i,the_index])\n",
    "            continue\n",
    "        if num_neighbours > 0:\n",
    "            if i != the_index:\n",
    "                for j in neighbours:\n",
    "                    neighbours_distances.append(distance_matrix[i,j])\n",
    "                sorted_neighbours = np.sort(neighbours_distances)\n",
    "                #positions.append(np.where(sorted_neighbours==distance_matrix[i,i]))\n",
    "                n_neighbours.append(num_neighbours)\n",
    "                result.append((distance_matrix[i,i],np.where(sorted_neighbours==distance_matrix[i,i])[0][0],num_neighbours))\n",
    "            else:\n",
    "                n_n_correct.append(num_neighbours)\n",
    "    #return positions,n_neighbours\n",
    "    return [result,n_neighbours,n_n_correct,possible_same_person]"
   ]
  },
  {
   "cell_type": "code",
   "execution_count": 84,
   "metadata": {
    "collapsed": true
   },
   "outputs": [],
   "source": [
    "def get_abstenidos_and_cambio_comportamiento(distance_matrix):\n",
    "    limit = len(distance_matrix)\n",
    "    abstenidos = 0\n",
    "    correctos = 0\n",
    "    cambio_comportamiento = 0\n",
    "    for i in range(limit):\n",
    "        neighbours = np.where(distance_matrix[i] != -1)[0]\n",
    "        the_index = np.argmax(distance_matrix[i,:])\n",
    "        if distance_matrix[i,the_index] == -1:\n",
    "            abstenidos += 1\n",
    "            continue\n",
    "        num_neighbours = len(neighbours)\n",
    "        if distance_matrix[i,i] == -1:\n",
    "            cambio_comportamiento += 1\n",
    "        if i == the_index:\n",
    "            correctos += 1\n",
    "    return correctos*100/limit,abstenidos*100/limit,cambio_comportamiento*100/limit"
   ]
  },
  {
   "cell_type": "code",
   "execution_count": 85,
   "metadata": {
    "collapsed": false
   },
   "outputs": [
    {
     "data": {
      "text/plain": [
       "(47.16579609208745, 22.054556006964596, 23.660282453085703)"
      ]
     },
     "execution_count": 85,
     "metadata": {},
     "output_type": "execute_result"
    }
   ],
   "source": [
    "get_abstenidos_and_cambio_comportamiento(a_matrix_euclidiana)"
   ]
  },
  {
   "cell_type": "code",
   "execution_count": 86,
   "metadata": {
    "collapsed": false
   },
   "outputs": [
    {
     "data": {
      "text/plain": [
       "92.88063455213774"
      ]
     },
     "execution_count": 86,
     "metadata": {},
     "output_type": "execute_result"
    }
   ],
   "source": [
    "sum((47.16579609208745, 22.054556006964596, 23.660282453085703))"
   ]
  },
  {
   "cell_type": "code",
   "execution_count": 19,
   "metadata": {
    "collapsed": true
   },
   "outputs": [],
   "source": [
    "def positions(p):\n",
    "    penultimo_3 = 0\n",
    "    penultimo_4 = 0\n",
    "    penultimo_5m = 0\n",
    "    only_two = 0\n",
    "    no_penultimo = 0\n",
    "    tercero = 0\n",
    "    for atuple in p:\n",
    "        if atuple[2] == 2:\n",
    "            only_two += 1\n",
    "        elif atuple[2] == 3 and atuple[2]-2 == atuple[1]:\n",
    "            penultimo_3 += 1\n",
    "        elif atuple[2] == 4 and atuple[2]-2 == atuple[1]:\n",
    "            penultimo_4 += 1\n",
    "        elif atuple[2]-2 == atuple[1]:\n",
    "            penultimo_5m += 1\n",
    "        else: \n",
    "            if atuple[2]-3 == atuple[1]:\n",
    "                tercero += 1\n",
    "            else: \n",
    "                no_penultimo +=1\n",
    "    print \"Solo dos opciones, \",only_two*100/len(p)\n",
    "    print \"Penultimo de 3, \",penultimo_3*100/len(p)\n",
    "    print \"Penultimo de 4, \",penultimo_4*100/len(p)\n",
    "    print \"Penultimod de 5 o mas, \",penultimo_5m*100/len(p)\n",
    "    print \"Tercero de 5 o mas, \",tercero*100/len(p)\n",
    "    print \"Ni tercero, \",no_penultimo*100/len(p)\n"
   ]
  },
  {
   "cell_type": "code",
   "execution_count": 20,
   "metadata": {
    "collapsed": false
   },
   "outputs": [],
   "source": [
    "p,n_n_fail,n_n_correct,p_s_p = get_position_right_answer(a_matrix_braycurtis)"
   ]
  },
  {
   "cell_type": "code",
   "execution_count": 21,
   "metadata": {
    "collapsed": false,
    "scrolled": true
   },
   "outputs": [
    {
     "name": "stdout",
     "output_type": "stream",
     "text": [
      "Solo dos opciones,  12.9834254144\n",
      "Penultimo de 3,  10.4972375691\n",
      "Penultimo de 4,  7.18232044199\n",
      "Penultimod de 5 o mas,  27.6243093923\n",
      "Tercero de 5 o mas,  18.7845303867\n",
      "Ni tercero,  22.9281767956\n"
     ]
    }
   ],
   "source": [
    "positions(p)"
   ]
  },
  {
   "cell_type": "code",
   "execution_count": 22,
   "metadata": {
    "collapsed": false
   },
   "outputs": [
    {
     "data": {
      "text/plain": [
       "7.5"
      ]
     },
     "execution_count": 22,
     "metadata": {},
     "output_type": "execute_result"
    }
   ],
   "source": [
    "79-45-(27+5+9+12)/2"
   ]
  },
  {
   "cell_type": "code",
   "execution_count": 23,
   "metadata": {
    "collapsed": false
   },
   "outputs": [
    {
     "data": {
      "text/plain": [
       "47.84290965370478"
      ]
     },
     "execution_count": 23,
     "metadata": {},
     "output_type": "execute_result"
    }
   ],
   "source": [
    "len(n_n_correct)*100/limit"
   ]
  },
  {
   "cell_type": "markdown",
   "metadata": {},
   "source": [
    "### Histograma de número de vecinos cuando el algoritmo falla"
   ]
  },
  {
   "cell_type": "code",
   "execution_count": 24,
   "metadata": {
    "collapsed": false
   },
   "outputs": [
    {
     "data": {
      "text/plain": [
       "(array([  0.,   0.,  47.,  46.,  40.,  30.,  20.,  17.,  12.,  10.,  12.,\n",
       "         13.,  11.,   6.,   9.,   6.,   6.,   1.,   4.,   5.,   6.,   5.,\n",
       "          3.,   3.,   3.,   4.,   3.,   5.,   5.]),\n",
       " array([ 0,  1,  2,  3,  4,  5,  6,  7,  8,  9, 10, 11, 12, 13, 14, 15, 16,\n",
       "        17, 18, 19, 20, 21, 22, 23, 24, 25, 26, 27, 28, 29]),\n",
       " <a list of 29 Patch objects>)"
      ]
     },
     "execution_count": 24,
     "metadata": {},
     "output_type": "execute_result"
    },
    {
     "data": {
      "image/png": "[encoded data removed]",
      "text/plain": [
       "<matplotlib.figure.Figure at 0x7f85f75c5a90>"
      ]
     },
     "metadata": {},
     "output_type": "display_data"
    }
   ],
   "source": [
    "plt.hist(n_n_fail,range(30))"
   ]
  },
  {
   "cell_type": "markdown",
   "metadata": {},
   "source": [
    "### Histograma de número de vecinos cuando el algoritmo acierta"
   ]
  },
  {
   "cell_type": "code",
   "execution_count": 25,
   "metadata": {
    "collapsed": false
   },
   "outputs": [
    {
     "data": {
      "text/plain": [
       "(array([  0.00000000e+00,   1.17500000e+03,   5.17000000e+02,\n",
       "          2.39000000e+02,   1.39000000e+02,   9.70000000e+01,\n",
       "          6.10000000e+01,   3.80000000e+01,   2.60000000e+01,\n",
       "          2.10000000e+01,   2.60000000e+01,   1.80000000e+01,\n",
       "          1.20000000e+01,   6.00000000e+00,   1.40000000e+01,\n",
       "          8.00000000e+00,   4.00000000e+00,   9.00000000e+00,\n",
       "          7.00000000e+00,   1.00000000e+00,   7.00000000e+00,\n",
       "          4.00000000e+00,   3.00000000e+00,   1.00000000e+00,\n",
       "          1.00000000e+00,   5.00000000e+00,   2.00000000e+00,\n",
       "          0.00000000e+00,   7.00000000e+00]),\n",
       " array([ 0,  1,  2,  3,  4,  5,  6,  7,  8,  9, 10, 11, 12, 13, 14, 15, 16,\n",
       "        17, 18, 19, 20, 21, 22, 23, 24, 25, 26, 27, 28, 29]),\n",
       " <a list of 29 Patch objects>)"
      ]
     },
     "execution_count": 25,
     "metadata": {},
     "output_type": "execute_result"
    },
    {
     "data": {
      "image/png": "[encoded data removed]",
      "text/plain": [
       "<matplotlib.figure.Figure at 0x7f85e9f871d0>"
      ]
     },
     "metadata": {},
     "output_type": "display_data"
    }
   ],
   "source": [
    "plt.hist(n_n_correct,range(30))"
   ]
  },
  {
   "cell_type": "code",
   "execution_count": 27,
   "metadata": {
    "collapsed": false
   },
   "outputs": [
    {
     "data": {
      "text/plain": [
       "467"
      ]
     },
     "execution_count": 27,
     "metadata": {},
     "output_type": "execute_result"
    }
   ],
   "source": [
    "len(p_s_p)"
   ]
  },
  {
   "cell_type": "code",
   "execution_count": 28,
   "metadata": {
    "collapsed": false
   },
   "outputs": [],
   "source": [
    "num_matches = []\n",
    "counter = 0\n",
    "for n in p_s_p:\n",
    "    n_matches = 0\n",
    "    for n2 in p_s_p:\n",
    "        if n2[1] == n[0] and n2[0] == n[1]:\n",
    "            n_matches += 1\n",
    "    num_matches.append(n_matches)\n",
    "    counter += 1"
   ]
  },
  {
   "cell_type": "code",
   "execution_count": 29,
   "metadata": {
    "collapsed": false
   },
   "outputs": [
    {
     "data": {
      "text/plain": [
       "(array([   0.,    0.,    0.,    0.,    0.,  467.,    0.,    0.,    0.,    0.]),\n",
       " array([-0.5, -0.4, -0.3, -0.2, -0.1,  0. ,  0.1,  0.2,  0.3,  0.4,  0.5]),\n",
       " <a list of 10 Patch objects>)"
      ]
     },
     "execution_count": 29,
     "metadata": {},
     "output_type": "execute_result"
    },
    {
     "data": {
      "image/png": "[encoded data removed]",
      "text/plain": [
       "<matplotlib.figure.Figure at 0x7f85e9940510>"
      ]
     },
     "metadata": {},
     "output_type": "display_data"
    }
   ],
   "source": [
    "plt.hist(num_matches)"
   ]
  },
  {
   "cell_type": "markdown",
   "metadata": {},
   "source": [
    "### Ver en que orden queda el vector correcto con euclidiana"
   ]
  },
  {
   "cell_type": "code",
   "execution_count": 30,
   "metadata": {
    "collapsed": false
   },
   "outputs": [
    {
     "name": "stdout",
     "output_type": "stream",
     "text": [
      "Solo dos opciones,  13.0434782609\n",
      "Penultimo de 3,  9.23913043478\n",
      "Penultimo de 4,  7.60869565217\n",
      "Penultimod de 5 o mas,  28.5326086957\n",
      "Tercero de 5 o mas,  18.4782608696\n",
      "Ni tercero,  23.097826087\n"
     ]
    }
   ],
   "source": [
    "p_e,n_n_fail,n_n_correct,p_s_p = get_position_right_answer(a_matrix_euclidiana)\n",
    "positions(p_e)"
   ]
  },
  {
   "cell_type": "code",
   "execution_count": 31,
   "metadata": {
    "collapsed": false
   },
   "outputs": [
    {
     "name": "stdout",
     "output_type": "stream",
     "text": [
      "Solo dos opciones,  12.9834254144\n",
      "Penultimo de 3,  10.4972375691\n",
      "Penultimo de 4,  7.18232044199\n",
      "Penultimod de 5 o mas,  27.6243093923\n",
      "Tercero de 5 o mas,  18.7845303867\n",
      "Ni tercero,  22.9281767956\n"
     ]
    }
   ],
   "source": [
    "positions(p)"
   ]
  },
  {
   "cell_type": "code",
   "execution_count": 32,
   "metadata": {
    "collapsed": false
   },
   "outputs": [
    {
     "data": {
      "text/plain": [
       "(array([  0.00000000e+00,   1.17500000e+03,   5.09000000e+02,\n",
       "          2.37000000e+02,   1.35000000e+02,   9.40000000e+01,\n",
       "          5.80000000e+01,   3.70000000e+01,   2.60000000e+01,\n",
       "          2.10000000e+01,   2.10000000e+01,   1.80000000e+01,\n",
       "          9.00000000e+00,   6.00000000e+00,   1.40000000e+01,\n",
       "          8.00000000e+00,   4.00000000e+00,   8.00000000e+00,\n",
       "          6.00000000e+00,   1.00000000e+00,   7.00000000e+00,\n",
       "          4.00000000e+00,   2.00000000e+00,   1.00000000e+00,\n",
       "          1.00000000e+00,   5.00000000e+00,   2.00000000e+00,\n",
       "          1.00000000e+00,   6.00000000e+00]),\n",
       " array([ 0,  1,  2,  3,  4,  5,  6,  7,  8,  9, 10, 11, 12, 13, 14, 15, 16,\n",
       "        17, 18, 19, 20, 21, 22, 23, 24, 25, 26, 27, 28, 29]),\n",
       " <a list of 29 Patch objects>)"
      ]
     },
     "execution_count": 32,
     "metadata": {},
     "output_type": "execute_result"
    },
    {
     "data": {
      "image/png": "[encoded data removed]",
      "text/plain": [
       "<matplotlib.figure.Figure at 0x7f85e911e250>"
      ]
     },
     "metadata": {},
     "output_type": "display_data"
    }
   ],
   "source": [
    "plt.hist(n_n_correct,range(30))"
   ]
  },
  {
   "cell_type": "code",
   "execution_count": 33,
   "metadata": {
    "collapsed": false
   },
   "outputs": [
    {
     "data": {
      "text/plain": [
       "(array([  0.,   0.,  48.,  41.,  40.,  30.,  20.,  16.,  11.,  10.,  17.,\n",
       "         12.,  14.,   6.,   8.,   6.,   6.,   2.,   5.,   5.,   6.,   5.,\n",
       "          4.,   3.,   3.,   4.,   3.,   4.,   6.]),\n",
       " array([ 0,  1,  2,  3,  4,  5,  6,  7,  8,  9, 10, 11, 12, 13, 14, 15, 16,\n",
       "        17, 18, 19, 20, 21, 22, 23, 24, 25, 26, 27, 28, 29]),\n",
       " <a list of 29 Patch objects>)"
      ]
     },
     "execution_count": 33,
     "metadata": {},
     "output_type": "execute_result"
    },
    {
     "data": {
      "image/png": "[encoded data removed]",
      "text/plain": [
       "<matplotlib.figure.Figure at 0x7f85e911e990>"
      ]
     },
     "metadata": {},
     "output_type": "display_data"
    }
   ],
   "source": [
    "plt.hist(n_n_fail,range(30))"
   ]
  },
  {
   "cell_type": "code",
   "execution_count": 140,
   "metadata": {
    "collapsed": false
   },
   "outputs": [
    {
     "data": {
      "text/plain": [
       "7.471264367816092"
      ]
     },
     "execution_count": 140,
     "metadata": {},
     "output_type": "execute_result"
    }
   ],
   "source": [
    "(70+60)*100/(1260+480)"
   ]
  },
  {
   "cell_type": "code",
   "execution_count": 37,
   "metadata": {
    "collapsed": false
   },
   "outputs": [],
   "source": [
    "df_a_vectors = pd.DataFrame(abril_vectors)"
   ]
  },
  {
   "cell_type": "code",
   "execution_count": 42,
   "metadata": {
    "collapsed": true
   },
   "outputs": [],
   "source": [
    "def get_array_identified_ids(identified_ids):\n",
    "    result = []\n",
    "    for i in range(len(identified_ids)):\n",
    "        if i == identified_ids[i]:\n",
    "            result.append(1)\n",
    "        else:\n",
    "            result.append(0)\n",
    "    return result"
   ]
  },
  {
   "cell_type": "markdown",
   "metadata": {},
   "source": [
    "#### Saving a sample of features with the class identified or not"
   ]
  },
  {
   "cell_type": "code",
   "execution_count": 43,
   "metadata": {
    "collapsed": true
   },
   "outputs": [],
   "source": [
    "df_a_vectors['identified'] = get_array_identified_ids(identified_indexs_e)"
   ]
  },
  {
   "cell_type": "code",
   "execution_count": 45,
   "metadata": {
    "collapsed": false
   },
   "outputs": [],
   "source": [
    "df_a_vectors.columns = [\"msal\",\"mlal\",\"kmDistance\",\"kmMaxDist\",\"kmMinDist\",\"rg\",\"unc_entropy\", \\\n",
    "    \"random_entropy\",\"p100_diff_last_origin\",\"p100_diff_first_origin\",\"card_type\",\\\n",
    "    \"start_time\",\"end_time\",\"traveled_days\",\"traveled_days_bs\",\"frequence_regularity\",\\\n",
    "    \"p100_exclusive_bus_days\",\"p100_exclusive_metro_days\",\"P100_bus_trips\",\"identified\"]"
   ]
  },
  {
   "cell_type": "markdown",
   "metadata": {},
   "source": [
    "All the data"
   ]
  },
  {
   "cell_type": "code",
   "execution_count": 55,
   "metadata": {
    "collapsed": false
   },
   "outputs": [],
   "source": [
    "file_path = 'abril_vectors_norm_identified'+ '.csv'\n",
    "df_a_vectors.to_csv(path_or_buf=file_path)"
   ]
  },
  {
   "cell_type": "markdown",
   "metadata": {},
   "source": [
    "1000 raws"
   ]
  },
  {
   "cell_type": "code",
   "execution_count": 56,
   "metadata": {
    "collapsed": true
   },
   "outputs": [],
   "source": [
    "file_path = 'abril_vectors_norm_identified_1000'+ '.csv'\n",
    "df_a_vectors.sample(1000).to_csv(path_or_buf=file_path)"
   ]
  },
  {
   "cell_type": "markdown",
   "metadata": {},
   "source": [
    "500 rows"
   ]
  },
  {
   "cell_type": "code",
   "execution_count": 57,
   "metadata": {
    "collapsed": true
   },
   "outputs": [],
   "source": [
    "file_path = 'abril_vectors_norm_identified_500'+ '.csv'\n",
    "df_a_vectors.sample(500).to_csv(path_or_buf=file_path)"
   ]
  },
  {
   "cell_type": "code",
   "execution_count": 63,
   "metadata": {
    "collapsed": false
   },
   "outputs": [],
   "source": [
    "df0_abril_vectors = pd.read_csv('data/Distancia_Euclideana/abril_features.csv')"
   ]
  },
  {
   "cell_type": "code",
   "execution_count": 64,
   "metadata": {
    "collapsed": false
   },
   "outputs": [],
   "source": [
    "df0_abril_vectors['identified'] = get_array_identified_ids(identified_indexs_e)"
   ]
  },
  {
   "cell_type": "code",
   "execution_count": 65,
   "metadata": {
    "collapsed": false
   },
   "outputs": [
    {
     "data": {
      "text/html": [
       "<div>\n",
       "<table border=\"1\" class=\"dataframe\">\n",
       "  <thead>\n",
       "    <tr style=\"text-align: right;\">\n",
       "      <th></th>\n",
       "      <th># msal</th>\n",
       "      <th>mlal</th>\n",
       "      <th>kmDistance</th>\n",
       "      <th>kmMaxDist</th>\n",
       "      <th>kmMinDist</th>\n",
       "      <th>rg</th>\n",
       "      <th>unc_entropy</th>\n",
       "      <th>random_entropy</th>\n",
       "      <th>p100_diff_last_origin</th>\n",
       "      <th>p100_diff_first_origin</th>\n",
       "      <th>card_type</th>\n",
       "      <th>start_time</th>\n",
       "      <th>end_time</th>\n",
       "      <th>traveled_days</th>\n",
       "      <th>traveled_days_bs</th>\n",
       "      <th>frequence_regularity</th>\n",
       "      <th>p100_exclusive_bus_days</th>\n",
       "      <th>p100_exclusive_metro_days</th>\n",
       "      <th>P100_bus_trips</th>\n",
       "      <th>identified</th>\n",
       "    </tr>\n",
       "  </thead>\n",
       "  <tbody>\n",
       "    <tr>\n",
       "      <th>0</th>\n",
       "      <td>469.714286</td>\n",
       "      <td>744.714286</td>\n",
       "      <td>195.808618</td>\n",
       "      <td>16.883693</td>\n",
       "      <td>5.586141</td>\n",
       "      <td>5450.200715</td>\n",
       "      <td>2.554585</td>\n",
       "      <td>2.321928</td>\n",
       "      <td>57.142857</td>\n",
       "      <td>42.857143</td>\n",
       "      <td>0</td>\n",
       "      <td>33061</td>\n",
       "      <td>67229</td>\n",
       "      <td>7</td>\n",
       "      <td>5</td>\n",
       "      <td>4</td>\n",
       "      <td>100.0</td>\n",
       "      <td>0</td>\n",
       "      <td>100.000000</td>\n",
       "      <td>1</td>\n",
       "    </tr>\n",
       "    <tr>\n",
       "      <th>1</th>\n",
       "      <td>530.200000</td>\n",
       "      <td>822.200000</td>\n",
       "      <td>115.374820</td>\n",
       "      <td>14.292865</td>\n",
       "      <td>1.393997</td>\n",
       "      <td>5287.442595</td>\n",
       "      <td>1.991076</td>\n",
       "      <td>1.584963</td>\n",
       "      <td>40.000000</td>\n",
       "      <td>40.000000</td>\n",
       "      <td>0</td>\n",
       "      <td>32320</td>\n",
       "      <td>64806</td>\n",
       "      <td>5</td>\n",
       "      <td>4</td>\n",
       "      <td>5</td>\n",
       "      <td>100.0</td>\n",
       "      <td>0</td>\n",
       "      <td>100.000000</td>\n",
       "      <td>0</td>\n",
       "    </tr>\n",
       "    <tr>\n",
       "      <th>2</th>\n",
       "      <td>251.375000</td>\n",
       "      <td>689.875000</td>\n",
       "      <td>105.812368</td>\n",
       "      <td>15.543822</td>\n",
       "      <td>0.474051</td>\n",
       "      <td>4689.059189</td>\n",
       "      <td>2.920597</td>\n",
       "      <td>3.321928</td>\n",
       "      <td>87.500000</td>\n",
       "      <td>50.000000</td>\n",
       "      <td>0</td>\n",
       "      <td>35691</td>\n",
       "      <td>63735</td>\n",
       "      <td>8</td>\n",
       "      <td>7</td>\n",
       "      <td>4</td>\n",
       "      <td>12.5</td>\n",
       "      <td>25</td>\n",
       "      <td>36.842105</td>\n",
       "      <td>1</td>\n",
       "    </tr>\n",
       "    <tr>\n",
       "      <th>3</th>\n",
       "      <td>426.600000</td>\n",
       "      <td>891.600000</td>\n",
       "      <td>24.405205</td>\n",
       "      <td>2.654686</td>\n",
       "      <td>2.343039</td>\n",
       "      <td>1217.127320</td>\n",
       "      <td>1.360964</td>\n",
       "      <td>1.584963</td>\n",
       "      <td>40.000000</td>\n",
       "      <td>20.000000</td>\n",
       "      <td>0</td>\n",
       "      <td>30747</td>\n",
       "      <td>56383</td>\n",
       "      <td>5</td>\n",
       "      <td>4</td>\n",
       "      <td>5</td>\n",
       "      <td>100.0</td>\n",
       "      <td>0</td>\n",
       "      <td>100.000000</td>\n",
       "      <td>1</td>\n",
       "    </tr>\n",
       "    <tr>\n",
       "      <th>4</th>\n",
       "      <td>689.400000</td>\n",
       "      <td>775.000000</td>\n",
       "      <td>95.360226</td>\n",
       "      <td>10.425179</td>\n",
       "      <td>9.932433</td>\n",
       "      <td>5021.142449</td>\n",
       "      <td>1.485475</td>\n",
       "      <td>1.584963</td>\n",
       "      <td>20.000000</td>\n",
       "      <td>40.000000</td>\n",
       "      <td>0</td>\n",
       "      <td>20398</td>\n",
       "      <td>66933</td>\n",
       "      <td>5</td>\n",
       "      <td>4</td>\n",
       "      <td>5</td>\n",
       "      <td>100.0</td>\n",
       "      <td>0</td>\n",
       "      <td>100.000000</td>\n",
       "      <td>1</td>\n",
       "    </tr>\n",
       "  </tbody>\n",
       "</table>\n",
       "</div>"
      ],
      "text/plain": [
       "       # msal        mlal  kmDistance  kmMaxDist  kmMinDist           rg  \\\n",
       "0  469.714286  744.714286  195.808618  16.883693   5.586141  5450.200715   \n",
       "1  530.200000  822.200000  115.374820  14.292865   1.393997  5287.442595   \n",
       "2  251.375000  689.875000  105.812368  15.543822   0.474051  4689.059189   \n",
       "3  426.600000  891.600000   24.405205   2.654686   2.343039  1217.127320   \n",
       "4  689.400000  775.000000   95.360226  10.425179   9.932433  5021.142449   \n",
       "\n",
       "   unc_entropy  random_entropy  p100_diff_last_origin  p100_diff_first_origin  \\\n",
       "0     2.554585        2.321928              57.142857               42.857143   \n",
       "1     1.991076        1.584963              40.000000               40.000000   \n",
       "2     2.920597        3.321928              87.500000               50.000000   \n",
       "3     1.360964        1.584963              40.000000               20.000000   \n",
       "4     1.485475        1.584963              20.000000               40.000000   \n",
       "\n",
       "   card_type  start_time  end_time  traveled_days  traveled_days_bs  \\\n",
       "0          0       33061     67229              7                 5   \n",
       "1          0       32320     64806              5                 4   \n",
       "2          0       35691     63735              8                 7   \n",
       "3          0       30747     56383              5                 4   \n",
       "4          0       20398     66933              5                 4   \n",
       "\n",
       "   frequence_regularity  p100_exclusive_bus_days  p100_exclusive_metro_days  \\\n",
       "0                     4                    100.0                          0   \n",
       "1                     5                    100.0                          0   \n",
       "2                     4                     12.5                         25   \n",
       "3                     5                    100.0                          0   \n",
       "4                     5                    100.0                          0   \n",
       "\n",
       "   P100_bus_trips  identified  \n",
       "0      100.000000           1  \n",
       "1      100.000000           0  \n",
       "2       36.842105           1  \n",
       "3      100.000000           1  \n",
       "4      100.000000           1  "
      ]
     },
     "execution_count": 65,
     "metadata": {},
     "output_type": "execute_result"
    }
   ],
   "source": [
    "df0_abril_vectors.head()"
   ]
  },
  {
   "cell_type": "code",
   "execution_count": 66,
   "metadata": {
    "collapsed": false
   },
   "outputs": [],
   "source": [
    "df0_abril_vectors.columns = [\"msal\",\"mlal\",\"kmDistance\",\"kmMaxDist\",\"kmMinDist\",\"rg\",\"unc_entropy\", \\\n",
    "    \"random_entropy\",\"p100_diff_last_origin\",\"p100_diff_first_origin\",\"card_type\",\\\n",
    "    \"start_time\",\"end_time\",\"traveled_days\",\"traveled_days_bs\",\"frequence_regularity\",\\\n",
    "    \"p100_exclusive_bus_days\",\"p100_exclusive_metro_days\",\"P100_bus_trips\",\"identified\"]"
   ]
  },
  {
   "cell_type": "code",
   "execution_count": 76,
   "metadata": {
    "collapsed": false
   },
   "outputs": [
    {
     "data": {
      "text/html": [
       "<div>\n",
       "<table border=\"1\" class=\"dataframe\">\n",
       "  <thead>\n",
       "    <tr style=\"text-align: right;\">\n",
       "      <th></th>\n",
       "      <th>msal</th>\n",
       "      <th>mlal</th>\n",
       "      <th>kmDistance</th>\n",
       "      <th>kmMaxDist</th>\n",
       "      <th>kmMinDist</th>\n",
       "      <th>rg</th>\n",
       "      <th>unc_entropy</th>\n",
       "      <th>random_entropy</th>\n",
       "      <th>p100_diff_last_origin</th>\n",
       "      <th>p100_diff_first_origin</th>\n",
       "      <th>card_type</th>\n",
       "      <th>start_time</th>\n",
       "      <th>end_time</th>\n",
       "      <th>traveled_days</th>\n",
       "      <th>traveled_days_bs</th>\n",
       "      <th>frequence_regularity</th>\n",
       "      <th>p100_exclusive_bus_days</th>\n",
       "      <th>p100_exclusive_metro_days</th>\n",
       "      <th>P100_bus_trips</th>\n",
       "      <th>identified</th>\n",
       "    </tr>\n",
       "  </thead>\n",
       "  <tbody>\n",
       "    <tr>\n",
       "      <th>1142</th>\n",
       "      <td>392.333333</td>\n",
       "      <td>726.166667</td>\n",
       "      <td>86.668397</td>\n",
       "      <td>9.260277</td>\n",
       "      <td>0.853515</td>\n",
       "      <td>4152.369059</td>\n",
       "      <td>3.290322</td>\n",
       "      <td>2.584963</td>\n",
       "      <td>83.333333</td>\n",
       "      <td>50</td>\n",
       "      <td>0</td>\n",
       "      <td>30895</td>\n",
       "      <td>61394</td>\n",
       "      <td>6</td>\n",
       "      <td>5</td>\n",
       "      <td>5</td>\n",
       "      <td>33.333333</td>\n",
       "      <td>0</td>\n",
       "      <td>82.608696</td>\n",
       "      <td>0</td>\n",
       "    </tr>\n",
       "  </tbody>\n",
       "</table>\n",
       "</div>"
      ],
      "text/plain": [
       "            msal        mlal  kmDistance  kmMaxDist  kmMinDist           rg  \\\n",
       "1142  392.333333  726.166667   86.668397   9.260277   0.853515  4152.369059   \n",
       "\n",
       "      unc_entropy  random_entropy  p100_diff_last_origin  \\\n",
       "1142     3.290322        2.584963              83.333333   \n",
       "\n",
       "      p100_diff_first_origin  card_type  start_time  end_time  traveled_days  \\\n",
       "1142                      50          0       30895     61394              6   \n",
       "\n",
       "      traveled_days_bs  frequence_regularity  p100_exclusive_bus_days  \\\n",
       "1142                 5                     5                33.333333   \n",
       "\n",
       "      p100_exclusive_metro_days  P100_bus_trips  identified  \n",
       "1142                          0       82.608696           0  "
      ]
     },
     "execution_count": 76,
     "metadata": {},
     "output_type": "execute_result"
    }
   ],
   "source": [
    "df0_abril_vectors.sample().head(10)"
   ]
  },
  {
   "cell_type": "code",
   "execution_count": 82,
   "metadata": {
    "collapsed": true
   },
   "outputs": [],
   "source": [
    "file_path = 'abril_vectors_identified'+ '.csv'\n",
    "df0_abril_vectors.to_csv(path_or_buf=file_path)"
   ]
  },
  {
   "cell_type": "code",
   "execution_count": 71,
   "metadata": {
    "collapsed": true
   },
   "outputs": [],
   "source": [
    "file_path = 'abril_vectors_identified_1000'+ '.csv'\n",
    "df0_abril_vectors.sample(1000).to_csv(path_or_buf=file_path)"
   ]
  },
  {
   "cell_type": "code",
   "execution_count": 72,
   "metadata": {
    "collapsed": true
   },
   "outputs": [],
   "source": [
    "file_path = 'abril_vectors_identified_500'+ '.csv'\n",
    "df0_abril_vectors.sample(500).to_csv(path_or_buf=file_path)"
   ]
  }
 ],
 "metadata": {
  "kernelspec": {
   "display_name": "Python 2",
   "language": "python",
   "name": "python2"
  },
  "language_info": {
   "codemirror_mode": {
    "name": "ipython",
    "version": 2
   },
   "file_extension": ".py",
   "mimetype": "text/x-python",
   "name": "python",
   "nbconvert_exporter": "python",
   "pygments_lexer": "ipython2",
   "version": "2.7.11"
  }
 },
 "nbformat": 4,
 "nbformat_minor": 0
}
