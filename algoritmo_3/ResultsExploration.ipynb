{
 "cells": [
  {
   "cell_type": "markdown",
   "metadata": {},
   "source": [
    "## Importar lo importante"
   ]
  },
  {
   "cell_type": "code",
   "execution_count": 1,
   "metadata": {
    "collapsed": false
   },
   "outputs": [],
   "source": [
    "%matplotlib inline\n",
    "import matplotlib.pyplot as plt\n",
    "import time\n",
    "import datetime as dt\n",
    "import pickle\n",
    "import numpy as np\n",
    "import borrador\n",
    "from __future__ import division\n",
    "from auxiliar_functions import *\n",
    "from aux_functions_comparisson import *\n",
    "import tfe\n",
    "from geopy.distance import vincenty\n",
    "from itertools import chain, combinations\n",
    "import random\n",
    "import scipy as sp"
   ]
  },
  {
   "cell_type": "markdown",
   "metadata": {},
   "source": [
    "## Obtener datos"
   ]
  },
  {
   "cell_type": "code",
   "execution_count": 2,
   "metadata": {
    "collapsed": false
   },
   "outputs": [],
   "source": [
    "with open('data/shared_rois.pickle') as f:\n",
    "    shared_rois = pickle.load(f)"
   ]
  },
  {
   "cell_type": "code",
   "execution_count": 3,
   "metadata": {
    "collapsed": true
   },
   "outputs": [],
   "source": [
    "with open('data/feature_data.pickle') as f:\n",
    "    abril_vectors = pickle.load(f)\n",
    "    septiembre_vectors = pickle.load(f)"
   ]
  },
  {
   "cell_type": "code",
   "execution_count": 4,
   "metadata": {
    "collapsed": true
   },
   "outputs": [],
   "source": [
    "with open('data/rois_meters_data.pickle') as f:\n",
    "    abril_the_rois = pickle.load(f)\n",
    "    septiembre_the_rois = pickle.load(f)"
   ]
  },
  {
   "cell_type": "code",
   "execution_count": 5,
   "metadata": {
    "collapsed": false
   },
   "outputs": [
    {
     "data": {
      "text/plain": [
       "5169"
      ]
     },
     "execution_count": 5,
     "metadata": {},
     "output_type": "execute_result"
    }
   ],
   "source": [
    "limit = np.min((len(abril_vectors),len(septiembre_vectors)))\n",
    "limit"
   ]
  },
  {
   "cell_type": "code",
   "execution_count": 6,
   "metadata": {
    "collapsed": false
   },
   "outputs": [
    {
     "name": "stdout",
     "output_type": "stream",
     "text": [
      "% de tarjetas que comparten un roi en ambos meses: 93.38%\n",
      "% de tarjetas que comparten dos roi en ambos meses: 54.85%\n"
     ]
    }
   ],
   "source": [
    "shared_1_rois_2_month = 0\n",
    "shared_2_rois_2_month = 0\n",
    "for i in range(limit):\n",
    "    if shared_rois[i,i] > 0:\n",
    "        shared_1_rois_2_month += 1\n",
    "    if shared_rois[i,i] > 1:\n",
    "        shared_2_rois_2_month += 1\n",
    "print \"% de tarjetas que comparten un roi en ambos meses:\",str(round(shared_1_rois_2_month*100/limit,2)) + \"%\"\n",
    "print \"% de tarjetas que comparten dos roi en ambos meses:\", str(round(shared_2_rois_2_month*100/limit,2)) + \"%\""
   ]
  },
  {
   "cell_type": "markdown",
   "metadata": {},
   "source": [
    "### Histograma cantidad de vecinos de hogar y trabajo (2 rois) entre abril y septiembre"
   ]
  },
  {
   "cell_type": "code",
   "execution_count": 7,
   "metadata": {
    "collapsed": false
   },
   "outputs": [],
   "source": [
    "n_of_neighbours = []\n",
    "for i in range(limit):\n",
    "    n_of_neighbours.append(len(get_neighbours_index(abril_the_rois,shared_rois,i,2)))"
   ]
  },
  {
   "cell_type": "code",
   "execution_count": 8,
   "metadata": {
    "collapsed": false
   },
   "outputs": [
    {
     "data": {
      "text/plain": [
       "(array([ 1051.,  1642.,   808.,   431.,   263.,   191.,   116.,    91.,\n",
       "          117.]),\n",
       " array([0, 1, 2, 3, 4, 5, 6, 7, 8, 9]),\n",
       " <a list of 9 Patch objects>)"
      ]
     },
     "execution_count": 8,
     "metadata": {},
     "output_type": "execute_result"
    },
    {
     "data": {
      "image/png": "[encoded data removed]",
      "text/plain": [
       "<matplotlib.figure.Figure at 0x7f5e5bbc6d90>"
      ]
     },
     "metadata": {},
     "output_type": "display_data"
    }
   ],
   "source": [
    "plt.hist(n_of_neighbours,range(10))"
   ]
  },
  {
   "cell_type": "markdown",
   "metadata": {},
   "source": [
    "### Histograma cantidad de vecinos de hogar y trabajo (2 rois) entre abril y septiembre"
   ]
  },
  {
   "cell_type": "code",
   "execution_count": 9,
   "metadata": {
    "collapsed": true
   },
   "outputs": [],
   "source": [
    "n10_of_neighbours = filter(lambda x: x>9,n_of_neighbours)"
   ]
  },
  {
   "cell_type": "code",
   "execution_count": 10,
   "metadata": {
    "collapsed": false
   },
   "outputs": [
    {
     "data": {
      "text/plain": [
       "(array([ 269.,  109.,   36.,    8.,    8.,    8.,    5.,    4.,    1.,\n",
       "           0.,    0.,    1.,    2.,    1.,    0.,    0.,    0.,    0.,\n",
       "           1.,    0.,    2.,    0.,    0.,    1.,    1.,    0.,    1.,\n",
       "           0.,    0.,    1.]),\n",
       " array([  10.        ,   19.06666667,   28.13333333,   37.2       ,\n",
       "          46.26666667,   55.33333333,   64.4       ,   73.46666667,\n",
       "          82.53333333,   91.6       ,  100.66666667,  109.73333333,\n",
       "         118.8       ,  127.86666667,  136.93333333,  146.        ,\n",
       "         155.06666667,  164.13333333,  173.2       ,  182.26666667,\n",
       "         191.33333333,  200.4       ,  209.46666667,  218.53333333,\n",
       "         227.6       ,  236.66666667,  245.73333333,  254.8       ,\n",
       "         263.86666667,  272.93333333,  282.        ]),\n",
       " <a list of 30 Patch objects>)"
      ]
     },
     "execution_count": 10,
     "metadata": {},
     "output_type": "execute_result"
    },
    {
     "data": {
      "image/png": "[encoded data removed]",
      "text/plain": [
       "<matplotlib.figure.Figure at 0x7f5e4dc89510>"
      ]
     },
     "metadata": {},
     "output_type": "display_data"
    }
   ],
   "source": [
    "plt.hist(n10_of_neighbours,30)"
   ]
  },
  {
   "cell_type": "markdown",
   "metadata": {},
   "source": [
    "## Feature Exploration"
   ]
  },
  {
   "cell_type": "code",
   "execution_count": 11,
   "metadata": {
    "collapsed": true
   },
   "outputs": [],
   "source": [
    "N_FEATURES = 19"
   ]
  },
  {
   "cell_type": "code",
   "execution_count": 12,
   "metadata": {
    "collapsed": true
   },
   "outputs": [],
   "source": [
    "features_names = [\"msal\",\"mlal\",\"kmDistance\",\"kmMaxDist\",\"kmMinDist\",\"rg\",\"unc_entropy\", \\\n",
    "    \"random_entropy\",\"p100_diff_last_origin\",\"p100_diff_first_origin\",\"card_type\",\\\n",
    "    \"start_time\",\"end_time\",\"traveled_days\",\"traveled_days_bs\",\"frequence_regularity\",\\\n",
    "    \"p100_exclusive_bus_days\",\"p100_exclusive_metro_days\",\"P100_bus_trips\"]"
   ]
  },
  {
   "cell_type": "code",
   "execution_count": 13,
   "metadata": {
    "collapsed": true
   },
   "outputs": [],
   "source": [
    "features_dict = {\"msal\":0,\"mlal\":1,\"kmDistance\":2,\"kmMaxDist\":3,\"kmMinDist\":4,\"rg\":5,\"unc_entropy\":6,\n",
    "                  \"random_entropy\":7,\"p100_diff_last_origin\":8,\"p100_diff_first_origin\":9,\"card_type\":10,\n",
    "                  \"start_time\":11,\"end_time\":12,\"traveled_days\":13,\"traveled_days_bs\":14,\"frequence_regularity\":15,\n",
    "                  \"p100_exclusive_bus_days\":16,\"p100_exclusive_metro_days\":17,\"P100_bus_trips\":18}"
   ]
  },
  {
   "cell_type": "markdown",
   "metadata": {},
   "source": [
    "## Seleccionar Features para la comparación"
   ]
  },
  {
   "cell_type": "code",
   "execution_count": 14,
   "metadata": {
    "collapsed": true
   },
   "outputs": [],
   "source": [
    "selected_features = [\"msal\",\"mlal\",\"kmDistance\",\"kmMaxDist\",\"kmMinDist\",\"rg\",\"unc_entropy\", \\\n",
    "    \"random_entropy\",\"p100_diff_last_origin\",\"p100_diff_first_origin\",\\\n",
    "    \"start_time\",\"end_time\",\"traveled_days\",\"frequence_regularity\",\\\n",
    "    \"p100_exclusive_bus_days\",\"p100_exclusive_metro_days\",\"P100_bus_trips\"]\n"
   ]
  },
  {
   "cell_type": "code",
   "execution_count": 15,
   "metadata": {
    "collapsed": false
   },
   "outputs": [],
   "source": [
    "abril_selected_features = filter_features(abril_vectors,selected_features,features_dict)\n",
    "septiembre_selected_features = filter_features(septiembre_vectors,selected_features,features_dict)"
   ]
  },
  {
   "cell_type": "raw",
   "metadata": {},
   "source": [
    "feature_min_max = np.ones((4,N_FEATURES))\n",
    "for feature in range(abril_vectors.shape[1]):\n",
    "    feature_min_max[:,feature] = [min(abril_vectors[feature]),min(septiembre_vectors[feature]), max(abril_vectors[feature]),\\\n",
    "                                   max(septiembre_vectors[feature])]\n",
    "    \n",
    "feature_min_max_df = pd.DataFrame(feature_min_max)    \n",
    "feature_min_max_df.index = [\"min_abril\",\"min_sept\",\"max_abril\",\"max_sept\"]\n",
    "feature_min_max_df.columns = features_names\n",
    "feature_min_max_df"
   ]
  },
  {
   "cell_type": "markdown",
   "metadata": {},
   "source": [
    "### Seleccionar con distancia euclidiana y similitud braycurtis entre los vecinos con las features ya normalizadas con min max"
   ]
  },
  {
   "cell_type": "code",
   "execution_count": 16,
   "metadata": {
    "collapsed": false
   },
   "outputs": [],
   "source": [
    "abril_norm_vectors = np.ones((limit, N_FEATURES))\n",
    "septiembre_norm_vectors = np.ones((limit, N_FEATURES))\n",
    "for i in range(abril_selected_features.shape[1]):\n",
    "    abril_norm_vectors[:,i] = normalizar_min_max(abril_selected_features[:,i])\n",
    "    septiembre_norm_vectors[:,i] = normalizar_min_max(septiembre_selected_features[:,i])"
   ]
  },
  {
   "cell_type": "code",
   "execution_count": 17,
   "metadata": {
    "collapsed": false
   },
   "outputs": [
    {
     "name": "stdout",
     "output_type": "stream",
     "text": [
      "0.640876054764\n",
      "Dist Euclidiana con norma minmax general: 45.15%\n",
      "Falsos positivos: 31.8049912943%\n",
      "Falsos negativos: 23.0412071967%\n"
     ]
    }
   ],
   "source": [
    "a_matrix_euclidiana = compare_vectors_with_neighbours_normalized(abril_norm_vectors,septiembre_norm_vectors,abril_the_rois,\\\n",
    "                                           septiembre_the_rois,shared_rois,limit,2,sp.spatial.distance.euclidean)\n",
    "n_identified_e,selected_distance_e,identified_indexs_e,abstenidos_e = get_n_correct(a_matrix_euclidiana,limit)\n",
    "porcentaje_correcto = n_identified_e*100/limit\n",
    "print \"Dist Euclidiana con norma minmax general: \"+str(round(porcentaje_correcto,2))+ \"%\"\n",
    "print \"Falsos positivos: \"+ str(((limit-n_identified_e-len(abstenidos_e))*100/limit)) + \"%\"\n",
    "print \"Falsos negativos: \"+ str(len(abstenidos_e)*100/limit) + \"%\""
   ]
  },
  {
   "cell_type": "code",
   "execution_count": 18,
   "metadata": {
    "collapsed": false
   },
   "outputs": [
    {
     "name": "stdout",
     "output_type": "stream",
     "text": [
      "0.531034946442\n",
      "Dist braycurtis con norma minmax general: 46.28%\n",
      "Falsos positivos: 33.3913716386%\n",
      "Falsos negativos: 20.3327529503%\n"
     ]
    }
   ],
   "source": [
    "a_matrix_braycurtis = compare_vectors_with_neighbours_normalized(abril_norm_vectors,septiembre_norm_vectors,\\\n",
    "                                                     abril_the_rois,septiembre_the_rois,shared_rois,limit,2,\\\n",
    "                                                     sp.spatial.distance.braycurtis)\n",
    "n_identified_b,selected_distance_b,identified_indexs_b,abstenidos_b = get_n_correct(a_matrix_braycurtis,limit)\n",
    "porcentaje_correcto = n_identified_b*100/limit\n",
    "print \"Dist braycurtis con norma minmax general: \"+str(round(porcentaje_correcto,2))+ \"%\"\n",
    "print \"Falsos positivos: \"+ str(((limit-n_identified_b-len(abstenidos_b))*100/limit)) + \"%\"\n",
    "print \"Falsos negativos: \"+ str(len(abstenidos_b)*100/limit) + \"%\""
   ]
  },
  {
   "cell_type": "markdown",
   "metadata": {},
   "source": [
    "### Ver si son los mismos seleccionados"
   ]
  },
  {
   "cell_type": "code",
   "execution_count": 19,
   "metadata": {
    "collapsed": false
   },
   "outputs": [],
   "source": [
    "corr_in_both = []\n",
    "abst_in_both = []\n",
    "wrong_in_both = []\n",
    "corr_id_in_e = []\n",
    "corr_id_in_b = []\n",
    "wrong_id_in_e = []\n",
    "wrong_id_in_b = []\n",
    "for i in range(limit):\n",
    "    if identified_indexs_b[i] == identified_indexs_e[i]:\n",
    "        if identified_indexs_b[i] == -1:\n",
    "            abst_in_both.append(i)\n",
    "        elif identified_indexs_b[i] == i:\n",
    "            corr_in_both.append(i)\n",
    "        else:\n",
    "            wrong_in_both.append(i)\n",
    "    elif identified_indexs_b[i] != identified_indexs_e[i]:\n",
    "        if  identified_indexs_b[i] == -1 and identified_indexs_e[i] == i:\n",
    "            corr_id_in_e.append(i)\n",
    "        elif identified_indexs_b[i] == -1:\n",
    "            wrong_id_in_e.append(i)\n",
    "        elif identified_indexs_e[i] == -1 and identified_indexs_b[i] == i:\n",
    "            corr_id_in_b.append(i)\n",
    "        else:\n",
    "            wrong_id_in_b.append(i)\n",
    "            "
   ]
  },
  {
   "cell_type": "code",
   "execution_count": 20,
   "metadata": {
    "collapsed": false
   },
   "outputs": [
    {
     "name": "stdout",
     "output_type": "stream",
     "text": [
      "Ambos correctos: 2299\n",
      "Ambos incorrectos: 1414\n",
      "Ambos abstenidos: 1051\n",
      "Porcentaje en ambos igual: 92.164828787\n"
     ]
    }
   ],
   "source": [
    "print \"Ambos correctos: \"+ str(len(corr_in_both))\n",
    "print \"Ambos incorrectos: \"+ str(len(wrong_in_both))\n",
    "print \"Ambos abstenidos: \"+ str(len(abst_in_both))\n",
    "print \"Porcentaje en ambos igual: \"+ str((len(corr_in_both)+len(wrong_in_both)+len(abst_in_both))*100/limit)"
   ]
  },
  {
   "cell_type": "code",
   "execution_count": 21,
   "metadata": {
    "collapsed": false
   },
   "outputs": [
    {
     "name": "stdout",
     "output_type": "stream",
     "text": [
      "Correcto con euclidiana y abstenido con braycurtis: 0\n",
      "Incorrecto con euclidiana y abstenido con braycurtis: 0\n",
      "Correcto con braycurtis y abstenido con euclidiana: 15\n",
      "Incorrecto con braycurtis y abstenido con euclidiana: 390\n"
     ]
    }
   ],
   "source": [
    "print \"Correcto con euclidiana y abstenido con braycurtis: \"+ str(len(corr_id_in_e))\n",
    "print \"Incorrecto con euclidiana y abstenido con braycurtis: \"+ str(len(wrong_id_in_e))\n",
    "print \"Correcto con braycurtis y abstenido con euclidiana: \"+ str(len(corr_id_in_b))\n",
    "print \"Incorrecto con braycurtis y abstenido con euclidiana: \"+ str(len(wrong_id_in_b))\n"
   ]
  },
  {
   "cell_type": "markdown",
   "metadata": {},
   "source": [
    "### Ver en que orden queda el vector correcto"
   ]
  },
  {
   "cell_type": "code",
   "execution_count": 78,
   "metadata": {
    "collapsed": true
   },
   "outputs": [],
   "source": [
    "def get_position_right_answer(distance_matrix):\n",
    "    positions = []\n",
    "    n_neighbours = []\n",
    "    n_n_correct = []\n",
    "    neighbours_distances = []\n",
    "    limit = len(distance_matrix)\n",
    "    result = []\n",
    "    possible_same_person = []\n",
    "    for i in range(limit):\n",
    "        neighbours = np.where(distance_matrix[i] != -1)[0]\n",
    "        the_index = np.argmax(distance_matrix[i,:])\n",
    "        neighbours_distances = []\n",
    "        if distance_matrix[i,the_index] == -1:\n",
    "            continue\n",
    "        num_neighbours = len(neighbours)\n",
    "        if distance_matrix[i,i] == -1:\n",
    "            if num_neighbours == 1:\n",
    "                possible_same_person.append([i,the_index])\n",
    "            continue\n",
    "        if num_neighbours > 0:\n",
    "            if i != the_index:\n",
    "                for j in neighbours:\n",
    "                    neighbours_distances.append(distance_matrix[i,j])\n",
    "                sorted_neighbours = np.sort(neighbours_distances)\n",
    "                #positions.append(np.where(sorted_neighbours==distance_matrix[i,i]))\n",
    "                n_neighbours.append(num_neighbours)\n",
    "                result.append((distance_matrix[i,i],np.where(sorted_neighbours==distance_matrix[i,i])[0][0],num_neighbours))\n",
    "            else:\n",
    "                n_n_correct.append(num_neighbours)\n",
    "    #return positions,n_neighbours\n",
    "    return [result,n_neighbours,n_n_correct,possible_same_person]"
   ]
  },
  {
   "cell_type": "code",
   "execution_count": 79,
   "metadata": {
    "collapsed": false
   },
   "outputs": [],
   "source": [
    "p,n_n_fail,n_n_correct,p_s_p = get_position_right_answer(a_matrix_braycurtis)"
   ]
  },
  {
   "cell_type": "code",
   "execution_count": 80,
   "metadata": {
    "collapsed": false
   },
   "outputs": [
    {
     "data": {
      "text/plain": [
       "46.275875411104664"
      ]
     },
     "execution_count": 80,
     "metadata": {},
     "output_type": "execute_result"
    }
   ],
   "source": [
    "len(n_n_correct)*100/limit"
   ]
  },
  {
   "cell_type": "code",
   "execution_count": 81,
   "metadata": {
    "collapsed": false
   },
   "outputs": [
    {
     "data": {
      "text/plain": [
       "(array([  0.,   0.,  57.,  57.,  48.,  43.,  29.,  22.,  14.,   6.,  18.,\n",
       "         16.,  14.,   7.,  12.,   6.,   6.,   3.,   5.,   5.,   8.,   3.,\n",
       "          4.,   4.,   4.,   5.,   3.,   4.,   9.]),\n",
       " array([ 0,  1,  2,  3,  4,  5,  6,  7,  8,  9, 10, 11, 12, 13, 14, 15, 16,\n",
       "        17, 18, 19, 20, 21, 22, 23, 24, 25, 26, 27, 28, 29]),\n",
       " <a list of 29 Patch objects>)"
      ]
     },
     "execution_count": 81,
     "metadata": {},
     "output_type": "execute_result"
    },
    {
     "data": {
      "image/png": "[encoded data removed]",
      "text/plain": [
       "<matplotlib.figure.Figure at 0x7f5e48c72790>"
      ]
     },
     "metadata": {},
     "output_type": "display_data"
    }
   ],
   "source": [
    "plt.hist(n_n_fail,range(30))"
   ]
  },
  {
   "cell_type": "code",
   "execution_count": 82,
   "metadata": {
    "collapsed": false
   },
   "outputs": [
    {
     "data": {
      "text/plain": [
       "(array([  0.00000000e+00,   1.17500000e+03,   5.07000000e+02,\n",
       "          2.28000000e+02,   1.31000000e+02,   8.40000000e+01,\n",
       "          5.20000000e+01,   3.30000000e+01,   2.40000000e+01,\n",
       "          2.50000000e+01,   2.00000000e+01,   1.50000000e+01,\n",
       "          9.00000000e+00,   5.00000000e+00,   1.10000000e+01,\n",
       "          8.00000000e+00,   4.00000000e+00,   7.00000000e+00,\n",
       "          6.00000000e+00,   1.00000000e+00,   5.00000000e+00,\n",
       "          6.00000000e+00,   2.00000000e+00,   0.00000000e+00,\n",
       "          0.00000000e+00,   4.00000000e+00,   2.00000000e+00,\n",
       "          1.00000000e+00,   3.00000000e+00]),\n",
       " array([ 0,  1,  2,  3,  4,  5,  6,  7,  8,  9, 10, 11, 12, 13, 14, 15, 16,\n",
       "        17, 18, 19, 20, 21, 22, 23, 24, 25, 26, 27, 28, 29]),\n",
       " <a list of 29 Patch objects>)"
      ]
     },
     "execution_count": 82,
     "metadata": {},
     "output_type": "execute_result"
    },
    {
     "data": {
      "image/png": "[encoded data removed]",
      "text/plain": [
       "<matplotlib.figure.Figure at 0x7f5e48bc5ad0>"
      ]
     },
     "metadata": {},
     "output_type": "display_data"
    }
   ],
   "source": [
    "plt.hist(n_n_correct,range(30))"
   ]
  },
  {
   "cell_type": "code",
   "execution_count": 83,
   "metadata": {
    "collapsed": false,
    "scrolled": true
   },
   "outputs": [
    {
     "name": "stdout",
     "output_type": "stream",
     "text": [
      "Solo dos opciones,  12.8668171558\n",
      "Penultimo de 3,  9.7065462754\n",
      "Penultimo de 4,  5.19187358916\n",
      "Penultimod de 5 o mas,  27.3137697517\n",
      "Tercero de 5 o mas,  15.8013544018\n",
      "Ni tercero,  29.1196388262\n"
     ]
    }
   ],
   "source": [
    "penultimo_3 = 0\n",
    "penultimo_4 = 0\n",
    "penultimo_5m = 0\n",
    "only_two = 0\n",
    "no_penultimo = 0\n",
    "tercero = 0\n",
    "for atuple in p:\n",
    "    if atuple[2] == 2:\n",
    "        only_two += 1\n",
    "    elif atuple[2] == 3 and atuple[2]-2 == atuple[1]:\n",
    "        penultimo_3 += 1\n",
    "    elif atuple[2] == 4 and atuple[2]-2 == atuple[1]:\n",
    "        penultimo_4 += 1\n",
    "    elif atuple[2]-2 == atuple[1]:\n",
    "        penultimo_5m += 1\n",
    "    else: \n",
    "        if atuple[2]-3 == atuple[1]:\n",
    "            tercero += 1\n",
    "        else: \n",
    "            no_penultimo +=1\n",
    "print \"Solo dos opciones, \",only_two*100/len(p)\n",
    "print \"Penultimo de 3, \",penultimo_3*100/len(p)\n",
    "print \"Penultimo de 4, \",penultimo_4*100/len(p)\n",
    "print \"Penultimod de 5 o mas, \",penultimo_5m*100/len(p)\n",
    "print \"Tercero de 5 o mas, \",tercero*100/len(p)\n",
    "print \"Ni tercero, \",no_penultimo*100/len(p)\n"
   ]
  },
  {
   "cell_type": "code",
   "execution_count": 85,
   "metadata": {
    "collapsed": false
   },
   "outputs": [
    {
     "data": {
      "text/plain": [
       "467"
      ]
     },
     "execution_count": 85,
     "metadata": {},
     "output_type": "execute_result"
    }
   ],
   "source": [
    "len(p_s_p)"
   ]
  },
  {
   "cell_type": "code",
   "execution_count": 118,
   "metadata": {
    "collapsed": false
   },
   "outputs": [],
   "source": [
    "num_matches = []\n",
    "counter = 0\n",
    "for n in p_s_p:\n",
    "    n_matches = 0\n",
    "    for n2 in p_s_p:\n",
    "        if n2[1] == n[0] and n2[0] == n[1]:\n",
    "            n_matches += 1\n",
    "    num_matches.append(n_matches)\n",
    "    counter += 1"
   ]
  },
  {
   "cell_type": "code",
   "execution_count": 119,
   "metadata": {
    "collapsed": false
   },
   "outputs": [
    {
     "data": {
      "text/plain": [
       "(array([   0.,    0.,    0.,    0.,    0.,  467.,    0.,    0.,    0.,    0.]),\n",
       " array([-0.5, -0.4, -0.3, -0.2, -0.1,  0. ,  0.1,  0.2,  0.3,  0.4,  0.5]),\n",
       " <a list of 10 Patch objects>)"
      ]
     },
     "execution_count": 119,
     "metadata": {},
     "output_type": "execute_result"
    },
    {
     "data": {
      "image/png": "[encoded data removed]",
      "text/plain": [
       "<matplotlib.figure.Figure at 0x7f5e486f8b10>"
      ]
     },
     "metadata": {},
     "output_type": "display_data"
    }
   ],
   "source": [
    "plt.hist(num_matches)"
   ]
  },
  {
   "cell_type": "code",
   "execution_count": null,
   "metadata": {
    "collapsed": true
   },
   "outputs": [],
   "source": []
  }
 ],
 "metadata": {
  "kernelspec": {
   "display_name": "Python 2",
   "language": "python",
   "name": "python2"
  },
  "language_info": {
   "codemirror_mode": {
    "name": "ipython",
    "version": 2
   },
   "file_extension": ".py",
   "mimetype": "text/x-python",
   "name": "python",
   "nbconvert_exporter": "python",
   "pygments_lexer": "ipython2",
   "version": "2.7.11"
  }
 },
 "nbformat": 4,
 "nbformat_minor": 0
}
