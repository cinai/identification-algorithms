{
 "cells": [
  {
   "cell_type": "markdown",
   "metadata": {},
   "source": [
    "## Importar lo importante"
   ]
  },
  {
   "cell_type": "code",
   "execution_count": 167,
   "metadata": {
    "collapsed": false
   },
   "outputs": [],
   "source": [
    "%matplotlib inline\n",
    "import matplotlib.pyplot as plt\n",
    "import time\n",
    "import datetime as dt\n",
    "import pickle\n",
    "import numpy as np\n",
    "import borrador\n",
    "from __future__ import division\n",
    "from auxiliar_functions import *\n",
    "from aux_functions_comparisson import *\n",
    "import tfe\n",
    "from geopy.distance import vincenty\n",
    "from itertools import chain, combinations\n",
    "import random\n",
    "import scipy as sp"
   ]
  },
  {
   "cell_type": "markdown",
   "metadata": {},
   "source": [
    "## Obtener datos"
   ]
  },
  {
   "cell_type": "code",
   "execution_count": 2,
   "metadata": {
    "collapsed": false
   },
   "outputs": [],
   "source": [
    "with open('data/shared_rois.pickle') as f:\n",
    "    shared_rois = pickle.load(f)"
   ]
  },
  {
   "cell_type": "code",
   "execution_count": 3,
   "metadata": {
    "collapsed": true
   },
   "outputs": [],
   "source": [
    "with open('data/Distancia_Euclideana/features.pickle') as f:\n",
    "    abril_vectors = pickle.load(f)\n",
    "    septiembre_vectors = pickle.load(f)"
   ]
  },
  {
   "cell_type": "code",
   "execution_count": 4,
   "metadata": {
    "collapsed": true
   },
   "outputs": [],
   "source": [
    "with open('data/rois_meters_data.pickle') as f:\n",
    "    abril_the_rois = pickle.load(f)\n",
    "    septiembre_the_rois = pickle.load(f)"
   ]
  },
  {
   "cell_type": "code",
   "execution_count": 70,
   "metadata": {
    "collapsed": false
   },
   "outputs": [
    {
     "data": {
      "text/plain": [
       "5169"
      ]
     },
     "execution_count": 70,
     "metadata": {},
     "output_type": "execute_result"
    }
   ],
   "source": [
    "limit = np.min((len(abril_vectors),len(septiembre_vectors)))\n",
    "limit"
   ]
  },
  {
   "cell_type": "code",
   "execution_count": 63,
   "metadata": {
    "collapsed": false
   },
   "outputs": [
    {
     "name": "stdout",
     "output_type": "stream",
     "text": [
      "% de tarjetas que comparten un roi en ambos meses: 93.38%\n",
      "% de tarjetas que comparten dos roi en ambos meses: 54.85%\n"
     ]
    }
   ],
   "source": [
    "shared_1_rois_2_month = 0\n",
    "shared_2_rois_2_month = 0\n",
    "for i in range(limit):\n",
    "    if shared_rois[i,i] > 0:\n",
    "        shared_1_rois_2_month += 1\n",
    "    if shared_rois[i,i] > 1:\n",
    "        shared_2_rois_2_month += 1\n",
    "print \"% de tarjetas que comparten un roi en ambos meses:\",str(round(shared_1_rois_2_month*100/limit,2)) + \"%\"\n",
    "print \"% de tarjetas que comparten dos roi en ambos meses:\", str(round(shared_2_rois_2_month*100/limit,2)) + \"%\""
   ]
  },
  {
   "cell_type": "markdown",
   "metadata": {},
   "source": [
    "### Histograma cantidad de vecinos de hogar y trabajo (2 rois) entre abril y septiembre"
   ]
  },
  {
   "cell_type": "code",
   "execution_count": 64,
   "metadata": {
    "collapsed": false
   },
   "outputs": [],
   "source": [
    "n_of_neighbours = []\n",
    "for i in range(limit):\n",
    "    n_of_neighbours.append(len(get_neighbours_index(abril_the_rois,shared_rois,i,2)))"
   ]
  },
  {
   "cell_type": "code",
   "execution_count": 65,
   "metadata": {
    "collapsed": false
   },
   "outputs": [
    {
     "data": {
      "text/plain": [
       "(array([ 1051.,  1642.,   808.,   431.,   263.,   191.,   116.,    91.,\n",
       "          117.]),\n",
       " array([0, 1, 2, 3, 4, 5, 6, 7, 8, 9]),\n",
       " <a list of 9 Patch objects>)"
      ]
     },
     "execution_count": 65,
     "metadata": {},
     "output_type": "execute_result"
    },
    {
     "data": {
      "image/png": "[encoded data removed]",
      "text/plain": [
       "<matplotlib.figure.Figure at 0x7ff9177bb210>"
      ]
     },
     "metadata": {},
     "output_type": "display_data"
    }
   ],
   "source": [
    "plt.hist(n_of_neighbours,range(10))"
   ]
  },
  {
   "cell_type": "markdown",
   "metadata": {},
   "source": [
    "### Histograma cantidad de vecinos de hogar y trabajo (2 rois) entre abril y septiembre"
   ]
  },
  {
   "cell_type": "code",
   "execution_count": 66,
   "metadata": {
    "collapsed": true
   },
   "outputs": [],
   "source": [
    "n10_of_neighbours = filter(lambda x: x>9,n_of_neighbours)"
   ]
  },
  {
   "cell_type": "code",
   "execution_count": 67,
   "metadata": {
    "collapsed": false
   },
   "outputs": [
    {
     "data": {
      "text/plain": [
       "(array([ 269.,  109.,   36.,    8.,    8.,    8.,    5.,    4.,    1.,\n",
       "           0.,    0.,    1.,    2.,    1.,    0.,    0.,    0.,    0.,\n",
       "           1.,    0.,    2.,    0.,    0.,    1.,    1.,    0.,    1.,\n",
       "           0.,    0.,    1.]),\n",
       " array([  10.        ,   19.06666667,   28.13333333,   37.2       ,\n",
       "          46.26666667,   55.33333333,   64.4       ,   73.46666667,\n",
       "          82.53333333,   91.6       ,  100.66666667,  109.73333333,\n",
       "         118.8       ,  127.86666667,  136.93333333,  146.        ,\n",
       "         155.06666667,  164.13333333,  173.2       ,  182.26666667,\n",
       "         191.33333333,  200.4       ,  209.46666667,  218.53333333,\n",
       "         227.6       ,  236.66666667,  245.73333333,  254.8       ,\n",
       "         263.86666667,  272.93333333,  282.        ]),\n",
       " <a list of 30 Patch objects>)"
      ]
     },
     "execution_count": 67,
     "metadata": {},
     "output_type": "execute_result"
    },
    {
     "data": {
      "image/png": "[encoded data removed]",
      "text/plain": [
       "<matplotlib.figure.Figure at 0x7ff91bec64d0>"
      ]
     },
     "metadata": {},
     "output_type": "display_data"
    }
   ],
   "source": [
    "plt.hist(n10_of_neighbours,30)"
   ]
  },
  {
   "cell_type": "markdown",
   "metadata": {},
   "source": [
    "## Feature Exploration"
   ]
  },
  {
   "cell_type": "code",
   "execution_count": 7,
   "metadata": {
    "collapsed": true
   },
   "outputs": [],
   "source": [
    "N_FEATURES = 19"
   ]
  },
  {
   "cell_type": "code",
   "execution_count": 8,
   "metadata": {
    "collapsed": true
   },
   "outputs": [],
   "source": [
    "features_names = [\"msal\",\"mlal\",\"kmDistance\",\"kmMaxDist\",\"kmMinDist\",\"rg\",\"unc_entropy\", \\\n",
    "    \"random_entropy\",\"p100_diff_last_origin\",\"p100_diff_first_origin\",\"card_type\",\\\n",
    "    \"start_time\",\"end_time\",\"traveled_days\",\"traveled_days_bs\",\"frequence_regularity\",\\\n",
    "    \"p100_exclusive_bus_days\",\"p100_exclusive_metro_days\",\"P100_bus_trips\"]"
   ]
  },
  {
   "cell_type": "code",
   "execution_count": 9,
   "metadata": {
    "collapsed": true
   },
   "outputs": [],
   "source": [
    "features_dict = {\"msal\":0,\"mlal\":1,\"kmDistance\":2,\"kmMaxDist\":3,\"kmMinDist\":4,\"rg\":5,\"unc_entropy\":6,\n",
    "                  \"random_entropy\":7,\"p100_diff_last_origin\":8,\"p100_diff_first_origin\":9,\"card_type\":10,\n",
    "                  \"start_time\":11,\"end_time\":12,\"traveled_days\":13,\"traveled_days_bs\":14,\"frequence_regularity\":15,\n",
    "                  \"p100_exclusive_bus_days\":16,\"p100_exclusive_metro_days\":17,\"P100_bus_trips\":18}"
   ]
  },
  {
   "cell_type": "markdown",
   "metadata": {},
   "source": [
    "## Seleccionar Features para la comparación"
   ]
  },
  {
   "cell_type": "code",
   "execution_count": 10,
   "metadata": {
    "collapsed": true
   },
   "outputs": [],
   "source": [
    "selected_features = ['msal',\n",
    "  'kmMaxDist',\n",
    "  'rg',\n",
    "  'unc_entropy',\n",
    "  'card_type',\n",
    "  'start_time',\n",
    "  'end_time',\n",
    "  'traveled_days',\n",
    "  'P100_bus_trips']\n"
   ]
  },
  {
   "cell_type": "code",
   "execution_count": 11,
   "metadata": {
    "collapsed": false
   },
   "outputs": [],
   "source": [
    "abril_selected_features = filter_features(abril_vectors,selected_features,features_dict)\n",
    "septiembre_selected_features = filter_features(septiembre_vectors,selected_features,features_dict)"
   ]
  },
  {
   "cell_type": "raw",
   "metadata": {},
   "source": [
    "feature_min_max = np.ones((4,N_FEATURES))\n",
    "for feature in range(abril_vectors.shape[1]):\n",
    "    feature_min_max[:,feature] = [min(abril_vectors[feature]),min(septiembre_vectors[feature]), max(abril_vectors[feature]),\\\n",
    "                                   max(septiembre_vectors[feature])]\n",
    "    \n",
    "feature_min_max_df = pd.DataFrame(feature_min_max)    \n",
    "feature_min_max_df.index = [\"min_abril\",\"min_sept\",\"max_abril\",\"max_sept\"]\n",
    "feature_min_max_df.columns = features_names\n",
    "feature_min_max_df"
   ]
  },
  {
   "cell_type": "markdown",
   "metadata": {},
   "source": [
    "### Seleccionar con distancia euclidiana y similitud braycurtis entre los vecinos con las features ya normalizadas con min max"
   ]
  },
  {
   "cell_type": "code",
   "execution_count": 12,
   "metadata": {
    "collapsed": false
   },
   "outputs": [],
   "source": [
    "abril_norm_vectors = np.ones((limit, N_FEATURES))\n",
    "septiembre_norm_vectors = np.ones((limit, N_FEATURES))\n",
    "for i in range(abril_selected_features.shape[1]):\n",
    "    abril_norm_vectors[:,i] = normalizar_min_max(abril_selected_features[:,i])\n",
    "    septiembre_norm_vectors[:,i] = normalizar_min_max(septiembre_selected_features[:,i])"
   ]
  },
  {
   "cell_type": "code",
   "execution_count": 13,
   "metadata": {
    "collapsed": false
   },
   "outputs": [
    {
     "name": "stdout",
     "output_type": "stream",
     "text": [
      "0.72629904747\n",
      "Dist Euclidiana con norma minmax general: 47.38%\n",
      "Falsos positivos: 30.6442251886%\n",
      "Falsos negativos: 21.9771715999%\n"
     ]
    }
   ],
   "source": [
    "a_matrix_euclidiana = compare_vectors_with_neighbours_normalized(abril_norm_vectors,septiembre_norm_vectors,abril_the_rois,\\\n",
    "                                           septiembre_the_rois,shared_rois,limit,2,sp.spatial.distance.euclidean)\n",
    "n_identified_e,selected_distance_e,identified_indexs_e,abstenidos_e = get_n_correct(a_matrix_euclidiana,limit)\n",
    "porcentaje_correcto = n_identified_e*100/limit\n",
    "print \"Dist Euclidiana con norma minmax general: \"+str(round(porcentaje_correcto,2))+ \"%\"\n",
    "print \"Falsos positivos: \"+ str(((limit-n_identified_e-len(abstenidos_e))*100/limit)) + \"%\"\n",
    "print \"Falsos negativos: \"+ str(len(abstenidos_e)*100/limit) + \"%\""
   ]
  },
  {
   "cell_type": "code",
   "execution_count": 138,
   "metadata": {
    "collapsed": false
   },
   "outputs": [
    {
     "name": "stdout",
     "output_type": "stream",
     "text": [
      "0.554656982422\n",
      "Dist braycurtis con norma minmax general: 47.78%\n",
      "Falsos positivos: 31.8823757013%\n",
      "Falsos negativos: 20.3327529503%\n"
     ]
    }
   ],
   "source": [
    "a_matrix_braycurtis = compare_vectors_with_neighbours_normalized(abril_norm_vectors,septiembre_norm_vectors,\\\n",
    "                                                     abril_the_rois,septiembre_the_rois,shared_rois,limit,2,\\\n",
    "                                                     sp.spatial.distance.braycurtis)\n",
    "n_identified_b,selected_distance_b,identified_indexs_b,abstenidos_b = get_n_correct(a_matrix_braycurtis,limit)\n",
    "porcentaje_correcto = n_identified_b*100/limit\n",
    "print \"Dist braycurtis con norma minmax general: \"+str(round(porcentaje_correcto,2))+ \"%\"\n",
    "print \"Falsos positivos: \"+ str(((limit-n_identified_b-len(abstenidos_b))*100/limit)) + \"%\"\n",
    "print \"Falsos negativos: \"+ str(len(abstenidos_b)*100/limit) + \"%\""
   ]
  },
  {
   "cell_type": "markdown",
   "metadata": {},
   "source": [
    "### Ver si son los mismos seleccionados"
   ]
  },
  {
   "cell_type": "code",
   "execution_count": 139,
   "metadata": {
    "collapsed": false
   },
   "outputs": [],
   "source": [
    "corr_in_both = []\n",
    "abst_in_both = []\n",
    "wrong_in_both = []\n",
    "corr_id_in_e = []\n",
    "corr_id_in_b = []\n",
    "wrong_id_in_e = []\n",
    "wrong_id_in_b = []\n",
    "for i in range(limit):\n",
    "    if identified_indexs_b[i] == identified_indexs_e[i]:\n",
    "        if identified_indexs_b[i] == -1:\n",
    "            abst_in_both.append(i)\n",
    "        elif identified_indexs_b[i] == i:\n",
    "            corr_in_both.append(i)\n",
    "        else:\n",
    "            wrong_in_both.append(i)\n",
    "    elif identified_indexs_b[i] != identified_indexs_e[i]:\n",
    "        if  identified_indexs_b[i] == -1 and identified_indexs_e[i] == i:\n",
    "            corr_id_in_e.append(i)\n",
    "        elif identified_indexs_b[i] == -1:\n",
    "            wrong_id_in_e.append(i)\n",
    "        elif identified_indexs_e[i] == -1 and identified_indexs_b[i] == i:\n",
    "            corr_id_in_b.append(i)\n",
    "        else:\n",
    "            wrong_id_in_b.append(i)\n",
    "            "
   ]
  },
  {
   "cell_type": "code",
   "execution_count": 140,
   "metadata": {
    "collapsed": false
   },
   "outputs": [
    {
     "name": "stdout",
     "output_type": "stream",
     "text": [
      "Ambos correctos: 2405\n",
      "Ambos incorrectos: 1379\n",
      "Ambos abstenidos: 1051\n",
      "Porcentaje en ambos igual: 93.538402012\n"
     ]
    }
   ],
   "source": [
    "print \"Ambos correctos: \"+ str(len(corr_in_both))\n",
    "print \"Ambos incorrectos: \"+ str(len(wrong_in_both))\n",
    "print \"Ambos abstenidos: \"+ str(len(abst_in_both))\n",
    "print \"Porcentaje en ambos igual: \"+ str((len(corr_in_both)+len(wrong_in_both)+len(abst_in_both))*100/limit)"
   ]
  },
  {
   "cell_type": "code",
   "execution_count": 141,
   "metadata": {
    "collapsed": false
   },
   "outputs": [
    {
     "name": "stdout",
     "output_type": "stream",
     "text": [
      "Correcto con euclidiana y abstenido con braycurtis: 0\n",
      "Incorrecto con euclidiana y abstenido con braycurtis: 0\n",
      "Correcto con braycurtis y abstenido con euclidiana: 15\n",
      "Incorrecto con braycurtis y abstenido con euclidiana: 319\n"
     ]
    }
   ],
   "source": [
    "print \"Correcto con euclidiana y abstenido con braycurtis: \"+ str(len(corr_id_in_e))\n",
    "print \"Incorrecto con euclidiana y abstenido con braycurtis: \"+ str(len(wrong_id_in_e))\n",
    "print \"Correcto con braycurtis y abstenido con euclidiana: \"+ str(len(corr_id_in_b))\n",
    "print \"Incorrecto con braycurtis y abstenido con euclidiana: \"+ str(len(wrong_id_in_b))\n"
   ]
  },
  {
   "cell_type": "markdown",
   "metadata": {},
   "source": [
    "### Ver en que orden queda el vector correcto con braycurtis"
   ]
  },
  {
   "cell_type": "code",
   "execution_count": 319,
   "metadata": {
    "collapsed": false
   },
   "outputs": [],
   "source": [
    "def get_position_right_answer(distance_matrix):\n",
    "    positions = []\n",
    "    n_neighbours = []\n",
    "    n_n_correct = []\n",
    "    neighbours_distances = []\n",
    "    limit = len(distance_matrix)\n",
    "    result = []\n",
    "    possible_same_person = []\n",
    "    for i in range(limit):\n",
    "        neighbours = np.where(distance_matrix[i] != -1)[0]\n",
    "        the_index = np.argmax(distance_matrix[i,:])\n",
    "        neighbours_distances = []\n",
    "        if distance_matrix[i,the_index] == -1:\n",
    "            result.append((distance_matrix[i,i],-1,num_neighbours,-2))\n",
    "            continue\n",
    "        num_neighbours = len(neighbours)\n",
    "        if distance_matrix[i,i] == -1:\n",
    "            if num_neighbours == 1:\n",
    "                possible_same_person.append([i,the_index])\n",
    "        if num_neighbours > 0:\n",
    "            for j in neighbours:\n",
    "                neighbours_distances.append(distance_matrix[i,j])\n",
    "            sorted_neighbours = np.sort(neighbours_distances)\n",
    "                #positions.append(np.where(sorted_neighbours==distance_matrix[i,i]))\n",
    "            if i != the_index:\n",
    "                position = np.where(sorted_neighbours==distance_matrix[i,i])\n",
    "                n_neighbours.append(num_neighbours)\n",
    "                if len(position[0]) > 0:\n",
    "                    result.append((distance_matrix[i,i],position[0][0],num_neighbours,distance_matrix[i,the_index]-distance_matrix[i,i]))\n",
    "                else:\n",
    "                    if num_neighbours == 1:\n",
    "                        result.append((distance_matrix[i,i],-1,num_neighbours,-1))\n",
    "                    else:\n",
    "                        the_second_index = sorted_neighbours[num_neighbours-2]\n",
    "                        result.append((distance_matrix[i,i],-1,num_neighbours,distance_matrix[i,the_index]-distance_matrix[i,the_second_index]))\n",
    "            else:\n",
    "                n_n_correct.append(num_neighbours)\n",
    "                if num_neighbours == 1:\n",
    "                    result.append((distance_matrix[i,i],-1,num_neighbours,-1))\n",
    "                else:\n",
    "                    the_second_index = sorted_neighbours[num_neighbours-2]\n",
    "                    result.append((distance_matrix[i,i],0,num_neighbours,distance_matrix[i,i]-distance_matrix[i,the_second_index]))\n",
    "    #return positions,n_neighbours\n",
    "    return [result,n_neighbours,n_n_correct,possible_same_person]"
   ]
  },
  {
   "cell_type": "code",
   "execution_count": 285,
   "metadata": {
    "collapsed": false
   },
   "outputs": [
    {
     "data": {
      "text/plain": [
       "6"
      ]
     },
     "execution_count": 285,
     "metadata": {},
     "output_type": "execute_result"
    }
   ],
   "source": [
    "qwe = [1,2,23,4,5,6]\n",
    "np.sort(qwe)\n",
    "len(qwe)"
   ]
  },
  {
   "cell_type": "code",
   "execution_count": 286,
   "metadata": {
    "collapsed": true
   },
   "outputs": [],
   "source": [
    "def get_abstenidos_and_cambio_comportamiento(distance_matrix):\n",
    "    limit = len(distance_matrix)\n",
    "    abstenidos = 0\n",
    "    correctos = 0\n",
    "    cambio_comportamiento = 0\n",
    "    cambio_comportamiento_solo_un_match = 0\n",
    "    sin_cambio_solo_un_match = 0\n",
    "    incorrectos = 0\n",
    "    for i in range(limit):\n",
    "        neighbours = np.where(distance_matrix[i] != -1)[0]\n",
    "        the_index = np.argmax(distance_matrix[i,:])\n",
    "        if distance_matrix[i,the_index] == -1:\n",
    "            abstenidos += 1\n",
    "            continue\n",
    "        num_neighbours = len(neighbours)\n",
    "        if distance_matrix[i,i] == -1:\n",
    "            cambio_comportamiento += 1\n",
    "            if num_neighbours<2:\n",
    "                cambio_comportamiento_solo_un_match+=1\n",
    "        if distance_matrix[i,i] != -1 and num_neighbours<2 and i!= the_index:\n",
    "            sin_cambio_solo_un_match +=1\n",
    "        if i == the_index:\n",
    "            correctos += 1\n",
    "        else:\n",
    "            incorrectos+=1\n",
    "    return correctos*100/limit,abstenidos*100/limit,cambio_comportamiento*100/limit,\\\n",
    "cambio_comportamiento_solo_un_match*100/limit,sin_cambio_solo_un_match*100/limit,incorrectos*100/limit"
   ]
  },
  {
   "cell_type": "code",
   "execution_count": 287,
   "metadata": {
    "collapsed": false
   },
   "outputs": [
    {
     "name": "stdout",
     "output_type": "stream",
     "text": [
      "Porcentaje correctos: 47.38\n",
      "Porcentaje de incorrectos 30.64\n",
      "Porcentaje abstenidos: 21.98\n",
      "Porcentaje que cambian de comportamiento: 45.71\n",
      "Porcentaje que cambian de comportamiento y no se abstiene: 23.74\n",
      "Porcentaje que cambian de comportamiento y solo tienen un match: 9.03\n",
      "Porcentaje que no cambia de comportamiento y solo tienen un match incorrecto 0.0\n"
     ]
    }
   ],
   "source": [
    "a,b,c,d,e,f = get_abstenidos_and_cambio_comportamiento(a_matrix_euclidiana)\n",
    "print \"Porcentaje correctos: \"+ str(round(a,2))\n",
    "print \"Porcentaje de incorrectos \"+ str(round(f,2))\n",
    "print \"Porcentaje abstenidos: \"+ str(round(b,2))\n",
    "print \"Porcentaje que cambian de comportamiento: \"+ str(round(c+b,2))\n",
    "print \"Porcentaje que cambian de comportamiento y no se abstiene: \"+ str(round(c,2))\n",
    "print \"Porcentaje que cambian de comportamiento y solo tienen un match: \"+ str(round(d,2))\n",
    "print \"Porcentaje que no cambia de comportamiento y solo tienen un match incorrecto \"+ str(round(e,2))"
   ]
  },
  {
   "cell_type": "code",
   "execution_count": 288,
   "metadata": {
    "collapsed": false
   },
   "outputs": [
    {
     "name": "stdout",
     "output_type": "stream",
     "text": [
      "Porcentaje de no tan incorrectos: 93.09\n"
     ]
    }
   ],
   "source": [
    "print \"Porcentaje de no tan incorrectos:\", round(sum([a,b,c]),2)"
   ]
  },
  {
   "cell_type": "code",
   "execution_count": 289,
   "metadata": {
    "collapsed": true
   },
   "outputs": [],
   "source": [
    "#TODO CHANGE pq no_penultimo esta incluyendo abstenidos\n",
    "def positions(p):\n",
    "    penultimo_3 = 0\n",
    "    penultimo_4 = 0\n",
    "    penultimo_5m = 0\n",
    "    only_two = 0\n",
    "    no_penultimo = 0\n",
    "    tercero = 0\n",
    "    for atuple in p:\n",
    "        if atuple[2] == 2:\n",
    "            only_two += 1\n",
    "        elif atuple[2] == 3 and atuple[2]-2 == atuple[1]:\n",
    "            penultimo_3 += 1\n",
    "        elif atuple[2] == 4 and atuple[2]-2 == atuple[1]:\n",
    "            penultimo_4 += 1\n",
    "        elif atuple[2]-2 == atuple[1]:\n",
    "            penultimo_5m += 1\n",
    "        else: \n",
    "            if atuple[2]-3 == atuple[1]:\n",
    "                tercero += 1\n",
    "            else: \n",
    "                no_penultimo +=1\n",
    "    print \"Solo dos opciones, \",only_two*100/len(p)\n",
    "    print \"Penultimo de 3, \",penultimo_3*100/len(p)\n",
    "    print \"Penultimo de 4, \",penultimo_4*100/len(p)\n",
    "    print \"Penultimod de 5 o mas, \",penultimo_5m*100/len(p)\n",
    "    print \"Tercero de 5 o mas, \",tercero*100/len(p)\n",
    "    print \"Ni tercero, \",no_penultimo*100/len(p)\n"
   ]
  },
  {
   "cell_type": "code",
   "execution_count": 290,
   "metadata": {
    "collapsed": false
   },
   "outputs": [
    {
     "name": "stderr",
     "output_type": "stream",
     "text": [
      "/home/cata/anaconda2/lib/python2.7/site-packages/ipykernel/__main__.py:35: DeprecationWarning: using a non-integer number instead of an integer will result in an error in the future\n",
      "/home/cata/anaconda2/lib/python2.7/site-packages/ipykernel/__main__.py:42: DeprecationWarning: using a non-integer number instead of an integer will result in an error in the future\n"
     ]
    }
   ],
   "source": [
    "p,n_n_fail,n_n_correct,p_s_p = get_position_right_answer(a_matrix_braycurtis)"
   ]
  },
  {
   "cell_type": "code",
   "execution_count": 270,
   "metadata": {
    "collapsed": false,
    "scrolled": true
   },
   "outputs": [
    {
     "name": "stdout",
     "output_type": "stream",
     "text": [
      "Solo dos opciones,  19.6943315922\n",
      "Penultimo de 3,  0.735151866899\n",
      "Penultimo de 4,  0.580383052815\n",
      "Penultimod de 5 o mas,  41.923002515\n",
      "Tercero de 5 o mas,  5.78448442639\n",
      "Ni tercero,  31.2826465467\n"
     ]
    }
   ],
   "source": [
    "positions(p)"
   ]
  },
  {
   "cell_type": "code",
   "execution_count": 202,
   "metadata": {
    "collapsed": false
   },
   "outputs": [
    {
     "data": {
      "text/plain": [
       "7.5"
      ]
     },
     "execution_count": 202,
     "metadata": {},
     "output_type": "execute_result"
    }
   ],
   "source": [
    "79-45-(27+5+9+12)/2"
   ]
  },
  {
   "cell_type": "code",
   "execution_count": 203,
   "metadata": {
    "collapsed": false
   },
   "outputs": [
    {
     "data": {
      "text/plain": [
       "47.784871348423295"
      ]
     },
     "execution_count": 203,
     "metadata": {},
     "output_type": "execute_result"
    }
   ],
   "source": [
    "len(n_n_correct)*100/limit"
   ]
  },
  {
   "cell_type": "markdown",
   "metadata": {},
   "source": [
    "### Histograma de número de vecinos cuando el algoritmo falla"
   ]
  },
  {
   "cell_type": "code",
   "execution_count": 204,
   "metadata": {
    "collapsed": false
   },
   "outputs": [
    {
     "data": {
      "text/plain": [
       "(array([   0.,  467.,  289.,  193.,  127.,   94.,   55.,   54.,   44.,\n",
       "          27.,   31.,   23.,   24.,   18.,   17.,   14.,   11.,    6.,\n",
       "          10.,   11.,   13.,   12.,   10.,    6.,    6.,    9.,   10.,\n",
       "           8.,    9.]),\n",
       " array([ 0,  1,  2,  3,  4,  5,  6,  7,  8,  9, 10, 11, 12, 13, 14, 15, 16,\n",
       "        17, 18, 19, 20, 21, 22, 23, 24, 25, 26, 27, 28, 29]),\n",
       " <a list of 29 Patch objects>)"
      ]
     },
     "execution_count": 204,
     "metadata": {},
     "output_type": "execute_result"
    },
    {
     "data": {
      "image/png": "[encoded data removed]",
      "text/plain": [
       "<matplotlib.figure.Figure at 0x7fc01ca89310>"
      ]
     },
     "metadata": {},
     "output_type": "display_data"
    }
   ],
   "source": [
    "plt.hist(n_n_fail,range(30))"
   ]
  },
  {
   "cell_type": "markdown",
   "metadata": {},
   "source": [
    "### Histograma de número de vecinos cuando el algoritmo acierta"
   ]
  },
  {
   "cell_type": "code",
   "execution_count": 205,
   "metadata": {
    "collapsed": false
   },
   "outputs": [
    {
     "data": {
      "text/plain": [
       "(array([  0.00000000e+00,   1.17500000e+03,   5.19000000e+02,\n",
       "          2.38000000e+02,   1.36000000e+02,   9.70000000e+01,\n",
       "          6.10000000e+01,   3.70000000e+01,   2.50000000e+01,\n",
       "          2.10000000e+01,   2.40000000e+01,   1.90000000e+01,\n",
       "          1.30000000e+01,   7.00000000e+00,   1.30000000e+01,\n",
       "          7.00000000e+00,   4.00000000e+00,   9.00000000e+00,\n",
       "          7.00000000e+00,   1.00000000e+00,   6.00000000e+00,\n",
       "          5.00000000e+00,   3.00000000e+00,   1.00000000e+00,\n",
       "          1.00000000e+00,   4.00000000e+00,   2.00000000e+00,\n",
       "          0.00000000e+00,   7.00000000e+00]),\n",
       " array([ 0,  1,  2,  3,  4,  5,  6,  7,  8,  9, 10, 11, 12, 13, 14, 15, 16,\n",
       "        17, 18, 19, 20, 21, 22, 23, 24, 25, 26, 27, 28, 29]),\n",
       " <a list of 29 Patch objects>)"
      ]
     },
     "execution_count": 205,
     "metadata": {},
     "output_type": "execute_result"
    },
    {
     "data": {
      "image/png": "[encoded data removed]",
      "text/plain": [
       "<matplotlib.figure.Figure at 0x7fbfda70f750>"
      ]
     },
     "metadata": {},
     "output_type": "display_data"
    }
   ],
   "source": [
    "plt.hist(n_n_correct,range(30))"
   ]
  },
  {
   "cell_type": "code",
   "execution_count": 206,
   "metadata": {
    "collapsed": false
   },
   "outputs": [
    {
     "data": {
      "text/plain": [
       "467"
      ]
     },
     "execution_count": 206,
     "metadata": {},
     "output_type": "execute_result"
    }
   ],
   "source": [
    "len(p_s_p)"
   ]
  },
  {
   "cell_type": "code",
   "execution_count": 207,
   "metadata": {
    "collapsed": false
   },
   "outputs": [],
   "source": [
    "num_matches = []\n",
    "counter = 0\n",
    "for n in p_s_p:\n",
    "    n_matches = 0\n",
    "    for n2 in p_s_p:\n",
    "        if n2[1] == n[0] and n2[0] == n[1]:\n",
    "            n_matches += 1\n",
    "    num_matches.append(n_matches)\n",
    "    counter += 1"
   ]
  },
  {
   "cell_type": "code",
   "execution_count": 208,
   "metadata": {
    "collapsed": false
   },
   "outputs": [
    {
     "data": {
      "text/plain": [
       "(array([   0.,    0.,    0.,    0.,    0.,  467.,    0.,    0.,    0.,    0.]),\n",
       " array([-0.5, -0.4, -0.3, -0.2, -0.1,  0. ,  0.1,  0.2,  0.3,  0.4,  0.5]),\n",
       " <a list of 10 Patch objects>)"
      ]
     },
     "execution_count": 208,
     "metadata": {},
     "output_type": "execute_result"
    },
    {
     "data": {
      "image/png": "[encoded data removed]",
      "text/plain": [
       "<matplotlib.figure.Figure at 0x7fbfda3da590>"
      ]
     },
     "metadata": {},
     "output_type": "display_data"
    }
   ],
   "source": [
    "plt.hist(num_matches)"
   ]
  },
  {
   "cell_type": "markdown",
   "metadata": {},
   "source": [
    "### Ver en que orden queda el vector correcto con euclidiana"
   ]
  },
  {
   "cell_type": "code",
   "execution_count": 301,
   "metadata": {
    "collapsed": false
   },
   "outputs": [
    {
     "name": "stdout",
     "output_type": "stream",
     "text": [
      "Solo dos opciones,  19.1719868447\n",
      "Penultimo de 3,  0.715805765138\n",
      "Penultimo de 4,  0.522344747533\n",
      "Penultimod de 5 o mas,  42.7548848907\n",
      "Tercero de 5 o mas,  5.80383052815\n",
      "Ni tercero,  31.0311472238\n"
     ]
    },
    {
     "name": "stderr",
     "output_type": "stream",
     "text": [
      "/home/cata/anaconda2/lib/python2.7/site-packages/ipykernel/__main__.py:35: DeprecationWarning: using a non-integer number instead of an integer will result in an error in the future\n",
      "/home/cata/anaconda2/lib/python2.7/site-packages/ipykernel/__main__.py:42: DeprecationWarning: using a non-integer number instead of an integer will result in an error in the future\n"
     ]
    }
   ],
   "source": [
    "p_e,n_n_fail,n_n_correct,p_s_p = get_position_right_answer(a_matrix_euclidiana)\n",
    "positions(p_e)"
   ]
  },
  {
   "cell_type": "code",
   "execution_count": 302,
   "metadata": {
    "collapsed": false
   },
   "outputs": [
    {
     "name": "stdout",
     "output_type": "stream",
     "text": [
      "Solo dos opciones,  19.6943315922\n",
      "Penultimo de 3,  0.735151866899\n",
      "Penultimo de 4,  0.580383052815\n",
      "Penultimod de 5 o mas,  41.923002515\n",
      "Tercero de 5 o mas,  5.78448442639\n",
      "Ni tercero,  31.2826465467\n"
     ]
    }
   ],
   "source": [
    "positions(p)"
   ]
  },
  {
   "cell_type": "code",
   "execution_count": 211,
   "metadata": {
    "collapsed": false
   },
   "outputs": [
    {
     "data": {
      "text/plain": [
       "(array([  0.00000000e+00,   1.17500000e+03,   5.11000000e+02,\n",
       "          2.34000000e+02,   1.37000000e+02,   1.00000000e+02,\n",
       "          5.70000000e+01,   3.80000000e+01,   2.50000000e+01,\n",
       "          2.30000000e+01,   2.20000000e+01,   1.80000000e+01,\n",
       "          9.00000000e+00,   7.00000000e+00,   1.40000000e+01,\n",
       "          8.00000000e+00,   4.00000000e+00,   8.00000000e+00,\n",
       "          6.00000000e+00,   1.00000000e+00,   7.00000000e+00,\n",
       "          5.00000000e+00,   2.00000000e+00,   1.00000000e+00,\n",
       "          1.00000000e+00,   4.00000000e+00,   2.00000000e+00,\n",
       "          1.00000000e+00,   7.00000000e+00]),\n",
       " array([ 0,  1,  2,  3,  4,  5,  6,  7,  8,  9, 10, 11, 12, 13, 14, 15, 16,\n",
       "        17, 18, 19, 20, 21, 22, 23, 24, 25, 26, 27, 28, 29]),\n",
       " <a list of 29 Patch objects>)"
      ]
     },
     "execution_count": 211,
     "metadata": {},
     "output_type": "execute_result"
    },
    {
     "data": {
      "image/png": "[encoded data removed]",
      "text/plain": [
       "<matplotlib.figure.Figure at 0x7fbfd95a1b10>"
      ]
     },
     "metadata": {},
     "output_type": "display_data"
    }
   ],
   "source": [
    "plt.hist(n_n_correct,range(30))"
   ]
  },
  {
   "cell_type": "code",
   "execution_count": 212,
   "metadata": {
    "collapsed": false
   },
   "outputs": [
    {
     "data": {
      "text/plain": [
       "(array([   0.,  467.,  263.,  179.,  119.,   82.,   52.,   49.,   43.,\n",
       "          24.,   33.,   23.,   28.,   17.,   15.,   13.,   11.,    7.,\n",
       "          10.,   11.,   12.,   12.,   11.,    6.,    6.,    9.,   10.,\n",
       "           7.,    9.]),\n",
       " array([ 0,  1,  2,  3,  4,  5,  6,  7,  8,  9, 10, 11, 12, 13, 14, 15, 16,\n",
       "        17, 18, 19, 20, 21, 22, 23, 24, 25, 26, 27, 28, 29]),\n",
       " <a list of 29 Patch objects>)"
      ]
     },
     "execution_count": 212,
     "metadata": {},
     "output_type": "execute_result"
    },
    {
     "data": {
      "image/png": "[encoded data removed]",
      "text/plain": [
       "<matplotlib.figure.Figure at 0x7fbfd912d0d0>"
      ]
     },
     "metadata": {},
     "output_type": "display_data"
    }
   ],
   "source": [
    "plt.hist(n_n_fail,range(30))"
   ]
  },
  {
   "cell_type": "code",
   "execution_count": 213,
   "metadata": {
    "collapsed": false
   },
   "outputs": [
    {
     "data": {
      "text/plain": [
       "7.471264367816092"
      ]
     },
     "execution_count": 213,
     "metadata": {},
     "output_type": "execute_result"
    }
   ],
   "source": [
    "(70+60)*100/(1260+480)"
   ]
  },
  {
   "cell_type": "code",
   "execution_count": 214,
   "metadata": {
    "collapsed": false
   },
   "outputs": [],
   "source": [
    "df_a_vectors = pd.DataFrame(abril_vectors)"
   ]
  },
  {
   "cell_type": "code",
   "execution_count": 215,
   "metadata": {
    "collapsed": true
   },
   "outputs": [],
   "source": [
    "def get_array_identified_ids(identified_ids):\n",
    "    result = []\n",
    "    for i in range(len(identified_ids)):\n",
    "        if i == identified_ids[i]:\n",
    "            result.append(1)\n",
    "        else:\n",
    "            result.append(0)\n",
    "    return result"
   ]
  },
  {
   "cell_type": "markdown",
   "metadata": {},
   "source": [
    "# Datos para visualizar"
   ]
  },
  {
   "cell_type": "markdown",
   "metadata": {},
   "source": [
    "#### Saving a sample of features with the class identified or not"
   ]
  },
  {
   "cell_type": "code",
   "execution_count": 101,
   "metadata": {
    "collapsed": true
   },
   "outputs": [],
   "source": [
    "df_a_vectors['identified'] = get_array_identified_ids(identified_indexs_e)"
   ]
  },
  {
   "cell_type": "code",
   "execution_count": 102,
   "metadata": {
    "collapsed": false
   },
   "outputs": [],
   "source": [
    "df_a_vectors.columns = [\"msal\",\"mlal\",\"kmDistance\",\"kmMaxDist\",\"kmMinDist\",\"rg\",\"unc_entropy\", \\\n",
    "    \"random_entropy\",\"p100_diff_last_origin\",\"p100_diff_first_origin\",\"card_type\",\\\n",
    "    \"start_time\",\"end_time\",\"traveled_days\",\"traveled_days_bs\",\"frequence_regularity\",\\\n",
    "    \"p100_exclusive_bus_days\",\"p100_exclusive_metro_days\",\"P100_bus_trips\",\"identified\"]"
   ]
  },
  {
   "cell_type": "markdown",
   "metadata": {},
   "source": [
    "All the data"
   ]
  },
  {
   "cell_type": "code",
   "execution_count": 103,
   "metadata": {
    "collapsed": false
   },
   "outputs": [],
   "source": [
    "file_path = 'abril_vectors_norm_identified'+ '.csv'\n",
    "df_a_vectors.to_csv(path_or_buf=file_path)"
   ]
  },
  {
   "cell_type": "markdown",
   "metadata": {},
   "source": [
    "1000 raws"
   ]
  },
  {
   "cell_type": "code",
   "execution_count": 104,
   "metadata": {
    "collapsed": true
   },
   "outputs": [],
   "source": [
    "file_path = 'abril_vectors_norm_identified_1000'+ '.csv'\n",
    "df_a_vectors.sample(1000).to_csv(path_or_buf=file_path)"
   ]
  },
  {
   "cell_type": "markdown",
   "metadata": {},
   "source": [
    "500 rows"
   ]
  },
  {
   "cell_type": "code",
   "execution_count": 105,
   "metadata": {
    "collapsed": true
   },
   "outputs": [],
   "source": [
    "file_path = 'abril_vectors_norm_identified_500'+ '.csv'\n",
    "df_a_vectors.sample(500).to_csv(path_or_buf=file_path)"
   ]
  },
  {
   "cell_type": "code",
   "execution_count": 106,
   "metadata": {
    "collapsed": false
   },
   "outputs": [],
   "source": [
    "df0_abril_vectors = pd.read_csv('data/Distancia_Euclideana/abril_features.csv')"
   ]
  },
  {
   "cell_type": "code",
   "execution_count": 107,
   "metadata": {
    "collapsed": false
   },
   "outputs": [],
   "source": [
    "df0_abril_vectors['identified'] = get_array_identified_ids(identified_indexs_e)"
   ]
  },
  {
   "cell_type": "code",
   "execution_count": 108,
   "metadata": {
    "collapsed": false
   },
   "outputs": [
    {
     "data": {
      "text/html": [
       "<div>\n",
       "<table border=\"1\" class=\"dataframe\">\n",
       "  <thead>\n",
       "    <tr style=\"text-align: right;\">\n",
       "      <th></th>\n",
       "      <th># msal</th>\n",
       "      <th>mlal</th>\n",
       "      <th>kmDistance</th>\n",
       "      <th>kmMaxDist</th>\n",
       "      <th>kmMinDist</th>\n",
       "      <th>rg</th>\n",
       "      <th>unc_entropy</th>\n",
       "      <th>random_entropy</th>\n",
       "      <th>p100_diff_last_origin</th>\n",
       "      <th>p100_diff_first_origin</th>\n",
       "      <th>card_type</th>\n",
       "      <th>start_time</th>\n",
       "      <th>end_time</th>\n",
       "      <th>traveled_days</th>\n",
       "      <th>traveled_days_bs</th>\n",
       "      <th>frequence_regularity</th>\n",
       "      <th>p100_exclusive_bus_days</th>\n",
       "      <th>p100_exclusive_metro_days</th>\n",
       "      <th>P100_bus_trips</th>\n",
       "      <th>identified</th>\n",
       "    </tr>\n",
       "  </thead>\n",
       "  <tbody>\n",
       "    <tr>\n",
       "      <th>0</th>\n",
       "      <td>469.714286</td>\n",
       "      <td>744.714286</td>\n",
       "      <td>195.808618</td>\n",
       "      <td>16.883693</td>\n",
       "      <td>5.586141</td>\n",
       "      <td>5450.200715</td>\n",
       "      <td>2.554585</td>\n",
       "      <td>2.321928</td>\n",
       "      <td>57.142857</td>\n",
       "      <td>42.857143</td>\n",
       "      <td>0</td>\n",
       "      <td>33061</td>\n",
       "      <td>67229</td>\n",
       "      <td>7</td>\n",
       "      <td>5</td>\n",
       "      <td>4</td>\n",
       "      <td>100.0</td>\n",
       "      <td>0</td>\n",
       "      <td>100.000000</td>\n",
       "      <td>1</td>\n",
       "    </tr>\n",
       "    <tr>\n",
       "      <th>1</th>\n",
       "      <td>530.200000</td>\n",
       "      <td>822.200000</td>\n",
       "      <td>115.374820</td>\n",
       "      <td>14.292865</td>\n",
       "      <td>1.393997</td>\n",
       "      <td>5287.442595</td>\n",
       "      <td>1.991076</td>\n",
       "      <td>1.584963</td>\n",
       "      <td>40.000000</td>\n",
       "      <td>40.000000</td>\n",
       "      <td>0</td>\n",
       "      <td>32320</td>\n",
       "      <td>64806</td>\n",
       "      <td>5</td>\n",
       "      <td>4</td>\n",
       "      <td>5</td>\n",
       "      <td>100.0</td>\n",
       "      <td>0</td>\n",
       "      <td>100.000000</td>\n",
       "      <td>0</td>\n",
       "    </tr>\n",
       "    <tr>\n",
       "      <th>2</th>\n",
       "      <td>251.375000</td>\n",
       "      <td>689.875000</td>\n",
       "      <td>105.812368</td>\n",
       "      <td>15.543822</td>\n",
       "      <td>0.474051</td>\n",
       "      <td>4689.059189</td>\n",
       "      <td>2.920597</td>\n",
       "      <td>3.321928</td>\n",
       "      <td>87.500000</td>\n",
       "      <td>50.000000</td>\n",
       "      <td>0</td>\n",
       "      <td>35691</td>\n",
       "      <td>63735</td>\n",
       "      <td>8</td>\n",
       "      <td>7</td>\n",
       "      <td>4</td>\n",
       "      <td>12.5</td>\n",
       "      <td>25</td>\n",
       "      <td>36.842105</td>\n",
       "      <td>1</td>\n",
       "    </tr>\n",
       "    <tr>\n",
       "      <th>3</th>\n",
       "      <td>426.600000</td>\n",
       "      <td>891.600000</td>\n",
       "      <td>24.405205</td>\n",
       "      <td>2.654686</td>\n",
       "      <td>2.343039</td>\n",
       "      <td>1217.127320</td>\n",
       "      <td>1.360964</td>\n",
       "      <td>1.584963</td>\n",
       "      <td>40.000000</td>\n",
       "      <td>20.000000</td>\n",
       "      <td>0</td>\n",
       "      <td>30747</td>\n",
       "      <td>56383</td>\n",
       "      <td>5</td>\n",
       "      <td>4</td>\n",
       "      <td>5</td>\n",
       "      <td>100.0</td>\n",
       "      <td>0</td>\n",
       "      <td>100.000000</td>\n",
       "      <td>1</td>\n",
       "    </tr>\n",
       "    <tr>\n",
       "      <th>4</th>\n",
       "      <td>689.400000</td>\n",
       "      <td>775.000000</td>\n",
       "      <td>95.360226</td>\n",
       "      <td>10.425179</td>\n",
       "      <td>9.932433</td>\n",
       "      <td>5021.142449</td>\n",
       "      <td>1.485475</td>\n",
       "      <td>1.584963</td>\n",
       "      <td>20.000000</td>\n",
       "      <td>40.000000</td>\n",
       "      <td>0</td>\n",
       "      <td>20398</td>\n",
       "      <td>66933</td>\n",
       "      <td>5</td>\n",
       "      <td>4</td>\n",
       "      <td>5</td>\n",
       "      <td>100.0</td>\n",
       "      <td>0</td>\n",
       "      <td>100.000000</td>\n",
       "      <td>1</td>\n",
       "    </tr>\n",
       "  </tbody>\n",
       "</table>\n",
       "</div>"
      ],
      "text/plain": [
       "       # msal        mlal  kmDistance  kmMaxDist  kmMinDist           rg  \\\n",
       "0  469.714286  744.714286  195.808618  16.883693   5.586141  5450.200715   \n",
       "1  530.200000  822.200000  115.374820  14.292865   1.393997  5287.442595   \n",
       "2  251.375000  689.875000  105.812368  15.543822   0.474051  4689.059189   \n",
       "3  426.600000  891.600000   24.405205   2.654686   2.343039  1217.127320   \n",
       "4  689.400000  775.000000   95.360226  10.425179   9.932433  5021.142449   \n",
       "\n",
       "   unc_entropy  random_entropy  p100_diff_last_origin  p100_diff_first_origin  \\\n",
       "0     2.554585        2.321928              57.142857               42.857143   \n",
       "1     1.991076        1.584963              40.000000               40.000000   \n",
       "2     2.920597        3.321928              87.500000               50.000000   \n",
       "3     1.360964        1.584963              40.000000               20.000000   \n",
       "4     1.485475        1.584963              20.000000               40.000000   \n",
       "\n",
       "   card_type  start_time  end_time  traveled_days  traveled_days_bs  \\\n",
       "0          0       33061     67229              7                 5   \n",
       "1          0       32320     64806              5                 4   \n",
       "2          0       35691     63735              8                 7   \n",
       "3          0       30747     56383              5                 4   \n",
       "4          0       20398     66933              5                 4   \n",
       "\n",
       "   frequence_regularity  p100_exclusive_bus_days  p100_exclusive_metro_days  \\\n",
       "0                     4                    100.0                          0   \n",
       "1                     5                    100.0                          0   \n",
       "2                     4                     12.5                         25   \n",
       "3                     5                    100.0                          0   \n",
       "4                     5                    100.0                          0   \n",
       "\n",
       "   P100_bus_trips  identified  \n",
       "0      100.000000           1  \n",
       "1      100.000000           0  \n",
       "2       36.842105           1  \n",
       "3      100.000000           1  \n",
       "4      100.000000           1  "
      ]
     },
     "execution_count": 108,
     "metadata": {},
     "output_type": "execute_result"
    }
   ],
   "source": [
    "df0_abril_vectors.head()"
   ]
  },
  {
   "cell_type": "code",
   "execution_count": 109,
   "metadata": {
    "collapsed": false
   },
   "outputs": [],
   "source": [
    "df0_abril_vectors.columns = [\"msal\",\"mlal\",\"kmDistance\",\"kmMaxDist\",\"kmMinDist\",\"rg\",\"unc_entropy\", \\\n",
    "    \"random_entropy\",\"p100_diff_last_origin\",\"p100_diff_first_origin\",\"card_type\",\\\n",
    "    \"start_time\",\"end_time\",\"traveled_days\",\"traveled_days_bs\",\"frequence_regularity\",\\\n",
    "    \"p100_exclusive_bus_days\",\"p100_exclusive_metro_days\",\"P100_bus_trips\",\"identified\"]"
   ]
  },
  {
   "cell_type": "code",
   "execution_count": 110,
   "metadata": {
    "collapsed": false
   },
   "outputs": [
    {
     "data": {
      "text/html": [
       "<div>\n",
       "<table border=\"1\" class=\"dataframe\">\n",
       "  <thead>\n",
       "    <tr style=\"text-align: right;\">\n",
       "      <th></th>\n",
       "      <th>msal</th>\n",
       "      <th>mlal</th>\n",
       "      <th>kmDistance</th>\n",
       "      <th>kmMaxDist</th>\n",
       "      <th>kmMinDist</th>\n",
       "      <th>rg</th>\n",
       "      <th>unc_entropy</th>\n",
       "      <th>random_entropy</th>\n",
       "      <th>p100_diff_last_origin</th>\n",
       "      <th>p100_diff_first_origin</th>\n",
       "      <th>card_type</th>\n",
       "      <th>start_time</th>\n",
       "      <th>end_time</th>\n",
       "      <th>traveled_days</th>\n",
       "      <th>traveled_days_bs</th>\n",
       "      <th>frequence_regularity</th>\n",
       "      <th>p100_exclusive_bus_days</th>\n",
       "      <th>p100_exclusive_metro_days</th>\n",
       "      <th>P100_bus_trips</th>\n",
       "      <th>identified</th>\n",
       "    </tr>\n",
       "  </thead>\n",
       "  <tbody>\n",
       "    <tr>\n",
       "      <th>1174</th>\n",
       "      <td>499.8</td>\n",
       "      <td>869</td>\n",
       "      <td>67.01223</td>\n",
       "      <td>9.80771</td>\n",
       "      <td>2.564191</td>\n",
       "      <td>2732.863499</td>\n",
       "      <td>3.5</td>\n",
       "      <td>2.807355</td>\n",
       "      <td>100</td>\n",
       "      <td>60</td>\n",
       "      <td>0</td>\n",
       "      <td>46830</td>\n",
       "      <td>62380</td>\n",
       "      <td>5</td>\n",
       "      <td>3</td>\n",
       "      <td>2</td>\n",
       "      <td>100</td>\n",
       "      <td>0</td>\n",
       "      <td>100</td>\n",
       "      <td>0</td>\n",
       "    </tr>\n",
       "  </tbody>\n",
       "</table>\n",
       "</div>"
      ],
      "text/plain": [
       "       msal  mlal  kmDistance  kmMaxDist  kmMinDist           rg  unc_entropy  \\\n",
       "1174  499.8   869    67.01223    9.80771   2.564191  2732.863499          3.5   \n",
       "\n",
       "      random_entropy  p100_diff_last_origin  p100_diff_first_origin  \\\n",
       "1174        2.807355                    100                      60   \n",
       "\n",
       "      card_type  start_time  end_time  traveled_days  traveled_days_bs  \\\n",
       "1174          0       46830     62380              5                 3   \n",
       "\n",
       "      frequence_regularity  p100_exclusive_bus_days  \\\n",
       "1174                     2                      100   \n",
       "\n",
       "      p100_exclusive_metro_days  P100_bus_trips  identified  \n",
       "1174                          0             100           0  "
      ]
     },
     "execution_count": 110,
     "metadata": {},
     "output_type": "execute_result"
    }
   ],
   "source": [
    "df0_abril_vectors.sample().head(10)"
   ]
  },
  {
   "cell_type": "code",
   "execution_count": 111,
   "metadata": {
    "collapsed": true
   },
   "outputs": [],
   "source": [
    "file_path = 'abril_vectors_identified'+ '.csv'\n",
    "df0_abril_vectors.to_csv(path_or_buf=file_path)"
   ]
  },
  {
   "cell_type": "code",
   "execution_count": 112,
   "metadata": {
    "collapsed": true
   },
   "outputs": [],
   "source": [
    "file_path = 'abril_vectors_identified_1000'+ '.csv'\n",
    "df0_abril_vectors.sample(1000).to_csv(path_or_buf=file_path)"
   ]
  },
  {
   "cell_type": "code",
   "execution_count": 113,
   "metadata": {
    "collapsed": true
   },
   "outputs": [],
   "source": [
    "file_path = 'abril_vectors_identified_500'+ '.csv'\n",
    "df0_abril_vectors.sample(500).to_csv(path_or_buf=file_path)"
   ]
  },
  {
   "cell_type": "code",
   "execution_count": 163,
   "metadata": {
    "collapsed": false
   },
   "outputs": [
    {
     "name": "stdout",
     "output_type": "stream",
     "text": [
      "Porcentaje correctos: 47.38\n",
      "Porcentaje de incorrectos 30.64\n",
      "Porcentaje abstenidos: 21.98\n",
      "Porcentaje que cambian de comportamiento: 45.71\n",
      "Porcentaje que cambian de comportamiento y no se abstiene: 23.74\n",
      "Porcentaje que cambian de comportamiento y solo tienen un match: 9.03\n",
      "Porcentaje que no cambia de comportamiento y solo tienen un match incorrecto 0.0\n"
     ]
    }
   ],
   "source": [
    "a,b,c,d,e,f = get_abstenidos_and_cambio_comportamiento(a_matrix_euclidiana)\n",
    "print \"Porcentaje correctos: \"+ str(round(a,2))\n",
    "print \"Porcentaje de incorrectos \"+ str(round(f,2))\n",
    "print \"Porcentaje abstenidos: \"+ str(round(b,2))\n",
    "print \"Porcentaje que cambian de comportamiento: \"+ str(round(c+b,2))\n",
    "print \"Porcentaje que cambian de comportamiento y no se abstiene: \"+ str(round(c,2))\n",
    "print \"Porcentaje que cambian de comportamiento y solo tienen un match: \"+ str(round(d,2))\n",
    "print \"Porcentaje que no cambia de comportamiento y solo tienen un match incorrecto \"+ str(round(e,2))"
   ]
  },
  {
   "cell_type": "markdown",
   "metadata": {},
   "source": [
    "## Obtener datos de quienes son los que se roban la pelicula"
   ]
  },
  {
   "cell_type": "code",
   "execution_count": 14,
   "metadata": {
    "collapsed": true
   },
   "outputs": [],
   "source": [
    "path_csv_sequences = 'data/data_to_visualize'\n",
    "# Función que filtra un data_frame según id\n",
    "# y el resultado lo entrega en un archivo csv\n",
    "def queryToCSV(matrix,user_id, str_diff = '', folder=''):\n",
    "    query = 'id ==' + str(user_id)\n",
    "    df_query = matrix.query(query)\n",
    "    if folder != '':\n",
    "        file_path = path_csv_sequences + '/'+folder+'/' + str(user_id) + '_' + str_diff + '.csv'\n",
    "    else:\n",
    "        file_path = path_csv_sequences + str(user_id) + '_' + str_diff + '.csv'\n",
    "    df_query.to_csv(path_or_buf=file_path)"
   ]
  },
  {
   "cell_type": "code",
   "execution_count": 15,
   "metadata": {
    "collapsed": true
   },
   "outputs": [],
   "source": [
    "with open('data/index_id_users.pickle','r') as f:\n",
    "    users_ids = pickle.load(f)"
   ]
  },
  {
   "cell_type": "code",
   "execution_count": 16,
   "metadata": {
    "collapsed": true
   },
   "outputs": [],
   "source": [
    "with open('data/datos_abril_sep_sequence.pickle') as f:\n",
    "    datos_abril = pickle.load(f)\n",
    "    datos_septiembre = pickle.load(f)"
   ]
  },
  {
   "cell_type": "code",
   "execution_count": 49,
   "metadata": {
    "collapsed": false
   },
   "outputs": [],
   "source": [
    "def get_stats(distance_matrix):\n",
    "    identified_indexs = []\n",
    "    wrong_indexs = []\n",
    "    correct_indexs = []\n",
    "    selected_distances = []\n",
    "    n_identified = 0\n",
    "    limit = len(distance_matrix)\n",
    "    w_c_a = []\n",
    "    for i in range(limit):\n",
    "        the_index = np.argmax(distance_matrix[i,:])\n",
    "        selected_distances.append(np.max(distance_matrix[i,:]))\n",
    "        if distance_matrix[i,the_index] == -1:\n",
    "            w_c_a.append(3)\n",
    "            continue\n",
    "        identified_indexs.append(the_index)\n",
    "        if(the_index!=i):\n",
    "            wrong_indexs.append(the_index)\n",
    "            w_c_a.append(2)\n",
    "        else:\n",
    "            correct_indexs.append(the_index)\n",
    "            n_identified += 1\n",
    "            w_c_a.append(1)\n",
    "    return identified_indexs,wrong_indexs,correct_indexs,selected_distances,n_identified,w_c_a\n"
   ]
  },
  {
   "cell_type": "code",
   "execution_count": 273,
   "metadata": {
    "collapsed": false
   },
   "outputs": [],
   "source": [
    "identified_indexs,wrong_indexs,correct_indexs,selected_distances,n_identified,w_c_a = get_stats(a_matrix_euclidiana)"
   ]
  },
  {
   "cell_type": "code",
   "execution_count": 274,
   "metadata": {
    "collapsed": false
   },
   "outputs": [
    {
     "data": {
      "text/plain": [
       "(array([ 1139.,     0.,     3.,     3.,     8.,     7.,     6.,     8.,\n",
       "            8.,    20.,    17.,    32.,    38.,    41.,    67.,    60.,\n",
       "           85.,   113.,   147.,   191.,   206.,   248.,   264.,   224.,\n",
       "          207.,   224.,   131.,    30.,     0.,  1642.]),\n",
       " array([-1.        , -0.96666667, -0.93333333, -0.9       , -0.86666667,\n",
       "        -0.83333333, -0.8       , -0.76666667, -0.73333333, -0.7       ,\n",
       "        -0.66666667, -0.63333333, -0.6       , -0.56666667, -0.53333333,\n",
       "        -0.5       , -0.46666667, -0.43333333, -0.4       , -0.36666667,\n",
       "        -0.33333333, -0.3       , -0.26666667, -0.23333333, -0.2       ,\n",
       "        -0.16666667, -0.13333333, -0.1       , -0.06666667, -0.03333333,  0.        ]),\n",
       " <a list of 30 Patch objects>)"
      ]
     },
     "execution_count": 274,
     "metadata": {},
     "output_type": "execute_result"
    },
    {
     "data": {
      "image/png": "[encoded data removed]",
      "text/plain": [
       "<matplotlib.figure.Figure at 0x7fbfd7e6a650>"
      ]
     },
     "metadata": {},
     "output_type": "display_data"
    }
   ],
   "source": [
    "plt.hist(selected_distances,30)"
   ]
  },
  {
   "cell_type": "code",
   "execution_count": 303,
   "metadata": {
    "collapsed": false
   },
   "outputs": [],
   "source": [
    "a = [] \n",
    "b = []\n",
    "c = []\n",
    "d_a = []\n",
    "d_b = []\n",
    "for i in range(len(selected_distances)):\n",
    "    if w_c_a[i]==1:\n",
    "        a.append(selected_distances[i])\n",
    "        d_a.append(p_e[i][3])\n",
    "    elif w_c_a[i]==2:\n",
    "        b.append(selected_distances[i])\n",
    "        d_b.append(p_e[i][3])\n",
    "    else:\n",
    "        c.append(selected_distances[i])"
   ]
  },
  {
   "cell_type": "code",
   "execution_count": 304,
   "metadata": {
    "collapsed": false
   },
   "outputs": [
    {
     "data": {
      "text/plain": [
       "([array([  0.00000000e+00,   0.00000000e+00,   0.00000000e+00,\n",
       "           0.00000000e+00,   0.00000000e+00,   0.00000000e+00,\n",
       "           1.00000000e+00,   1.00000000e+00,   0.00000000e+00,\n",
       "           1.00000000e+00,   1.00000000e+00,   5.00000000e+00,\n",
       "           7.00000000e+00,   6.00000000e+00,   1.00000000e+01,\n",
       "           1.80000000e+01,   2.90000000e+01,   3.30000000e+01,\n",
       "           7.00000000e+01,   8.10000000e+01,   1.11000000e+02,\n",
       "           1.33000000e+02,   1.65000000e+02,   1.51000000e+02,\n",
       "           1.57000000e+02,   1.71000000e+02,   1.01000000e+02,\n",
       "           2.20000000e+01,   0.00000000e+00,   1.17500000e+03]),\n",
       "  array([   3.,    2.,    3.,    3.,    7.,    9.,    7.,    6.,   10.,\n",
       "           16.,   19.,   32.,   28.,   42.,   49.,   46.,   64.,   83.,\n",
       "           85.,  108.,  105.,  111.,   91.,   64.,   57.,   39.,   25.,\n",
       "            3.,    0.,  467.])],\n",
       " array([-0.98497878, -0.95214615, -0.91931353, -0.8864809 , -0.85364828,\n",
       "        -0.82081565, -0.78798302, -0.7551504 , -0.72231777, -0.68948515,\n",
       "        -0.65665252, -0.62381989, -0.59098727, -0.55815464, -0.52532202,\n",
       "        -0.49248939, -0.45965676, -0.42682414, -0.39399151, -0.36115889,\n",
       "        -0.32832626, -0.29549363, -0.26266101, -0.22982838, -0.19699576,\n",
       "        -0.16416313, -0.1313305 , -0.09849788, -0.06566525, -0.03283263,  0.        ]),\n",
       " <a list of 2 Lists of Patches objects>)"
      ]
     },
     "execution_count": 304,
     "metadata": {},
     "output_type": "execute_result"
    },
    {
     "data": {
      "image/png": "[encoded data removed]",
      "text/plain": [
       "<matplotlib.figure.Figure at 0x7fbfd9c05a10>"
      ]
     },
     "metadata": {},
     "output_type": "display_data"
    }
   ],
   "source": [
    "colors = ['red', 'blue']\n",
    "plt.hist([a,b], 30, histtype='bar',color=colors)"
   ]
  },
  {
   "cell_type": "code",
   "execution_count": 305,
   "metadata": {
    "collapsed": false
   },
   "outputs": [
    {
     "data": {
      "text/plain": [
       "([array([  1.17500000e+03,   0.00000000e+00,   0.00000000e+00,\n",
       "           0.00000000e+00,   0.00000000e+00,   0.00000000e+00,\n",
       "           0.00000000e+00,   0.00000000e+00,   0.00000000e+00,\n",
       "           0.00000000e+00,   0.00000000e+00,   0.00000000e+00,\n",
       "           0.00000000e+00,   0.00000000e+00,   0.00000000e+00,\n",
       "           0.00000000e+00,   0.00000000e+00,   0.00000000e+00,\n",
       "           0.00000000e+00,   2.00000000e+00,   1.00000000e+00,\n",
       "           7.00000000e+00,   1.30000000e+01,   3.10000000e+01,\n",
       "           6.40000000e+01,   1.57000000e+02,   2.42000000e+02,\n",
       "           3.11000000e+02,   3.23000000e+02,   1.23000000e+02]),\n",
       "  array([ 467.,    0.,    0.,    0.,    0.,    0.,    0.,    0.,    0.,\n",
       "            0.,    0.,    0.,    0.,    0.,    0.,   73.,  116.,   89.,\n",
       "           55.,   32.,   40.,   50.,   77.,   82.,  113.,  144.,  133.,\n",
       "           72.,   31.,   10.])],\n",
       " array([-1.        , -0.93557522, -0.87115043, -0.80672565, -0.74230086,\n",
       "        -0.67787608, -0.61345129, -0.54902651, -0.48460172, -0.42017694,\n",
       "        -0.35575215, -0.29132737, -0.22690258, -0.1624778 , -0.09805301,\n",
       "        -0.03362823,  0.03079656,  0.09522134,  0.15964613,  0.22407091,\n",
       "         0.2884957 ,  0.35292048,  0.41734527,  0.48177005,  0.54619484,\n",
       "         0.61061962,  0.67504441,  0.73946919,  0.80389398,  0.86831876,\n",
       "         0.93274355]),\n",
       " <a list of 2 Lists of Patches objects>)"
      ]
     },
     "execution_count": 305,
     "metadata": {},
     "output_type": "execute_result"
    },
    {
     "data": {
      "image/png": "[encoded data removed]",
      "text/plain": [
       "<matplotlib.figure.Figure at 0x7fbfdaa63a90>"
      ]
     },
     "metadata": {},
     "output_type": "display_data"
    }
   ],
   "source": [
    "#TODO ENTENDER ESTO\n",
    "colors = ['red', 'blue']\n",
    "plt.hist([d_a,d_b], 30, histtype='bar',color=colors)"
   ]
  },
  {
   "cell_type": "code",
   "execution_count": 306,
   "metadata": {
    "collapsed": false
   },
   "outputs": [
    {
     "name": "stdout",
     "output_type": "stream",
     "text": [
      "0.706387042999\n"
     ]
    }
   ],
   "source": [
    "a_matrix_euclidiana_wo = compare_vectors_with_neighbours_normalized_without_opt(abril_norm_vectors,septiembre_norm_vectors,abril_the_rois,\\\n",
    "                                           septiembre_the_rois,shared_rois,limit,2,sp.spatial.distance.euclidean)"
   ]
  },
  {
   "cell_type": "code",
   "execution_count": 320,
   "metadata": {
    "collapsed": false
   },
   "outputs": [],
   "source": [
    "identified_indexs_2,wrong_indexs_2,correct_indexs_2,selected_distances_2,n_identified_2,w_c_a_2 =get_stats(a_matrix_euclidiana_wo)"
   ]
  },
  {
   "cell_type": "code",
   "execution_count": 321,
   "metadata": {
    "collapsed": false
   },
   "outputs": [
    {
     "name": "stdout",
     "output_type": "stream",
     "text": [
      "Solo dos opciones,  19.5008705746\n",
      "Penultimo de 3,  0.715805765138\n",
      "Penultimo de 4,  0.522344747533\n",
      "Penultimod de 5 o mas,  40.6461597988\n",
      "Tercero de 5 o mas,  5.80383052815\n",
      "Ni tercero,  32.8109885858\n"
     ]
    },
    {
     "name": "stderr",
     "output_type": "stream",
     "text": [
      "/home/cata/anaconda2/lib/python2.7/site-packages/ipykernel/__main__.py:35: DeprecationWarning: using a non-integer number instead of an integer will result in an error in the future\n",
      "/home/cata/anaconda2/lib/python2.7/site-packages/ipykernel/__main__.py:42: DeprecationWarning: using a non-integer number instead of an integer will result in an error in the future\n"
     ]
    }
   ],
   "source": [
    "p_e_wo,n_n_fail_wo,n_n_correct_wo,p_s_p_wo = get_position_right_answer(a_matrix_euclidiana_wo)\n",
    "positions(p_e_wo)"
   ]
  },
  {
   "cell_type": "code",
   "execution_count": 325,
   "metadata": {
    "collapsed": false
   },
   "outputs": [
    {
     "data": {
      "text/plain": [
       "([array([   0.,    0.,    0.,    0.,    0.,    1.,    1.,    0.,    0.,\n",
       "            0.,    1.,    1.,    1.,    2.,    3.,    0.,    2.,    1.,\n",
       "            1.,    6.,    6.,    5.,    6.,    9.,    9.,   17.,   11.,\n",
       "           23.,   35.,   41.,   49.,   58.,   72.,   96.,   86.,   97.,\n",
       "          117.,  137.,  160.,  177.,  163.,  165.,  149.,  171.,  192.,\n",
       "          157.,  108.,   71.,   15.,    4.]),\n",
       "  array([  9.,   3.,   3.,   2.,   4.,   4.,   3.,  11.,   6.,  11.,   9.,\n",
       "          12.,  11.,  10.,  13.,  17.,  21.,  21.,  23.,  43.,  25.,  34.,\n",
       "          39.,  32.,  47.,  44.,  35.,  42.,  45.,  51.,  64.,  55.,  64.,\n",
       "          63.,  74.,  70.,  69.,  72.,  57.,  66.,  53.,  36.,  36.,  29.,\n",
       "          22.,  24.,  17.,   3.,   1.,   0.])],\n",
       " array([-0.98497878, -0.96633526, -0.94769174, -0.92904821, -0.91040469,\n",
       "        -0.89176117, -0.87311765, -0.85447412, -0.8358306 , -0.81718708,\n",
       "        -0.79854356, -0.77990004, -0.76125651, -0.74261299, -0.72396947,\n",
       "        -0.70532595, -0.68668243, -0.6680389 , -0.64939538, -0.63075186,\n",
       "        -0.61210834, -0.59346481, -0.57482129, -0.55617777, -0.53753425,\n",
       "        -0.51889073, -0.5002472 , -0.48160368, -0.46296016, -0.44431664,\n",
       "        -0.42567311, -0.40702959, -0.38838607, -0.36974255, -0.35109903,\n",
       "        -0.3324555 , -0.31381198, -0.29516846, -0.27652494, -0.25788142,\n",
       "        -0.23923789, -0.22059437, -0.20195085, -0.18330733, -0.1646638 ,\n",
       "        -0.14602028, -0.12737676, -0.10873324, -0.09008972, -0.07144619,\n",
       "        -0.05280267]),\n",
       " <a list of 2 Lists of Patches objects>)"
      ]
     },
     "execution_count": 325,
     "metadata": {},
     "output_type": "execute_result"
    },
    {
     "data": {
      "image/png": "[encoded data removed]",
      "text/plain": [
       "<matplotlib.figure.Figure at 0x7fbfd8d61650>"
      ]
     },
     "metadata": {},
     "output_type": "display_data"
    }
   ],
   "source": [
    "a_2 = [] \n",
    "b_2 = []\n",
    "c_2 = []\n",
    "d_a_2 = []\n",
    "d_b_2 = []\n",
    "for i in range(len(selected_distances_2)):\n",
    "    if w_c_a_2[i]==1:\n",
    "        a_2.append(selected_distances_2[i])\n",
    "        d_a_2.append(p_e_wo[i][3])\n",
    "    elif w_c_a_2[i]==2:\n",
    "        b_2.append(selected_distances_2[i])\n",
    "        d_b_2.append(p_e_wo[i][3])\n",
    "    else:\n",
    "        c_2.append(selected_distances_2[i])\n",
    "colors = ['red', 'blue']\n",
    "plt.hist([a_2,b_2], 50, histtype='bar',color=colors)"
   ]
  },
  {
   "cell_type": "code",
   "execution_count": 328,
   "metadata": {
    "collapsed": true
   },
   "outputs": [],
   "source": [
    "h=sum([165.,  149.,  171.,  192.,157.,  108.,   71.,   15.,4.])\n",
    "ko=sum([36.,  36.,  29.,22.,  24.,  17.,   3.,   1.,   0.])"
   ]
  },
  {
   "cell_type": "code",
   "execution_count": 330,
   "metadata": {
    "collapsed": false
   },
   "outputs": [
    {
     "data": {
      "text/plain": [
       "86.0"
      ]
     },
     "execution_count": 330,
     "metadata": {},
     "output_type": "execute_result"
    }
   ],
   "source": [
    "h*100.0/(h+ko)"
   ]
  },
  {
   "cell_type": "code",
   "execution_count": 324,
   "metadata": {
    "collapsed": false
   },
   "outputs": [
    {
     "data": {
      "image/png": "[encoded data removed]",
      "text/plain": [
       "<matplotlib.figure.Figure at 0x7fbfd9ee8950>"
      ]
     },
     "metadata": {},
     "output_type": "display_data"
    }
   ],
   "source": [
    "#TODO ENTENDER ESTO\n",
    "plt.hist([d_a_2,d_b_2], 30, histtype='bar',color=colors)\n",
    "plt.show()"
   ]
  },
  {
   "cell_type": "code",
   "execution_count": 318,
   "metadata": {
    "collapsed": false
   },
   "outputs": [
    {
     "data": {
      "image/png": "[encoded data removed]",
      "text/plain": [
       "<matplotlib.figure.Figure at 0x7fbfd7f2b490>"
      ]
     },
     "metadata": {},
     "output_type": "display_data"
    }
   ],
   "source": [
    "a_2 = [] \n",
    "b_2 = []\n",
    "c_2 = []\n",
    "d_a_2 = []\n",
    "d_b_2 = []\n",
    "for i in range(len(selected_distances_2)):\n",
    "    if w_c_a_2[i]==1:\n",
    "        a_2.append(selected_distances_2[i])\n",
    "        d_a_2.append(p_e_wo[i][3])\n",
    "    elif w_c_a_2[i]==2:\n",
    "        b_2.append(selected_distances_2[i])\n",
    "        d_b_2.append(p_e_wo[i][3])\n",
    "    else:\n",
    "        c_2.append(selected_distances_2[i])\n",
    "plt.hist([d_a_2,d_b_2], 30, histtype='bar',color=colors)\n",
    "#plt.title('distancia primer y segunda alternativa rojo correcto negro incorrecto')\n",
    "plt.show()"
   ]
  },
  {
   "cell_type": "markdown",
   "metadata": {},
   "source": [
    "## Obtener datos de los que parecen ser la misma persona (un vecino pero incorrecto)"
   ]
  },
  {
   "cell_type": "code",
   "execution_count": 19,
   "metadata": {
    "collapsed": true
   },
   "outputs": [],
   "source": [
    "def get_users_possiblu_same(distance_matrix,users_ids):\n",
    "    limit = len(distance_matrix)\n",
    "    possibly_same = []\n",
    "    for i in range(limit):\n",
    "        neighbours = np.where(distance_matrix[i] != -1)[0]\n",
    "        the_index = np.argmax(distance_matrix[i,:])\n",
    "        if distance_matrix[i,the_index] == -1:\n",
    "            continue\n",
    "        num_neighbours = len(neighbours)\n",
    "        if distance_matrix[i,i] == -1:\n",
    "            if num_neighbours == 1:\n",
    "                possibly_same.append([i,the_index])\n",
    "    return possibly_same"
   ]
  },
  {
   "cell_type": "code",
   "execution_count": 20,
   "metadata": {
    "collapsed": false
   },
   "outputs": [],
   "source": [
    "index_possibly_same = get_users_possiblu_same(a_matrix_euclidiana,users_ids)"
   ]
  },
  {
   "cell_type": "code",
   "execution_count": 21,
   "metadata": {
    "collapsed": false
   },
   "outputs": [],
   "source": [
    "for i in index_possibly_same:\n",
    "    queryToCSV(datos_abril,i[0],'abril','same')\n",
    "    queryToCSV(datos_septiembre,i[0],'septiembre','same')\n",
    "    queryToCSV(datos_abril,i[1],'abril','same')\n",
    "    queryToCSV(datos_septiembre,i[1],'septiembre','same')"
   ]
  },
  {
   "cell_type": "code",
   "execution_count": 22,
   "metadata": {
    "collapsed": true
   },
   "outputs": [],
   "source": [
    "with open('index_same.pickle','w') as f:\n",
    "    pickle.dump(index_possibly_same,f)"
   ]
  },
  {
   "cell_type": "markdown",
   "metadata": {},
   "source": [
    "## Obtener datos de los que cambian de comportamiento"
   ]
  },
  {
   "cell_type": "code",
   "execution_count": 148,
   "metadata": {
    "collapsed": true
   },
   "outputs": [],
   "source": [
    "def get_users_ids_change_behaviour(distance_matrix,users_ids):\n",
    "    limit = len(distance_matrix)\n",
    "    changed = []\n",
    "    for i in range(limit):\n",
    "        neighbours = np.where(distance_matrix[i] != -1)[0]\n",
    "        the_index = np.argmax(distance_matrix[i,:])\n",
    "        if distance_matrix[i,the_index] == -1:\n",
    "            changed.append(users_ids[i])\n",
    "            continue\n",
    "    return changed"
   ]
  },
  {
   "cell_type": "code",
   "execution_count": 149,
   "metadata": {
    "collapsed": true
   },
   "outputs": [],
   "source": [
    "def get_users_ids_change_behaviour_one_match(distance_matrix,users_ids):\n",
    "    limit = len(distance_matrix)\n",
    "    changed = []\n",
    "    for i in range(limit):\n",
    "        neighbours = np.where(distance_matrix[i] != -1)[0]\n",
    "        the_index = np.argmax(distance_matrix[i,:])\n",
    "        num_neighbours = len(neighbours)\n",
    "        if distance_matrix[i,i] == -1 and num_neighbours==1:\n",
    "            changed.append(users_ids[i])\n",
    "            continue\n",
    "    return changed"
   ]
  },
  {
   "cell_type": "code",
   "execution_count": 151,
   "metadata": {
    "collapsed": false
   },
   "outputs": [],
   "source": [
    "indexs_changed_behaviour = get_users_ids_change_behaviour(a_matrix_euclidiana,users_ids)\n",
    "indexs_changed_behaviour_one_match = get_users_ids_change_behaviour_one_match(a_matrix_euclidiana,users_ids)"
   ]
  },
  {
   "cell_type": "code",
   "execution_count": 152,
   "metadata": {
    "collapsed": false
   },
   "outputs": [
    {
     "data": {
      "text/plain": [
       "1136"
      ]
     },
     "execution_count": 152,
     "metadata": {},
     "output_type": "execute_result"
    }
   ],
   "source": [
    "len(indexs_changed_behaviour)"
   ]
  },
  {
   "cell_type": "code",
   "execution_count": 153,
   "metadata": {
    "collapsed": false
   },
   "outputs": [
    {
     "data": {
      "text/plain": [
       "467"
      ]
     },
     "execution_count": 153,
     "metadata": {},
     "output_type": "execute_result"
    }
   ],
   "source": [
    "len(indexs_changed_behaviour_one_match)"
   ]
  },
  {
   "cell_type": "code",
   "execution_count": 177,
   "metadata": {
    "collapsed": false
   },
   "outputs": [],
   "source": [
    "for i in indexs_changed_behaviour:\n",
    "    queryToCSV(datos_abril,i,'abril','change')\n",
    "    queryToCSV(datos_septiembre,i,'septiembre','change')\n",
    "    \n",
    "for j in indexs_changed_behaviour_one_match:\n",
    "    queryToCSV(datos_abril,j,'abril','change_1m')\n",
    "    queryToCSV(datos_septiembre,j,'septiembre','change_1m')"
   ]
  },
  {
   "cell_type": "code",
   "execution_count": null,
   "metadata": {
    "collapsed": true
   },
   "outputs": [],
   "source": []
  }
 ],
 "metadata": {
  "kernelspec": {
   "display_name": "Python 2",
   "language": "python",
   "name": "python2"
  },
  "language_info": {
   "codemirror_mode": {
    "name": "ipython",
    "version": 2
   },
   "file_extension": ".py",
   "mimetype": "text/x-python",
   "name": "python",
   "nbconvert_exporter": "python",
   "pygments_lexer": "ipython2",
   "version": "2.7.11"
  }
 },
 "nbformat": 4,
 "nbformat_minor": 0
}
