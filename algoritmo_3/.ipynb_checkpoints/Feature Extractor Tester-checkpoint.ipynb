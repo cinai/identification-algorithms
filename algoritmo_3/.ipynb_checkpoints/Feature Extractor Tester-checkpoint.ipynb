{
 "cells": [
  {
   "cell_type": "code",
   "execution_count": 7,
   "metadata": {
    "collapsed": false
   },
   "outputs": [],
   "source": [
    "%matplotlib inline\n",
    "import matplotlib.pyplot as plt\n",
    "import time\n",
    "import datetime as dt\n",
    "import pickle\n",
    "import numpy as np\n",
    "import borrador\n",
    "from __future__ import division\n",
    "from auxiliar_functions import *\n",
    "import tfe\n"
   ]
  },
  {
   "cell_type": "code",
   "execution_count": 8,
   "metadata": {
    "collapsed": false
   },
   "outputs": [],
   "source": [
    "datos_abril = pd.read_csv('/home/cata/Documentos/Datois/etapas_2013_abril_allyearsids_10_100000.csv')\n"
   ]
  },
  {
   "cell_type": "code",
   "execution_count": 9,
   "metadata": {
    "collapsed": false
   },
   "outputs": [],
   "source": [
    "datos_abril = frame_config(datos_abril)"
   ]
  },
  {
   "cell_type": "code",
   "execution_count": 10,
   "metadata": {
    "collapsed": false,
    "scrolled": true
   },
   "outputs": [
    {
     "data": {
      "text/html": [
       "<div>\n",
       "<table border=\"1\" class=\"dataframe\">\n",
       "  <thead>\n",
       "    <tr style=\"text-align: right;\">\n",
       "      <th></th>\n",
       "      <th>tiempo_subida</th>\n",
       "      <th>id</th>\n",
       "      <th>x_subida</th>\n",
       "      <th>y_subida</th>\n",
       "      <th>tipo_transporte</th>\n",
       "      <th>serviciosentidovariante</th>\n",
       "      <th>tipo_dia</th>\n",
       "      <th>nviaje</th>\n",
       "      <th>netapa</th>\n",
       "      <th>x_bajada</th>\n",
       "      <th>...</th>\n",
       "      <th>par_bajada</th>\n",
       "      <th>zona_subida</th>\n",
       "      <th>zona_bajada</th>\n",
       "      <th>adulto</th>\n",
       "      <th>weekday</th>\n",
       "      <th>lat_subida</th>\n",
       "      <th>lat_bajada</th>\n",
       "      <th>long_subida</th>\n",
       "      <th>long_bajada</th>\n",
       "      <th>diferencia_tiempo</th>\n",
       "    </tr>\n",
       "  </thead>\n",
       "  <tbody>\n",
       "    <tr>\n",
       "      <th>23</th>\n",
       "      <td>2013-04-14 06:45:44</td>\n",
       "      <td>1132106</td>\n",
       "      <td>348108</td>\n",
       "      <td>6289153</td>\n",
       "      <td>BUS</td>\n",
       "      <td>T203 00R</td>\n",
       "      <td>DOMINGO</td>\n",
       "      <td>1</td>\n",
       "      <td>1</td>\n",
       "      <td>346818</td>\n",
       "      <td>...</td>\n",
       "      <td>E-20-190-SN-40</td>\n",
       "      <td>328</td>\n",
       "      <td>307</td>\n",
       "      <td>0</td>\n",
       "      <td>6</td>\n",
       "      <td>-33.526277</td>\n",
       "      <td>-33.433786</td>\n",
       "      <td>-70.635551</td>\n",
       "      <td>-70.647786</td>\n",
       "      <td>0 days 00:00:00</td>\n",
       "    </tr>\n",
       "    <tr>\n",
       "      <th>22</th>\n",
       "      <td>2013-04-14 07:51:52</td>\n",
       "      <td>1132106</td>\n",
       "      <td>346751</td>\n",
       "      <td>6299389</td>\n",
       "      <td>BUS</td>\n",
       "      <td>T502 00I</td>\n",
       "      <td>DOMINGO</td>\n",
       "      <td>2</td>\n",
       "      <td>1</td>\n",
       "      <td>351363</td>\n",
       "      <td>...</td>\n",
       "      <td>T-15-135-PO-5</td>\n",
       "      <td>307</td>\n",
       "      <td>188</td>\n",
       "      <td>0</td>\n",
       "      <td>6</td>\n",
       "      <td>-33.434116</td>\n",
       "      <td>-33.406027</td>\n",
       "      <td>-70.648104</td>\n",
       "      <td>-70.598251</td>\n",
       "      <td>0 days 01:06:08</td>\n",
       "    </tr>\n",
       "    <tr>\n",
       "      <th>21</th>\n",
       "      <td>2013-04-14 19:56:47</td>\n",
       "      <td>1132106</td>\n",
       "      <td>351368</td>\n",
       "      <td>6302559</td>\n",
       "      <td>BUS</td>\n",
       "      <td>T502 00R</td>\n",
       "      <td>DOMINGO</td>\n",
       "      <td>3</td>\n",
       "      <td>1</td>\n",
       "      <td>346763</td>\n",
       "      <td>...</td>\n",
       "      <td>T-4-19-NS-100</td>\n",
       "      <td>188</td>\n",
       "      <td>55</td>\n",
       "      <td>0</td>\n",
       "      <td>6</td>\n",
       "      <td>-33.405971</td>\n",
       "      <td>-33.432332</td>\n",
       "      <td>-70.598379</td>\n",
       "      <td>-70.648651</td>\n",
       "      <td>0 days 12:04:55</td>\n",
       "    </tr>\n",
       "    <tr>\n",
       "      <th>20</th>\n",
       "      <td>2013-04-14 20:15:25</td>\n",
       "      <td>1132106</td>\n",
       "      <td>346713</td>\n",
       "      <td>6299427</td>\n",
       "      <td>BUS</td>\n",
       "      <td>T203 00I</td>\n",
       "      <td>DOMINGO</td>\n",
       "      <td>3</td>\n",
       "      <td>2</td>\n",
       "      <td>348095</td>\n",
       "      <td>...</td>\n",
       "      <td>T-24-205-NS-20</td>\n",
       "      <td>307</td>\n",
       "      <td>348</td>\n",
       "      <td>0</td>\n",
       "      <td>6</td>\n",
       "      <td>-33.433463</td>\n",
       "      <td>-33.525983</td>\n",
       "      <td>-70.649060</td>\n",
       "      <td>-70.635944</td>\n",
       "      <td>0 days 00:18:38</td>\n",
       "    </tr>\n",
       "    <tr>\n",
       "      <th>19</th>\n",
       "      <td>2013-04-15 21:04:59</td>\n",
       "      <td>1132106</td>\n",
       "      <td>348103</td>\n",
       "      <td>6289191</td>\n",
       "      <td>BUS</td>\n",
       "      <td>T206 00R</td>\n",
       "      <td>LABORAL</td>\n",
       "      <td>4</td>\n",
       "      <td>1</td>\n",
       "      <td>346844</td>\n",
       "      <td>...</td>\n",
       "      <td>T-20-190-SN-35</td>\n",
       "      <td>328</td>\n",
       "      <td>309</td>\n",
       "      <td>0</td>\n",
       "      <td>0</td>\n",
       "      <td>-33.526277</td>\n",
       "      <td>-33.434819</td>\n",
       "      <td>-70.635551</td>\n",
       "      <td>-70.647429</td>\n",
       "      <td>1 days 00:49:34</td>\n",
       "    </tr>\n",
       "  </tbody>\n",
       "</table>\n",
       "<p>5 rows × 23 columns</p>\n",
       "</div>"
      ],
      "text/plain": [
       "         tiempo_subida       id  x_subida  y_subida tipo_transporte  \\\n",
       "23 2013-04-14 06:45:44  1132106    348108   6289153             BUS   \n",
       "22 2013-04-14 07:51:52  1132106    346751   6299389             BUS   \n",
       "21 2013-04-14 19:56:47  1132106    351368   6302559             BUS   \n",
       "20 2013-04-14 20:15:25  1132106    346713   6299427             BUS   \n",
       "19 2013-04-15 21:04:59  1132106    348103   6289191             BUS   \n",
       "\n",
       "   serviciosentidovariante tipo_dia  nviaje  netapa  x_bajada  \\\n",
       "23                T203 00R  DOMINGO       1       1    346818   \n",
       "22                T502 00I  DOMINGO       2       1    351363   \n",
       "21                T502 00R  DOMINGO       3       1    346763   \n",
       "20                T203 00I  DOMINGO       3       2    348095   \n",
       "19                T206 00R  LABORAL       4       1    346844   \n",
       "\n",
       "          ...              par_bajada zona_subida zona_bajada adulto  weekday  \\\n",
       "23        ...          E-20-190-SN-40         328         307      0        6   \n",
       "22        ...           T-15-135-PO-5         307         188      0        6   \n",
       "21        ...           T-4-19-NS-100         188          55      0        6   \n",
       "20        ...          T-24-205-NS-20         307         348      0        6   \n",
       "19        ...          T-20-190-SN-35         328         309      0        0   \n",
       "\n",
       "    lat_subida  lat_bajada  long_subida  long_bajada  diferencia_tiempo  \n",
       "23  -33.526277  -33.433786   -70.635551   -70.647786    0 days 00:00:00  \n",
       "22  -33.434116  -33.406027   -70.648104   -70.598251    0 days 01:06:08  \n",
       "21  -33.405971  -33.432332   -70.598379   -70.648651    0 days 12:04:55  \n",
       "20  -33.433463  -33.525983   -70.649060   -70.635944    0 days 00:18:38  \n",
       "19  -33.526277  -33.434819   -70.635551   -70.647429    1 days 00:49:34  \n",
       "\n",
       "[5 rows x 23 columns]"
      ]
     },
     "execution_count": 10,
     "metadata": {},
     "output_type": "execute_result"
    }
   ],
   "source": [
    "#frame.drop(frame.columns[[2,3,4,5,9,10,11,14,15,16]], axis=1, inplace=True)\n",
    "datos_abril.head()"
   ]
  },
  {
   "cell_type": "code",
   "execution_count": 11,
   "metadata": {
    "collapsed": false
   },
   "outputs": [
    {
     "name": "stdout",
     "output_type": "stream",
     "text": [
      "<class 'pandas.core.frame.DataFrame'>\n",
      "Int64Index: 100000 entries, 23 to 99994\n",
      "Data columns (total 23 columns):\n",
      "tiempo_subida              100000 non-null datetime64[ns]\n",
      "id                         100000 non-null int64\n",
      "x_subida                   99224 non-null float64\n",
      "y_subida                   99224 non-null float64\n",
      "tipo_transporte            100000 non-null object\n",
      "serviciosentidovariante    98074 non-null object\n",
      "tipo_dia                   100000 non-null object\n",
      "nviaje                     100000 non-null int64\n",
      "netapa                     100000 non-null int64\n",
      "x_bajada                   86774 non-null float64\n",
      "y_bajada                   86774 non-null float64\n",
      "tiempo_bajada              86774 non-null object\n",
      "par_subida                 99195 non-null object\n",
      "par_bajada                 86767 non-null object\n",
      "zona_subida                99180 non-null float64\n",
      "zona_bajada                86764 non-null float64\n",
      "adulto                     86774 non-null float64\n",
      "weekday                    100000 non-null int64\n",
      "lat_subida                 99195 non-null float64\n",
      "lat_bajada                 86767 non-null float64\n",
      "long_subida                99195 non-null float64\n",
      "long_bajada                86767 non-null float64\n",
      "diferencia_tiempo          100000 non-null timedelta64[ns]\n",
      "dtypes: datetime64[ns](1), float64(11), int64(4), object(6), timedelta64[ns](1)\n",
      "memory usage: 18.3+ MB\n"
     ]
    }
   ],
   "source": [
    "datos_abril.info()"
   ]
  },
  {
   "cell_type": "code",
   "execution_count": 12,
   "metadata": {
    "collapsed": false
   },
   "outputs": [],
   "source": [
    "test_sequence_5 = datos_abril.query('id==1261466')\n",
    "test_sequence_1187 = datos_abril.query('id==50264508')\n",
    "test_sequence_0 = datos_abril.query('id==1132106')\n",
    "test_sequence_9 = datos_abril.query('id==1355530')\n",
    "test_sequence_2168 = datos_abril.query('id==59460077')\n",
    "test_sequence_3696 = datos_abril.query('id==68660100')\n",
    "test_sequence_4150= datos_abril.query('id==70321252')"
   ]
  },
  {
   "cell_type": "code",
   "execution_count": 13,
   "metadata": {
    "collapsed": false,
    "scrolled": true
   },
   "outputs": [],
   "source": [
    "test_sequence = test_sequence_0\n",
    "[test_sequence_s ,test_sequence_fds] = tfe.split_sequence_by_weekdays(test_sequence)"
   ]
  },
  {
   "cell_type": "code",
   "execution_count": 14,
   "metadata": {
    "collapsed": false
   },
   "outputs": [],
   "source": [
    "shortest_activities_s = tfe.get_mean_shortest_activity_length(test_sequence_s)\n",
    "longest_activities_s = tfe.get_mean_longest_activity_length(test_sequence_s)\n",
    "shortest_activities_fds = tfe.get_mean_shortest_activity_length(test_sequence_fds)\n",
    "longest_activities_fds = tfe.get_mean_longest_activity_length(test_sequence_fds)"
   ]
  },
  {
   "cell_type": "code",
   "execution_count": 15,
   "metadata": {
    "collapsed": false
   },
   "outputs": [
    {
     "name": "stdout",
     "output_type": "stream",
     "text": [
      "495.8 , 66.0\n",
      "606.6 , 1456.0\n"
     ]
    }
   ],
   "source": [
    "print str(shortest_activities_s) + \" , \" + str(shortest_activities_fds)\n",
    "print str(longest_activities_s) + \" , \" + str(longest_activities_fds)"
   ]
  },
  {
   "cell_type": "code",
   "execution_count": 16,
   "metadata": {
    "collapsed": false
   },
   "outputs": [],
   "source": [
    "latlong1 = (test_sequence_fds['lat_subida'][0],test_sequence_fds['long_subida'][0])\n",
    "latlong2 = (test_sequence_fds['lat_bajada'][0],test_sequence_fds['long_bajada'][0])"
   ]
  },
  {
   "cell_type": "code",
   "execution_count": 17,
   "metadata": {
    "collapsed": false
   },
   "outputs": [
    {
     "data": {
      "text/plain": [
       "195.80861782879802"
      ]
     },
     "execution_count": 17,
     "metadata": {},
     "output_type": "execute_result"
    }
   ],
   "source": [
    "tfe.get_traveled_distance(test_sequence)"
   ]
  },
  {
   "cell_type": "code",
   "execution_count": 18,
   "metadata": {
    "collapsed": false
   },
   "outputs": [
    {
     "data": {
      "text/plain": [
       "16.883692676581973"
      ]
     },
     "execution_count": 18,
     "metadata": {},
     "output_type": "execute_result"
    }
   ],
   "source": [
    "tfe.get_maximum_travel_distance(test_sequence)"
   ]
  },
  {
   "cell_type": "code",
   "execution_count": 19,
   "metadata": {
    "collapsed": false
   },
   "outputs": [
    {
     "data": {
      "text/plain": [
       "5.586141389322828"
      ]
     },
     "execution_count": 19,
     "metadata": {},
     "output_type": "execute_result"
    }
   ],
   "source": [
    "tfe.get_minimum_travel_distance(test_sequence)"
   ]
  },
  {
   "cell_type": "code",
   "execution_count": 20,
   "metadata": {
    "collapsed": false
   },
   "outputs": [
    {
     "data": {
      "text/plain": [
       "100.0"
      ]
     },
     "execution_count": 20,
     "metadata": {},
     "output_type": "execute_result"
    }
   ],
   "source": [
    "tfe.get_percentage_bus_exclusive_days(test_sequence)"
   ]
  },
  {
   "cell_type": "code",
   "execution_count": 21,
   "metadata": {
    "collapsed": false
   },
   "outputs": [
    {
     "data": {
      "text/plain": [
       "0.0"
      ]
     },
     "execution_count": 21,
     "metadata": {},
     "output_type": "execute_result"
    }
   ],
   "source": [
    "tfe.get_percentage_rail_exclusive_days(test_sequence)"
   ]
  },
  {
   "cell_type": "code",
   "execution_count": 22,
   "metadata": {
    "collapsed": false
   },
   "outputs": [
    {
     "data": {
      "text/plain": [
       "0"
      ]
     },
     "execution_count": 22,
     "metadata": {},
     "output_type": "execute_result"
    }
   ],
   "source": [
    "tfe.get_card_type(test_sequence)"
   ]
  },
  {
   "cell_type": "code",
   "execution_count": 23,
   "metadata": {
    "collapsed": false
   },
   "outputs": [
    {
     "data": {
      "text/plain": [
       "7"
      ]
     },
     "execution_count": 23,
     "metadata": {},
     "output_type": "execute_result"
    }
   ],
   "source": [
    "tfe.get_n_days_traveled(test_sequence)"
   ]
  },
  {
   "cell_type": "code",
   "execution_count": 24,
   "metadata": {
    "collapsed": false
   },
   "outputs": [
    {
     "data": {
      "text/plain": [
       "[3, 1, 2, 2, 2, 1, 0, 2]"
      ]
     },
     "execution_count": 24,
     "metadata": {},
     "output_type": "execute_result"
    }
   ],
   "source": [
    "tfe.get_n_trips_per_day(test_sequence)"
   ]
  },
  {
   "cell_type": "code",
   "execution_count": 25,
   "metadata": {
    "collapsed": false
   },
   "outputs": [
    {
     "data": {
      "text/plain": [
       "33061"
      ]
     },
     "execution_count": 25,
     "metadata": {},
     "output_type": "execute_result"
    }
   ],
   "source": [
    "tfe.get_mean_start_time_first_trip(test_sequence)"
   ]
  },
  {
   "cell_type": "code",
   "execution_count": 26,
   "metadata": {
    "collapsed": false
   },
   "outputs": [
    {
     "data": {
      "text/plain": [
       "67229"
      ]
     },
     "execution_count": 26,
     "metadata": {},
     "output_type": "execute_result"
    }
   ],
   "source": [
    "tfe.get_mean_start_time_last_trip(test_sequence)"
   ]
  },
  {
   "cell_type": "code",
   "execution_count": 27,
   "metadata": {
    "collapsed": false
   },
   "outputs": [
    {
     "data": {
      "text/plain": [
       "57.14285714285714"
      ]
     },
     "execution_count": 27,
     "metadata": {},
     "output_type": "execute_result"
    }
   ],
   "source": [
    "tfe.get_percentage_different_last_origin(test_sequence)"
   ]
  },
  {
   "cell_type": "code",
   "execution_count": 28,
   "metadata": {
    "collapsed": false
   },
   "outputs": [
    {
     "data": {
      "text/plain": [
       "42.857142857142854"
      ]
     },
     "execution_count": 28,
     "metadata": {},
     "output_type": "execute_result"
    }
   ],
   "source": [
    "tfe.get_percentage_different_first_origin(test_sequence)"
   ]
  },
  {
   "cell_type": "code",
   "execution_count": 29,
   "metadata": {
    "collapsed": false
   },
   "outputs": [
    {
     "data": {
      "text/plain": [
       "5"
      ]
     },
     "execution_count": 29,
     "metadata": {},
     "output_type": "execute_result"
    }
   ],
   "source": [
    "tfe.get_n_different_locations(test_sequence)"
   ]
  },
  {
   "cell_type": "code",
   "execution_count": 30,
   "metadata": {
    "collapsed": false
   },
   "outputs": [
    {
     "data": {
      "text/plain": [
       "5450.200714686222"
      ]
     },
     "execution_count": 30,
     "metadata": {},
     "output_type": "execute_result"
    }
   ],
   "source": [
    "tfe.get_radius_of_gyration(test_sequence)"
   ]
  },
  {
   "cell_type": "code",
   "execution_count": 31,
   "metadata": {
    "collapsed": false
   },
   "outputs": [
    {
     "data": {
      "text/plain": [
       "5421.7724863375815"
      ]
     },
     "execution_count": 31,
     "metadata": {},
     "output_type": "execute_result"
    }
   ],
   "source": [
    "tfe.get_radius_of_gyration(test_sequence_fds)"
   ]
  },
  {
   "cell_type": "code",
   "execution_count": 32,
   "metadata": {
    "collapsed": false
   },
   "outputs": [
    {
     "data": {
      "text/plain": [
       "5464.2820177023395"
      ]
     },
     "execution_count": 32,
     "metadata": {},
     "output_type": "execute_result"
    }
   ],
   "source": [
    "tfe.get_radius_of_gyration(test_sequence_s)"
   ]
  },
  {
   "cell_type": "code",
   "execution_count": 33,
   "metadata": {
    "collapsed": false
   },
   "outputs": [
    {
     "data": {
      "text/plain": [
       "2.5545851693377997"
      ]
     },
     "execution_count": 33,
     "metadata": {},
     "output_type": "execute_result"
    }
   ],
   "source": [
    "tfe.get_unc_entropy(test_sequence)"
   ]
  },
  {
   "cell_type": "code",
   "execution_count": 34,
   "metadata": {
    "collapsed": false
   },
   "outputs": [
    {
     "data": {
      "text/plain": [
       "2.3219280948873622"
      ]
     },
     "execution_count": 34,
     "metadata": {},
     "output_type": "execute_result"
    }
   ],
   "source": [
    "tfe.get_random_entropy(test_sequence)"
   ]
  },
  {
   "cell_type": "code",
   "execution_count": 35,
   "metadata": {
    "collapsed": false
   },
   "outputs": [
    {
     "data": {
      "text/plain": [
       "4"
      ]
     },
     "execution_count": 35,
     "metadata": {},
     "output_type": "execute_result"
    }
   ],
   "source": [
    "tfe.get_frequence_regularity(test_sequence)"
   ]
  },
  {
   "cell_type": "code",
   "execution_count": 36,
   "metadata": {
    "collapsed": false
   },
   "outputs": [
    {
     "data": {
      "text/plain": [
       "2.5216406363433181"
      ]
     },
     "execution_count": 36,
     "metadata": {},
     "output_type": "execute_result"
    }
   ],
   "source": [
    "tfe.get_entropy(test_sequence)"
   ]
  },
  {
   "cell_type": "code",
   "execution_count": 37,
   "metadata": {
    "collapsed": false
   },
   "outputs": [],
   "source": [
    "chronology = tfe.get_chronology(test_sequence,latlong1[0],latlong1[1])\n",
    "data_days_window = 1\n",
    "window = data_days_window*24*60 # 8 dias en minutos"
   ]
  },
  {
   "cell_type": "code",
   "execution_count": 38,
   "metadata": {
    "collapsed": false
   },
   "outputs": [
    {
     "name": "stderr",
     "output_type": "stream",
     "text": [
      "/home/cata/anaconda2/lib/python2.7/site-packages/scipy/integrate/quadpack.py:352: IntegrationWarning: The maximum number of subdivisions (50) has been achieved.\n",
      "  If increasing the limit yields no improvement it is advised to analyze \n",
      "  the integrand in order to determine the difficulties.  If the position of a \n",
      "  local difficulty can be determined (singularity, discontinuity) one will \n",
      "  probably gain from splitting up the interval and calling the integrator \n",
      "  on the subranges.  Perhaps a special-purpose integrator should be used.\n",
      "  warnings.warn(msg, IntegrationWarning)\n"
     ]
    },
    {
     "data": {
      "text/plain": [
       "1.6020952049349486"
      ]
     },
     "execution_count": 38,
     "metadata": {},
     "output_type": "execute_result"
    }
   ],
   "source": [
    "tfe.get_regularity(chronology,window)"
   ]
  },
  {
   "cell_type": "markdown",
   "metadata": {},
   "source": [
    "## Testing de parametro de clustering"
   ]
  },
  {
   "cell_type": "markdown",
   "metadata": {},
   "source": [
    "### Usuario 0"
   ]
  },
  {
   "cell_type": "code",
   "execution_count": 39,
   "metadata": {
    "collapsed": false
   },
   "outputs": [
    {
     "data": {
      "text/plain": [
       "[array([[-33.52627673, -70.63555144],\n",
       "        [-33.43411554, -70.64810407],\n",
       "        [-33.40597083, -70.59837899],\n",
       "        [-33.52915693, -70.63529341],\n",
       "        [-33.40370241, -70.5959504 ]]),\n",
       " ['T-22-205-SN-65',\n",
       "  'E-20-291-PO-20',\n",
       "  'T-15-135-OP-110',\n",
       "  'T-22-205-SN-55',\n",
       "  'T-15-135-OP-105'],\n",
       " [0.38461538461538464,\n",
       "  0.07692307692307693,\n",
       "  0.38461538461538464,\n",
       "  0.07692307692307693,\n",
       "  0.07692307692307693]]"
      ]
     },
     "execution_count": 39,
     "metadata": {},
     "output_type": "execute_result"
    }
   ],
   "source": [
    "tfe.get_latlong_points(test_sequence_0)"
   ]
  },
  {
   "cell_type": "code",
   "execution_count": 40,
   "metadata": {
    "collapsed": false
   },
   "outputs": [
    {
     "data": {
      "text/plain": [
       "array([1, 3, 2, 1, 2], dtype=int32)"
      ]
     },
     "execution_count": 40,
     "metadata": {},
     "output_type": "execute_result"
    }
   ],
   "source": [
    "tfe.get_clusters(test_sequence_0)"
   ]
  },
  {
   "cell_type": "code",
   "execution_count": 41,
   "metadata": {
    "collapsed": false
   },
   "outputs": [
    {
     "data": {
      "text/plain": [
       "[[{'lat': -33.527716828857699, 'long': -70.63542242496419},\n",
       "  {'lat': -33.404836618443298, 'long': -70.59716469585355}],\n",
       " 0.92307692307692313]"
      ]
     },
     "execution_count": 41,
     "metadata": {},
     "output_type": "execute_result"
    }
   ],
   "source": [
    "tfe.get_ROIs(test_sequence_0,0.6)"
   ]
  },
  {
   "cell_type": "markdown",
   "metadata": {},
   "source": [
    "### Usuario 5"
   ]
  },
  {
   "cell_type": "code",
   "execution_count": 42,
   "metadata": {
    "collapsed": false
   },
   "outputs": [
    {
     "data": {
      "text/plain": [
       "[array([[-33.45538012, -70.59435763],\n",
       "        [-33.445905  , -70.572037  ],\n",
       "        [-33.446474  , -70.6605    ],\n",
       "        [-33.38088497, -70.63959576],\n",
       "        [-33.45392058, -70.60820951]]),\n",
       " ['T-18-157-PO-60',\n",
       "  'SIMON BOLIVAR',\n",
       "  'LOS HEROES',\n",
       "  'T-3-19-NS-45',\n",
       "  'T-18-157-PO-40'],\n",
       " [0.07692307692307693,\n",
       "  0.3076923076923077,\n",
       "  0.46153846153846156,\n",
       "  0.07692307692307693,\n",
       "  0.07692307692307693]]"
      ]
     },
     "execution_count": 42,
     "metadata": {},
     "output_type": "execute_result"
    }
   ],
   "source": [
    "tfe.get_latlong_points(test_sequence_5)"
   ]
  },
  {
   "cell_type": "code",
   "execution_count": 43,
   "metadata": {
    "collapsed": false
   },
   "outputs": [
    {
     "data": {
      "text/plain": [
       "array([1, 2, 3, 4, 1], dtype=int32)"
      ]
     },
     "execution_count": 43,
     "metadata": {},
     "output_type": "execute_result"
    }
   ],
   "source": [
    "tfe.get_clusters(test_sequence_5)"
   ]
  },
  {
   "cell_type": "markdown",
   "metadata": {
    "collapsed": true
   },
   "source": [
    "### Usuario 1187"
   ]
  },
  {
   "cell_type": "code",
   "execution_count": 44,
   "metadata": {
    "collapsed": false
   },
   "outputs": [
    {
     "data": {
      "text/plain": [
       "[array([[-33.445905, -70.572037],\n",
       "        [-33.445088, -70.654635],\n",
       "        [-33.418227, -70.60145 ],\n",
       "        [-33.442848, -70.645809]]),\n",
       " ['SIMON BOLIVAR', 'LA MONEDA', 'TOBALABA', 'SANTA LUCIA'],\n",
       " [0.4166666666666667,\n",
       "  0.4166666666666667,\n",
       "  0.08333333333333333,\n",
       "  0.08333333333333333]]"
      ]
     },
     "execution_count": 44,
     "metadata": {},
     "output_type": "execute_result"
    }
   ],
   "source": [
    "tfe.get_latlong_points(test_sequence_1187)"
   ]
  },
  {
   "cell_type": "code",
   "execution_count": 45,
   "metadata": {
    "collapsed": false
   },
   "outputs": [
    {
     "data": {
      "text/plain": [
       "array([2, 1, 3, 1], dtype=int32)"
      ]
     },
     "execution_count": 45,
     "metadata": {},
     "output_type": "execute_result"
    }
   ],
   "source": [
    "tfe.get_clusters(test_sequence_1187)"
   ]
  },
  {
   "cell_type": "markdown",
   "metadata": {
    "collapsed": true
   },
   "source": [
    "### Usuario 9"
   ]
  },
  {
   "cell_type": "code",
   "execution_count": 46,
   "metadata": {
    "collapsed": false
   },
   "outputs": [
    {
     "data": {
      "text/plain": [
       "[array([[-33.58569792, -70.56792786],\n",
       "        [-33.426222  , -70.590972  ],\n",
       "        [-33.425466  , -70.614272  ],\n",
       "        [-33.437258  , -70.650551  ],\n",
       "        [-33.35325793, -70.73862841],\n",
       "        [-33.3661621 , -70.69038151],\n",
       "        [-33.58878935, -70.56735882],\n",
       "        [-33.42337652, -70.60534444]]),\n",
       " ['L-34-58-SN-75',\n",
       "  'CRISTOBAL COLON',\n",
       "  'PEDRO DE VALDIVIA',\n",
       "  'PLAZA DE ARMAS',\n",
       "  'L-6-44-SN-15',\n",
       "  'T-2-7-PO-6',\n",
       "  'L-34-58-SN-85',\n",
       "  'T-14-124-PO-5'],\n",
       " [0.25,\n",
       "  0.25,\n",
       "  0.08333333333333333,\n",
       "  0.08333333333333333,\n",
       "  0.08333333333333333,\n",
       "  0.08333333333333333,\n",
       "  0.08333333333333333,\n",
       "  0.08333333333333333]]"
      ]
     },
     "execution_count": 46,
     "metadata": {},
     "output_type": "execute_result"
    }
   ],
   "source": [
    "tfe.get_latlong_points(test_sequence_9)"
   ]
  },
  {
   "cell_type": "code",
   "execution_count": 47,
   "metadata": {
    "collapsed": false
   },
   "outputs": [
    {
     "data": {
      "text/plain": [
       "array([1, 5, 4, 6, 2, 3, 1, 4], dtype=int32)"
      ]
     },
     "execution_count": 47,
     "metadata": {},
     "output_type": "execute_result"
    }
   ],
   "source": [
    "tfe.get_clusters(test_sequence_9)"
   ]
  },
  {
   "cell_type": "code",
   "execution_count": 48,
   "metadata": {
    "collapsed": false
   },
   "outputs": [
    {
     "data": {
      "text/plain": [
       "[[{'lat': -33.587243636232401, 'long': -70.567643341586745},\n",
       "  {'lat': -33.426222000000003, 'long': -70.590971999999994},\n",
       "  {'lat': -33.424421262438649, 'long': -70.609808218859499}],\n",
       " 0.74999999999999989]"
      ]
     },
     "execution_count": 48,
     "metadata": {},
     "output_type": "execute_result"
    }
   ],
   "source": [
    "tfe.get_ROIs(test_sequence_9,0.6)"
   ]
  },
  {
   "cell_type": "markdown",
   "metadata": {
    "collapsed": true
   },
   "source": [
    "### Usuario 2168"
   ]
  },
  {
   "cell_type": "code",
   "execution_count": 49,
   "metadata": {
    "collapsed": false
   },
   "outputs": [
    {
     "data": {
      "text/plain": [
       "[array([[-33.51969653, -70.69566673],\n",
       "        [-33.408     , -70.555597  ],\n",
       "        [-33.52220722, -70.69737383],\n",
       "        [-33.51585164, -70.69392295]]),\n",
       " ['T-29-238-SN-15',\n",
       "  'HERNANDO DE MAGALLANES',\n",
       "  'T-29-238-SN-10',\n",
       "  'T-29-238-NS-15'],\n",
       " [0.36363636363636365,\n",
       "  0.45454545454545453,\n",
       "  0.09090909090909091,\n",
       "  0.09090909090909091]]"
      ]
     },
     "execution_count": 49,
     "metadata": {},
     "output_type": "execute_result"
    }
   ],
   "source": [
    "tfe.get_latlong_points(test_sequence_2168)"
   ]
  },
  {
   "cell_type": "code",
   "execution_count": 50,
   "metadata": {
    "collapsed": false
   },
   "outputs": [
    {
     "data": {
      "text/plain": [
       "array([1, 2, 1, 1], dtype=int32)"
      ]
     },
     "execution_count": 50,
     "metadata": {},
     "output_type": "execute_result"
    }
   ],
   "source": [
    "tfe.get_clusters(test_sequence_2168)"
   ]
  },
  {
   "cell_type": "code",
   "execution_count": 51,
   "metadata": {
    "collapsed": false
   },
   "outputs": [
    {
     "data": {
      "text/plain": [
       "[[{'lat': -33.519251799763197, 'long': -70.695654501591832},\n",
       "  {'lat': -33.408000000000001, 'long': -70.555597000000006}],\n",
       " 1.0]"
      ]
     },
     "execution_count": 51,
     "metadata": {},
     "output_type": "execute_result"
    }
   ],
   "source": [
    "tfe.get_ROIs(test_sequence_2168,0.6)"
   ]
  },
  {
   "cell_type": "code",
   "execution_count": 52,
   "metadata": {
    "collapsed": false
   },
   "outputs": [
    {
     "data": {
      "text/plain": [
       "[405.73333333333335,\n",
       " 2704.983333333333,\n",
       " 4141.35,\n",
       " 5579.233333333334,\n",
       " 7016.8,\n",
       " 10482.116666666667]"
      ]
     },
     "execution_count": 52,
     "metadata": {},
     "output_type": "execute_result"
    }
   ],
   "source": [
    "chronology"
   ]
  },
  {
   "cell_type": "code",
   "execution_count": 53,
   "metadata": {
    "collapsed": false
   },
   "outputs": [
    {
     "data": {
      "text/plain": [
       "1440"
      ]
     },
     "execution_count": 53,
     "metadata": {},
     "output_type": "execute_result"
    }
   ],
   "source": [
    "window"
   ]
  },
  {
   "cell_type": "code",
   "execution_count": 54,
   "metadata": {
    "collapsed": false
   },
   "outputs": [
    {
     "data": {
      "text/plain": [
       "59.69041525755263"
      ]
     },
     "execution_count": 54,
     "metadata": {},
     "output_type": "execute_result"
    }
   ],
   "source": [
    "chronology = tfe.get_chronology(test_sequence_2168,-33.408,-70.555597)\n",
    "tfe.get_regularity(chronology,window*1)"
   ]
  },
  {
   "cell_type": "markdown",
   "metadata": {
    "collapsed": true
   },
   "source": [
    "### Usuario 3696"
   ]
  },
  {
   "cell_type": "code",
   "execution_count": 55,
   "metadata": {
    "collapsed": false
   },
   "outputs": [
    {
     "data": {
      "text/plain": [
       "[array([[-33.491584  , -70.617529  ],\n",
       "        [-33.5968712 , -70.56581313],\n",
       "        [-33.52824548, -70.58893172],\n",
       "        [-33.52617858, -70.58906619],\n",
       "        [-33.59713105, -70.56879213]]),\n",
       " ['CAMINO AGRICOLA',\n",
       "  'L-34-70-OP-85',\n",
       "  'L-33-23-OP-50',\n",
       "  'L-33-9-NS-5',\n",
       "  'L-34-70-OP-75'],\n",
       " [0.5384615384615384,\n",
       "  0.07692307692307693,\n",
       "  0.23076923076923078,\n",
       "  0.07692307692307693,\n",
       "  0.07692307692307693]]"
      ]
     },
     "execution_count": 55,
     "metadata": {},
     "output_type": "execute_result"
    }
   ],
   "source": [
    "tfe.get_latlong_points(test_sequence_3696)"
   ]
  },
  {
   "cell_type": "code",
   "execution_count": 56,
   "metadata": {
    "collapsed": false
   },
   "outputs": [
    {
     "data": {
      "text/plain": [
       "array([3, 1, 2, 2, 1], dtype=int32)"
      ]
     },
     "execution_count": 56,
     "metadata": {},
     "output_type": "execute_result"
    }
   ],
   "source": [
    "tfe.get_clusters(test_sequence_3696)"
   ]
  },
  {
   "cell_type": "code",
   "execution_count": 57,
   "metadata": {
    "collapsed": false
   },
   "outputs": [
    {
     "data": {
      "text/plain": [
       "[[{'lat': -33.491584000000003, 'long': -70.617529000000005},\n",
       "  {'lat': -33.527212030973004, 'long': -70.588998953262049}],\n",
       " 0.84615384615384615]"
      ]
     },
     "execution_count": 57,
     "metadata": {},
     "output_type": "execute_result"
    }
   ],
   "source": [
    "tfe.get_ROIs(test_sequence_3696,0.6)"
   ]
  },
  {
   "cell_type": "markdown",
   "metadata": {
    "collapsed": true
   },
   "source": [
    "### Usuario 4150"
   ]
  },
  {
   "cell_type": "code",
   "execution_count": 58,
   "metadata": {
    "collapsed": false
   },
   "outputs": [
    {
     "data": {
      "text/plain": [
       "[array([[-33.60973119, -70.52173709],\n",
       "        [-33.56950568, -70.5831589 ],\n",
       "        [-33.60212   , -70.577195  ],\n",
       "        [-33.60957101, -70.52156182],\n",
       "        [-33.60800907, -70.52317261]]),\n",
       " ['L-34-37-PO-20',\n",
       "  'L-34-52-PO-5',\n",
       "  'LAS MERCEDES',\n",
       "  'L-34-114-NS-5',\n",
       "  'L-34-2-OP-50'],\n",
       " [0.09090909090909091,\n",
       "  0.45454545454545453,\n",
       "  0.09090909090909091,\n",
       "  0.18181818181818182,\n",
       "  0.18181818181818182]]"
      ]
     },
     "execution_count": 58,
     "metadata": {},
     "output_type": "execute_result"
    }
   ],
   "source": [
    "tfe.get_latlong_points(test_sequence_4150)"
   ]
  },
  {
   "cell_type": "code",
   "execution_count": 59,
   "metadata": {
    "collapsed": false
   },
   "outputs": [
    {
     "data": {
      "text/plain": [
       "array([1, 2, 3, 1, 1], dtype=int32)"
      ]
     },
     "execution_count": 59,
     "metadata": {},
     "output_type": "execute_result"
    }
   ],
   "source": [
    "tfe.get_clusters(test_sequence_4150)"
   ]
  },
  {
   "cell_type": "code",
   "execution_count": 60,
   "metadata": {
    "collapsed": false
   },
   "outputs": [
    {
     "data": {
      "text/plain": [
       "[[{'lat': -33.609103755975731, 'long': -70.522157174440835},\n",
       "  {'lat': -33.569505683331002, 'long': -70.583158899591695}],\n",
       " 0.90909090909090906]"
      ]
     },
     "execution_count": 60,
     "metadata": {},
     "output_type": "execute_result"
    }
   ],
   "source": [
    "tfe.get_ROIs(test_sequence_4150,0.6)"
   ]
  },
  {
   "cell_type": "code",
   "execution_count": 61,
   "metadata": {
    "collapsed": false
   },
   "outputs": [
    {
     "data": {
      "text/plain": [
       "1.9834816567142834"
      ]
     },
     "execution_count": 61,
     "metadata": {},
     "output_type": "execute_result"
    }
   ],
   "source": [
    "chronology = tfe.get_chronology(test_sequence_4150,-33.56950568,-70.5831589)\n",
    "data_days_window = 1\n",
    "window = data_days_window*24*60 # 8 dias en minutos\n",
    "tfe.get_regularity(chronology,window)"
   ]
  },
  {
   "cell_type": "code",
   "execution_count": 62,
   "metadata": {
    "collapsed": true
   },
   "outputs": [],
   "source": [
    "# regularity not working!"
   ]
  },
  {
   "cell_type": "markdown",
   "metadata": {},
   "source": [
    "## Testing Big Function"
   ]
  },
  {
   "cell_type": "raw",
   "metadata": {},
   "source": [
    "[msal,mlal,kmDistance,kmMaxDist,kmMinDist,rg,unc_entropy, \\\n",
    "\trandom_entropy,p100_diff_last_origin,p100_diff_first_origin,card_type,\\\n",
    "\tstart_time,end_time,traveled_days,traveled_days_bs,frequence_regularity,\\\n",
    "\tp100_exclusive_bus_days,p100_exclusive_metro_days,P100_bus_trips]"
   ]
  },
  {
   "cell_type": "code",
   "execution_count": 63,
   "metadata": {
    "collapsed": false
   },
   "outputs": [],
   "source": [
    "test_sequences = [ test_sequence_5, test_sequence_1187, test_sequence_0, test_sequence_9, \\\n",
    "                  test_sequence_2168, test_sequence_3696, test_sequence_4150]\n",
    "the_vectors = []\n",
    "for test_seq in test_sequences:\n",
    "    the_vectors.append(borrador.get_features(test_seq))"
   ]
  },
  {
   "cell_type": "code",
   "execution_count": 64,
   "metadata": {
    "collapsed": false
   },
   "outputs": [
    {
     "name": "stdout",
     "output_type": "stream",
     "text": [
      "Test de  5\n",
      "Test de  1187\n",
      "Test de  0\n",
      "Test de  9\n",
      "Test de  2168\n",
      "Test de  3696\n",
      "Test de  4150\n"
     ]
    }
   ],
   "source": [
    "counter = 0\n",
    "ids = [5,1187,0,9,2168,3696,4150]\n",
    "for test_seq in test_sequences:\n",
    "    print \"Test de \", ids[counter]\n",
    "    a = borrador.get_features(test_seq)\n",
    "    assert tfe.get_mean_shortest_activity_length(test_seq) == a[0]\n",
    "    assert tfe.get_mean_longest_activity_length(test_seq) == a[1]\n",
    "    assert tfe.get_traveled_distance(test_seq) == a[2]\n",
    "    assert tfe.get_maximum_travel_distance(test_seq) == a[3]\n",
    "    assert tfe.get_minimum_travel_distance(test_seq) == a[4]\n",
    "    assert tfe.get_radius_of_gyration(test_seq) == a[5]\n",
    "    assert tfe.get_unc_entropy(test_seq) == a[6]\n",
    "    assert tfe.get_random_entropy(test_seq) == a[7]\n",
    "    assert tfe.get_percentage_different_last_origin(test_seq) == a[8]\n",
    "    assert tfe.get_percentage_different_first_origin(test_seq) == a[9]\n",
    "    assert tfe.get_card_type(test_seq) == a[10]\n",
    "    assert tfe.get_mean_start_time_first_trip(test_seq) == a[11]\n",
    "    assert tfe.get_mean_start_time_last_trip(test_seq) == a[12]\n",
    "    assert tfe.get_n_days_traveled(test_seq) == a[13]\n",
    "    assert tfe.get_n_days_traveled_before_stop(test_seq) == a[14]\n",
    "    assert tfe.get_frequence_regularity(test_seq) == a[15]\n",
    "    assert tfe.get_percentage_bus_exclusive_days(test_seq) == a[16]\n",
    "    assert tfe.get_percentage_rail_exclusive_days(test_seq) == a[17]\n",
    "    assert tfe.get_percentage_bus_trips(test_seq) == a[18]\n",
    "    counter += 1"
   ]
  },
  {
   "cell_type": "markdown",
   "metadata": {},
   "source": [
    "## Measuring euclidean distance between vectors"
   ]
  },
  {
   "cell_type": "code",
   "execution_count": 65,
   "metadata": {
    "collapsed": true
   },
   "outputs": [],
   "source": [
    "datos_septiembre = pd.read_csv('/home/cata/Documentos/Datois/etapas_2013_septiembre_allyearsids_10_100000.csv')"
   ]
  },
  {
   "cell_type": "code",
   "execution_count": 66,
   "metadata": {
    "collapsed": false
   },
   "outputs": [],
   "source": [
    "datos_septiembre = frame_config(datos_septiembre)"
   ]
  },
  {
   "cell_type": "code",
   "execution_count": 67,
   "metadata": {
    "collapsed": true
   },
   "outputs": [],
   "source": [
    "user_ids = [1261466,50264508,1132106,1355530,59460077,68660100,70321252]"
   ]
  },
  {
   "cell_type": "code",
   "execution_count": 68,
   "metadata": {
    "collapsed": false
   },
   "outputs": [],
   "source": [
    "the_dfs = []\n",
    "for i in user_ids:\n",
    "    a_str = 'datos_septiembre.query(\"id=='+str(i)+'\")'\n",
    "    the_dfs.append(eval(a_str))\n"
   ]
  },
  {
   "cell_type": "code",
   "execution_count": 69,
   "metadata": {
    "collapsed": false
   },
   "outputs": [],
   "source": [
    "septiembre_vectors = []\n",
    "for test_seq in the_dfs:\n",
    "    septiembre_vectors.append(borrador.get_features(test_seq))"
   ]
  },
  {
   "cell_type": "code",
   "execution_count": 70,
   "metadata": {
    "collapsed": false,
    "scrolled": true
   },
   "outputs": [],
   "source": [
    "counter = 0\n",
    "counteri = 0\n",
    "a_matrix = np.zeros((7, 7))\n",
    "for j in ids:\n",
    "    abril_vector = the_vectors[counter]\n",
    "    for i in ids:\n",
    "        septiembre_vector = septiembre_vectors[counteri]\n",
    "        dist = np.linalg.norm(np.asarray(abril_vector)-np.asarray(septiembre_vector))\n",
    "        a_matrix[counter,counteri] = dist\n",
    "        counteri += 1\n",
    "    counter += 1\n",
    "    counteri = 0\n"
   ]
  },
  {
   "cell_type": "code",
   "execution_count": 71,
   "metadata": {
    "collapsed": false
   },
   "outputs": [],
   "source": [
    "comparacion = pd.DataFrame(a_matrix)\n",
    "comparacion.columns = ids\n",
    "comparacion.index = ids"
   ]
  },
  {
   "cell_type": "code",
   "execution_count": 72,
   "metadata": {
    "collapsed": false
   },
   "outputs": [
    {
     "data": {
      "text/html": [
       "<div>\n",
       "<table border=\"1\" class=\"dataframe\">\n",
       "  <thead>\n",
       "    <tr style=\"text-align: right;\">\n",
       "      <th></th>\n",
       "      <th>5</th>\n",
       "      <th>1187</th>\n",
       "      <th>0</th>\n",
       "      <th>9</th>\n",
       "      <th>2168</th>\n",
       "      <th>3696</th>\n",
       "      <th>4150</th>\n",
       "    </tr>\n",
       "  </thead>\n",
       "  <tbody>\n",
       "    <tr>\n",
       "      <th>5</th>\n",
       "      <td>8698.056229</td>\n",
       "      <td>9215.024712</td>\n",
       "      <td>8318.525410</td>\n",
       "      <td>12368.589067</td>\n",
       "      <td>13987.978403</td>\n",
       "      <td>3509.950257</td>\n",
       "      <td>4983.051979</td>\n",
       "    </tr>\n",
       "    <tr>\n",
       "      <th>1187</th>\n",
       "      <td>4405.440182</td>\n",
       "      <td>1010.539792</td>\n",
       "      <td>3699.511785</td>\n",
       "      <td>12575.712935</td>\n",
       "      <td>4266.342331</td>\n",
       "      <td>12574.188670</td>\n",
       "      <td>5596.495341</td>\n",
       "    </tr>\n",
       "    <tr>\n",
       "      <th>0</th>\n",
       "      <td>6056.072549</td>\n",
       "      <td>3542.548991</td>\n",
       "      <td>652.246926</td>\n",
       "      <td>12923.616485</td>\n",
       "      <td>7715.843886</td>\n",
       "      <td>9775.230254</td>\n",
       "      <td>4818.975357</td>\n",
       "    </tr>\n",
       "    <tr>\n",
       "      <th>9</th>\n",
       "      <td>14013.891632</td>\n",
       "      <td>16864.369474</td>\n",
       "      <td>18601.300337</td>\n",
       "      <td>6830.978001</td>\n",
       "      <td>16109.863545</td>\n",
       "      <td>22420.108623</td>\n",
       "      <td>16448.374152</td>\n",
       "    </tr>\n",
       "    <tr>\n",
       "      <th>2168</th>\n",
       "      <td>9467.505020</td>\n",
       "      <td>7853.313513</td>\n",
       "      <td>9043.067843</td>\n",
       "      <td>14570.034593</td>\n",
       "      <td>4188.089540</td>\n",
       "      <td>18945.205599</td>\n",
       "      <td>11985.411812</td>\n",
       "    </tr>\n",
       "    <tr>\n",
       "      <th>3696</th>\n",
       "      <td>15521.501214</td>\n",
       "      <td>15017.180726</td>\n",
       "      <td>12827.685621</td>\n",
       "      <td>18882.654686</td>\n",
       "      <td>19895.262944</td>\n",
       "      <td>3765.102466</td>\n",
       "      <td>11689.292148</td>\n",
       "    </tr>\n",
       "    <tr>\n",
       "      <th>4150</th>\n",
       "      <td>4163.524120</td>\n",
       "      <td>7700.603244</td>\n",
       "      <td>10458.420914</td>\n",
       "      <td>6314.996568</td>\n",
       "      <td>8620.956147</td>\n",
       "      <td>14475.651008</td>\n",
       "      <td>7061.014621</td>\n",
       "    </tr>\n",
       "  </tbody>\n",
       "</table>\n",
       "</div>"
      ],
      "text/plain": [
       "              5             1187          0             9             2168  \\\n",
       "5      8698.056229   9215.024712   8318.525410  12368.589067  13987.978403   \n",
       "1187   4405.440182   1010.539792   3699.511785  12575.712935   4266.342331   \n",
       "0      6056.072549   3542.548991    652.246926  12923.616485   7715.843886   \n",
       "9     14013.891632  16864.369474  18601.300337   6830.978001  16109.863545   \n",
       "2168   9467.505020   7853.313513   9043.067843  14570.034593   4188.089540   \n",
       "3696  15521.501214  15017.180726  12827.685621  18882.654686  19895.262944   \n",
       "4150   4163.524120   7700.603244  10458.420914   6314.996568   8620.956147   \n",
       "\n",
       "              3696          4150  \n",
       "5      3509.950257   4983.051979  \n",
       "1187  12574.188670   5596.495341  \n",
       "0      9775.230254   4818.975357  \n",
       "9     22420.108623  16448.374152  \n",
       "2168  18945.205599  11985.411812  \n",
       "3696   3765.102466  11689.292148  \n",
       "4150  14475.651008   7061.014621  "
      ]
     },
     "execution_count": 72,
     "metadata": {},
     "output_type": "execute_result"
    }
   ],
   "source": [
    "comparacion"
   ]
  },
  {
   "cell_type": "code",
   "execution_count": 73,
   "metadata": {
    "collapsed": false
   },
   "outputs": [
    {
     "data": {
      "text/plain": [
       "5        8698.056229\n",
       "1187     4405.440182\n",
       "0        6056.072549\n",
       "9       14013.891632\n",
       "2168     9467.505020\n",
       "3696    15521.501214\n",
       "4150     4163.524120\n",
       "Name: 5, dtype: float64"
      ]
     },
     "execution_count": 73,
     "metadata": {},
     "output_type": "execute_result"
    }
   ],
   "source": [
    "comparacion[5]"
   ]
  },
  {
   "cell_type": "code",
   "execution_count": 74,
   "metadata": {
    "collapsed": false
   },
   "outputs": [
    {
     "name": "stdout",
     "output_type": "stream",
     "text": [
      "4150\n",
      "1187\n",
      "0\n",
      "4150\n",
      "2168\n",
      "5\n",
      "0\n"
     ]
    }
   ],
   "source": [
    "for i in ids:\n",
    "    print np.argmin(comparacion[i])"
   ]
  },
  {
   "cell_type": "markdown",
   "metadata": {},
   "source": [
    "## Measuring distance between vectors (100.000)"
   ]
  },
  {
   "cell_type": "code",
   "execution_count": 75,
   "metadata": {
    "collapsed": false
   },
   "outputs": [],
   "source": [
    "N_FEATURES = 19"
   ]
  },
  {
   "cell_type": "code",
   "execution_count": 76,
   "metadata": {
    "collapsed": false
   },
   "outputs": [
    {
     "data": {
      "text/plain": [
       "<module 'tfe' from 'tfe.pyc'>"
      ]
     },
     "execution_count": 76,
     "metadata": {},
     "output_type": "execute_result"
    }
   ],
   "source": [
    "reload(borrador)\n",
    "reload(tfe)"
   ]
  },
  {
   "cell_type": "code",
   "execution_count": 77,
   "metadata": {
    "collapsed": false
   },
   "outputs": [],
   "source": [
    "datos_abril.set_index(keys=['id'], drop=False,inplace=True)\n",
    "# get a list of names\n",
    "ids_abril=datos_abril['id'].unique().tolist()\n",
    "\n",
    "datos_septiembre.set_index(keys=['id'],drop=False,inplace=True)\n",
    "# get a list of names\n",
    "ids_septiembre = datos_septiembre['id'].unique().tolist()"
   ]
  },
  {
   "cell_type": "code",
   "execution_count": null,
   "metadata": {
    "collapsed": true
   },
   "outputs": [],
   "source": [
    "with open('datos_abril_sep_sequence.pickle', 'w') as f:\n",
    "    pickle.dump(datos_abril, f)\n",
    "    pickle.dump(datos_septiembre, f)"
   ]
  },
  {
   "cell_type": "code",
   "execution_count": 78,
   "metadata": {
    "collapsed": false
   },
   "outputs": [
    {
     "data": {
      "text/plain": [
       "5169"
      ]
     },
     "execution_count": 78,
     "metadata": {},
     "output_type": "execute_result"
    }
   ],
   "source": [
    "limit = np.min((len(ids_abril),len(ids_septiembre)))\n",
    "limit"
   ]
  },
  {
   "cell_type": "code",
   "execution_count": 79,
   "metadata": {
    "collapsed": false
   },
   "outputs": [
    {
     "name": "stdout",
     "output_type": "stream",
     "text": [
      "67.497243166\n"
     ]
    }
   ],
   "source": [
    "abril_vectors = np.zeros((limit, N_FEATURES)) \n",
    "init_time = time.time()\n",
    "for i in range(limit):\n",
    "    an_id = ids_abril[i]\n",
    "    abril_sequence = datos_abril.loc[datos_abril.id==an_id]\n",
    "    abril_vector = borrador.get_features(abril_sequence)\n",
    "    abril_vectors[i] = abril_vector\n",
    "delta_time = time.time()-init_time\n",
    "print delta_time"
   ]
  },
  {
   "cell_type": "code",
   "execution_count": 80,
   "metadata": {
    "collapsed": false
   },
   "outputs": [
    {
     "name": "stdout",
     "output_type": "stream",
     "text": [
      "65.259344101\n"
     ]
    }
   ],
   "source": [
    "septiembre_vectors = np.zeros((limit, N_FEATURES)) \n",
    "init_time = time.time()\n",
    "for i in range(limit):\n",
    "    an_id = ids_abril[i]\n",
    "    septiembre_sequence = datos_septiembre.loc[datos_septiembre.id==an_id]\n",
    "    septiembre_vector = borrador.get_features(septiembre_sequence)\n",
    "    septiembre_vectors[i] = septiembre_vector\n",
    "delta_time = time.time()-init_time\n",
    "print delta_time"
   ]
  },
  {
   "cell_type": "code",
   "execution_count": 81,
   "metadata": {
    "collapsed": true
   },
   "outputs": [],
   "source": [
    "def matrixToCsv(matrix,name):\n",
    "    features_names = [\"msal\",\"mlal\",\"kmDistance\",\"kmMaxDist\",\"kmMinDist\",\"rg\",\"unc_entropy\", \\\n",
    "    \"random_entropy\",\"p100_diff_last_origin\",\"p100_diff_first_origin\",\"card_type\",\\\n",
    "    \"start_time\",\"end_time\",\"traveled_days\",\"traveled_days_bs\",\"frequence_regularity\",\\\n",
    "    \"p100_exclusive_bus_days\",\"p100_exclusive_metro_days\",\"P100_bus_trips\"]\n",
    "    feature_header = \"\"\n",
    "    for feature_name in features_names:\n",
    "        feature_header = feature_header + \",\" + feature_name\n",
    "    feature_header = feature_header[1:]\n",
    "    np.savetxt(name, matrix, delimiter=\",\",header=feature_header)"
   ]
  },
  {
   "cell_type": "code",
   "execution_count": 82,
   "metadata": {
    "collapsed": true
   },
   "outputs": [],
   "source": [
    "matrixToCsv(abril_vectors,\"abril_features.csv\")\n",
    "matrixToCsv(septiembre_vectors,\"septiembre_features.csv\")"
   ]
  },
  {
   "cell_type": "code",
   "execution_count": 83,
   "metadata": {
    "collapsed": false
   },
   "outputs": [],
   "source": [
    "def normalizar(vector):\n",
    "    a_max = np.max(vector)\n",
    "    a_min = np.min(vector)\n",
    "    for i in range(len(vector)):\n",
    "        vector[i] = (vector[i] - a_min)/a_max\n",
    "    return vector    "
   ]
  },
  {
   "cell_type": "code",
   "execution_count": 84,
   "metadata": {
    "collapsed": true
   },
   "outputs": [],
   "source": [
    "for i in range(abril_vectors.shape[1]):\n",
    "    abril_vectors[:,i] = normalizar(abril_vectors[:,i])\n",
    "for i in range(septiembre_vectors.shape[1]):\n",
    "    septiembre_vectors[:,i] = normalizar(septiembre_vectors[:,i])"
   ]
  },
  {
   "cell_type": "code",
   "execution_count": 85,
   "metadata": {
    "collapsed": false
   },
   "outputs": [
    {
     "name": "stdout",
     "output_type": "stream",
     "text": [
      "237.923491001\n"
     ]
    }
   ],
   "source": [
    "a_matrix = np.zeros((limit, limit)) \n",
    "init_time = time.time()\n",
    "for i in range(limit):\n",
    "    for j in range(limit):\n",
    "        dist = np.linalg.norm(np.asarray(abril_vectors[i])-np.asarray(septiembre_vectors[j]))\n",
    "        a_matrix[i,j] = dist\n",
    "delta_time = time.time()-init_time\n",
    "print delta_time"
   ]
  },
  {
   "cell_type": "code",
   "execution_count": 86,
   "metadata": {
    "collapsed": true
   },
   "outputs": [],
   "source": [
    "identified_indexs = [] #almacena los indices de que secuencia fue seleccionada como match\n",
    "wrong_indexs = [] # almacena los indices de los que se clasificaron incorrectamente\n",
    "correct_indexs = [] # almacena los indices de los que se clasificaron correctamente\n",
    "selected_distance = [] # almacena la distancia de los seleccionados\n",
    "n_identified = 0\n",
    "for i in range(limit):\n",
    "    the_index = np.argmin(a_matrix[:,i])\n",
    "    selected_distance.append(np.min(a_matrix[:,i]))\n",
    "    identified_indexs.append(the_index)\n",
    "    if(the_index!=i):\n",
    "        wrong_indexs.append(the_index)\n",
    "    else:\n",
    "        correct_indexs.append(the_index)\n",
    "        n_identified += 1\n"
   ]
  },
  {
   "cell_type": "code",
   "execution_count": 87,
   "metadata": {
    "collapsed": false
   },
   "outputs": [
    {
     "name": "stdout",
     "output_type": "stream",
     "text": [
      "4.26%\n"
     ]
    }
   ],
   "source": [
    "porcentaje_correcto = n_identified*100/limit\n",
    "print str(round(porcentaje_correcto,2))+ \"%\""
   ]
  },
  {
   "cell_type": "code",
   "execution_count": 88,
   "metadata": {
    "collapsed": false
   },
   "outputs": [
    {
     "data": {
      "text/html": [
       "<div>\n",
       "<table border=\"1\" class=\"dataframe\">\n",
       "  <thead>\n",
       "    <tr style=\"text-align: right;\">\n",
       "      <th></th>\n",
       "      <th>0</th>\n",
       "      <th>1</th>\n",
       "      <th>2</th>\n",
       "      <th>3</th>\n",
       "      <th>4</th>\n",
       "      <th>5</th>\n",
       "      <th>6</th>\n",
       "      <th>7</th>\n",
       "      <th>8</th>\n",
       "      <th>9</th>\n",
       "      <th>...</th>\n",
       "      <th>5159</th>\n",
       "      <th>5160</th>\n",
       "      <th>5161</th>\n",
       "      <th>5162</th>\n",
       "      <th>5163</th>\n",
       "      <th>5164</th>\n",
       "      <th>5165</th>\n",
       "      <th>5166</th>\n",
       "      <th>5167</th>\n",
       "      <th>5168</th>\n",
       "    </tr>\n",
       "  </thead>\n",
       "  <tbody>\n",
       "    <tr>\n",
       "      <th>0</th>\n",
       "      <td>0.496055</td>\n",
       "      <td>0.535545</td>\n",
       "      <td>1.334875</td>\n",
       "      <td>0.585397</td>\n",
       "      <td>0.592170</td>\n",
       "      <td>1.543217</td>\n",
       "      <td>1.469576</td>\n",
       "      <td>0.832624</td>\n",
       "      <td>1.330784</td>\n",
       "      <td>1.156128</td>\n",
       "      <td>...</td>\n",
       "      <td>1.139396</td>\n",
       "      <td>0.659153</td>\n",
       "      <td>0.487729</td>\n",
       "      <td>0.793494</td>\n",
       "      <td>0.783010</td>\n",
       "      <td>1.118550</td>\n",
       "      <td>0.580956</td>\n",
       "      <td>1.019479</td>\n",
       "      <td>1.877124</td>\n",
       "      <td>0.781857</td>\n",
       "    </tr>\n",
       "    <tr>\n",
       "      <th>1</th>\n",
       "      <td>0.746549</td>\n",
       "      <td>0.488402</td>\n",
       "      <td>1.367989</td>\n",
       "      <td>0.671723</td>\n",
       "      <td>0.735779</td>\n",
       "      <td>1.660818</td>\n",
       "      <td>1.494808</td>\n",
       "      <td>0.929673</td>\n",
       "      <td>1.260211</td>\n",
       "      <td>1.312258</td>\n",
       "      <td>...</td>\n",
       "      <td>1.262333</td>\n",
       "      <td>0.845593</td>\n",
       "      <td>0.631783</td>\n",
       "      <td>0.797276</td>\n",
       "      <td>0.960833</td>\n",
       "      <td>1.192409</td>\n",
       "      <td>0.862797</td>\n",
       "      <td>1.056745</td>\n",
       "      <td>1.801578</td>\n",
       "      <td>0.825458</td>\n",
       "    </tr>\n",
       "    <tr>\n",
       "      <th>2</th>\n",
       "      <td>1.287972</td>\n",
       "      <td>1.252917</td>\n",
       "      <td>0.652437</td>\n",
       "      <td>1.181101</td>\n",
       "      <td>1.268972</td>\n",
       "      <td>0.642311</td>\n",
       "      <td>0.772319</td>\n",
       "      <td>1.028412</td>\n",
       "      <td>1.272884</td>\n",
       "      <td>0.740082</td>\n",
       "      <td>...</td>\n",
       "      <td>0.776207</td>\n",
       "      <td>1.078998</td>\n",
       "      <td>1.241789</td>\n",
       "      <td>1.348051</td>\n",
       "      <td>1.106040</td>\n",
       "      <td>0.983396</td>\n",
       "      <td>1.036994</td>\n",
       "      <td>1.281260</td>\n",
       "      <td>1.433046</td>\n",
       "      <td>1.296812</td>\n",
       "    </tr>\n",
       "    <tr>\n",
       "      <th>3</th>\n",
       "      <td>0.932025</td>\n",
       "      <td>0.735255</td>\n",
       "      <td>1.403975</td>\n",
       "      <td>0.913086</td>\n",
       "      <td>0.806092</td>\n",
       "      <td>1.702132</td>\n",
       "      <td>1.471347</td>\n",
       "      <td>1.020360</td>\n",
       "      <td>1.352030</td>\n",
       "      <td>1.500660</td>\n",
       "      <td>...</td>\n",
       "      <td>1.479097</td>\n",
       "      <td>1.020204</td>\n",
       "      <td>0.829913</td>\n",
       "      <td>0.971733</td>\n",
       "      <td>1.045216</td>\n",
       "      <td>1.427938</td>\n",
       "      <td>1.002527</td>\n",
       "      <td>1.304129</td>\n",
       "      <td>1.811146</td>\n",
       "      <td>1.226238</td>\n",
       "    </tr>\n",
       "    <tr>\n",
       "      <th>4</th>\n",
       "      <td>0.908533</td>\n",
       "      <td>0.655550</td>\n",
       "      <td>1.460886</td>\n",
       "      <td>0.818858</td>\n",
       "      <td>0.861406</td>\n",
       "      <td>1.745801</td>\n",
       "      <td>1.593647</td>\n",
       "      <td>1.133195</td>\n",
       "      <td>1.176252</td>\n",
       "      <td>1.461435</td>\n",
       "      <td>...</td>\n",
       "      <td>1.406001</td>\n",
       "      <td>1.063530</td>\n",
       "      <td>0.835020</td>\n",
       "      <td>0.879441</td>\n",
       "      <td>1.201242</td>\n",
       "      <td>1.238474</td>\n",
       "      <td>1.055398</td>\n",
       "      <td>1.314451</td>\n",
       "      <td>1.757807</td>\n",
       "      <td>0.939897</td>\n",
       "    </tr>\n",
       "  </tbody>\n",
       "</table>\n",
       "<p>5 rows × 5169 columns</p>\n",
       "</div>"
      ],
      "text/plain": [
       "       0         1         2         3         4         5         6     \\\n",
       "0  0.496055  0.535545  1.334875  0.585397  0.592170  1.543217  1.469576   \n",
       "1  0.746549  0.488402  1.367989  0.671723  0.735779  1.660818  1.494808   \n",
       "2  1.287972  1.252917  0.652437  1.181101  1.268972  0.642311  0.772319   \n",
       "3  0.932025  0.735255  1.403975  0.913086  0.806092  1.702132  1.471347   \n",
       "4  0.908533  0.655550  1.460886  0.818858  0.861406  1.745801  1.593647   \n",
       "\n",
       "       7         8         9       ...         5159      5160      5161  \\\n",
       "0  0.832624  1.330784  1.156128    ...     1.139396  0.659153  0.487729   \n",
       "1  0.929673  1.260211  1.312258    ...     1.262333  0.845593  0.631783   \n",
       "2  1.028412  1.272884  0.740082    ...     0.776207  1.078998  1.241789   \n",
       "3  1.020360  1.352030  1.500660    ...     1.479097  1.020204  0.829913   \n",
       "4  1.133195  1.176252  1.461435    ...     1.406001  1.063530  0.835020   \n",
       "\n",
       "       5162      5163      5164      5165      5166      5167      5168  \n",
       "0  0.793494  0.783010  1.118550  0.580956  1.019479  1.877124  0.781857  \n",
       "1  0.797276  0.960833  1.192409  0.862797  1.056745  1.801578  0.825458  \n",
       "2  1.348051  1.106040  0.983396  1.036994  1.281260  1.433046  1.296812  \n",
       "3  0.971733  1.045216  1.427938  1.002527  1.304129  1.811146  1.226238  \n",
       "4  0.879441  1.201242  1.238474  1.055398  1.314451  1.757807  0.939897  \n",
       "\n",
       "[5 rows x 5169 columns]"
      ]
     },
     "execution_count": 88,
     "metadata": {},
     "output_type": "execute_result"
    }
   ],
   "source": [
    "comparacion = pd.DataFrame(a_matrix)\n",
    "comparacion.head()"
   ]
  },
  {
   "cell_type": "code",
   "execution_count": 89,
   "metadata": {
    "collapsed": false
   },
   "outputs": [],
   "source": [
    "# Explorar Features !!!\n",
    "# Usar clasificador :D\n",
    "\n"
   ]
  },
  {
   "cell_type": "code",
   "execution_count": 90,
   "metadata": {
    "collapsed": true
   },
   "outputs": [],
   "source": [
    "with open('feature_data.pickle', 'w') as f:\n",
    "    pickle.dump(abril_vectors, f)\n",
    "    pickle.dump(septiembre_vectors, f)"
   ]
  },
  {
   "cell_type": "markdown",
   "metadata": {},
   "source": [
    "## Buscar the RoIs "
   ]
  },
  {
   "cell_type": "code",
   "execution_count": 163,
   "metadata": {
    "collapsed": false
   },
   "outputs": [
    {
     "data": {
      "text/plain": [
       "<module 'tfe' from 'tfe.py'>"
      ]
     },
     "execution_count": 163,
     "metadata": {},
     "output_type": "execute_result"
    }
   ],
   "source": [
    "reload(tfe)"
   ]
  },
  {
   "cell_type": "code",
   "execution_count": 164,
   "metadata": {
    "collapsed": false
   },
   "outputs": [
    {
     "name": "stdout",
     "output_type": "stream",
     "text": [
      "27.3608319759\n"
     ]
    }
   ],
   "source": [
    "abril_the_rois = []\n",
    "init_time = time.time()\n",
    "for i in range(limit):\n",
    "    #print i\n",
    "    an_id = ids_abril[i]\n",
    "    abril_sequence = datos_abril.loc[datos_abril.id==an_id]\n",
    "    rois = tfe.get_ROIs(abril_sequence,0.6)\n",
    "    abril_the_rois.append(rois)\n",
    "delta_time = time.time()-init_time\n",
    "print delta_time\n",
    "    "
   ]
  },
  {
   "cell_type": "code",
   "execution_count": 165,
   "metadata": {
    "collapsed": false
   },
   "outputs": [
    {
     "name": "stdout",
     "output_type": "stream",
     "text": [
      "26.6120679379\n"
     ]
    }
   ],
   "source": [
    "septiembre_the_rois = []\n",
    "init_time = time.time()\n",
    "for i in range(limit):\n",
    "    an_id = ids_abril[i]\n",
    "    septiembre_sequence = datos_septiembre.loc[datos_septiembre.id==an_id]\n",
    "    rois = tfe.get_ROIs(septiembre_sequence,0.6)\n",
    "    septiembre_the_rois.append(rois)\n",
    "delta_time = time.time()-init_time\n",
    "print delta_time\n",
    "    "
   ]
  },
  {
   "cell_type": "code",
   "execution_count": 166,
   "metadata": {
    "collapsed": true
   },
   "outputs": [],
   "source": [
    "with open('rois_meters_data.pickle', 'w') as f:\n",
    "    pickle.dump(abril_the_rois, f)\n",
    "    pickle.dump(septiembre_the_rois, f)"
   ]
  },
  {
   "cell_type": "markdown",
   "metadata": {},
   "source": [
    "###  Cual es la probabilidad de encontrar a una persona en sus RoIs? Cuantas RoIs por persona? "
   ]
  },
  {
   "cell_type": "code",
   "execution_count": 167,
   "metadata": {
    "collapsed": false
   },
   "outputs": [
    {
     "data": {
      "image/png": "[encoded data removed]",
      "text/plain": [
       "<matplotlib.figure.Figure at 0x7fe2212246d0>"
      ]
     },
     "metadata": {},
     "output_type": "display_data"
    }
   ],
   "source": [
    "p_of_being_in_rois = [rois[1] for rois in abril_the_rois]\n",
    "plt.hist(p_of_being_in_rois)\n",
    "plt.show()"
   ]
  },
  {
   "cell_type": "code",
   "execution_count": 168,
   "metadata": {
    "collapsed": false
   },
   "outputs": [
    {
     "data": {
      "image/png": "[encoded data removed]",
      "text/plain": [
       "<matplotlib.figure.Figure at 0x7fe220b57890>"
      ]
     },
     "metadata": {},
     "output_type": "display_data"
    }
   ],
   "source": [
    "p_of_being_in_rois = [rois[1] for rois in septiembre_the_rois]\n",
    "plt.hist(p_of_being_in_rois)\n",
    "plt.show()"
   ]
  },
  {
   "cell_type": "code",
   "execution_count": 169,
   "metadata": {
    "collapsed": false
   },
   "outputs": [
    {
     "data": {
      "image/png": "[encoded data removed]",
      "text/plain": [
       "<matplotlib.figure.Figure at 0x7fe22130e490>"
      ]
     },
     "metadata": {},
     "output_type": "display_data"
    }
   ],
   "source": [
    "n_of_rois = [len(rois[0]) for rois in abril_the_rois]\n",
    "d = np.diff(np.unique(n_of_rois)).min()\n",
    "left_of_first_bin = min(n_of_rois) - float(d)/2\n",
    "right_of_last_bin = max(n_of_rois) + float(d)/2\n",
    "plt.hist(n_of_rois, np.arange(left_of_first_bin, right_of_last_bin + d, d))\n",
    "plt.show()"
   ]
  },
  {
   "cell_type": "code",
   "execution_count": 170,
   "metadata": {
    "collapsed": false
   },
   "outputs": [
    {
     "data": {
      "image/png": "[encoded data removed]",
      "text/plain": [
       "<matplotlib.figure.Figure at 0x7fe220b570d0>"
      ]
     },
     "metadata": {},
     "output_type": "display_data"
    }
   ],
   "source": [
    "n_of_rois = [len(rois[0]) for rois in septiembre_the_rois]\n",
    "d = np.diff(np.unique(n_of_rois)).min()\n",
    "left_of_first_bin = min(n_of_rois) - float(d)/2\n",
    "right_of_last_bin = max(n_of_rois) + float(d)/2\n",
    "plt.hist(n_of_rois, np.arange(left_of_first_bin, right_of_last_bin + d, d))\n",
    "plt.show()"
   ]
  },
  {
   "cell_type": "markdown",
   "metadata": {},
   "source": [
    "### Ej. de RoIs"
   ]
  },
  {
   "cell_type": "code",
   "execution_count": 171,
   "metadata": {
    "collapsed": false
   },
   "outputs": [
    {
     "data": {
      "text/plain": [
       "[[{'lat': -33.527716828857699, 'long': -70.63542242496419},\n",
       "  {'lat': -33.404836618443298, 'long': -70.59716469585355}],\n",
       " 0.92307692307692313]"
      ]
     },
     "execution_count": 171,
     "metadata": {},
     "output_type": "execute_result"
    }
   ],
   "source": [
    "abril_the_rois[0]"
   ]
  },
  {
   "cell_type": "code",
   "execution_count": 99,
   "metadata": {
    "collapsed": false
   },
   "outputs": [
    {
     "data": {
      "text/plain": [
       "[[{'lat': -33.527716828857699, 'long': -70.63542242496419},\n",
       "  {'lat': -33.404836618443298, 'long': -70.59716469585355}],\n",
       " 0.92307692307692313]"
      ]
     },
     "execution_count": 99,
     "metadata": {},
     "output_type": "execute_result"
    }
   ],
   "source": [
    "abril_the_rois[0]"
   ]
  },
  {
   "cell_type": "code",
   "execution_count": 173,
   "metadata": {
    "collapsed": false
   },
   "outputs": [
    {
     "data": {
      "text/plain": [
       "[[{'lat': -33.405970830060198, 'long': -70.598378987909996},\n",
       "  {'lat': -33.527716828857699, 'long': -70.63542242496419}],\n",
       " 0.8125]"
      ]
     },
     "execution_count": 173,
     "metadata": {},
     "output_type": "execute_result"
    }
   ],
   "source": [
    "septiembre_the_rois[0]"
   ]
  },
  {
   "cell_type": "code",
   "execution_count": 174,
   "metadata": {
    "collapsed": false
   },
   "outputs": [
    {
     "data": {
      "text/plain": [
       "840.0420153061565"
      ]
     },
     "execution_count": 174,
     "metadata": {},
     "output_type": "execute_result"
    }
   ],
   "source": [
    "vincenty((-33.405970830060198, -70.598378987909996),(-33.411775791558298,-70.604179649681797)).meters"
   ]
  },
  {
   "cell_type": "code",
   "execution_count": 100,
   "metadata": {
    "collapsed": false
   },
   "outputs": [
    {
     "data": {
      "text/plain": [
       "[[{'lat': -33.411775791558298, 'long': -70.604179649681797},\n",
       "  {'lat': -33.527716828857699, 'long': -70.63542242496419}],\n",
       " 0.875]"
      ]
     },
     "execution_count": 100,
     "metadata": {},
     "output_type": "execute_result"
    }
   ],
   "source": [
    "septiembre_the_rois[0]"
   ]
  },
  {
   "cell_type": "markdown",
   "metadata": {},
   "source": [
    "## Comparar si dos secuencias comparten RoIs"
   ]
  },
  {
   "cell_type": "markdown",
   "metadata": {},
   "source": [
    "####  esto se puede mejorar"
   ]
  },
  {
   "cell_type": "code",
   "execution_count": 178,
   "metadata": {
    "collapsed": false
   },
   "outputs": [],
   "source": [
    "from geopy.distance import vincenty\n",
    "\n",
    "def share_rois(rois_a,rois_b):\n",
    "    shared = 0\n",
    "    rois = [rois_a,rois_b]\n",
    "    index = np.argmin([len(rois_a),len(rois_b)])\n",
    "    other_index = abs(index-1)\n",
    "    min_distance = -1\n",
    "    for i in range(len(rois[index])):\n",
    "        an_a_roi = rois[index][i]\n",
    "        lat_a_roi = an_a_roi['lat']\n",
    "        long_a_roi = an_a_roi['long']\n",
    "        for j in range(len(rois[other_index])):\n",
    "            an_b_roi = rois[other_index][j]\n",
    "            lat_b_roi = an_b_roi['lat']\n",
    "            long_b_roi = an_b_roi['long']\n",
    "            a_distance = vincenty((lat_a_roi,long_a_roi),(lat_b_roi,long_b_roi)).meters\n",
    "            if a_distance < 500:\n",
    "                shared +=1\n",
    "            elif min_distance == -1 or min_distance > a_distance:\n",
    "                min_distance = a_distance\n",
    "    return [shared,min_distance]"
   ]
  },
  {
   "cell_type": "code",
   "execution_count": 201,
   "metadata": {
    "collapsed": false
   },
   "outputs": [
    {
     "name": "stdout",
     "output_type": "stream",
     "text": [
      "5818.21884584\n"
     ]
    }
   ],
   "source": [
    "a_matrix = np.ones((limit, limit)) * -1\n",
    "init_time = time.time()\n",
    "shared = []\n",
    "for i in range(limit):\n",
    "    an_id = ids_abril[i]\n",
    "    rois_abril = abril_the_rois[i]\n",
    "    for j in range(limit):\n",
    "        rois_septiembre = septiembre_the_rois[j]\n",
    "        share_RoIs,min_distance_not_shared = share_rois(rois_abril[0],rois_septiembre[0])\n",
    "        shared.append(share_RoIs)\n",
    "        if share_RoIs > 0:\n",
    "            abril_sequence = abril_vectors[i]\n",
    "            septiembre_sequence = septiembre_vectors[j]\n",
    "            dist = np.linalg.norm(np.asarray(abril_sequence)-np.asarray(septiembre_sequence))\n",
    "            a_matrix[i,j] = -dist\n",
    "delta_time = time.time() - init_time\n",
    "print delta_time"
   ]
  },
  {
   "cell_type": "code",
   "execution_count": 203,
   "metadata": {
    "collapsed": false
   },
   "outputs": [
    {
     "data": {
      "text/plain": [
       "96.96666666666667"
      ]
     },
     "execution_count": 203,
     "metadata": {},
     "output_type": "execute_result"
    }
   ],
   "source": [
    "5818/60"
   ]
  },
  {
   "cell_type": "markdown",
   "metadata": {},
   "source": [
    "### Prueba de tiempo de cuanto demora la iteración limit veces"
   ]
  },
  {
   "cell_type": "code",
   "execution_count": 179,
   "metadata": {
    "collapsed": false
   },
   "outputs": [
    {
     "name": "stdout",
     "output_type": "stream",
     "text": [
      "1.12180304527\n"
     ]
    }
   ],
   "source": [
    "a_matrix = np.ones((limit, limit)) * -1\n",
    "init_time = time.time()\n",
    "shared = []\n",
    "min_not_shared = []\n",
    "for i in range(limit):\n",
    "    an_id = ids_abril[i]\n",
    "    rois_abril = abril_the_rois[i]\n",
    "    rois_septiembre = septiembre_the_rois[i]\n",
    "    share_RoIs,not_shared_roi = share_rois(rois_abril[0],rois_septiembre[0])\n",
    "    shared.append(share_RoIs)\n",
    "    min_not_shared.append(not_shared_roi)\n",
    "delta_time = time.time() - init_time\n",
    "print delta_time"
   ]
  },
  {
   "cell_type": "code",
   "execution_count": 182,
   "metadata": {
    "collapsed": false
   },
   "outputs": [
    {
     "data": {
      "text/plain": [
       "5169"
      ]
     },
     "execution_count": 182,
     "metadata": {},
     "output_type": "execute_result"
    }
   ],
   "source": [
    "len(min_not_shared)"
   ]
  },
  {
   "cell_type": "code",
   "execution_count": 200,
   "metadata": {
    "collapsed": true
   },
   "outputs": [
    {
     "data": {
      "text/html": [
       "<div>\n",
       "<table border=\"1\" class=\"dataframe\">\n",
       "  <thead>\n",
       "    <tr style=\"text-align: right;\">\n",
       "      <th></th>\n",
       "      <th>0</th>\n",
       "    </tr>\n",
       "  </thead>\n",
       "  <tbody>\n",
       "    <tr>\n",
       "      <th>800</th>\n",
       "      <td>857.444452</td>\n",
       "    </tr>\n",
       "    <tr>\n",
       "      <th>801</th>\n",
       "      <td>857.444452</td>\n",
       "    </tr>\n",
       "    <tr>\n",
       "      <th>802</th>\n",
       "      <td>857.794273</td>\n",
       "    </tr>\n",
       "    <tr>\n",
       "      <th>803</th>\n",
       "      <td>858.427478</td>\n",
       "    </tr>\n",
       "    <tr>\n",
       "      <th>804</th>\n",
       "      <td>859.166223</td>\n",
       "    </tr>\n",
       "    <tr>\n",
       "      <th>805</th>\n",
       "      <td>859.994929</td>\n",
       "    </tr>\n",
       "    <tr>\n",
       "      <th>806</th>\n",
       "      <td>860.210355</td>\n",
       "    </tr>\n",
       "    <tr>\n",
       "      <th>807</th>\n",
       "      <td>860.313299</td>\n",
       "    </tr>\n",
       "    <tr>\n",
       "      <th>808</th>\n",
       "      <td>860.385536</td>\n",
       "    </tr>\n",
       "    <tr>\n",
       "      <th>809</th>\n",
       "      <td>860.453294</td>\n",
       "    </tr>\n",
       "    <tr>\n",
       "      <th>810</th>\n",
       "      <td>860.641486</td>\n",
       "    </tr>\n",
       "    <tr>\n",
       "      <th>811</th>\n",
       "      <td>861.058929</td>\n",
       "    </tr>\n",
       "    <tr>\n",
       "      <th>812</th>\n",
       "      <td>861.114162</td>\n",
       "    </tr>\n",
       "    <tr>\n",
       "      <th>813</th>\n",
       "      <td>862.514652</td>\n",
       "    </tr>\n",
       "    <tr>\n",
       "      <th>814</th>\n",
       "      <td>862.767856</td>\n",
       "    </tr>\n",
       "    <tr>\n",
       "      <th>815</th>\n",
       "      <td>863.159086</td>\n",
       "    </tr>\n",
       "    <tr>\n",
       "      <th>816</th>\n",
       "      <td>863.542258</td>\n",
       "    </tr>\n",
       "    <tr>\n",
       "      <th>817</th>\n",
       "      <td>863.591643</td>\n",
       "    </tr>\n",
       "    <tr>\n",
       "      <th>818</th>\n",
       "      <td>864.033697</td>\n",
       "    </tr>\n",
       "    <tr>\n",
       "      <th>819</th>\n",
       "      <td>864.129615</td>\n",
       "    </tr>\n",
       "    <tr>\n",
       "      <th>820</th>\n",
       "      <td>864.658845</td>\n",
       "    </tr>\n",
       "    <tr>\n",
       "      <th>821</th>\n",
       "      <td>868.313028</td>\n",
       "    </tr>\n",
       "    <tr>\n",
       "      <th>822</th>\n",
       "      <td>868.343944</td>\n",
       "    </tr>\n",
       "    <tr>\n",
       "      <th>823</th>\n",
       "      <td>868.565499</td>\n",
       "    </tr>\n",
       "    <tr>\n",
       "      <th>824</th>\n",
       "      <td>868.688889</td>\n",
       "    </tr>\n",
       "    <tr>\n",
       "      <th>825</th>\n",
       "      <td>869.393967</td>\n",
       "    </tr>\n",
       "    <tr>\n",
       "      <th>826</th>\n",
       "      <td>870.282627</td>\n",
       "    </tr>\n",
       "    <tr>\n",
       "      <th>827</th>\n",
       "      <td>870.389397</td>\n",
       "    </tr>\n",
       "    <tr>\n",
       "      <th>828</th>\n",
       "      <td>870.748803</td>\n",
       "    </tr>\n",
       "    <tr>\n",
       "      <th>829</th>\n",
       "      <td>871.280308</td>\n",
       "    </tr>\n",
       "    <tr>\n",
       "      <th>830</th>\n",
       "      <td>871.463006</td>\n",
       "    </tr>\n",
       "    <tr>\n",
       "      <th>831</th>\n",
       "      <td>871.849991</td>\n",
       "    </tr>\n",
       "    <tr>\n",
       "      <th>832</th>\n",
       "      <td>872.330306</td>\n",
       "    </tr>\n",
       "    <tr>\n",
       "      <th>833</th>\n",
       "      <td>874.499995</td>\n",
       "    </tr>\n",
       "    <tr>\n",
       "      <th>834</th>\n",
       "      <td>875.429608</td>\n",
       "    </tr>\n",
       "    <tr>\n",
       "      <th>835</th>\n",
       "      <td>875.798941</td>\n",
       "    </tr>\n",
       "    <tr>\n",
       "      <th>836</th>\n",
       "      <td>876.081480</td>\n",
       "    </tr>\n",
       "    <tr>\n",
       "      <th>837</th>\n",
       "      <td>879.068113</td>\n",
       "    </tr>\n",
       "    <tr>\n",
       "      <th>838</th>\n",
       "      <td>879.068113</td>\n",
       "    </tr>\n",
       "    <tr>\n",
       "      <th>839</th>\n",
       "      <td>880.817440</td>\n",
       "    </tr>\n",
       "  </tbody>\n",
       "</table>\n",
       "</div>"
      ],
      "text/plain": [
       "              0\n",
       "800  857.444452\n",
       "801  857.444452\n",
       "802  857.794273\n",
       "803  858.427478\n",
       "804  859.166223\n",
       "805  859.994929\n",
       "806  860.210355\n",
       "807  860.313299\n",
       "808  860.385536\n",
       "809  860.453294\n",
       "810  860.641486\n",
       "811  861.058929\n",
       "812  861.114162\n",
       "813  862.514652\n",
       "814  862.767856\n",
       "815  863.159086\n",
       "816  863.542258\n",
       "817  863.591643\n",
       "818  864.033697\n",
       "819  864.129615\n",
       "820  864.658845\n",
       "821  868.313028\n",
       "822  868.343944\n",
       "823  868.565499\n",
       "824  868.688889\n",
       "825  869.393967\n",
       "826  870.282627\n",
       "827  870.389397\n",
       "828  870.748803\n",
       "829  871.280308\n",
       "830  871.463006\n",
       "831  871.849991\n",
       "832  872.330306\n",
       "833  874.499995\n",
       "834  875.429608\n",
       "835  875.798941\n",
       "836  876.081480\n",
       "837  879.068113\n",
       "838  879.068113\n",
       "839  880.817440"
      ]
     },
     "execution_count": 200,
     "metadata": {},
     "output_type": "execute_result"
    }
   ],
   "source": [
    "a = pd.DataFrame(np.sort(min_not_shared))\n",
    "a[800:].head(40)"
   ]
  },
  {
   "cell_type": "code",
   "execution_count": 187,
   "metadata": {
    "collapsed": true
   },
   "outputs": [
    {
     "data": {
      "text/plain": [
       "[<matplotlib.lines.Line2D at 0x7fe21ea32610>]"
      ]
     },
     "execution_count": 187,
     "metadata": {},
     "output_type": "execute_result"
    },
    {
     "data": {
      "image/png": "[encoded data removed]",
      "text/plain": [
       "<matplotlib.figure.Figure at 0x7fe21f7c37d0>"
      ]
     },
     "metadata": {},
     "output_type": "display_data"
    }
   ],
   "source": [
    "plt.plot(np.sort(min_not_shared))"
   ]
  },
  {
   "cell_type": "markdown",
   "metadata": {},
   "source": [
    "### Prueba de tiempo de cuanto afecta calcular la distancia"
   ]
  },
  {
   "cell_type": "code",
   "execution_count": 156,
   "metadata": {
    "collapsed": false
   },
   "outputs": [
    {
     "name": "stdout",
     "output_type": "stream",
     "text": [
      "0.910485029221\n"
     ]
    }
   ],
   "source": [
    "a_matrix = np.ones((limit, limit)) * -1\n",
    "init_time = time.time()\n",
    "shared = []\n",
    "for i in range(limit):\n",
    "    an_id = ids_abril[i]\n",
    "    rois_abril = abril_the_rois[i]\n",
    "    rois_septiembre = septiembre_the_rois[i]\n",
    "    share_RoIs = share_rois(rois_abril[0],rois_septiembre[0])\n",
    "    shared.append(share_RoIs)\n",
    "    abril_sequence = abril_vectors[i]\n",
    "    septiembre_sequence = septiembre_vectors[i]\n",
    "    dist = np.linalg.norm(np.asarray(abril_sequence)-np.asarray(septiembre_sequence))\n",
    "delta_time = time.time() - init_time\n",
    "print delta_time"
   ]
  },
  {
   "cell_type": "code",
   "execution_count": 151,
   "metadata": {
    "collapsed": false
   },
   "outputs": [
    {
     "data": {
      "text/plain": [
       "73.85287203391393"
      ]
     },
     "execution_count": 151,
     "metadata": {},
     "output_type": "execute_result"
    }
   ],
   "source": [
    "delta_time/60"
   ]
  },
  {
   "cell_type": "code",
   "execution_count": 162,
   "metadata": {
    "collapsed": false
   },
   "outputs": [
    {
     "name": "stdout",
     "output_type": "stream",
     "text": [
      "5169\n"
     ]
    },
    {
     "data": {
      "text/plain": [
       "(array([  815.,  2377.,  1956.,    21.]),\n",
       " array([0, 1, 2, 3, 4]),\n",
       " <a list of 4 Patch objects>)"
      ]
     },
     "execution_count": 162,
     "metadata": {},
     "output_type": "execute_result"
    },
    {
     "data": {
      "image/png": "[encoded data removed]",
      "text/plain": [
       "<matplotlib.figure.Figure at 0x7fe220dd8c50>"
      ]
     },
     "metadata": {},
     "output_type": "display_data"
    }
   ],
   "source": [
    "print len(shared)\n",
    "plt.hist(shared,[0,1,2,3,4])"
   ]
  },
  {
   "cell_type": "code",
   "execution_count": 204,
   "metadata": {
    "collapsed": true
   },
   "outputs": [],
   "source": [
    "with open('distance_meters_data.pickle', 'w') as f:\n",
    "    pickle.dump(a_matrix, f)"
   ]
  },
  {
   "cell_type": "code",
   "execution_count": 205,
   "metadata": {
    "collapsed": true
   },
   "outputs": [],
   "source": [
    "identified_indexs = [] #almacena los indices de que secuencia fue seleccionada como match\n",
    "wrong_indexs = [] # almacena los indices de los que se clasificaron incorrectamente\n",
    "correct_indexs = [] # almacena los indices de los que se clasificaron correctamente\n",
    "selected_distance = [] # almacena la distancia de los seleccionados\n",
    "n_identified = 0\n",
    "for i in range(limit):\n",
    "    the_index = np.argmax(a_matrix[:,i])\n",
    "    selected_distance.append(np.max(a_matrix[:,i]))\n",
    "    identified_indexs.append(the_index)\n",
    "    if(the_index!=i):\n",
    "        wrong_indexs.append(the_index)\n",
    "    else:\n",
    "        correct_indexs.append(the_index)\n",
    "        n_identified += 1\n"
   ]
  },
  {
   "cell_type": "code",
   "execution_count": 206,
   "metadata": {
    "collapsed": true
   },
   "outputs": [],
   "source": [
    "shared_rois_2_month = 0\n",
    "changed_behaviour = []\n",
    "for i in range(limit):\n",
    "    if a_matrix[i,i] != -1:\n",
    "        shared_rois_2_month += 1\n",
    "    else:\n",
    "        changed_behaviour.append(i)"
   ]
  },
  {
   "cell_type": "code",
   "execution_count": 207,
   "metadata": {
    "collapsed": false
   },
   "outputs": [
    {
     "name": "stdout",
     "output_type": "stream",
     "text": [
      "93.38%\n"
     ]
    }
   ],
   "source": [
    "print str(round(shared_rois_2_month*100/limit,2)) + \"%\""
   ]
  },
  {
   "cell_type": "code",
   "execution_count": 208,
   "metadata": {
    "collapsed": true
   },
   "outputs": [
    {
     "data": {
      "text/plain": [
       "[7,\n",
       " 16,\n",
       " 35,\n",
       " 50,\n",
       " 56,\n",
       " 67,\n",
       " 76,\n",
       " 78,\n",
       " 92,\n",
       " 107,\n",
       " 144,\n",
       " 146,\n",
       " 153,\n",
       " 156,\n",
       " 157,\n",
       " 173,\n",
       " 214,\n",
       " 215,\n",
       " 276,\n",
       " 321,\n",
       " 324,\n",
       " 357,\n",
       " 361,\n",
       " 372,\n",
       " 404,\n",
       " 413,\n",
       " 420,\n",
       " 423,\n",
       " 433,\n",
       " 450,\n",
       " 454,\n",
       " 458,\n",
       " 481,\n",
       " 488,\n",
       " 491,\n",
       " 507,\n",
       " 511,\n",
       " 539,\n",
       " 540,\n",
       " 549,\n",
       " 554,\n",
       " 555,\n",
       " 570,\n",
       " 582,\n",
       " 590,\n",
       " 594,\n",
       " 598,\n",
       " 632,\n",
       " 646,\n",
       " 656,\n",
       " 679,\n",
       " 685,\n",
       " 694,\n",
       " 695,\n",
       " 705,\n",
       " 742,\n",
       " 745,\n",
       " 747,\n",
       " 757,\n",
       " 774,\n",
       " 799,\n",
       " 811,\n",
       " 812,\n",
       " 819,\n",
       " 821,\n",
       " 824,\n",
       " 837,\n",
       " 890,\n",
       " 919,\n",
       " 921,\n",
       " 952,\n",
       " 953,\n",
       " 960,\n",
       " 967,\n",
       " 978,\n",
       " 1004,\n",
       " 1009,\n",
       " 1019,\n",
       " 1059,\n",
       " 1079,\n",
       " 1089,\n",
       " 1096,\n",
       " 1098,\n",
       " 1142,\n",
       " 1165,\n",
       " 1194,\n",
       " 1199,\n",
       " 1207,\n",
       " 1218,\n",
       " 1237,\n",
       " 1259,\n",
       " 1268,\n",
       " 1273,\n",
       " 1274,\n",
       " 1282,\n",
       " 1285,\n",
       " 1286,\n",
       " 1287,\n",
       " 1305,\n",
       " 1316,\n",
       " 1327,\n",
       " 1329,\n",
       " 1335,\n",
       " 1338,\n",
       " 1348,\n",
       " 1358,\n",
       " 1380,\n",
       " 1392,\n",
       " 1400,\n",
       " 1407,\n",
       " 1425,\n",
       " 1443,\n",
       " 1456,\n",
       " 1464,\n",
       " 1472,\n",
       " 1473,\n",
       " 1502,\n",
       " 1509,\n",
       " 1521,\n",
       " 1526,\n",
       " 1532,\n",
       " 1535,\n",
       " 1549,\n",
       " 1555,\n",
       " 1563,\n",
       " 1566,\n",
       " 1581,\n",
       " 1601,\n",
       " 1606,\n",
       " 1607,\n",
       " 1610,\n",
       " 1611,\n",
       " 1627,\n",
       " 1655,\n",
       " 1666,\n",
       " 1680,\n",
       " 1684,\n",
       " 1690,\n",
       " 1691,\n",
       " 1702,\n",
       " 1703,\n",
       " 1706,\n",
       " 1711,\n",
       " 1731,\n",
       " 1768,\n",
       " 1776,\n",
       " 1814,\n",
       " 1821,\n",
       " 1832,\n",
       " 1872,\n",
       " 1885,\n",
       " 1887,\n",
       " 1890,\n",
       " 1895,\n",
       " 1911,\n",
       " 1924,\n",
       " 1936,\n",
       " 1937,\n",
       " 1951,\n",
       " 1977,\n",
       " 1992,\n",
       " 2000,\n",
       " 2019,\n",
       " 2043,\n",
       " 2056,\n",
       " 2059,\n",
       " 2073,\n",
       " 2076,\n",
       " 2093,\n",
       " 2135,\n",
       " 2149,\n",
       " 2182,\n",
       " 2184,\n",
       " 2186,\n",
       " 2201,\n",
       " 2215,\n",
       " 2225,\n",
       " 2226,\n",
       " 2227,\n",
       " 2228,\n",
       " 2230,\n",
       " 2233,\n",
       " 2239,\n",
       " 2246,\n",
       " 2256,\n",
       " 2261,\n",
       " 2263,\n",
       " 2274,\n",
       " 2277,\n",
       " 2278,\n",
       " 2286,\n",
       " 2302,\n",
       " 2305,\n",
       " 2309,\n",
       " 2316,\n",
       " 2333,\n",
       " 2334,\n",
       " 2348,\n",
       " 2376,\n",
       " 2407,\n",
       " 2408,\n",
       " 2411,\n",
       " 2427,\n",
       " 2468,\n",
       " 2471,\n",
       " 2536,\n",
       " 2559,\n",
       " 2609,\n",
       " 2673,\n",
       " 2682,\n",
       " 2701,\n",
       " 2740,\n",
       " 2771,\n",
       " 2797,\n",
       " 2800,\n",
       " 2808,\n",
       " 2875,\n",
       " 2877,\n",
       " 2899,\n",
       " 2915,\n",
       " 2924,\n",
       " 2943,\n",
       " 2958,\n",
       " 2976,\n",
       " 2982,\n",
       " 2993,\n",
       " 2996,\n",
       " 3016,\n",
       " 3021,\n",
       " 3126,\n",
       " 3139,\n",
       " 3172,\n",
       " 3200,\n",
       " 3216,\n",
       " 3217,\n",
       " 3225,\n",
       " 3227,\n",
       " 3231,\n",
       " 3250,\n",
       " 3254,\n",
       " 3258,\n",
       " 3295,\n",
       " 3297,\n",
       " 3310,\n",
       " 3329,\n",
       " 3332,\n",
       " 3333,\n",
       " 3335,\n",
       " 3367,\n",
       " 3408,\n",
       " 3430,\n",
       " 3458,\n",
       " 3463,\n",
       " 3464,\n",
       " 3476,\n",
       " 3479,\n",
       " 3495,\n",
       " 3509,\n",
       " 3514,\n",
       " 3532,\n",
       " 3545,\n",
       " 3592,\n",
       " 3612,\n",
       " 3615,\n",
       " 3627,\n",
       " 3633,\n",
       " 3646,\n",
       " 3657,\n",
       " 3688,\n",
       " 3707,\n",
       " 3720,\n",
       " 3736,\n",
       " 3740,\n",
       " 3798,\n",
       " 3852,\n",
       " 3895,\n",
       " 3920,\n",
       " 3924,\n",
       " 3963,\n",
       " 3979,\n",
       " 3990,\n",
       " 4003,\n",
       " 4016,\n",
       " 4024,\n",
       " 4031,\n",
       " 4048,\n",
       " 4054,\n",
       " 4064,\n",
       " 4074,\n",
       " 4096,\n",
       " 4144,\n",
       " 4146,\n",
       " 4195,\n",
       " 4226,\n",
       " 4260,\n",
       " 4267,\n",
       " 4310,\n",
       " 4315,\n",
       " 4328,\n",
       " 4350,\n",
       " 4358,\n",
       " 4380,\n",
       " 4416,\n",
       " 4425,\n",
       " 4432,\n",
       " 4441,\n",
       " 4444,\n",
       " 4451,\n",
       " 4453,\n",
       " 4526,\n",
       " 4533,\n",
       " 4558,\n",
       " 4590,\n",
       " 4604,\n",
       " 4614,\n",
       " 4618,\n",
       " 4625,\n",
       " 4630,\n",
       " 4694,\n",
       " 4701,\n",
       " 4704,\n",
       " 4755,\n",
       " 4771,\n",
       " 4792,\n",
       " 4823,\n",
       " 4826,\n",
       " 4837,\n",
       " 4865,\n",
       " 4884,\n",
       " 4927,\n",
       " 4955,\n",
       " 4969,\n",
       " 4973,\n",
       " 4995,\n",
       " 5052,\n",
       " 5063,\n",
       " 5115,\n",
       " 5127,\n",
       " 5134,\n",
       " 5148,\n",
       " 5151,\n",
       " 5155]"
      ]
     },
     "execution_count": 208,
     "metadata": {},
     "output_type": "execute_result"
    }
   ],
   "source": [
    "changed_behaviour"
   ]
  },
  {
   "cell_type": "code",
   "execution_count": 120,
   "metadata": {
    "collapsed": false,
    "scrolled": true
   },
   "outputs": [
    {
     "data": {
      "text/plain": [
       "815"
      ]
     },
     "execution_count": 120,
     "metadata": {},
     "output_type": "execute_result"
    }
   ],
   "source": [
    "len(changed_behaviour)"
   ]
  },
  {
   "cell_type": "code",
   "execution_count": 114,
   "metadata": {
    "collapsed": false
   },
   "outputs": [
    {
     "data": {
      "text/plain": [
       "1320506"
      ]
     },
     "execution_count": 114,
     "metadata": {},
     "output_type": "execute_result"
    }
   ],
   "source": [
    "ids_abril[7]"
   ]
  },
  {
   "cell_type": "code",
   "execution_count": 115,
   "metadata": {
    "collapsed": true
   },
   "outputs": [
    {
     "data": {
      "text/html": [
       "<div>\n",
       "<table border=\"1\" class=\"dataframe\">\n",
       "  <thead>\n",
       "    <tr style=\"text-align: right;\">\n",
       "      <th></th>\n",
       "      <th>par_subida</th>\n",
       "    </tr>\n",
       "    <tr>\n",
       "      <th>id</th>\n",
       "      <th></th>\n",
       "    </tr>\n",
       "  </thead>\n",
       "  <tbody>\n",
       "    <tr>\n",
       "      <th>1320506</th>\n",
       "      <td>UNIVERSIDAD DE SANTIAGO</td>\n",
       "    </tr>\n",
       "    <tr>\n",
       "      <th>1320506</th>\n",
       "      <td>I-26-228-SN-25</td>\n",
       "    </tr>\n",
       "    <tr>\n",
       "      <th>1320506</th>\n",
       "      <td>L-30-64-PO-25</td>\n",
       "    </tr>\n",
       "    <tr>\n",
       "      <th>1320506</th>\n",
       "      <td>LA CISTERNA</td>\n",
       "    </tr>\n",
       "    <tr>\n",
       "      <th>1320506</th>\n",
       "      <td>T-20-188-NS-10</td>\n",
       "    </tr>\n",
       "    <tr>\n",
       "      <th>1320506</th>\n",
       "      <td>T-20-188-NS-5</td>\n",
       "    </tr>\n",
       "    <tr>\n",
       "      <th>1320506</th>\n",
       "      <td>T-20-188-NS-10</td>\n",
       "    </tr>\n",
       "    <tr>\n",
       "      <th>1320506</th>\n",
       "      <td>UNIVERSIDAD DE CHILE</td>\n",
       "    </tr>\n",
       "    <tr>\n",
       "      <th>1320506</th>\n",
       "      <td>T-20-188-NS-10</td>\n",
       "    </tr>\n",
       "    <tr>\n",
       "      <th>1320506</th>\n",
       "      <td>T-20-73-OP-10</td>\n",
       "    </tr>\n",
       "    <tr>\n",
       "      <th>1320506</th>\n",
       "      <td>T-20-188-NS-10</td>\n",
       "    </tr>\n",
       "    <tr>\n",
       "      <th>1320506</th>\n",
       "      <td>BELLAS ARTES</td>\n",
       "    </tr>\n",
       "    <tr>\n",
       "      <th>1320506</th>\n",
       "      <td>L-33-56-OP-110</td>\n",
       "    </tr>\n",
       "    <tr>\n",
       "      <th>1320506</th>\n",
       "      <td>LOS QUILLAYES</td>\n",
       "    </tr>\n",
       "    <tr>\n",
       "      <th>1320506</th>\n",
       "      <td>SANTA ISABEL</td>\n",
       "    </tr>\n",
       "  </tbody>\n",
       "</table>\n",
       "</div>"
      ],
      "text/plain": [
       "                      par_subida\n",
       "id                              \n",
       "1320506  UNIVERSIDAD DE SANTIAGO\n",
       "1320506           I-26-228-SN-25\n",
       "1320506            L-30-64-PO-25\n",
       "1320506              LA CISTERNA\n",
       "1320506           T-20-188-NS-10\n",
       "1320506            T-20-188-NS-5\n",
       "1320506           T-20-188-NS-10\n",
       "1320506     UNIVERSIDAD DE CHILE\n",
       "1320506           T-20-188-NS-10\n",
       "1320506            T-20-73-OP-10\n",
       "1320506           T-20-188-NS-10\n",
       "1320506             BELLAS ARTES\n",
       "1320506           L-33-56-OP-110\n",
       "1320506            LOS QUILLAYES\n",
       "1320506             SANTA ISABEL"
      ]
     },
     "execution_count": 115,
     "metadata": {},
     "output_type": "execute_result"
    }
   ],
   "source": [
    "datos_abril.loc[datos_abril.id==ids_abril[7]][['par_subida']]"
   ]
  },
  {
   "cell_type": "code",
   "execution_count": 116,
   "metadata": {
    "collapsed": true
   },
   "outputs": [
    {
     "data": {
      "text/html": [
       "<div>\n",
       "<table border=\"1\" class=\"dataframe\">\n",
       "  <thead>\n",
       "    <tr style=\"text-align: right;\">\n",
       "      <th></th>\n",
       "      <th>par_subida</th>\n",
       "    </tr>\n",
       "    <tr>\n",
       "      <th>id</th>\n",
       "      <th></th>\n",
       "    </tr>\n",
       "  </thead>\n",
       "  <tbody>\n",
       "    <tr>\n",
       "      <th>1320506</th>\n",
       "      <td>E-20-291-PO-5</td>\n",
       "    </tr>\n",
       "    <tr>\n",
       "      <th>1320506</th>\n",
       "      <td>E-14-110-SN-75</td>\n",
       "    </tr>\n",
       "    <tr>\n",
       "      <th>1320506</th>\n",
       "      <td>T-4-19-SN-4</td>\n",
       "    </tr>\n",
       "    <tr>\n",
       "      <th>1320506</th>\n",
       "      <td>L-1-11-NS-5</td>\n",
       "    </tr>\n",
       "    <tr>\n",
       "      <th>1320506</th>\n",
       "      <td>E-20-291-PO-5</td>\n",
       "    </tr>\n",
       "    <tr>\n",
       "      <th>1320506</th>\n",
       "      <td>T-14-135-OP-10</td>\n",
       "    </tr>\n",
       "    <tr>\n",
       "      <th>1320506</th>\n",
       "      <td>E-20-291-PO-15</td>\n",
       "    </tr>\n",
       "    <tr>\n",
       "      <th>1320506</th>\n",
       "      <td>L-1-13-PO-25</td>\n",
       "    </tr>\n",
       "    <tr>\n",
       "      <th>1320506</th>\n",
       "      <td>E-20-291-PO-5</td>\n",
       "    </tr>\n",
       "    <tr>\n",
       "      <th>1320506</th>\n",
       "      <td>TOBALABA</td>\n",
       "    </tr>\n",
       "    <tr>\n",
       "      <th>1320506</th>\n",
       "      <td>T-14-127-NS-4</td>\n",
       "    </tr>\n",
       "    <tr>\n",
       "      <th>1320506</th>\n",
       "      <td>L-1-11-NS-5</td>\n",
       "    </tr>\n",
       "    <tr>\n",
       "      <th>1320506</th>\n",
       "      <td>E-20-291-PO-5</td>\n",
       "    </tr>\n",
       "    <tr>\n",
       "      <th>1320506</th>\n",
       "      <td>TOBALABA</td>\n",
       "    </tr>\n",
       "    <tr>\n",
       "      <th>1320506</th>\n",
       "      <td>E-20-205-SN-65</td>\n",
       "    </tr>\n",
       "    <tr>\n",
       "      <th>1320506</th>\n",
       "      <td>L-1-11-NS-5</td>\n",
       "    </tr>\n",
       "    <tr>\n",
       "      <th>1320506</th>\n",
       "      <td>T-1-3-SN-3</td>\n",
       "    </tr>\n",
       "    <tr>\n",
       "      <th>1320506</th>\n",
       "      <td>T-2-3-NS-4</td>\n",
       "    </tr>\n",
       "  </tbody>\n",
       "</table>\n",
       "</div>"
      ],
      "text/plain": [
       "             par_subida\n",
       "id                     \n",
       "1320506   E-20-291-PO-5\n",
       "1320506  E-14-110-SN-75\n",
       "1320506     T-4-19-SN-4\n",
       "1320506     L-1-11-NS-5\n",
       "1320506   E-20-291-PO-5\n",
       "1320506  T-14-135-OP-10\n",
       "1320506  E-20-291-PO-15\n",
       "1320506    L-1-13-PO-25\n",
       "1320506   E-20-291-PO-5\n",
       "1320506        TOBALABA\n",
       "1320506   T-14-127-NS-4\n",
       "1320506     L-1-11-NS-5\n",
       "1320506   E-20-291-PO-5\n",
       "1320506        TOBALABA\n",
       "1320506  E-20-205-SN-65\n",
       "1320506     L-1-11-NS-5\n",
       "1320506      T-1-3-SN-3\n",
       "1320506      T-2-3-NS-4"
      ]
     },
     "execution_count": 116,
     "metadata": {},
     "output_type": "execute_result"
    }
   ],
   "source": [
    "datos_septiembre.loc[datos_septiembre.id==ids_abril[7]][['par_subida']]"
   ]
  },
  {
   "cell_type": "code",
   "execution_count": 209,
   "metadata": {
    "collapsed": false
   },
   "outputs": [
    {
     "name": "stdout",
     "output_type": "stream",
     "text": [
      "21.09%\n"
     ]
    }
   ],
   "source": [
    "porcentaje_correcto = n_identified*100/limit\n",
    "print str(round(porcentaje_correcto,2))+ \"%\""
   ]
  },
  {
   "cell_type": "code",
   "execution_count": 210,
   "metadata": {
    "collapsed": false
   },
   "outputs": [
    {
     "data": {
      "text/plain": [
       "2"
      ]
     },
     "execution_count": 210,
     "metadata": {},
     "output_type": "execute_result"
    }
   ],
   "source": [
    "shared[0]"
   ]
  },
  {
   "cell_type": "code",
   "execution_count": 118,
   "metadata": {
    "collapsed": true
   },
   "outputs": [
    {
     "data": {
      "text/plain": [
       "(array([   42.,    40.,    99.,   240.,   509.,  1064.,  1359.,  1169.,\n",
       "          499.,   148.]),\n",
       " array([-1.        , -0.91285182, -0.82570364, -0.73855546, -0.65140729,\n",
       "        -0.56425911, -0.47711093, -0.38996275, -0.30281457, -0.21566639,\n",
       "        -0.12851821]),\n",
       " <a list of 10 Patch objects>)"
      ]
     },
     "execution_count": 118,
     "metadata": {},
     "output_type": "execute_result"
    },
    {
     "data": {
      "image/png": "[encoded data removed]",
      "text/plain": [
       "<matplotlib.figure.Figure at 0x7fe220e4dad0>"
      ]
     },
     "metadata": {},
     "output_type": "display_data"
    }
   ],
   "source": [
    "plt.hist(selected_distance)"
   ]
  },
  {
   "cell_type": "code",
   "execution_count": 119,
   "metadata": {
    "collapsed": true
   },
   "outputs": [
    {
     "ename": "NameError",
     "evalue": "name 'correct' is not defined",
     "output_type": "error",
     "traceback": [
      "\u001b[1;31m---------------------------------------------------------------------------\u001b[0m",
      "\u001b[1;31mNameError\u001b[0m                                 Traceback (most recent call last)",
      "\u001b[1;32m<ipython-input-119-2775db3243c0>\u001b[0m in \u001b[0;36m<module>\u001b[1;34m()\u001b[0m\n\u001b[1;32m----> 1\u001b[1;33m \u001b[0mplt\u001b[0m\u001b[1;33m.\u001b[0m\u001b[0mhist\u001b[0m\u001b[1;33m(\u001b[0m\u001b[0mcorrect\u001b[0m\u001b[1;33m)\u001b[0m\u001b[1;33m\u001b[0m\u001b[0m\n\u001b[0m",
      "\u001b[1;31mNameError\u001b[0m: name 'correct' is not defined"
     ]
    }
   ],
   "source": [
    "plt.hist(correct)"
   ]
  },
  {
   "cell_type": "code",
   "execution_count": 123,
   "metadata": {
    "collapsed": true
   },
   "outputs": [],
   "source": [
    "from scipy.cluster.hierarchy import linkage, fcluster\n",
    "from scipy.spatial.distance import pdist"
   ]
  },
  {
   "cell_type": "code",
   "execution_count": 125,
   "metadata": {
    "collapsed": false
   },
   "outputs": [
    {
     "data": {
      "text/plain": [
       "array([[-33.52627673, -70.63555144],\n",
       "       [-33.43411554, -70.64810407],\n",
       "       [-33.40597083, -70.59837899],\n",
       "       [-33.52915693, -70.63529341],\n",
       "       [-33.40370241, -70.5959504 ]])"
      ]
     },
     "execution_count": 125,
     "metadata": {},
     "output_type": "execute_result"
    }
   ],
   "source": [
    "latlong_points = tfe.get_latlong_points(test_sequence_0)\n",
    "latlong_points[0]"
   ]
  },
  {
   "cell_type": "code",
   "execution_count": 137,
   "metadata": {
    "collapsed": false
   },
   "outputs": [],
   "source": [
    "Z_euclidean = linkage(latlong_points[0],'ward')\n",
    "clusters_euclidean = fcluster(Z_euclidean,0.02,criterion='distance')"
   ]
  },
  {
   "cell_type": "code",
   "execution_count": 138,
   "metadata": {
    "collapsed": false
   },
   "outputs": [],
   "source": [
    "meters_distance = pdist(latlong_points[0],lambda x,y: vincenty(x,y).meters)"
   ]
  },
  {
   "cell_type": "code",
   "execution_count": 145,
   "metadata": {
    "collapsed": false
   },
   "outputs": [],
   "source": [
    "Z_meters = linkage(latlong_points[0],'weighted',lambda x,y: vincenty(x,y).meters)\n",
    "clusters_meters = fcluster(Z_meters,500,criterion='distance')"
   ]
  },
  {
   "cell_type": "code",
   "execution_count": 146,
   "metadata": {
    "collapsed": false
   },
   "outputs": [
    {
     "data": {
      "text/plain": [
       "array([1, 3, 2, 1, 2], dtype=int32)"
      ]
     },
     "execution_count": 146,
     "metadata": {},
     "output_type": "execute_result"
    }
   ],
   "source": [
    "clusters_euclidean"
   ]
  },
  {
   "cell_type": "code",
   "execution_count": 147,
   "metadata": {
    "collapsed": false
   },
   "outputs": [
    {
     "data": {
      "text/plain": [
       "array([1, 5, 3, 2, 4], dtype=int32)"
      ]
     },
     "execution_count": 147,
     "metadata": {},
     "output_type": "execute_result"
    }
   ],
   "source": [
    "clusters_meters"
   ]
  },
  {
   "cell_type": "code",
   "execution_count": 149,
   "metadata": {
    "collapsed": false
   },
   "outputs": [
    {
     "data": {
      "text/html": [
       "<div>\n",
       "<table border=\"1\" class=\"dataframe\">\n",
       "  <thead>\n",
       "    <tr style=\"text-align: right;\">\n",
       "      <th></th>\n",
       "      <th>0</th>\n",
       "      <th>1</th>\n",
       "      <th>2</th>\n",
       "      <th>3</th>\n",
       "    </tr>\n",
       "  </thead>\n",
       "  <tbody>\n",
       "    <tr>\n",
       "      <th>0</th>\n",
       "      <td>0</td>\n",
       "      <td>3</td>\n",
       "      <td>0.002892</td>\n",
       "      <td>2</td>\n",
       "    </tr>\n",
       "    <tr>\n",
       "      <th>1</th>\n",
       "      <td>2</td>\n",
       "      <td>4</td>\n",
       "      <td>0.003323</td>\n",
       "      <td>2</td>\n",
       "    </tr>\n",
       "    <tr>\n",
       "      <th>2</th>\n",
       "      <td>1</td>\n",
       "      <td>6</td>\n",
       "      <td>0.067844</td>\n",
       "      <td>3</td>\n",
       "    </tr>\n",
       "    <tr>\n",
       "      <th>3</th>\n",
       "      <td>5</td>\n",
       "      <td>7</td>\n",
       "      <td>0.178319</td>\n",
       "      <td>5</td>\n",
       "    </tr>\n",
       "  </tbody>\n",
       "</table>\n",
       "</div>"
      ],
      "text/plain": [
       "   0  1         2  3\n",
       "0  0  3  0.002892  2\n",
       "1  2  4  0.003323  2\n",
       "2  1  6  0.067844  3\n",
       "3  5  7  0.178319  5"
      ]
     },
     "execution_count": 149,
     "metadata": {},
     "output_type": "execute_result"
    }
   ],
   "source": [
    "m = pd.DataFrame(Z_euclidean)\n",
    "m"
   ]
  },
  {
   "cell_type": "code",
   "execution_count": 150,
   "metadata": {
    "collapsed": false
   },
   "outputs": [
    {
     "data": {
      "text/html": [
       "<div>\n",
       "<table border=\"1\" class=\"dataframe\">\n",
       "  <thead>\n",
       "    <tr style=\"text-align: right;\">\n",
       "      <th></th>\n",
       "      <th>0</th>\n",
       "      <th>1</th>\n",
       "      <th>2</th>\n",
       "      <th>3</th>\n",
       "    </tr>\n",
       "  </thead>\n",
       "  <tbody>\n",
       "    <tr>\n",
       "      <th>0</th>\n",
       "      <td>0</td>\n",
       "      <td>3</td>\n",
       "      <td>320.352521</td>\n",
       "      <td>2</td>\n",
       "    </tr>\n",
       "    <tr>\n",
       "      <th>1</th>\n",
       "      <td>2</td>\n",
       "      <td>4</td>\n",
       "      <td>338.139432</td>\n",
       "      <td>2</td>\n",
       "    </tr>\n",
       "    <tr>\n",
       "      <th>2</th>\n",
       "      <td>1</td>\n",
       "      <td>6</td>\n",
       "      <td>5744.021444</td>\n",
       "      <td>3</td>\n",
       "    </tr>\n",
       "    <tr>\n",
       "      <th>3</th>\n",
       "      <td>5</td>\n",
       "      <td>7</td>\n",
       "      <td>12266.980859</td>\n",
       "      <td>5</td>\n",
       "    </tr>\n",
       "  </tbody>\n",
       "</table>\n",
       "</div>"
      ],
      "text/plain": [
       "   0  1             2  3\n",
       "0  0  3    320.352521  2\n",
       "1  2  4    338.139432  2\n",
       "2  1  6   5744.021444  3\n",
       "3  5  7  12266.980859  5"
      ]
     },
     "execution_count": 150,
     "metadata": {},
     "output_type": "execute_result"
    }
   ],
   "source": [
    "n = pd.DataFrame(Z_meters)\n",
    "n"
   ]
  },
  {
   "cell_type": "code",
   "execution_count": null,
   "metadata": {
    "collapsed": true
   },
   "outputs": [],
   "source": []
  }
 ],
 "metadata": {
  "kernelspec": {
   "display_name": "Python 2",
   "language": "python",
   "name": "python2"
  },
  "language_info": {
   "codemirror_mode": {
    "name": "ipython",
    "version": 2
   },
   "file_extension": ".py",
   "mimetype": "text/x-python",
   "name": "python",
   "nbconvert_exporter": "python",
   "pygments_lexer": "ipython2",
   "version": "2.7.11"
  }
 },
 "nbformat": 4,
 "nbformat_minor": 0
}
