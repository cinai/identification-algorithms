{
 "cells": [
  {
   "cell_type": "markdown",
   "metadata": {},
   "source": [
    "## Re-extraer features y RoIs para nuevos experimentos"
   ]
  },
  {
   "cell_type": "markdown",
   "metadata": {},
   "source": [
    "### Importar datos"
   ]
  },
  {
   "cell_type": "code",
   "execution_count": 1,
   "metadata": {
    "collapsed": true
   },
   "outputs": [],
   "source": [
    "%matplotlib inline\n",
    "import matplotlib.pyplot as plt\n",
    "import time\n",
    "import datetime as dt\n",
    "import pickle\n",
    "import numpy as np\n",
    "import borrador\n",
    "from __future__ import division\n",
    "from auxiliar_functions import *\n",
    "import tfe\n",
    "from geopy.distance import vincenty\n",
    "from itertools import chain, combinations\n",
    "import random\n",
    "import scipy as sp"
   ]
  },
  {
   "cell_type": "code",
   "execution_count": 190,
   "metadata": {
    "collapsed": false
   },
   "outputs": [
    {
     "data": {
      "text/plain": [
       "<module 'tfe' from 'tfe.py'>"
      ]
     },
     "execution_count": 190,
     "metadata": {},
     "output_type": "execute_result"
    }
   ],
   "source": [
    "reload(tfe)"
   ]
  },
  {
   "cell_type": "code",
   "execution_count": 3,
   "metadata": {
    "collapsed": false
   },
   "outputs": [],
   "source": [
    "datos_abril = pd.read_csv('/home/cata/Documentos/Datois/etapas_2013_abril_allyearsids_10_100000.csv')\n",
    "datos_abril = frame_config(datos_abril)\n",
    "datos_septiembre = pd.read_csv('/home/cata/Documentos/Datois/etapas_2013_septiembre_allyearsids_10_100000.csv')\n",
    "datos_septiembre = frame_config(datos_septiembre)"
   ]
  },
  {
   "cell_type": "markdown",
   "metadata": {},
   "source": [
    "### Reescribir función getfeatures para obtener features por semana y fds y agregar las que faltan"
   ]
  },
  {
   "cell_type": "markdown",
   "metadata": {},
   "source": [
    "#### Features seleccionadas:"
   ]
  },
  {
   "cell_type": "markdown",
   "metadata": {},
   "source": [
    "- time_first_journey_weekday\n",
    "- time_last_journey_weekday\n",
    "- time_first_journey_weekend\n",
    "- time_last_journey_weekend,kmDistance\n",
    "- kmMaxDist\n",
    "- kmMinDist\n",
    "- rg\n",
    "- unc_entropy\n",
    "- random_entropy\n",
    "- percentage_different_first_origin_weekday\n",
    "- percentage_different_last_origin_weekday\n",
    "- percentage_different_first_origin_weekend\n",
    "- percentage_different_last_origin_weekend,card_type\n",
    "- shortest_activity_length_weekday,longest_activity_length_weekday\n",
    "- shortest_activity_length_weekend,longest_activity_length_weekdend\n",
    "- traveled_days,traveled_days_bs\n",
    "- p100_exclusive_bus_days\n",
    "- p100_exclusive_metro_days\n",
    "- P100_bus_trips\n",
    "- mode_n_trips\n",
    "- frequence_regularity\n",
    "- mean_trips_weekdays\n",
    "- mean_trips_weekend\n",
    "- most_frequent_number_of_stages\n"
   ]
  },
  {
   "cell_type": "markdown",
   "metadata": {},
   "source": [
    "#### Extraer Features Abril"
   ]
  },
  {
   "cell_type": "code",
   "execution_count": 179,
   "metadata": {
    "collapsed": false
   },
   "outputs": [
    {
     "data": {
      "text/plain": [
       "5169"
      ]
     },
     "execution_count": 179,
     "metadata": {},
     "output_type": "execute_result"
    }
   ],
   "source": [
    "gb = datos_abril.groupby('id')    \n",
    "df_slices_abril = [gb.get_group(x) for x in gb.groups]\n",
    "len(df_slices_abril)"
   ]
  },
  {
   "cell_type": "code",
   "execution_count": 53,
   "metadata": {
    "collapsed": false
   },
   "outputs": [],
   "source": [
    "the_vectors_abril = []\n",
    "for df_slice in df_slices_abril:\n",
    "    the_vectors_abril.append(tfe.general_feature_extraction(df_slice))"
   ]
  },
  {
   "cell_type": "markdown",
   "metadata": {},
   "source": [
    "#### Extraer Features Septiembre"
   ]
  },
  {
   "cell_type": "code",
   "execution_count": 180,
   "metadata": {
    "collapsed": false
   },
   "outputs": [
    {
     "data": {
      "text/plain": [
       "5344"
      ]
     },
     "execution_count": 180,
     "metadata": {},
     "output_type": "execute_result"
    }
   ],
   "source": [
    "gb = datos_septiembre.groupby('id')    \n",
    "df_slices_sept = [gb.get_group(x) for x in gb.groups]\n",
    "len(df_slices_sept)"
   ]
  },
  {
   "cell_type": "code",
   "execution_count": 58,
   "metadata": {
    "collapsed": true
   },
   "outputs": [],
   "source": [
    "the_vectors_sept = []\n",
    "for df_slice in df_slices_sept:\n",
    "    the_vectors_sep.append(tfe.general_feature_extraction(df_slice))"
   ]
  },
  {
   "cell_type": "markdown",
   "metadata": {},
   "source": [
    "#### Guardar Features Abril y Septiembre"
   ]
  },
  {
   "cell_type": "code",
   "execution_count": 59,
   "metadata": {
    "collapsed": true
   },
   "outputs": [],
   "source": [
    "with open('complete_features_without_norm_abril_sept.pickle','w') as f:\n",
    "    pickle.dump(the_vectors_abril,f)\n",
    "    pickle.dump(the_vectors_sept,f)"
   ]
  },
  {
   "cell_type": "code",
   "execution_count": 68,
   "metadata": {
    "collapsed": false
   },
   "outputs": [
    {
     "name": "stdout",
     "output_type": "stream",
     "text": [
      "<class 'pandas.core.frame.DataFrame'>\n",
      "RangeIndex: 5169 entries, 0 to 5168\n",
      "Data columns (total 29 columns):\n",
      "0     5160 non-null float64\n",
      "1     5158 non-null float64\n",
      "2     3203 non-null float64\n",
      "3     3197 non-null float64\n",
      "4     5169 non-null float64\n",
      "5     5169 non-null float64\n",
      "6     5169 non-null float64\n",
      "7     5169 non-null float64\n",
      "8     5169 non-null float64\n",
      "9     5169 non-null float64\n",
      "10    5158 non-null float64\n",
      "11    5160 non-null float64\n",
      "12    3186 non-null float64\n",
      "13    3200 non-null float64\n",
      "14    5169 non-null int64\n",
      "15    5159 non-null float64\n",
      "16    5159 non-null float64\n",
      "17    3078 non-null float64\n",
      "18    3078 non-null float64\n",
      "19    5169 non-null int64\n",
      "20    5169 non-null int64\n",
      "21    5169 non-null float64\n",
      "22    5169 non-null float64\n",
      "23    5169 non-null float64\n",
      "24    5065 non-null float64\n",
      "25    5169 non-null int64\n",
      "26    5169 non-null float64\n",
      "27    5169 non-null float64\n",
      "28    5168 non-null float64\n",
      "dtypes: float64(25), int64(4)\n",
      "memory usage: 1.1 MB\n"
     ]
    }
   ],
   "source": [
    "df_vector_abril = pd.DataFrame(the_vectors_abril)\n",
    "df_vector_sept = pd.DataFrame(the_vectors_sept)\n",
    "df_vector_abril.info()"
   ]
  },
  {
   "cell_type": "code",
   "execution_count": 70,
   "metadata": {
    "collapsed": false
   },
   "outputs": [],
   "source": [
    "df_vector_abril.to_csv('features_abril_without_norm.csv')\n",
    "df_vector_sept.to_csv('features_sept_without_norm.csv')"
   ]
  },
  {
   "cell_type": "markdown",
   "metadata": {},
   "source": [
    "#### Leer Features"
   ]
  },
  {
   "cell_type": "code",
   "execution_count": 168,
   "metadata": {
    "collapsed": true
   },
   "outputs": [],
   "source": [
    "with open('complete_features_without_norm_abril_sept.pickle','r') as f:\n",
    "    the_vectors_abril = pickle.load(f)\n",
    "    the_vectors_sept =  pickle.load(f)"
   ]
  },
  {
   "cell_type": "markdown",
   "metadata": {},
   "source": [
    "#### Normalizar features"
   ]
  },
  {
   "cell_type": "markdown",
   "metadata": {},
   "source": [
    "#### TODO: me falta revisar en la normalizacion remover outliers"
   ]
  },
  {
   "cell_type": "code",
   "execution_count": 170,
   "metadata": {
    "collapsed": true
   },
   "outputs": [],
   "source": [
    "the_vectors_abril = np.asmatrix(the_vectors_abril)\n",
    "the_vectors_sept = np.asmatrix(the_vectors_sept)"
   ]
  },
  {
   "cell_type": "code",
   "execution_count": 171,
   "metadata": {
    "collapsed": false
   },
   "outputs": [
    {
     "data": {
      "text/plain": [
       "5169"
      ]
     },
     "execution_count": 171,
     "metadata": {},
     "output_type": "execute_result"
    }
   ],
   "source": [
    "limit = np.min((len(the_vectors_abril),len(the_vectors_sept)))\n",
    "limit"
   ]
  },
  {
   "cell_type": "code",
   "execution_count": 172,
   "metadata": {
    "collapsed": true
   },
   "outputs": [],
   "source": [
    "def normalizar(vector):\n",
    "    a_max = np.nanmax(vector)\n",
    "    a_min = np.nanmin(vector)\n",
    "    for i in range(len(vector)):\n",
    "        vector[i] = (vector[i] - a_min)/a_max\n",
    "    return vector "
   ]
  },
  {
   "cell_type": "code",
   "execution_count": 173,
   "metadata": {
    "collapsed": false
   },
   "outputs": [],
   "source": [
    "for i in range(the_vectors_abril.shape[1]):\n",
    "    the_vectors_abril[:,i] = normalizar(the_vectors_abril[:,i])\n",
    "for i in range(the_vectors_sept.shape[1]):\n",
    "    the_vectors_sept[:,i] = normalizar(the_vectors_sept[:,i])"
   ]
  },
  {
   "cell_type": "code",
   "execution_count": 178,
   "metadata": {
    "collapsed": false
   },
   "outputs": [
    {
     "name": "stdout",
     "output_type": "stream",
     "text": [
      "760.583767891\n"
     ]
    }
   ],
   "source": [
    "a_matrix = np.zeros((limit, limit)) \n",
    "init_time = time.time()\n",
    "for i in range(limit):\n",
    "    for j in range(limit):\n",
    "        dist = np.linalg.norm(np.asarray(the_vectors_abril[i])-np.asarray(the_vectors_sept[j]))\n",
    "        a_matrix[i,j] = dist\n",
    "delta_time = time.time()-init_time\n",
    "print delta_time"
   ]
  },
  {
   "cell_type": "code",
   "execution_count": 183,
   "metadata": {
    "collapsed": false
   },
   "outputs": [],
   "source": [
    "asda = pd.DataFrame(a_matrix)"
   ]
  },
  {
   "cell_type": "code",
   "execution_count": 189,
   "metadata": {
    "collapsed": true
   },
   "outputs": [
    {
     "name": "stdout",
     "output_type": "stream",
     "text": [
      "<class 'pandas.core.frame.DataFrame'>\n",
      "RangeIndex: 5169 entries, 0 to 5168\n",
      "Data columns (total 29 columns):\n",
      "0     5160 non-null float64\n",
      "1     5158 non-null float64\n",
      "2     3203 non-null float64\n",
      "3     3197 non-null float64\n",
      "4     5169 non-null float64\n",
      "5     5169 non-null float64\n",
      "6     5169 non-null float64\n",
      "7     5169 non-null float64\n",
      "8     5169 non-null float64\n",
      "9     5169 non-null float64\n",
      "10    5158 non-null float64\n",
      "11    5160 non-null float64\n",
      "12    3186 non-null float64\n",
      "13    3200 non-null float64\n",
      "14    5169 non-null float64\n",
      "15    5159 non-null float64\n",
      "16    5159 non-null float64\n",
      "17    3078 non-null float64\n",
      "18    3078 non-null float64\n",
      "19    5169 non-null float64\n",
      "20    5169 non-null float64\n",
      "21    5169 non-null float64\n",
      "22    5169 non-null float64\n",
      "23    5169 non-null float64\n",
      "24    5065 non-null float64\n",
      "25    5169 non-null float64\n",
      "26    5169 non-null float64\n",
      "27    5169 non-null float64\n",
      "28    5168 non-null float64\n",
      "dtypes: float64(29)\n",
      "memory usage: 1.1 MB\n"
     ]
    }
   ],
   "source": [
    "pd.DataFrame(the_vectors_abril).info()"
   ]
  },
  {
   "cell_type": "markdown",
   "metadata": {},
   "source": [
    "### Extraer Todos los RoIs de todos"
   ]
  },
  {
   "cell_type": "markdown",
   "metadata": {},
   "source": [
    "#### Extraer RoIs abril"
   ]
  },
  {
   "cell_type": "code",
   "execution_count": 191,
   "metadata": {
    "collapsed": false
   },
   "outputs": [
    {
     "name": "stdout",
     "output_type": "stream",
     "text": [
      "26.3120808601\n"
     ]
    }
   ],
   "source": [
    "abril_rois = []\n",
    "init_time = time.time()\n",
    "for df_slice in df_slices_abril:\n",
    "    rois = tfe.get_ROIs(df_slice,1,500)\n",
    "    abril_rois.append(rois)\n",
    "delta_time = time.time()-init_time\n",
    "print delta_time"
   ]
  },
  {
   "cell_type": "markdown",
   "metadata": {},
   "source": [
    "#### Extraer RoIs septiembre"
   ]
  },
  {
   "cell_type": "code",
   "execution_count": 192,
   "metadata": {
    "collapsed": false
   },
   "outputs": [
    {
     "name": "stdout",
     "output_type": "stream",
     "text": [
      "26.6662940979\n"
     ]
    }
   ],
   "source": [
    "septiembre_rois = []\n",
    "init_time = time.time()\n",
    "for df_slice in df_slices_abril:\n",
    "    rois = tfe.get_ROIs(df_slice,1,500)\n",
    "    septiembre_rois.append(rois)\n",
    "delta_time = time.time()-init_time\n",
    "print delta_time\n",
    "    "
   ]
  },
  {
   "cell_type": "markdown",
   "metadata": {},
   "source": [
    "#### Guardar RoIs"
   ]
  },
  {
   "cell_type": "code",
   "execution_count": 195,
   "metadata": {
    "collapsed": false
   },
   "outputs": [],
   "source": [
    "with open('rois_meters_data.pickle', 'w') as f:\n",
    "    pickle.dump(abril_rois, f)\n",
    "    pickle.dump(septiembre_rois, f)"
   ]
  },
  {
   "cell_type": "markdown",
   "metadata": {},
   "source": [
    "#### Leer RoIs"
   ]
  },
  {
   "cell_type": "code",
   "execution_count": null,
   "metadata": {
    "collapsed": true
   },
   "outputs": [],
   "source": [
    "with open('data/rois_meters_data.pickle', 'r') as f:\n",
    "    abril_rois = pickle.load(f)\n",
    "    septiembre_rois = pickle.load(f)"
   ]
  },
  {
   "cell_type": "markdown",
   "metadata": {},
   "source": [
    "#### Graficos"
   ]
  },
  {
   "cell_type": "code",
   "execution_count": 196,
   "metadata": {
    "collapsed": false
   },
   "outputs": [
    {
     "data": {
      "image/png": "[encoded data removed]",
      "text/plain": [
       "<matplotlib.figure.Figure at 0x7fb45e586410>"
      ]
     },
     "metadata": {},
     "output_type": "display_data"
    }
   ],
   "source": [
    "n_of_rois = [len(rois[0]) for rois in abril_rois]\n",
    "d = np.diff(np.unique(n_of_rois)).min()\n",
    "left_of_first_bin = min(n_of_rois) - float(d)/2\n",
    "right_of_last_bin = max(n_of_rois) + float(d)/2\n",
    "plt.hist(n_of_rois, np.arange(left_of_first_bin, right_of_last_bin + d, d))\n",
    "plt.xlabel('Number of RoIs')\n",
    "plt.ylabel('Number of Users')\n",
    "plt.savefig('n_rois_meters_abril.eps', format='eps', dpi=1000)"
   ]
  },
  {
   "cell_type": "markdown",
   "metadata": {},
   "source": [
    "#### Extraer RoIs compartidos"
   ]
  },
  {
   "cell_type": "code",
   "execution_count": 199,
   "metadata": {
    "collapsed": true
   },
   "outputs": [],
   "source": [
    "#Función que identifica cuantos rois comparten dos grupos de rois y cual es la minima distancia que se descarta como\n",
    "#rois compartidos\n",
    "#share_rois: list(dict) list(dict) -> [int,int]\n",
    "def share_rois(rois_a,rois_b):\n",
    "    shared = 0\n",
    "    rois = [rois_a,rois_b]\n",
    "    index = np.argmin([len(rois_a),len(rois_b)])\n",
    "    other_index = abs(index-1)\n",
    "    min_distance = -1\n",
    "    for i in range(len(rois[index])):\n",
    "        an_a_roi = rois[index][i]\n",
    "        lat_a_roi = an_a_roi['lat']\n",
    "        long_a_roi = an_a_roi['long']\n",
    "        for j in range(len(rois[other_index])):\n",
    "            an_b_roi = rois[other_index][j]\n",
    "            lat_b_roi = an_b_roi['lat']\n",
    "            long_b_roi = an_b_roi['long']\n",
    "            a_distance = vincenty((lat_a_roi,long_a_roi),(lat_b_roi,long_b_roi)).meters\n",
    "            if a_distance < 500:\n",
    "                shared +=1\n",
    "            elif min_distance == -1 or min_distance > a_distance:\n",
    "                min_distance = a_distance\n",
    "    return [shared,min_distance]"
   ]
  },
  {
   "cell_type": "code",
   "execution_count": 200,
   "metadata": {
    "collapsed": true
   },
   "outputs": [],
   "source": [
    "#Función que identifica cuantos rois comparten cada par de rois de dos cortes temporales (ct)\n",
    "#get_shared_rois: list(list(dict)) list(list(dict)) -> [[int]] list(int)\n",
    "def get_shared_rois(rois_ct1,rois_ct2,limit):\n",
    "    init_time = time.time()\n",
    "    shared = np.ones((limit, limit)) * -1\n",
    "    min_distance = []\n",
    "    min_distance_not_shared = -1\n",
    "    for i in range(limit):\n",
    "        rois_i = rois_ct1[i]\n",
    "        for j in range(limit):\n",
    "            rois_j = rois_ct2[j]\n",
    "            share_RoIs,min_distance_not_shared = share_rois(rois_i[0],rois_j[0])\n",
    "            if i==j:\n",
    "                min_distance.append(min_distance_not_shared)\n",
    "                min_distance_not_shared = -1\n",
    "            shared[i,j] = share_RoIs\n",
    "    delta_time = time.time() - init_time\n",
    "    print delta_time\n",
    "    return [shared,min_distance]"
   ]
  },
  {
   "cell_type": "code",
   "execution_count": null,
   "metadata": {
    "collapsed": false
   },
   "outputs": [],
   "source": [
    "shared_rois,min_distance = get_shared_rois(abril_rois,septiembre_rois,limit)"
   ]
  },
  {
   "cell_type": "markdown",
   "metadata": {},
   "source": [
    "#### Guardar Shared Rois"
   ]
  },
  {
   "cell_type": "code",
   "execution_count": null,
   "metadata": {
    "collapsed": true
   },
   "outputs": [],
   "source": [
    "with open('shared_all_rois.pickle', 'w') as f:\n",
    "    pickle.dump(shared_rois,f)"
   ]
  }
 ],
 "metadata": {
  "kernelspec": {
   "display_name": "Python 2",
   "language": "python",
   "name": "python2"
  },
  "language_info": {
   "codemirror_mode": {
    "name": "ipython",
    "version": 2
   },
   "file_extension": ".py",
   "mimetype": "text/x-python",
   "name": "python",
   "nbconvert_exporter": "python",
   "pygments_lexer": "ipython2",
   "version": "2.7.11"
  }
 },
 "nbformat": 4,
 "nbformat_minor": 0
}
