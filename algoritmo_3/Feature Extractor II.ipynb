{
 "cells": [
  {
   "cell_type": "code",
   "execution_count": 1,
   "metadata": {
    "collapsed": true
   },
   "outputs": [],
   "source": [
    "%matplotlib inline\n",
    "import matplotlib.pyplot as plt\n",
    "import time\n",
    "import datetime as dt\n",
    "import pickle\n",
    "import numpy as np\n",
    "import borrador\n",
    "from __future__ import division\n",
    "from auxiliar_functions import *\n",
    "import tfe\n",
    "from geopy.distance import vincenty\n",
    "from itertools import chain, combinations\n"
   ]
  },
  {
   "cell_type": "markdown",
   "metadata": {},
   "source": [
    "## Funciones Auxiliares"
   ]
  },
  {
   "cell_type": "code",
   "execution_count": 2,
   "metadata": {
    "collapsed": true
   },
   "outputs": [],
   "source": [
    "#get_neighbours_index: np.matrix int -> np.array\n",
    "#obtiene los vecinos del usuario \"user\",\n",
    "#considerando como vecino a quien comparte dos ubicaciones\n",
    "def get_neighbours_index(rois_a,shared_rois,user,min_shared):\n",
    "    min_shared_x = min(len(rois_a),min_shared)\n",
    "    neighbours = np.where(shared_rois[user] >= min_shared_x)\n",
    "    return neighbours[0]"
   ]
  },
  {
   "cell_type": "code",
   "execution_count": 3,
   "metadata": {
    "collapsed": true
   },
   "outputs": [],
   "source": [
    "#Función que filtra columnas de acuerdo a una lista de indices\n",
    "#filter_features: matrix list -> matrix\n",
    "def filter_features(vector,selected_features):\n",
    "    selected = []\n",
    "    for i in range(len(selected_features)):\n",
    "        selected.append(features_dict[selected_features[i]])\n",
    "    return vector[:,selected]"
   ]
  },
  {
   "cell_type": "code",
   "execution_count": 4,
   "metadata": {
    "collapsed": true
   },
   "outputs": [],
   "source": [
    "#Función que identifica cuantos rois comparten dos grupos de rois y cual es la minima distancia que se descarta como\n",
    "#rois compartidos\n",
    "#share_rois: list(dict) list(dict) -> [int,int]\n",
    "def share_rois(rois_a,rois_b):\n",
    "    shared = 0\n",
    "    rois = [rois_a,rois_b]\n",
    "    index = np.argmin([len(rois_a),len(rois_b)])\n",
    "    other_index = abs(index-1)\n",
    "    min_distance = -1\n",
    "    for i in range(len(rois[index])):\n",
    "        an_a_roi = rois[index][i]\n",
    "        lat_a_roi = an_a_roi['lat']\n",
    "        long_a_roi = an_a_roi['long']\n",
    "        for j in range(len(rois[other_index])):\n",
    "            an_b_roi = rois[other_index][j]\n",
    "            lat_b_roi = an_b_roi['lat']\n",
    "            long_b_roi = an_b_roi['long']\n",
    "            a_distance = vincenty((lat_a_roi,long_a_roi),(lat_b_roi,long_b_roi)).meters\n",
    "            if a_distance < 500:\n",
    "                shared +=1\n",
    "            elif min_distance == -1 or min_distance > a_distance:\n",
    "                min_distance = a_distance\n",
    "    return [shared,min_distance]"
   ]
  },
  {
   "cell_type": "code",
   "execution_count": 5,
   "metadata": {
    "collapsed": true
   },
   "outputs": [],
   "source": [
    "#Función que identifica cuantos rois comparten cada par de rois de dos cortes temporales (ct)\n",
    "#get_shared_rois: list(list(dict)) list(list(dict)) -> [[int]] list(int)\n",
    "def get_shared_rois(rois_ct1,rois_ct2,limit):\n",
    "    init_time = time.time()\n",
    "    shared = np.ones((limit, limit)) * -1\n",
    "    min_distance = []\n",
    "    min_distance_not_shared = -1\n",
    "    for i in range(limit):\n",
    "        rois_i = rois_ct1[i]\n",
    "        for j in range(limit):\n",
    "            rois_j = rois_ct2[j]\n",
    "            share_RoIs,min_distance_not_shared = share_rois(rois_i[0],rois_j[0])\n",
    "            if i==j:\n",
    "                min_distance.append(min_distance_not_shared)\n",
    "                min_distance_not_shared = -1\n",
    "            shared[i,j] = share_RoIs\n",
    "    delta_time = time.time() - init_time\n",
    "    print delta_time\n",
    "    return [shared,min_distance]"
   ]
  },
  {
   "cell_type": "code",
   "execution_count": 6,
   "metadata": {
    "collapsed": true
   },
   "outputs": [],
   "source": [
    "def compare_vectors(vector_a,vector_b,rois_a,rois_b,limit,min_shared):\n",
    "    a_matrix = np.ones((limit, limit)) * -1\n",
    "    init_time = time.time()\n",
    "    shared = []\n",
    "    for i in range(limit):\n",
    "        rois_abril = rois_a[i]\n",
    "        for j in range(limit):\n",
    "            rois_septiembre = rois_b[j]\n",
    "            min_shared_x = min(len(rois_abril),len(rois_septiembre),min_shared)\n",
    "            share_RoIs,min_distance_not_shared = share_rois(rois_abril[0],rois_septiembre[0])\n",
    "            shared.append(share_RoIs)\n",
    "            if share_RoIs >= min_shared_x:\n",
    "                a_sequence = vector_a[i]\n",
    "                b_sequence = vector_b[j]\n",
    "                dist = np.linalg.norm(np.asarray(a_sequence)-np.asarray(b_sequence))\n",
    "                a_matrix[i,j] = -dist\n",
    "    delta_time = time.time() - init_time\n",
    "    print delta_time\n",
    "    return a_matrix"
   ]
  },
  {
   "cell_type": "code",
   "execution_count": 7,
   "metadata": {
    "collapsed": true
   },
   "outputs": [],
   "source": [
    "def compare_vectors_with_shared_matrix(vector_a,vector_b,rois_a,rois_b,shared_rois,limit,min_shared):\n",
    "    a_matrix = np.ones((limit, limit)) * -1\n",
    "    init_time = time.time()\n",
    "    for i in range(limit):\n",
    "        rois_abril = rois_a[i]\n",
    "        for j in range(limit):\n",
    "            rois_septiembre = rois_b[j]\n",
    "            min_shared_x = min(len(rois_abril),len(rois_septiembre),min_shared)\n",
    "            share_RoIs = shared_rois[i,j]\n",
    "            if share_RoIs >= min_shared_x:\n",
    "                a_sequence = vector_a[i]\n",
    "                b_sequence = vector_b[j]\n",
    "                dist = np.linalg.norm(np.asarray(a_sequence)-np.asarray(b_sequence))\n",
    "                a_matrix[i,j] = -dist\n",
    "    delta_time = time.time() - init_time\n",
    "    print delta_time\n",
    "    return a_matrix"
   ]
  },
  {
   "cell_type": "code",
   "execution_count": 8,
   "metadata": {
    "collapsed": true
   },
   "outputs": [],
   "source": [
    "def compare_vectors_with_neighbours_normalized(vector_a,vector_b,rois_a,rois_b,shared_rois,limit,min_shared):\n",
    "    a_matrix = np.ones((limit, limit)) * -1\n",
    "    init_time = time.time()\n",
    "    for i in range(limit):\n",
    "        #print \"Usuario \",i\n",
    "        rois_abril = rois_a[i]\n",
    "        neighbours = get_neighbours_index(rois_abril,shared_rois,i,min_shared)\n",
    "        if len(neighbours) > 0:\n",
    "            if len(neighbours) == 1:\n",
    "                a_matrix[i,neighbours[0]] = 0\n",
    "            else:\n",
    "                a_sequence = vector_a[i,:]\n",
    "                b_sequences = vector_b[neighbours,:]\n",
    "                ab_sequences = np.vstack((a_sequence,b_sequences))\n",
    "                counter = 0\n",
    "                for neighbour in neighbours:\n",
    "                    dist = np.linalg.norm(np.asarray(ab_sequences[0,:])-np.asarray(ab_sequences[counter+1,:]))\n",
    "                    a_matrix[i,neighbour] = -dist\n",
    "                    counter += 1\n",
    "    delta_time = time.time() - init_time\n",
    "    #print delta_time\n",
    "    return a_matrix\n"
   ]
  },
  {
   "cell_type": "code",
   "execution_count": 9,
   "metadata": {
    "collapsed": true
   },
   "outputs": [],
   "source": [
    "def get_n_correct(a_matrix,limit):\n",
    "    identified_indexs = [] #almacena los indices de que secuencia fue seleccionada como match\n",
    "    wrong_indexs = [] # almacena los indices de los que se clasificaron incorrectamente\n",
    "    correct_indexs = [] # almacena los indices de los que se clasificaron correctamente\n",
    "    selected_distance = [] # almacena la distancia de los seleccionados\n",
    "    abstenidos = []\n",
    "    n_identified = 0\n",
    "    for i in range(limit):\n",
    "        the_index = np.argmax(a_matrix[:,i])\n",
    "        selected_distance.append(a_matrix[the_index,i])\n",
    "        identified_indexs.append(the_index)\n",
    "        if a_matrix[the_index,i] == -1:\n",
    "            abstenidos.append(the_index)\n",
    "        elif(the_index!=i):\n",
    "            wrong_indexs.append(the_index)\n",
    "        else:\n",
    "            correct_indexs.append(the_index)\n",
    "            n_identified += 1\n",
    "    return [n_identified,selected_distance,identified_indexs,abstenidos]\n"
   ]
  },
  {
   "cell_type": "markdown",
   "metadata": {},
   "source": [
    "## Obtener datos"
   ]
  },
  {
   "cell_type": "code",
   "execution_count": 15,
   "metadata": {
    "collapsed": false
   },
   "outputs": [],
   "source": [
    "with open('data/datos_abril_sep_sequence.pickle') as f:\n",
    "    datos_abril = pickle.load(f)\n",
    "    datos_septiembre = pickle.load(f)"
   ]
  },
  {
   "cell_type": "code",
   "execution_count": 8,
   "metadata": {
    "collapsed": false
   },
   "outputs": [],
   "source": [
    "with open('data/feature_data.pickle') as f:\n",
    "    abril_vectors = pickle.load(f)\n",
    "    septiembre_vectors = pickle.load(f)"
   ]
  },
  {
   "cell_type": "code",
   "execution_count": 9,
   "metadata": {
    "collapsed": false
   },
   "outputs": [
    {
     "data": {
      "text/plain": [
       "5169"
      ]
     },
     "execution_count": 9,
     "metadata": {},
     "output_type": "execute_result"
    }
   ],
   "source": [
    "limit = np.min((len(abril_vectors),len(septiembre_vectors)))\n",
    "limit"
   ]
  },
  {
   "cell_type": "code",
   "execution_count": 10,
   "metadata": {
    "collapsed": true
   },
   "outputs": [],
   "source": [
    "with open('data/rois_meters_data.pickle') as f:\n",
    "    abril_the_rois = pickle.load(f)\n",
    "    septiembre_the_rois = pickle.load(f)"
   ]
  },
  {
   "cell_type": "code",
   "execution_count": 11,
   "metadata": {
    "collapsed": false
   },
   "outputs": [],
   "source": [
    "with open('data/shared_rois.pickle') as f:\n",
    "    shared_rois = pickle.load(f)"
   ]
  },
  {
   "cell_type": "code",
   "execution_count": 11,
   "metadata": {
    "collapsed": true
   },
   "outputs": [
    {
     "ename": "EOFError",
     "evalue": "",
     "output_type": "error",
     "traceback": [
      "\u001b[1;31m---------------------------------------------------------------------------\u001b[0m",
      "\u001b[1;31mEOFError\u001b[0m                                  Traceback (most recent call last)",
      "\u001b[1;32m<ipython-input-11-450e997c89b5>\u001b[0m in \u001b[0;36m<module>\u001b[1;34m()\u001b[0m\n\u001b[0;32m      1\u001b[0m \u001b[1;32mwith\u001b[0m \u001b[0mopen\u001b[0m\u001b[1;33m(\u001b[0m\u001b[1;34m'data/changed_behaviour.pickle'\u001b[0m\u001b[1;33m)\u001b[0m \u001b[1;32mas\u001b[0m \u001b[0mf\u001b[0m\u001b[1;33m:\u001b[0m\u001b[1;33m\u001b[0m\u001b[0m\n\u001b[1;32m----> 2\u001b[1;33m     \u001b[0mchanged_behaviour\u001b[0m \u001b[1;33m=\u001b[0m \u001b[0mpickle\u001b[0m\u001b[1;33m.\u001b[0m\u001b[0mload\u001b[0m\u001b[1;33m(\u001b[0m\u001b[0mf\u001b[0m\u001b[1;33m)\u001b[0m\u001b[1;33m\u001b[0m\u001b[0m\n\u001b[0m",
      "\u001b[1;32m/home/cata/anaconda2/lib/python2.7/pickle.pyc\u001b[0m in \u001b[0;36mload\u001b[1;34m(file)\u001b[0m\n\u001b[0;32m   1382\u001b[0m \u001b[1;33m\u001b[0m\u001b[0m\n\u001b[0;32m   1383\u001b[0m \u001b[1;32mdef\u001b[0m \u001b[0mload\u001b[0m\u001b[1;33m(\u001b[0m\u001b[0mfile\u001b[0m\u001b[1;33m)\u001b[0m\u001b[1;33m:\u001b[0m\u001b[1;33m\u001b[0m\u001b[0m\n\u001b[1;32m-> 1384\u001b[1;33m     \u001b[1;32mreturn\u001b[0m \u001b[0mUnpickler\u001b[0m\u001b[1;33m(\u001b[0m\u001b[0mfile\u001b[0m\u001b[1;33m)\u001b[0m\u001b[1;33m.\u001b[0m\u001b[0mload\u001b[0m\u001b[1;33m(\u001b[0m\u001b[1;33m)\u001b[0m\u001b[1;33m\u001b[0m\u001b[0m\n\u001b[0m\u001b[0;32m   1385\u001b[0m \u001b[1;33m\u001b[0m\u001b[0m\n\u001b[0;32m   1386\u001b[0m \u001b[1;32mdef\u001b[0m \u001b[0mloads\u001b[0m\u001b[1;33m(\u001b[0m\u001b[0mstr\u001b[0m\u001b[1;33m)\u001b[0m\u001b[1;33m:\u001b[0m\u001b[1;33m\u001b[0m\u001b[0m\n",
      "\u001b[1;32m/home/cata/anaconda2/lib/python2.7/pickle.pyc\u001b[0m in \u001b[0;36mload\u001b[1;34m(self)\u001b[0m\n\u001b[0;32m    862\u001b[0m             \u001b[1;32mwhile\u001b[0m \u001b[1;36m1\u001b[0m\u001b[1;33m:\u001b[0m\u001b[1;33m\u001b[0m\u001b[0m\n\u001b[0;32m    863\u001b[0m                 \u001b[0mkey\u001b[0m \u001b[1;33m=\u001b[0m \u001b[0mread\u001b[0m\u001b[1;33m(\u001b[0m\u001b[1;36m1\u001b[0m\u001b[1;33m)\u001b[0m\u001b[1;33m\u001b[0m\u001b[0m\n\u001b[1;32m--> 864\u001b[1;33m                 \u001b[0mdispatch\u001b[0m\u001b[1;33m[\u001b[0m\u001b[0mkey\u001b[0m\u001b[1;33m]\u001b[0m\u001b[1;33m(\u001b[0m\u001b[0mself\u001b[0m\u001b[1;33m)\u001b[0m\u001b[1;33m\u001b[0m\u001b[0m\n\u001b[0m\u001b[0;32m    865\u001b[0m         \u001b[1;32mexcept\u001b[0m \u001b[0m_Stop\u001b[0m\u001b[1;33m,\u001b[0m \u001b[0mstopinst\u001b[0m\u001b[1;33m:\u001b[0m\u001b[1;33m\u001b[0m\u001b[0m\n\u001b[0;32m    866\u001b[0m             \u001b[1;32mreturn\u001b[0m \u001b[0mstopinst\u001b[0m\u001b[1;33m.\u001b[0m\u001b[0mvalue\u001b[0m\u001b[1;33m\u001b[0m\u001b[0m\n",
      "\u001b[1;32m/home/cata/anaconda2/lib/python2.7/pickle.pyc\u001b[0m in \u001b[0;36mload_eof\u001b[1;34m(self)\u001b[0m\n\u001b[0;32m    884\u001b[0m \u001b[1;33m\u001b[0m\u001b[0m\n\u001b[0;32m    885\u001b[0m     \u001b[1;32mdef\u001b[0m \u001b[0mload_eof\u001b[0m\u001b[1;33m(\u001b[0m\u001b[0mself\u001b[0m\u001b[1;33m)\u001b[0m\u001b[1;33m:\u001b[0m\u001b[1;33m\u001b[0m\u001b[0m\n\u001b[1;32m--> 886\u001b[1;33m         \u001b[1;32mraise\u001b[0m \u001b[0mEOFError\u001b[0m\u001b[1;33m\u001b[0m\u001b[0m\n\u001b[0m\u001b[0;32m    887\u001b[0m     \u001b[0mdispatch\u001b[0m\u001b[1;33m[\u001b[0m\u001b[1;34m''\u001b[0m\u001b[1;33m]\u001b[0m \u001b[1;33m=\u001b[0m \u001b[0mload_eof\u001b[0m\u001b[1;33m\u001b[0m\u001b[0m\n\u001b[0;32m    888\u001b[0m \u001b[1;33m\u001b[0m\u001b[0m\n",
      "\u001b[1;31mEOFError\u001b[0m: "
     ]
    }
   ],
   "source": [
    "with open('data/changed_behaviour.pickle') as f:\n",
    "    changed_behaviour = pickle.load(f)"
   ]
  },
  {
   "cell_type": "code",
   "execution_count": null,
   "metadata": {
    "collapsed": true
   },
   "outputs": [],
   "source": [
    "with open('data/distance_meters_data_2_rois.pickle', 'w') as f:\n",
    "    pickle.dump(a_matrix, f)"
   ]
  },
  {
   "cell_type": "code",
   "execution_count": 44,
   "metadata": {
    "collapsed": true
   },
   "outputs": [],
   "source": [
    "with open('data/freq_correct.pickle', 'w') as f:\n",
    "    pickle.dump(frequency_correct, f)"
   ]
  },
  {
   "cell_type": "markdown",
   "metadata": {},
   "source": [
    "## Seleccionar Features para la comparación"
   ]
  },
  {
   "cell_type": "code",
   "execution_count": 12,
   "metadata": {
    "collapsed": true
   },
   "outputs": [],
   "source": [
    "N_FEATURES = 19"
   ]
  },
  {
   "cell_type": "code",
   "execution_count": 13,
   "metadata": {
    "collapsed": true
   },
   "outputs": [],
   "source": [
    "features_names = [\"msal\",\"mlal\",\"kmDistance\",\"kmMaxDist\",\"kmMinDist\",\"rg\",\"unc_entropy\", \\\n",
    "    \"random_entropy\",\"p100_diff_last_origin\",\"p100_diff_first_origin\",\"card_type\",\\\n",
    "    \"start_time\",\"end_time\",\"traveled_days\",\"traveled_days_bs\",\"frequence_regularity\",\\\n",
    "    \"p100_exclusive_bus_days\",\"p100_exclusive_metro_days\",\"P100_bus_trips\"]"
   ]
  },
  {
   "cell_type": "code",
   "execution_count": 14,
   "metadata": {
    "collapsed": false
   },
   "outputs": [],
   "source": [
    "features_dict = {\"msal\":0,\"mlal\":1,\"kmDistance\":2,\"kmMaxDist\":3,\"kmMinDist\":4,\"rg\":5,\"unc_entropy\":6,\n",
    "                  \"random_entropy\":7,\"p100_diff_last_origin\":8,\"p100_diff_first_origin\":9,\"card_type\":10,\n",
    "                  \"start_time\":11,\"end_time\":12,\"traveled_days\":13,\"traveled_days_bs\":14,\"frequence_regularity\":15,\n",
    "                  \"p100_exclusive_bus_days\":16,\"p100_exclusive_metro_days\":17,\"P100_bus_trips\":18}"
   ]
  },
  {
   "cell_type": "code",
   "execution_count": 15,
   "metadata": {
    "collapsed": true
   },
   "outputs": [],
   "source": [
    "selected_features = [\"msal\",\"mlal\",\"kmDistance\",\"kmMaxDist\",\"kmMinDist\",\"rg\",\"unc_entropy\", \\\n",
    "    \"random_entropy\",\"p100_diff_last_origin\",\"p100_diff_first_origin\",\\\n",
    "    \"start_time\",\"end_time\",\"traveled_days\",\"frequence_regularity\",\\\n",
    "    \"p100_exclusive_bus_days\",\"p100_exclusive_metro_days\",\"P100_bus_trips\"]\n",
    "\n",
    "#selected_features = ['msal', 'mlal', 'kmDistance', 'unc_entropy', 'random_entropy', 'start_time']"
   ]
  },
  {
   "cell_type": "code",
   "execution_count": 57,
   "metadata": {
    "collapsed": false
   },
   "outputs": [],
   "source": [
    "selected_features= ['msal',\n",
    " 'kmMaxDist',\n",
    " 'unc_entropy',\n",
    " 'random_entropy',\n",
    " 'start_time',\n",
    " 'frequence_regularity',\n",
    " 'p100_exclusive_bus_days',\n",
    " 'P100_bus_trips']"
   ]
  },
  {
   "cell_type": "code",
   "execution_count": 16,
   "metadata": {
    "collapsed": true
   },
   "outputs": [],
   "source": [
    "abril_selected_features = filter_features(abril_vectors,selected_features)\n",
    "septiembre_selected_features = filter_features(septiembre_vectors,selected_features)"
   ]
  },
  {
   "cell_type": "code",
   "execution_count": 59,
   "metadata": {
    "collapsed": false
   },
   "outputs": [
    {
     "data": {
      "text/plain": [
       "(5169, 8)"
      ]
     },
     "execution_count": 59,
     "metadata": {},
     "output_type": "execute_result"
    }
   ],
   "source": [
    "abril_selected_features.shape"
   ]
  },
  {
   "cell_type": "markdown",
   "metadata": {
    "collapsed": true
   },
   "source": [
    "## Obtener Numero de Rois Compartidos"
   ]
  },
  {
   "cell_type": "code",
   "execution_count": 54,
   "metadata": {
    "collapsed": false
   },
   "outputs": [
    {
     "name": "stdout",
     "output_type": "stream",
     "text": [
      "5815.20309901\n"
     ]
    }
   ],
   "source": [
    "shared_rois,min_distance = get_shared_rois(abril_the_rois,septiembre_the_rois,limit)"
   ]
  },
  {
   "cell_type": "code",
   "execution_count": 62,
   "metadata": {
    "collapsed": false
   },
   "outputs": [
    {
     "data": {
      "text/plain": [
       "-1"
      ]
     },
     "execution_count": 62,
     "metadata": {},
     "output_type": "execute_result"
    }
   ],
   "source": [
    "min(min_distance)"
   ]
  },
  {
   "cell_type": "code",
   "execution_count": 63,
   "metadata": {
    "collapsed": false
   },
   "outputs": [],
   "source": [
    "a_min_distance = filter(lambda x:x!=-1,min_distance)"
   ]
  },
  {
   "cell_type": "code",
   "execution_count": 66,
   "metadata": {
    "collapsed": false
   },
   "outputs": [
    {
     "data": {
      "text/plain": [
       "5120"
      ]
     },
     "execution_count": 66,
     "metadata": {},
     "output_type": "execute_result"
    }
   ],
   "source": [
    "len(a_min_distance)"
   ]
  },
  {
   "cell_type": "code",
   "execution_count": 69,
   "metadata": {
    "collapsed": false
   },
   "outputs": [
    {
     "data": {
      "text/plain": [
       "500.1444526200718"
      ]
     },
     "execution_count": 69,
     "metadata": {},
     "output_type": "execute_result"
    }
   ],
   "source": [
    "min(a_min_distance)"
   ]
  },
  {
   "cell_type": "code",
   "execution_count": 72,
   "metadata": {
    "collapsed": true
   },
   "outputs": [
    {
     "data": {
      "text/plain": [
       "(array([ 255.,  218.,  229.,  183.,  126.,  117.,   94.,   99.,   99.,\n",
       "          79.,   77.,   84.,   88.,   76.,   73.,   53.,   51.,   50.,\n",
       "          69.,   62.,   51.,   46.,   52.,   44.,   37.,   30.,   43.,\n",
       "          29.,   45.,   32.,   37.,   44.,   42.,   31.,   33.,   32.,\n",
       "          30.,   26.,   32.,   31.,   22.,   37.,   32.,   23.,   13.,\n",
       "          31.,   33.,   23.,   25.,   22.,   30.,   26.,   23.,   31.,\n",
       "          27.,   15.,   21.,   17.,   22.,   25.,   26.,   21.,   22.,\n",
       "          26.,   24.,   15.,   24.,   16.,   24.,   21.,   16.,   30.,\n",
       "          25.,   23.,   19.,   20.,   21.,   18.,   17.,   22.,   25.,\n",
       "          18.,   18.,   14.,   20.,   17.,    7.,    9.,   15.,   17.,\n",
       "          17.,   27.,   24.,   20.,    9.,   19.,   14.,   23.,    9.,\n",
       "          16.,   15.,   12.,   17.,   10.,   18.,   13.,   18.,   17.,\n",
       "          14.,   14.,   22.,   11.,   20.,   10.,   15.,   12.,   10.,\n",
       "          12.,   11.,    8.,   13.,   16.,   15.,   13.,    8.,    9.,\n",
       "          13.,    7.,    4.,    9.,    4.,    9.,   11.,   10.,   10.,\n",
       "           6.,   18.,    8.,    6.,   10.,    4.,    7.,   13.,   12.,\n",
       "          12.,    9.,    5.,   10.,    8.,    6.,    3.,   11.,   11.,\n",
       "           6.,    8.,    6.,    8.,   11.,    8.,    6.,   10.,   13.,\n",
       "           9.,   11.,    6.,    9.,    9.,    7.,    9.,    7.,    4.,\n",
       "           3.,    9.,    5.,    4.,   12.,    5.,    1.,    3.,    3.,\n",
       "           2.,    4.,    5.,    5.,    2.,    6.,    4.,    8.,    2.,\n",
       "           1.,    3.,    5.,    4.,    7.,    2.,    3.,    5.,    4.,\n",
       "           2.,    3.,    3.,    3.,    5.,    3.,    1.,    2.,    6.,\n",
       "           1.,    1.,    4.,    0.,    0.,    4.,    3.,    2.,    1.,\n",
       "           1.,    2.,    2.,    1.,    1.,    1.,    1.,    0.,    2.,\n",
       "           1.,    2.,    0.,    0.,    0.,    0.,    0.,    0.,    0.,\n",
       "           1.,    0.,    0.,    0.,    1.,    0.,    1.,    2.,    1.,\n",
       "           0.,    0.,    0.,    1.,    0.,    0.,    1.,    0.,    0.,\n",
       "           1.,    2.,    0.,    0.,    0.,    0.,    0.,    0.,    0.,\n",
       "           0.,    1.,    0.,    0.,    0.,    0.,    0.,    0.,    0.,\n",
       "           0.,    0.,    0.,    0.,    0.,    0.,    0.,    0.,    0.,\n",
       "           0.,    0.,    0.,    0.,    0.,    0.,    0.,    0.,    0.,\n",
       "           0.,    0.,    0.,    0.,    0.,    0.,    1.,    0.,    0.,\n",
       "           0.,    0.,    1.]),\n",
       " array([   500.14445262,    608.0553668 ,    715.96628099,    823.87719517,\n",
       "           931.78810935,   1039.69902354,   1147.60993772,   1255.5208519 ,\n",
       "          1363.43176609,   1471.34268027,   1579.25359445,   1687.16450864,\n",
       "          1795.07542282,   1902.986337  ,   2010.89725119,   2118.80816537,\n",
       "          2226.71907956,   2334.62999374,   2442.54090792,   2550.45182211,\n",
       "          2658.36273629,   2766.27365047,   2874.18456466,   2982.09547884,\n",
       "          3090.00639302,   3197.91730721,   3305.82822139,   3413.73913557,\n",
       "          3521.65004976,   3629.56096394,   3737.47187812,   3845.38279231,\n",
       "          3953.29370649,   4061.20462067,   4169.11553486,   4277.02644904,\n",
       "          4384.93736322,   4492.84827741,   4600.75919159,   4708.67010577,\n",
       "          4816.58101996,   4924.49193414,   5032.40284832,   5140.31376251,\n",
       "          5248.22467669,   5356.13559087,   5464.04650506,   5571.95741924,\n",
       "          5679.86833343,   5787.77924761,   5895.69016179,   6003.60107598,\n",
       "          6111.51199016,   6219.42290434,   6327.33381853,   6435.24473271,\n",
       "          6543.15564689,   6651.06656108,   6758.97747526,   6866.88838944,\n",
       "          6974.79930363,   7082.71021781,   7190.62113199,   7298.53204618,\n",
       "          7406.44296036,   7514.35387454,   7622.26478873,   7730.17570291,\n",
       "          7838.08661709,   7945.99753128,   8053.90844546,   8161.81935964,\n",
       "          8269.73027383,   8377.64118801,   8485.55210219,   8593.46301638,\n",
       "          8701.37393056,   8809.28484475,   8917.19575893,   9025.10667311,\n",
       "          9133.0175873 ,   9240.92850148,   9348.83941566,   9456.75032985,\n",
       "          9564.66124403,   9672.57215821,   9780.4830724 ,   9888.39398658,\n",
       "          9996.30490076,  10104.21581495,  10212.12672913,  10320.03764331,\n",
       "         10427.9485575 ,  10535.85947168,  10643.77038586,  10751.68130005,\n",
       "         10859.59221423,  10967.50312841,  11075.4140426 ,  11183.32495678,\n",
       "         11291.23587096,  11399.14678515,  11507.05769933,  11614.96861351,\n",
       "         11722.8795277 ,  11830.79044188,  11938.70135606,  12046.61227025,\n",
       "         12154.52318443,  12262.43409862,  12370.3450128 ,  12478.25592698,\n",
       "         12586.16684117,  12694.07775535,  12801.98866953,  12909.89958372,\n",
       "         13017.8104979 ,  13125.72141208,  13233.63232627,  13341.54324045,\n",
       "         13449.45415463,  13557.36506882,  13665.275983  ,  13773.18689718,\n",
       "         13881.09781137,  13989.00872555,  14096.91963973,  14204.83055392,\n",
       "         14312.7414681 ,  14420.65238228,  14528.56329647,  14636.47421065,\n",
       "         14744.38512483,  14852.29603902,  14960.2069532 ,  15068.11786738,\n",
       "         15176.02878157,  15283.93969575,  15391.85060994,  15499.76152412,\n",
       "         15607.6724383 ,  15715.58335249,  15823.49426667,  15931.40518085,\n",
       "         16039.31609504,  16147.22700922,  16255.1379234 ,  16363.04883759,\n",
       "         16470.95975177,  16578.87066595,  16686.78158014,  16794.69249432,\n",
       "         16902.6034085 ,  17010.51432269,  17118.42523687,  17226.33615105,\n",
       "         17334.24706524,  17442.15797942,  17550.0688936 ,  17657.97980779,\n",
       "         17765.89072197,  17873.80163615,  17981.71255034,  18089.62346452,\n",
       "         18197.5343787 ,  18305.44529289,  18413.35620707,  18521.26712125,\n",
       "         18629.17803544,  18737.08894962,  18844.99986381,  18952.91077799,\n",
       "         19060.82169217,  19168.73260636,  19276.64352054,  19384.55443472,\n",
       "         19492.46534891,  19600.37626309,  19708.28717727,  19816.19809146,\n",
       "         19924.10900564,  20032.01991982,  20139.93083401,  20247.84174819,\n",
       "         20355.75266237,  20463.66357656,  20571.57449074,  20679.48540492,\n",
       "         20787.39631911,  20895.30723329,  21003.21814747,  21111.12906166,\n",
       "         21219.03997584,  21326.95089002,  21434.86180421,  21542.77271839,\n",
       "         21650.68363257,  21758.59454676,  21866.50546094,  21974.41637513,\n",
       "         22082.32728931,  22190.23820349,  22298.14911768,  22406.06003186,\n",
       "         22513.97094604,  22621.88186023,  22729.79277441,  22837.70368859,\n",
       "         22945.61460278,  23053.52551696,  23161.43643114,  23269.34734533,\n",
       "         23377.25825951,  23485.16917369,  23593.08008788,  23700.99100206,\n",
       "         23808.90191624,  23916.81283043,  24024.72374461,  24132.63465879,\n",
       "         24240.54557298,  24348.45648716,  24456.36740134,  24564.27831553,\n",
       "         24672.18922971,  24780.10014389,  24888.01105808,  24995.92197226,\n",
       "         25103.83288644,  25211.74380063,  25319.65471481,  25427.565629  ,\n",
       "         25535.47654318,  25643.38745736,  25751.29837155,  25859.20928573,\n",
       "         25967.12019991,  26075.0311141 ,  26182.94202828,  26290.85294246,\n",
       "         26398.76385665,  26506.67477083,  26614.58568501,  26722.4965992 ,\n",
       "         26830.40751338,  26938.31842756,  27046.22934175,  27154.14025593,\n",
       "         27262.05117011,  27369.9620843 ,  27477.87299848,  27585.78391266,\n",
       "         27693.69482685,  27801.60574103,  27909.51665521,  28017.4275694 ,\n",
       "         28125.33848358,  28233.24939776,  28341.16031195,  28449.07122613,\n",
       "         28556.98214032,  28664.8930545 ,  28772.80396868,  28880.71488287,\n",
       "         28988.62579705,  29096.53671123,  29204.44762542,  29312.3585396 ,\n",
       "         29420.26945378,  29528.18036797,  29636.09128215,  29744.00219633,\n",
       "         29851.91311052,  29959.8240247 ,  30067.73493888,  30175.64585307,\n",
       "         30283.55676725,  30391.46768143,  30499.37859562,  30607.2895098 ,\n",
       "         30715.20042398,  30823.11133817,  30931.02225235,  31038.93316653,\n",
       "         31146.84408072,  31254.7549949 ,  31362.66590908,  31470.57682327,\n",
       "         31578.48773745,  31686.39865163,  31794.30956582,  31902.22048   ,\n",
       "         32010.13139419,  32118.04230837,  32225.95322255,  32333.86413674,\n",
       "         32441.77505092,  32549.6859651 ,  32657.59687929,  32765.50779347,\n",
       "         32873.41870765]),\n",
       " <a list of 300 Patch objects>)"
      ]
     },
     "execution_count": 72,
     "metadata": {},
     "output_type": "execute_result"
    },
    {
     "data": {
      "image/png": "[encoded data removed]",
      "text/plain": [
       "<matplotlib.figure.Figure at 0x7fa046c76d10>"
      ]
     },
     "metadata": {},
     "output_type": "display_data"
    }
   ],
   "source": [
    "plt.hist(a_min_distance,300)"
   ]
  },
  {
   "cell_type": "markdown",
   "metadata": {},
   "source": [
    "## Comparar con distintos numeros de rois"
   ]
  },
  {
   "cell_type": "markdown",
   "metadata": {},
   "source": [
    "### Solo un RoI compartido"
   ]
  },
  {
   "cell_type": "code",
   "execution_count": 81,
   "metadata": {
    "collapsed": false
   },
   "outputs": [
    {
     "name": "stdout",
     "output_type": "stream",
     "text": [
      "28.6182448864\n"
     ]
    }
   ],
   "source": [
    "a_matrix = compare_vectors_with_shared_matrix(abril_selected_features,septiembre_selected_features,abril_the_rois,septiembre_the_rois,shared_rois,limit,1)"
   ]
  },
  {
   "cell_type": "code",
   "execution_count": 82,
   "metadata": {
    "collapsed": false
   },
   "outputs": [],
   "source": [
    "n_identified,selected_distance,identified_indexs = get_n_correct(a_matrix,limit)"
   ]
  },
  {
   "cell_type": "code",
   "execution_count": 83,
   "metadata": {
    "collapsed": false
   },
   "outputs": [
    {
     "name": "stdout",
     "output_type": "stream",
     "text": [
      "20.47%\n"
     ]
    }
   ],
   "source": [
    "porcentaje_correcto = n_identified*100/limit\n",
    "print str(round(porcentaje_correcto,2))+ \"%\""
   ]
  },
  {
   "cell_type": "code",
   "execution_count": 84,
   "metadata": {
    "collapsed": false
   },
   "outputs": [
    {
     "name": "stdout",
     "output_type": "stream",
     "text": [
      "93.38%\n"
     ]
    }
   ],
   "source": [
    "shared_rois_2_month = 0\n",
    "for i in range(limit):\n",
    "    if a_matrix[i,i] != -1:\n",
    "        shared_rois_2_month += 1\n",
    "print str(round(shared_rois_2_month*100/limit,2)) + \"%\""
   ]
  },
  {
   "cell_type": "markdown",
   "metadata": {},
   "source": [
    "### Dos RoI compartidos"
   ]
  },
  {
   "cell_type": "code",
   "execution_count": 17,
   "metadata": {
    "collapsed": false
   },
   "outputs": [
    {
     "name": "stdout",
     "output_type": "stream",
     "text": [
      "17.5290520191\n"
     ]
    }
   ],
   "source": [
    "a_matrix = compare_vectors_with_shared_matrix(abril_selected_features,septiembre_selected_features,abril_the_rois,septiembre_the_rois,shared_rois,limit,2)"
   ]
  },
  {
   "cell_type": "code",
   "execution_count": 18,
   "metadata": {
    "collapsed": true
   },
   "outputs": [],
   "source": [
    "n_identified,selected_distance,identified_indexs,abstenidos = get_n_correct(a_matrix,limit)"
   ]
  },
  {
   "cell_type": "code",
   "execution_count": 19,
   "metadata": {
    "collapsed": false
   },
   "outputs": [
    {
     "data": {
      "text/plain": [
       "5169"
      ]
     },
     "execution_count": 19,
     "metadata": {},
     "output_type": "execute_result"
    }
   ],
   "source": [
    "len(identified_indexs)"
   ]
  },
  {
   "cell_type": "code",
   "execution_count": 20,
   "metadata": {
    "collapsed": false
   },
   "outputs": [
    {
     "name": "stdout",
     "output_type": "stream",
     "text": [
      "44.71%\n"
     ]
    }
   ],
   "source": [
    "porcentaje_correcto = n_identified*100/limit\n",
    "print str(round(porcentaje_correcto,2))+ \"%\""
   ]
  },
  {
   "cell_type": "code",
   "execution_count": 46,
   "metadata": {
    "collapsed": false
   },
   "outputs": [
    {
     "name": "stdout",
     "output_type": "stream",
     "text": [
      "54.85%\n"
     ]
    }
   ],
   "source": [
    "shared_rois_2_month = 0\n",
    "for i in range(limit):\n",
    "    if a_matrix[i,i] != -1:\n",
    "        shared_rois_2_month += 1\n",
    "print str(round(shared_rois_2_month*100/limit,2)) + \"%\""
   ]
  },
  {
   "cell_type": "code",
   "execution_count": 125,
   "metadata": {
    "collapsed": false
   },
   "outputs": [
    {
     "data": {
      "text/plain": [
       "1349"
      ]
     },
     "execution_count": 125,
     "metadata": {},
     "output_type": "execute_result"
    }
   ],
   "source": [
    "len(abstenidos)"
   ]
  },
  {
   "cell_type": "code",
   "execution_count": 126,
   "metadata": {
    "collapsed": false
   },
   "outputs": [
    {
     "data": {
      "text/plain": [
       "26.097891274908108"
      ]
     },
     "execution_count": 126,
     "metadata": {},
     "output_type": "execute_result"
    }
   ],
   "source": [
    "1349/limit*100"
   ]
  },
  {
   "cell_type": "code",
   "execution_count": 72,
   "metadata": {
    "collapsed": true
   },
   "outputs": [],
   "source": [
    "def counterx(a):\n",
    "    b = filter(lambda x: x!=-1,a)\n",
    "    return len(b)"
   ]
  },
  {
   "cell_type": "code",
   "execution_count": 73,
   "metadata": {
    "collapsed": false
   },
   "outputs": [
    {
     "data": {
      "text/plain": [
       "5"
      ]
     },
     "execution_count": 73,
     "metadata": {},
     "output_type": "execute_result"
    }
   ],
   "source": [
    "counterx([1,2,3,4,-1,-1,5,-1])"
   ]
  },
  {
   "cell_type": "code",
   "execution_count": null,
   "metadata": {
    "collapsed": true
   },
   "outputs": [],
   "source": [
    "shared_rois_2_month = 0\n",
    "for i in range(limit):\n",
    "    if a_matrix[i,i] != -1:\n",
    "        if identified_index == i:\n",
    "print str(round(shared_rois_2_month*100/limit,2)) + \"%\""
   ]
  },
  {
   "cell_type": "markdown",
   "metadata": {},
   "source": [
    "### Tres RoIs compartidos"
   ]
  },
  {
   "cell_type": "code",
   "execution_count": 127,
   "metadata": {
    "collapsed": false
   },
   "outputs": [
    {
     "name": "stdout",
     "output_type": "stream",
     "text": [
      "17.5351469517\n"
     ]
    }
   ],
   "source": [
    "a_matrix = compare_vectors_with_shared_matrix(abril_selected_features,septiembre_selected_features,abril_the_rois,septiembre_the_rois,shared_rois,limit,3)"
   ]
  },
  {
   "cell_type": "code",
   "execution_count": 128,
   "metadata": {
    "collapsed": false
   },
   "outputs": [
    {
     "ename": "ValueError",
     "evalue": "too many values to unpack",
     "output_type": "error",
     "traceback": [
      "\u001b[1;31m---------------------------------------------------------------------------\u001b[0m",
      "\u001b[1;31mValueError\u001b[0m                                Traceback (most recent call last)",
      "\u001b[1;32m<ipython-input-128-de03407e38e2>\u001b[0m in \u001b[0;36m<module>\u001b[1;34m()\u001b[0m\n\u001b[1;32m----> 1\u001b[1;33m \u001b[0mn_identified\u001b[0m\u001b[1;33m,\u001b[0m\u001b[0mselected_distance\u001b[0m\u001b[1;33m,\u001b[0m\u001b[0midentified_indexs\u001b[0m \u001b[1;33m=\u001b[0m \u001b[0mget_n_correct\u001b[0m\u001b[1;33m(\u001b[0m\u001b[0ma_matrix\u001b[0m\u001b[1;33m,\u001b[0m\u001b[0mlimit\u001b[0m\u001b[1;33m)\u001b[0m\u001b[1;33m\u001b[0m\u001b[0m\n\u001b[0m",
      "\u001b[1;31mValueError\u001b[0m: too many values to unpack"
     ]
    }
   ],
   "source": [
    "n_identified,selected_distance,identified_indexs = get_n_correct(a_matrix,limit)"
   ]
  },
  {
   "cell_type": "code",
   "execution_count": null,
   "metadata": {
    "collapsed": false
   },
   "outputs": [],
   "source": [
    "porcentaje_correcto = n_identified*100/limit\n",
    "print str(round(porcentaje_correcto,2))+ \"%\""
   ]
  },
  {
   "cell_type": "code",
   "execution_count": null,
   "metadata": {
    "collapsed": false
   },
   "outputs": [],
   "source": [
    "shared_rois_2_month = 0\n",
    "for i in range(limit):\n",
    "    if a_matrix[i,i] != -1:\n",
    "        shared_rois_2_month += 1\n",
    "print str(round(shared_rois_2_month*100/limit,2)) + \"%\""
   ]
  },
  {
   "cell_type": "markdown",
   "metadata": {},
   "source": [
    "### Cuatro RoIs compartidos"
   ]
  },
  {
   "cell_type": "code",
   "execution_count": 85,
   "metadata": {
    "collapsed": false
   },
   "outputs": [
    {
     "name": "stdout",
     "output_type": "stream",
     "text": [
      "17.5743842125\n"
     ]
    }
   ],
   "source": [
    "a_matrix = compare_vectors_with_shared_matrix(abril_selected_features,septiembre_selected_features,abril_the_rois,septiembre_the_rois,shared_rois,limit,4)"
   ]
  },
  {
   "cell_type": "code",
   "execution_count": 86,
   "metadata": {
    "collapsed": true
   },
   "outputs": [],
   "source": [
    "n_identified,selected_distance,identified_indexs = get_n_correct(a_matrix,limit)"
   ]
  },
  {
   "cell_type": "code",
   "execution_count": 87,
   "metadata": {
    "collapsed": false
   },
   "outputs": [
    {
     "name": "stdout",
     "output_type": "stream",
     "text": [
      "44.55%\n"
     ]
    }
   ],
   "source": [
    "porcentaje_correcto = n_identified*100/limit\n",
    "print str(round(porcentaje_correcto,2))+ \"%\""
   ]
  },
  {
   "cell_type": "code",
   "execution_count": 88,
   "metadata": {
    "collapsed": false
   },
   "outputs": [
    {
     "name": "stdout",
     "output_type": "stream",
     "text": [
      "54.85%\n"
     ]
    }
   ],
   "source": [
    "shared_rois_2_month = 0\n",
    "for i in range(limit):\n",
    "    if a_matrix[i,i] != -1:\n",
    "        shared_rois_2_month += 1\n",
    "print str(round(shared_rois_2_month*100/limit,2)) + \"%\""
   ]
  },
  {
   "cell_type": "markdown",
   "metadata": {},
   "source": [
    "### Análisis de resultados con 2 rois"
   ]
  },
  {
   "cell_type": "code",
   "execution_count": 22,
   "metadata": {
    "collapsed": false
   },
   "outputs": [],
   "source": [
    "x = np.array(identified_indexs)\n",
    "y = np.bincount(x)\n",
    "ii = np.nonzero(y)[0]"
   ]
  },
  {
   "cell_type": "code",
   "execution_count": 23,
   "metadata": {
    "collapsed": true
   },
   "outputs": [],
   "source": [
    "frequency_correct = zip(ii,y[ii]) \n",
    "counter = 0\n",
    "ncounter = 0\n",
    "freq_max_1 = 0\n",
    "freq_max_2 = 0\n",
    "freq_max_3 = 0\n",
    "for element in frequency_correct:\n",
    "    if(element[1]>1):\n",
    "        counter +=1\n",
    "        ncounter += element[1]"
   ]
  },
  {
   "cell_type": "code",
   "execution_count": 24,
   "metadata": {
    "collapsed": true
   },
   "outputs": [
    {
     "data": {
      "text/plain": [
       "[(0, 1350),\n",
       " (4330, 44),\n",
       " (800, 33),\n",
       " (1442, 13),\n",
       " (3057, 13),\n",
       " (1938, 12),\n",
       " (3900, 12),\n",
       " (2613, 11),\n",
       " (586, 10),\n",
       " (1726, 9),\n",
       " (1645, 8),\n",
       " (4920, 8),\n",
       " (611, 7),\n",
       " (618, 7),\n",
       " (2418, 7),\n",
       " (2809, 7),\n",
       " (3646, 7),\n",
       " (4856, 7),\n",
       " (462, 6),\n",
       " (580, 6),\n",
       " (980, 6),\n",
       " (2110, 6),\n",
       " (301, 5),\n",
       " (424, 5),\n",
       " (784, 5),\n",
       " (1209, 5),\n",
       " (1551, 5),\n",
       " (1658, 5),\n",
       " (2132, 5),\n",
       " (2150, 5),\n",
       " (2192, 5),\n",
       " (2303, 5),\n",
       " (2756, 5),\n",
       " (2816, 5),\n",
       " (3355, 5),\n",
       " (3510, 5),\n",
       " (3786, 5),\n",
       " (4733, 5),\n",
       " (384, 4),\n",
       " (889, 4),\n",
       " (940, 4),\n",
       " (1306, 4),\n",
       " (1385, 4),\n",
       " (1694, 4),\n",
       " (2366, 4),\n",
       " (2373, 4),\n",
       " (2627, 4),\n",
       " (3014, 4),\n",
       " (3197, 4),\n",
       " (3304, 4),\n",
       " (3327, 4),\n",
       " (3536, 4),\n",
       " (3589, 4),\n",
       " (3902, 4),\n",
       " (4103, 4),\n",
       " (4430, 4),\n",
       " (4729, 4),\n",
       " (4763, 4),\n",
       " (4850, 4),\n",
       " (4944, 4),\n",
       " (5056, 4),\n",
       " (5082, 4),\n",
       " (5085, 4),\n",
       " (5107, 4),\n",
       " (5111, 4),\n",
       " (5129, 4),\n",
       " (11, 3),\n",
       " (18, 3),\n",
       " (94, 3),\n",
       " (98, 3),\n",
       " (146, 3),\n",
       " (230, 3),\n",
       " (241, 3),\n",
       " (249, 3),\n",
       " (269, 3),\n",
       " (383, 3),\n",
       " (401, 3),\n",
       " (440, 3),\n",
       " (475, 3),\n",
       " (487, 3),\n",
       " (506, 3),\n",
       " (510, 3),\n",
       " (525, 3),\n",
       " (546, 3),\n",
       " (587, 3),\n",
       " (624, 3),\n",
       " (636, 3),\n",
       " (699, 3),\n",
       " (746, 3),\n",
       " (873, 3),\n",
       " (1024, 3),\n",
       " (1069, 3),\n",
       " (1085, 3),\n",
       " (1121, 3),\n",
       " (1195, 3),\n",
       " (1203, 3),\n",
       " (1242, 3),\n",
       " (1269, 3),\n",
       " (1284, 3),\n",
       " (1295, 3),\n",
       " (1314, 3),\n",
       " (1354, 3),\n",
       " (1432, 3),\n",
       " (1518, 3),\n",
       " (1525, 3),\n",
       " (1614, 3),\n",
       " (1624, 3),\n",
       " (1730, 3),\n",
       " (1754, 3),\n",
       " (1757, 3),\n",
       " (1764, 3),\n",
       " (1778, 3),\n",
       " (1813, 3),\n",
       " (1846, 3),\n",
       " (1877, 3),\n",
       " (1929, 3),\n",
       " (1933, 3),\n",
       " (1939, 3),\n",
       " (1968, 3),\n",
       " (2020, 3),\n",
       " (2077, 3),\n",
       " (2090, 3),\n",
       " (2231, 3),\n",
       " (2325, 3),\n",
       " (2372, 3),\n",
       " (2386, 3),\n",
       " (2510, 3),\n",
       " (2599, 3),\n",
       " (2827, 3),\n",
       " (2959, 3),\n",
       " (2966, 3),\n",
       " (2981, 3),\n",
       " (3085, 3),\n",
       " (3237, 3),\n",
       " (3279, 3),\n",
       " (3321, 3),\n",
       " (3374, 3),\n",
       " (3386, 3),\n",
       " (3413, 3),\n",
       " (3580, 3),\n",
       " (3642, 3),\n",
       " (3668, 3),\n",
       " (3733, 3),\n",
       " (3768, 3),\n",
       " (3773, 3),\n",
       " (3775, 3),\n",
       " (3998, 3),\n",
       " (4059, 3),\n",
       " (4068, 3),\n",
       " (4080, 3),\n",
       " (4108, 3),\n",
       " (4176, 3),\n",
       " (4194, 3),\n",
       " (4248, 3),\n",
       " (4291, 3),\n",
       " (4297, 3),\n",
       " (4305, 3),\n",
       " (4329, 3),\n",
       " (4358, 3),\n",
       " (4376, 3),\n",
       " (4415, 3),\n",
       " (4473, 3),\n",
       " (4498, 3),\n",
       " (4519, 3),\n",
       " (4527, 3),\n",
       " (4544, 3),\n",
       " (4635, 3),\n",
       " (4660, 3),\n",
       " (4718, 3),\n",
       " (4853, 3),\n",
       " (4860, 3),\n",
       " (4918, 3),\n",
       " (5002, 3),\n",
       " (5015, 3),\n",
       " (6, 2),\n",
       " (23, 2),\n",
       " (55, 2),\n",
       " (60, 2),\n",
       " (62, 2),\n",
       " (83, 2),\n",
       " (103, 2),\n",
       " (110, 2),\n",
       " (131, 2),\n",
       " (136, 2),\n",
       " (143, 2),\n",
       " (165, 2),\n",
       " (222, 2),\n",
       " (228, 2),\n",
       " (268, 2),\n",
       " (270, 2),\n",
       " (282, 2),\n",
       " (283, 2),\n",
       " (308, 2),\n",
       " (335, 2),\n",
       " (343, 2),\n",
       " (344, 2),\n",
       " (353, 2),\n",
       " (356, 2),\n",
       " (388, 2),\n",
       " (410, 2),\n",
       " (426, 2),\n",
       " (427, 2),\n",
       " (436, 2),\n",
       " (439, 2),\n",
       " (470, 2),\n",
       " (483, 2),\n",
       " (493, 2),\n",
       " (517, 2),\n",
       " (518, 2),\n",
       " (535, 2),\n",
       " (539, 2),\n",
       " (542, 2),\n",
       " (548, 2),\n",
       " (585, 2),\n",
       " (588, 2),\n",
       " (595, 2),\n",
       " (599, 2),\n",
       " (607, 2),\n",
       " (627, 2),\n",
       " (635, 2),\n",
       " (650, 2),\n",
       " (651, 2),\n",
       " (660, 2),\n",
       " (686, 2),\n",
       " (689, 2),\n",
       " (709, 2),\n",
       " (735, 2),\n",
       " (736, 2),\n",
       " (738, 2),\n",
       " (743, 2),\n",
       " (760, 2),\n",
       " (770, 2),\n",
       " (775, 2),\n",
       " (796, 2),\n",
       " (804, 2),\n",
       " (810, 2),\n",
       " (825, 2),\n",
       " (845, 2),\n",
       " (879, 2),\n",
       " (908, 2),\n",
       " (943, 2),\n",
       " (954, 2),\n",
       " (957, 2),\n",
       " (971, 2),\n",
       " (1005, 2),\n",
       " (1028, 2),\n",
       " (1082, 2),\n",
       " (1097, 2),\n",
       " (1154, 2),\n",
       " (1159, 2),\n",
       " (1179, 2),\n",
       " (1196, 2),\n",
       " (1248, 2),\n",
       " (1250, 2),\n",
       " (1265, 2),\n",
       " (1298, 2),\n",
       " (1301, 2),\n",
       " (1307, 2),\n",
       " (1335, 2),\n",
       " (1361, 2),\n",
       " (1370, 2),\n",
       " (1372, 2),\n",
       " (1374, 2),\n",
       " (1384, 2),\n",
       " (1387, 2),\n",
       " (1389, 2),\n",
       " (1419, 2),\n",
       " (1430, 2),\n",
       " (1435, 2),\n",
       " (1445, 2),\n",
       " (1468, 2),\n",
       " (1469, 2),\n",
       " (1482, 2),\n",
       " (1489, 2),\n",
       " (1499, 2),\n",
       " (1517, 2),\n",
       " (1545, 2),\n",
       " (1549, 2),\n",
       " (1565, 2),\n",
       " (1620, 2),\n",
       " (1622, 2),\n",
       " (1623, 2),\n",
       " (1625, 2),\n",
       " (1627, 2),\n",
       " (1667, 2),\n",
       " (1695, 2),\n",
       " (1705, 2),\n",
       " (1743, 2),\n",
       " (1745, 2),\n",
       " (1751, 2),\n",
       " (1758, 2),\n",
       " (1760, 2),\n",
       " (1765, 2),\n",
       " (1776, 2),\n",
       " (1787, 2),\n",
       " (1795, 2),\n",
       " (1804, 2),\n",
       " (1820, 2),\n",
       " (1831, 2),\n",
       " (1841, 2),\n",
       " (1855, 2),\n",
       " (1865, 2),\n",
       " (1885, 2),\n",
       " (1902, 2),\n",
       " (1922, 2),\n",
       " (1923, 2),\n",
       " (1927, 2),\n",
       " (1941, 2),\n",
       " (1942, 2),\n",
       " (1964, 2),\n",
       " (1969, 2),\n",
       " (1973, 2),\n",
       " (1984, 2),\n",
       " (1989, 2),\n",
       " (1990, 2),\n",
       " (1999, 2),\n",
       " (2010, 2),\n",
       " (2027, 2),\n",
       " (2067, 2),\n",
       " (2074, 2),\n",
       " (2075, 2),\n",
       " (2084, 2),\n",
       " (2101, 2),\n",
       " (2108, 2),\n",
       " (2123, 2),\n",
       " (2130, 2),\n",
       " (2148, 2),\n",
       " (2151, 2),\n",
       " (2156, 2),\n",
       " (2163, 2),\n",
       " (2165, 2),\n",
       " (2207, 2),\n",
       " (2232, 2),\n",
       " (2251, 2),\n",
       " (2254, 2),\n",
       " (2277, 2),\n",
       " (2280, 2),\n",
       " (2285, 2),\n",
       " (2291, 2),\n",
       " (2300, 2),\n",
       " (2301, 2),\n",
       " (2311, 2),\n",
       " (2339, 2),\n",
       " (2385, 2),\n",
       " (2404, 2),\n",
       " (2412, 2),\n",
       " (2441, 2),\n",
       " (2465, 2),\n",
       " (2477, 2),\n",
       " (2489, 2),\n",
       " (2525, 2),\n",
       " (2528, 2),\n",
       " (2547, 2),\n",
       " (2550, 2),\n",
       " (2553, 2),\n",
       " (2562, 2),\n",
       " (2595, 2),\n",
       " (2600, 2),\n",
       " (2601, 2),\n",
       " (2629, 2),\n",
       " (2661, 2),\n",
       " (2706, 2),\n",
       " (2709, 2),\n",
       " (2717, 2),\n",
       " (2719, 2),\n",
       " (2728, 2),\n",
       " (2743, 2),\n",
       " (2746, 2),\n",
       " (2751, 2),\n",
       " (2752, 2),\n",
       " (2767, 2),\n",
       " (2769, 2),\n",
       " (2780, 2),\n",
       " (2801, 2),\n",
       " (2821, 2),\n",
       " (2831, 2),\n",
       " (2834, 2),\n",
       " (2850, 2),\n",
       " (2851, 2),\n",
       " (2853, 2),\n",
       " (2854, 2),\n",
       " (2857, 2),\n",
       " (2859, 2),\n",
       " (2867, 2),\n",
       " (2881, 2),\n",
       " (2890, 2),\n",
       " (2895, 2),\n",
       " (2902, 2),\n",
       " (2912, 2),\n",
       " (2929, 2),\n",
       " (2932, 2),\n",
       " (2958, 2),\n",
       " (2960, 2),\n",
       " (2970, 2),\n",
       " (3009, 2),\n",
       " (3010, 2),\n",
       " (3019, 2),\n",
       " (3027, 2),\n",
       " (3030, 2),\n",
       " (3032, 2),\n",
       " (3034, 2),\n",
       " (3091, 2),\n",
       " (3092, 2),\n",
       " (3094, 2),\n",
       " (3095, 2),\n",
       " (3118, 2),\n",
       " (3128, 2),\n",
       " (3149, 2),\n",
       " (3158, 2),\n",
       " (3176, 2),\n",
       " (3209, 2),\n",
       " (3213, 2),\n",
       " (3218, 2),\n",
       " (3253, 2),\n",
       " (3274, 2),\n",
       " (3299, 2),\n",
       " (3311, 2),\n",
       " (3313, 2),\n",
       " (3314, 2),\n",
       " (3318, 2),\n",
       " (3344, 2),\n",
       " (3345, 2),\n",
       " (3361, 2),\n",
       " (3379, 2),\n",
       " (3389, 2),\n",
       " (3412, 2),\n",
       " (3417, 2),\n",
       " (3420, 2),\n",
       " (3457, 2),\n",
       " (3462, 2),\n",
       " (3467, 2),\n",
       " (3501, 2),\n",
       " (3520, 2),\n",
       " (3550, 2),\n",
       " (3566, 2),\n",
       " (3572, 2),\n",
       " (3577, 2),\n",
       " (3594, 2),\n",
       " (3598, 2),\n",
       " (3604, 2),\n",
       " (3622, 2),\n",
       " (3629, 2),\n",
       " (3643, 2),\n",
       " (3661, 2),\n",
       " (3682, 2),\n",
       " (3690, 2),\n",
       " (3715, 2),\n",
       " (3726, 2),\n",
       " (3732, 2),\n",
       " (3740, 2),\n",
       " (3762, 2),\n",
       " (3766, 2),\n",
       " (3769, 2),\n",
       " (3797, 2),\n",
       " (3805, 2),\n",
       " (3820, 2),\n",
       " (3821, 2),\n",
       " (3838, 2),\n",
       " (3842, 2),\n",
       " (3870, 2),\n",
       " (3876, 2),\n",
       " (3907, 2),\n",
       " (3942, 2),\n",
       " (3948, 2),\n",
       " (3975, 2),\n",
       " (3981, 2),\n",
       " (3986, 2),\n",
       " (3999, 2),\n",
       " (4001, 2),\n",
       " (4009, 2),\n",
       " (4017, 2),\n",
       " (4044, 2),\n",
       " (4060, 2),\n",
       " (4099, 2),\n",
       " (4100, 2),\n",
       " (4102, 2),\n",
       " (4106, 2),\n",
       " (4150, 2),\n",
       " (4159, 2),\n",
       " (4179, 2),\n",
       " (4184, 2),\n",
       " (4193, 2),\n",
       " (4218, 2),\n",
       " (4240, 2),\n",
       " (4241, 2),\n",
       " (4282, 2),\n",
       " (4346, 2),\n",
       " (4349, 2),\n",
       " (4353, 2),\n",
       " (4368, 2),\n",
       " (4377, 2),\n",
       " (4421, 2),\n",
       " (4438, 2),\n",
       " (4465, 2),\n",
       " (4466, 2),\n",
       " (4467, 2),\n",
       " (4476, 2),\n",
       " (4485, 2),\n",
       " (4493, 2),\n",
       " (4499, 2),\n",
       " (4503, 2),\n",
       " (4506, 2),\n",
       " (4512, 2),\n",
       " (4520, 2),\n",
       " (4548, 2),\n",
       " (4550, 2),\n",
       " (4559, 2),\n",
       " (4564, 2),\n",
       " (4569, 2),\n",
       " (4571, 2),\n",
       " (4585, 2),\n",
       " (4592, 2),\n",
       " (4648, 2),\n",
       " (4652, 2),\n",
       " (4659, 2),\n",
       " (4701, 2),\n",
       " (4712, 2),\n",
       " (4727, 2),\n",
       " (4730, 2),\n",
       " (4732, 2),\n",
       " (4740, 2),\n",
       " (4757, 2),\n",
       " (4786, 2),\n",
       " (4798, 2),\n",
       " (4799, 2),\n",
       " (4811, 2),\n",
       " (4817, 2),\n",
       " (4822, 2),\n",
       " (4855, 2),\n",
       " (4858, 2),\n",
       " (4862, 2),\n",
       " (4873, 2),\n",
       " (4874, 2),\n",
       " (4886, 2),\n",
       " (4901, 2),\n",
       " (4906, 2),\n",
       " (4932, 2),\n",
       " (4941, 2),\n",
       " (4942, 2),\n",
       " (4958, 2),\n",
       " (4964, 2),\n",
       " (4968, 2),\n",
       " (4969, 2),\n",
       " (4977, 2),\n",
       " (4981, 2),\n",
       " (5017, 2),\n",
       " (5019, 2),\n",
       " (5020, 2),\n",
       " (5067, 2),\n",
       " (5072, 2),\n",
       " (5080, 2),\n",
       " (5137, 2),\n",
       " (5143, 2),\n",
       " (5166, 2),\n",
       " (2, 1),\n",
       " (4, 1),\n",
       " (7, 1),\n",
       " (8, 1),\n",
       " (9, 1),\n",
       " (10, 1),\n",
       " (13, 1),\n",
       " (14, 1),\n",
       " (17, 1),\n",
       " (19, 1),\n",
       " (21, 1),\n",
       " (24, 1),\n",
       " (25, 1),\n",
       " (26, 1),\n",
       " (30, 1),\n",
       " (32, 1),\n",
       " (33, 1),\n",
       " (37, 1),\n",
       " (38, 1),\n",
       " (41, 1),\n",
       " (42, 1),\n",
       " (44, 1),\n",
       " (45, 1),\n",
       " (46, 1),\n",
       " (47, 1),\n",
       " (49, 1),\n",
       " (54, 1),\n",
       " (57, 1),\n",
       " (58, 1),\n",
       " (59, 1),\n",
       " (64, 1),\n",
       " (65, 1),\n",
       " (69, 1),\n",
       " (71, 1),\n",
       " (72, 1),\n",
       " (75, 1),\n",
       " (79, 1),\n",
       " (81, 1),\n",
       " (84, 1),\n",
       " (87, 1),\n",
       " (89, 1),\n",
       " (91, 1),\n",
       " (93, 1),\n",
       " (95, 1),\n",
       " (97, 1),\n",
       " (99, 1),\n",
       " (100, 1),\n",
       " (101, 1),\n",
       " (104, 1),\n",
       " (105, 1),\n",
       " (108, 1),\n",
       " (113, 1),\n",
       " (114, 1),\n",
       " (117, 1),\n",
       " (118, 1),\n",
       " (122, 1),\n",
       " (125, 1),\n",
       " (126, 1),\n",
       " (127, 1),\n",
       " (128, 1),\n",
       " (130, 1),\n",
       " (132, 1),\n",
       " (133, 1),\n",
       " (138, 1),\n",
       " (140, 1),\n",
       " (144, 1),\n",
       " (145, 1),\n",
       " (147, 1),\n",
       " (154, 1),\n",
       " (155, 1),\n",
       " (159, 1),\n",
       " (161, 1),\n",
       " (162, 1),\n",
       " (163, 1),\n",
       " (164, 1),\n",
       " (166, 1),\n",
       " (169, 1),\n",
       " (171, 1),\n",
       " (172, 1),\n",
       " (174, 1),\n",
       " (176, 1),\n",
       " (177, 1),\n",
       " (179, 1),\n",
       " (180, 1),\n",
       " (181, 1),\n",
       " (184, 1),\n",
       " (185, 1),\n",
       " (187, 1),\n",
       " (188, 1),\n",
       " (189, 1),\n",
       " (190, 1),\n",
       " (192, 1),\n",
       " (193, 1),\n",
       " (202, 1),\n",
       " (206, 1),\n",
       " (207, 1),\n",
       " (209, 1),\n",
       " (210, 1),\n",
       " (211, 1),\n",
       " (212, 1),\n",
       " (216, 1),\n",
       " (218, 1),\n",
       " (219, 1),\n",
       " (226, 1),\n",
       " (233, 1),\n",
       " (235, 1),\n",
       " (236, 1),\n",
       " (238, 1),\n",
       " (239, 1),\n",
       " (240, 1),\n",
       " (244, 1),\n",
       " (245, 1),\n",
       " (246, 1),\n",
       " (252, 1),\n",
       " (253, 1),\n",
       " (256, 1),\n",
       " (258, 1),\n",
       " (260, 1),\n",
       " (267, 1),\n",
       " (272, 1),\n",
       " (277, 1),\n",
       " (279, 1),\n",
       " (281, 1),\n",
       " (285, 1),\n",
       " (287, 1),\n",
       " (293, 1),\n",
       " (294, 1),\n",
       " (295, 1),\n",
       " (296, 1),\n",
       " (297, 1),\n",
       " (306, 1),\n",
       " (307, 1),\n",
       " (310, 1),\n",
       " (312, 1),\n",
       " (315, 1),\n",
       " (318, 1),\n",
       " (319, 1),\n",
       " (323, 1),\n",
       " (327, 1),\n",
       " (328, 1),\n",
       " (331, 1),\n",
       " (333, 1),\n",
       " (337, 1),\n",
       " (338, 1),\n",
       " (340, 1),\n",
       " (342, 1),\n",
       " (346, 1),\n",
       " (347, 1),\n",
       " (349, 1),\n",
       " (352, 1),\n",
       " (354, 1),\n",
       " (358, 1),\n",
       " (360, 1),\n",
       " (363, 1),\n",
       " (367, 1),\n",
       " (371, 1),\n",
       " (374, 1),\n",
       " (375, 1),\n",
       " (376, 1),\n",
       " (377, 1),\n",
       " (378, 1),\n",
       " (379, 1),\n",
       " (380, 1),\n",
       " (385, 1),\n",
       " (386, 1),\n",
       " (387, 1),\n",
       " (389, 1),\n",
       " (393, 1),\n",
       " (394, 1),\n",
       " (395, 1),\n",
       " (397, 1),\n",
       " (399, 1),\n",
       " (400, 1),\n",
       " (402, 1),\n",
       " (403, 1),\n",
       " (407, 1),\n",
       " (408, 1),\n",
       " (411, 1),\n",
       " (414, 1),\n",
       " (415, 1),\n",
       " (422, 1),\n",
       " (429, 1),\n",
       " (431, 1),\n",
       " (437, 1),\n",
       " (447, 1),\n",
       " (448, 1),\n",
       " (451, 1),\n",
       " (453, 1),\n",
       " (457, 1),\n",
       " (461, 1),\n",
       " (463, 1),\n",
       " (464, 1),\n",
       " (465, 1),\n",
       " (466, 1),\n",
       " (467, 1),\n",
       " (472, 1),\n",
       " (476, 1),\n",
       " (477, 1),\n",
       " (479, 1),\n",
       " (484, 1),\n",
       " (486, 1),\n",
       " (489, 1),\n",
       " (490, 1),\n",
       " (495, 1),\n",
       " (496, 1),\n",
       " (499, 1),\n",
       " (500, 1),\n",
       " (501, 1),\n",
       " (503, 1),\n",
       " (508, 1),\n",
       " (509, 1),\n",
       " (515, 1),\n",
       " (520, 1),\n",
       " (526, 1),\n",
       " (527, 1),\n",
       " (528, 1),\n",
       " (529, 1),\n",
       " (530, 1),\n",
       " (532, 1),\n",
       " (536, 1),\n",
       " (538, 1),\n",
       " (541, 1),\n",
       " (544, 1),\n",
       " (552, 1),\n",
       " (553, 1),\n",
       " (559, 1),\n",
       " (560, 1),\n",
       " (561, 1),\n",
       " (563, 1),\n",
       " (568, 1),\n",
       " (572, 1),\n",
       " (574, 1),\n",
       " (575, 1),\n",
       " (576, 1),\n",
       " (577, 1),\n",
       " (578, 1),\n",
       " (579, 1),\n",
       " (581, 1),\n",
       " (583, 1),\n",
       " (589, 1),\n",
       " (591, 1),\n",
       " (592, 1),\n",
       " (593, 1),\n",
       " (597, 1),\n",
       " (604, 1),\n",
       " (605, 1),\n",
       " (606, 1),\n",
       " (609, 1),\n",
       " (612, 1),\n",
       " (613, 1),\n",
       " (614, 1),\n",
       " (620, 1),\n",
       " (626, 1),\n",
       " (628, 1),\n",
       " (630, 1),\n",
       " (631, 1),\n",
       " (634, 1),\n",
       " (637, 1),\n",
       " (638, 1),\n",
       " (639, 1),\n",
       " (640, 1),\n",
       " (641, 1),\n",
       " (644, 1),\n",
       " (645, 1),\n",
       " (648, 1),\n",
       " (661, 1),\n",
       " (664, 1),\n",
       " (665, 1),\n",
       " (666, 1),\n",
       " (668, 1),\n",
       " (670, 1),\n",
       " (671, 1),\n",
       " (676, 1),\n",
       " (682, 1),\n",
       " (684, 1),\n",
       " (688, 1),\n",
       " (691, 1),\n",
       " (692, 1),\n",
       " (693, 1),\n",
       " (697, 1),\n",
       " (698, 1),\n",
       " (701, 1),\n",
       " (702, 1),\n",
       " (703, 1),\n",
       " (707, 1),\n",
       " (708, 1),\n",
       " (710, 1),\n",
       " (712, 1),\n",
       " (713, 1),\n",
       " (714, 1),\n",
       " (715, 1),\n",
       " (716, 1),\n",
       " (719, 1),\n",
       " (720, 1),\n",
       " (724, 1),\n",
       " (725, 1),\n",
       " (729, 1),\n",
       " (732, 1),\n",
       " (734, 1),\n",
       " (739, 1),\n",
       " (741, 1),\n",
       " (749, 1),\n",
       " (751, 1),\n",
       " (756, 1),\n",
       " (758, 1),\n",
       " (761, 1),\n",
       " (763, 1),\n",
       " (765, 1),\n",
       " (766, 1),\n",
       " (767, 1),\n",
       " (772, 1),\n",
       " (776, 1),\n",
       " (777, 1),\n",
       " (778, 1),\n",
       " (780, 1),\n",
       " (782, 1),\n",
       " (787, 1),\n",
       " (788, 1),\n",
       " (789, 1),\n",
       " (793, 1),\n",
       " (798, 1),\n",
       " (801, 1),\n",
       " (802, 1),\n",
       " (803, 1),\n",
       " (806, 1),\n",
       " (807, 1),\n",
       " (808, 1),\n",
       " (809, 1),\n",
       " (812, 1),\n",
       " (814, 1),\n",
       " (817, 1),\n",
       " (818, 1),\n",
       " (820, 1),\n",
       " (826, 1),\n",
       " (827, 1),\n",
       " (832, 1),\n",
       " (833, 1),\n",
       " (834, 1),\n",
       " (836, 1),\n",
       " (842, 1),\n",
       " (843, 1),\n",
       " (844, 1),\n",
       " (847, 1),\n",
       " (848, 1),\n",
       " (851, 1),\n",
       " (852, 1),\n",
       " (853, 1),\n",
       " (854, 1),\n",
       " (858, 1),\n",
       " (862, 1),\n",
       " (863, 1),\n",
       " (864, 1),\n",
       " (865, 1),\n",
       " (866, 1),\n",
       " (868, 1),\n",
       " (869, 1),\n",
       " (870, 1),\n",
       " (872, 1),\n",
       " (877, 1),\n",
       " (878, 1),\n",
       " (882, 1),\n",
       " (883, 1),\n",
       " (884, 1),\n",
       " (885, 1),\n",
       " (886, 1),\n",
       " (888, 1),\n",
       " (891, 1),\n",
       " (892, 1),\n",
       " (895, 1),\n",
       " (898, 1),\n",
       " (900, 1),\n",
       " (905, 1),\n",
       " (912, 1),\n",
       " (916, 1),\n",
       " (918, 1),\n",
       " (920, 1),\n",
       " (921, 1),\n",
       " (923, 1),\n",
       " (924, 1),\n",
       " (925, 1),\n",
       " (929, 1),\n",
       " (930, 1),\n",
       " (931, 1),\n",
       " (933, 1),\n",
       " (935, 1),\n",
       " (936, 1),\n",
       " (937, 1),\n",
       " (941, 1),\n",
       " (946, 1),\n",
       " (947, 1),\n",
       " (948, 1),\n",
       " (949, 1),\n",
       " (950, 1),\n",
       " (951, 1),\n",
       " (956, 1),\n",
       " (958, 1),\n",
       " (961, 1),\n",
       " (966, 1),\n",
       " (968, 1),\n",
       " (969, 1),\n",
       " (972, 1),\n",
       " (973, 1),\n",
       " (974, 1),\n",
       " (976, 1),\n",
       " (979, 1),\n",
       " (982, 1),\n",
       " (983, 1),\n",
       " (984, 1),\n",
       " (986, 1),\n",
       " (988, 1),\n",
       " (989, 1),\n",
       " (990, 1),\n",
       " (993, 1),\n",
       " (994, 1),\n",
       " (997, 1),\n",
       " (1001, 1),\n",
       " (1004, 1),\n",
       " (1006, 1),\n",
       " (1007, 1),\n",
       " (1012, 1),\n",
       " (1013, 1),\n",
       " (1015, 1),\n",
       " (1018, 1),\n",
       " (1020, 1),\n",
       " (1021, 1),\n",
       " (1026, 1),\n",
       " (1030, 1),\n",
       " (1032, 1),\n",
       " (1034, 1),\n",
       " (1036, 1),\n",
       " (1039, 1),\n",
       " (1040, 1),\n",
       " (1041, 1),\n",
       " (1043, 1),\n",
       " (1044, 1),\n",
       " (1047, 1),\n",
       " (1050, 1),\n",
       " (1051, 1),\n",
       " (1052, 1),\n",
       " (1055, 1),\n",
       " (1058, 1),\n",
       " (1062, 1),\n",
       " (1064, 1),\n",
       " (1067, 1),\n",
       " (1068, 1),\n",
       " (1072, 1),\n",
       " ...]"
      ]
     },
     "execution_count": 24,
     "metadata": {},
     "output_type": "execute_result"
    }
   ],
   "source": [
    "frequency_correct.sort(key = lambda t: t[1], reverse=True)\n",
    "frequency_correct"
   ]
  },
  {
   "cell_type": "markdown",
   "metadata": {},
   "source": [
    "### Medir distancia de los descriptores del para casos de match"
   ]
  },
  {
   "cell_type": "code",
   "execution_count": 25,
   "metadata": {
    "collapsed": true
   },
   "outputs": [],
   "source": [
    "min_distance_features_correct = []\n",
    "std_distance_features_correct = []\n",
    "max_distance_features_correct = []\n",
    "mean_distance_features_correct = []\n",
    "euclidean_distance_matrix = abs(abril_vectors-septiembre_vectors)\n",
    "#obtengo para cada feature las estadisticas de los identificados correctamente\n",
    "for j in range(N_FEATURES):\n",
    "    min_distance_features_correct.append(min(euclidean_distance_matrix[:,j]))\n",
    "    std_distance_features_correct.append(np.std(euclidean_distance_matrix[:,j]))\n",
    "    max_distance_features_correct.append(max(euclidean_distance_matrix[:,j]))\n",
    "    mean_distance_features_correct.append(np.mean(euclidean_distance_matrix[:,j]))"
   ]
  },
  {
   "cell_type": "markdown",
   "metadata": {},
   "source": [
    "### Medir distancia de los descriptores en comparación a todos"
   ]
  },
  {
   "cell_type": "code",
   "execution_count": 26,
   "metadata": {
    "collapsed": true
   },
   "outputs": [],
   "source": [
    "min_distance_features = []\n",
    "std_distance_features = []\n",
    "max_distance_features = []\n",
    "mean_distance_features = []\n",
    "distance_feature_matrix = np.zeros((limit, N_FEATURES))\n",
    "#obtengo para cada feature las distancias de cada feature en general\n",
    "for j in range(N_FEATURES):\n",
    "    #resto el valor de la feature j,i a septiembre j guardo la distancia\n",
    "    for i in range(limit):\n",
    "        the_dist = np.mean(abs(septiembre_vectors[:,j]-abril_vectors[i,j]))\n",
    "        distance_feature_matrix[i,j] = the_dist\n",
    "    min_distance_features.append(min(distance_feature_matrix[:,j]))\n",
    "    std_distance_features.append(np.std(distance_feature_matrix[:,j]))\n",
    "    max_distance_features.append(max(distance_feature_matrix[:,j]))\n",
    "    mean_distance_features.append(np.mean(distance_feature_matrix[:,j]))"
   ]
  },
  {
   "cell_type": "markdown",
   "metadata": {},
   "source": [
    "### Medir distancia de los descriptores para casos de vecinos"
   ]
  },
  {
   "cell_type": "code",
   "execution_count": 44,
   "metadata": {
    "collapsed": false
   },
   "outputs": [],
   "source": [
    "min_distance_features_neighbour = []\n",
    "std_distance_features_neighbour = []\n",
    "max_distance_features_neighbour = []\n",
    "mean_distance_features_neighbour = []\n",
    "distance_feature_matrix = np.zeros((limit, N_FEATURES))\n",
    "\n",
    "for i in range(limit):\n",
    "    neighbours_i = get_neighbours_index(abril_the_rois,shared_rois,i,2)\n",
    "    if len(neighbours_i) > 0:\n",
    "        #todo:debiese ser arreglo de ceros \n",
    "        sum_dist = np.zeros(N_FEATURES)\n",
    "        #todo:debiese no se si esto funcione\n",
    "        for n in neighbours_i:\n",
    "            sum_dist += abs(septiembre_vectors[n,:]-abril_vectors[i,:])\n",
    "        distance_feature_matrix[i,:] = sum_dist/len(neighbours_i)\n",
    "        #todo: valor nan? si no tiene vecinitos\n",
    "    \n",
    "for j in range(N_FEATURES):\n",
    "    min_distance_features_neighbour.append(min(distance_feature_matrix[:,j]))\n",
    "    std_distance_features_neighbour.append(np.std(distance_feature_matrix[:,j]))\n",
    "    max_distance_features_neighbour.append(max(distance_feature_matrix[:,j]))\n",
    "    mean_distance_features_neighbour.append(np.mean(distance_feature_matrix[:,j]))\n",
    "    "
   ]
  },
  {
   "cell_type": "code",
   "execution_count": 51,
   "metadata": {
    "collapsed": false
   },
   "outputs": [
    {
     "data": {
      "text/plain": [
       "nan"
      ]
     },
     "execution_count": 51,
     "metadata": {},
     "output_type": "execute_result"
    }
   ],
   "source": [
    "np.nan"
   ]
  },
  {
   "cell_type": "markdown",
   "metadata": {},
   "source": [
    "### Medir distancia de los descriptores para casos correctos solo considerando los que no cambian de rois"
   ]
  },
  {
   "cell_type": "code",
   "execution_count": 54,
   "metadata": {
    "collapsed": false
   },
   "outputs": [],
   "source": [
    "min_distance_features_correct_2rois = []\n",
    "std_distance_features_correct_2rois = []\n",
    "max_distance_features_correct_2rois = []\n",
    "mean_distance_features_correct_2rois = []\n",
    "euclidean_distance_matrix = abs(abril_vectors-septiembre_vectors)\n",
    "distance_feature_matrix = np.zeros((limit, N_FEATURES))\n",
    "\n",
    "#obtengo para cada feature las estadisticas de los identificados correctamente\n",
    "for i in range(limit):\n",
    "    neighbours_i = get_neighbours_index(abril_the_rois,shared_rois,i,2)\n",
    "    if len(neighbours_i) > 0:\n",
    "        distance_feature_matrix[i,:] = euclidean_distance_matrix[i,:]\n",
    "    else:\n",
    "        distance_feature_matrix[i,:] = np.nan\n",
    "\n",
    "for j in range(N_FEATURES):\n",
    "    min_distance_features_correct_2rois.append(np.nanmin(euclidean_distance_matrix[:,j]))\n",
    "    std_distance_features_correct_2rois.append(np.nanstd(euclidean_distance_matrix[:,j]))\n",
    "    max_distance_features_correct_2rois.append(np.nanmax(euclidean_distance_matrix[:,j]))\n",
    "    mean_distance_features_correct_2rois.append(np.nanmean(euclidean_distance_matrix[:,j]))"
   ]
  },
  {
   "cell_type": "code",
   "execution_count": 63,
   "metadata": {
    "collapsed": false
   },
   "outputs": [
    {
     "data": {
      "text/plain": [
       "[<matplotlib.lines.Line2D at 0x7ff325f39550>]"
      ]
     },
     "execution_count": 63,
     "metadata": {},
     "output_type": "execute_result"
    },
    {
     "data": {
      "image/png": "[encoded data removed]",
      "text/plain": [
       "<matplotlib.figure.Figure at 0x7ff326015990>"
      ]
     },
     "metadata": {},
     "output_type": "display_data"
    }
   ],
   "source": [
    "plt.figure()\n",
    "plt.plot(min_distance_features_correct)\n",
    "plt.hold(True)\n",
    "plt.plot(min_distance_features)\n",
    "plt.plot(min_distance_features_neighbour)\n",
    "plt.plot(min_distance_features_correct_2rois)"
   ]
  },
  {
   "cell_type": "code",
   "execution_count": 68,
   "metadata": {
    "collapsed": false
   },
   "outputs": [
    {
     "data": {
      "text/plain": [
       "[<matplotlib.lines.Line2D at 0x7ff325b79550>]"
      ]
     },
     "execution_count": 68,
     "metadata": {},
     "output_type": "execute_result"
    },
    {
     "data": {
      "image/png": "[encoded data removed]",
      "text/plain": [
       "<matplotlib.figure.Figure at 0x7ff325d31cd0>"
      ]
     },
     "metadata": {},
     "output_type": "display_data"
    }
   ],
   "source": [
    "plt.figure()\n",
    "plt.plot(max_distance_features_correct)\n",
    "plt.hold(True)\n",
    "plt.plot(max_distance_features)\n",
    "plt.plot(max_distance_features_neighbour)\n",
    "#plt.plot(max_distance_features_correct_2rois)"
   ]
  },
  {
   "cell_type": "code",
   "execution_count": 82,
   "metadata": {
    "collapsed": false
   },
   "outputs": [
    {
     "data": {
      "text/plain": [
       "[<matplotlib.lines.Line2D at 0x7ff325035050>]"
      ]
     },
     "execution_count": 82,
     "metadata": {},
     "output_type": "execute_result"
    },
    {
     "data": {
      "image/png": "[encoded data removed]",
      "text/plain": [
       "<matplotlib.figure.Figure at 0x7ff3250f6f10>"
      ]
     },
     "metadata": {},
     "output_type": "display_data"
    }
   ],
   "source": [
    "plt.figure()\n",
    "plt.plot(mean_distance_features_correct)\n",
    "plt.hold(True)\n",
    "plt.plot(mean_distance_features)\n",
    "plt.plot(mean_distance_features_neighbour)\n",
    "plt.plot(mean_distance_features_correct_2rois)\n"
   ]
  },
  {
   "cell_type": "code",
   "execution_count": 50,
   "metadata": {
    "collapsed": false
   },
   "outputs": [
    {
     "data": {
      "text/plain": [
       "[<matplotlib.lines.Line2D at 0x7ff32637ea50>]"
      ]
     },
     "execution_count": 50,
     "metadata": {},
     "output_type": "execute_result"
    },
    {
     "data": {
      "image/png": "[encoded data removed]",
      "text/plain": [
       "<matplotlib.figure.Figure at 0x7ff3262fd690>"
      ]
     },
     "metadata": {},
     "output_type": "display_data"
    }
   ],
   "source": [
    "plt.figure()\n",
    "plt.plot(std_distance_features_correct)\n",
    "plt.hold(True)\n",
    "plt.plot(std_distance_features)\n",
    "plt.plot(std_distance_features_neighbour)"
   ]
  },
  {
   "cell_type": "markdown",
   "metadata": {
    "collapsed": true
   },
   "source": [
    "### Histogramas de distancia por características"
   ]
  },
  {
   "cell_type": "code",
   "execution_count": 27,
   "metadata": {
    "collapsed": false
   },
   "outputs": [
    {
     "data": {
      "text/plain": [
       "(array([  2.73300000e+03,   1.45700000e+03,   6.21000000e+02,\n",
       "          2.25000000e+02,   9.10000000e+01,   3.00000000e+01,\n",
       "          6.00000000e+00,   3.00000000e+00,   2.00000000e+00,\n",
       "          1.00000000e+00]),\n",
       " array([ 0.        ,  0.09177064,  0.18354127,  0.27531191,  0.36708254,\n",
       "         0.45885318,  0.55062382,  0.64239445,  0.73416509,  0.82593573,\n",
       "         0.91770636]),\n",
       " <a list of 10 Patch objects>)"
      ]
     },
     "execution_count": 27,
     "metadata": {},
     "output_type": "execute_result"
    },
    {
     "data": {
      "image/png": "[encoded data removed]",
      "text/plain": [
       "<matplotlib.figure.Figure at 0x7f909f6c0690>"
      ]
     },
     "metadata": {},
     "output_type": "display_data"
    }
   ],
   "source": [
    "plt.hist(euclidean_distance_matrix[:,0])"
   ]
  },
  {
   "cell_type": "code",
   "execution_count": 28,
   "metadata": {
    "collapsed": false
   },
   "outputs": [
    {
     "data": {
      "text/plain": [
       "(array([  3.06900000e+03,   1.25000000e+03,   5.20000000e+02,\n",
       "          2.03000000e+02,   7.30000000e+01,   3.80000000e+01,\n",
       "          1.30000000e+01,   1.00000000e+00,   1.00000000e+00,\n",
       "          1.00000000e+00]),\n",
       " array([  1.21461306e-05,   7.33373035e-02,   1.46662461e-01,\n",
       "          2.19987618e-01,   2.93312776e-01,   3.66637933e-01,\n",
       "          4.39963090e-01,   5.13288248e-01,   5.86613405e-01,\n",
       "          6.59938562e-01,   7.33263720e-01]),\n",
       " <a list of 10 Patch objects>)"
      ]
     },
     "execution_count": 28,
     "metadata": {},
     "output_type": "execute_result"
    },
    {
     "data": {
      "image/png": "[encoded data removed]",
      "text/plain": [
       "<matplotlib.figure.Figure at 0x7f909fe7da10>"
      ]
     },
     "metadata": {},
     "output_type": "display_data"
    }
   ],
   "source": [
    "plt.hist(euclidean_distance_matrix[:,1])"
   ]
  },
  {
   "cell_type": "code",
   "execution_count": 29,
   "metadata": {
    "collapsed": false
   },
   "outputs": [
    {
     "data": {
      "text/plain": [
       "(array([ 2800.,  1332.,   561.,   248.,   115.,    57.,    27.,    15.,\n",
       "           11.,     3.]),\n",
       " array([  5.54491703e-06,   5.16028167e-02,   1.03200089e-01,\n",
       "          1.54797360e-01,   2.06394632e-01,   2.57991904e-01,\n",
       "          3.09589176e-01,   3.61186448e-01,   4.12783720e-01,\n",
       "          4.64380991e-01,   5.15978263e-01]),\n",
       " <a list of 10 Patch objects>)"
      ]
     },
     "execution_count": 29,
     "metadata": {},
     "output_type": "execute_result"
    },
    {
     "data": {
      "image/png": "[encoded data removed]",
      "text/plain": [
       "<matplotlib.figure.Figure at 0x7f908eec8d90>"
      ]
     },
     "metadata": {},
     "output_type": "display_data"
    }
   ],
   "source": [
    "plt.hist(euclidean_distance_matrix[:,2])"
   ]
  },
  {
   "cell_type": "code",
   "execution_count": 30,
   "metadata": {
    "collapsed": false
   },
   "outputs": [
    {
     "data": {
      "text/plain": [
       "(array([  3.51900000e+03,   8.66000000e+02,   3.91000000e+02,\n",
       "          2.22000000e+02,   9.20000000e+01,   4.80000000e+01,\n",
       "          2.10000000e+01,   5.00000000e+00,   3.00000000e+00,\n",
       "          2.00000000e+00]),\n",
       " array([  1.56590030e-05,   6.65598795e-02,   1.33104100e-01,\n",
       "          1.99648320e-01,   2.66192541e-01,   3.32736761e-01,\n",
       "          3.99280982e-01,   4.65825202e-01,   5.32369423e-01,\n",
       "          5.98913643e-01,   6.65457864e-01]),\n",
       " <a list of 10 Patch objects>)"
      ]
     },
     "execution_count": 30,
     "metadata": {},
     "output_type": "execute_result"
    },
    {
     "data": {
      "image/png": "[encoded data removed]",
      "text/plain": [
       "<matplotlib.figure.Figure at 0x7f908edaeb90>"
      ]
     },
     "metadata": {},
     "output_type": "display_data"
    }
   ],
   "source": [
    "plt.hist(euclidean_distance_matrix[:,3])"
   ]
  },
  {
   "cell_type": "code",
   "execution_count": 31,
   "metadata": {
    "collapsed": false
   },
   "outputs": [
    {
     "data": {
      "text/plain": [
       "(array([ 3535.,   828.,   372.,   204.,   113.,    62.,    33.,    12.,\n",
       "            6.,     4.]),\n",
       " array([  1.38349847e-06,   9.51155772e-02,   1.90229771e-01,\n",
       "          2.85343965e-01,   3.80458158e-01,   4.75572352e-01,\n",
       "          5.70686546e-01,   6.65800739e-01,   7.60914933e-01,\n",
       "          8.56029127e-01,   9.51143321e-01]),\n",
       " <a list of 10 Patch objects>)"
      ]
     },
     "execution_count": 31,
     "metadata": {},
     "output_type": "execute_result"
    },
    {
     "data": {
      "image/png": "[encoded data removed]",
      "text/plain": [
       "<matplotlib.figure.Figure at 0x7f908ed0f550>"
      ]
     },
     "metadata": {},
     "output_type": "display_data"
    }
   ],
   "source": [
    "plt.hist(euclidean_distance_matrix[:,4])"
   ]
  },
  {
   "cell_type": "code",
   "execution_count": 32,
   "metadata": {
    "collapsed": false
   },
   "outputs": [
    {
     "data": {
      "text/plain": [
       "(array([ 3372.,  1003.,   407.,   177.,    97.,    51.,    37.,    17.,\n",
       "            4.,     4.]),\n",
       " array([  2.84309008e-05,   5.93086692e-02,   1.18588907e-01,\n",
       "          1.77869146e-01,   2.37149384e-01,   2.96429622e-01,\n",
       "          3.55709861e-01,   4.14990099e-01,   4.74270337e-01,\n",
       "          5.33550576e-01,   5.92830814e-01]),\n",
       " <a list of 10 Patch objects>)"
      ]
     },
     "execution_count": 32,
     "metadata": {},
     "output_type": "execute_result"
    },
    {
     "data": {
      "image/png": "[encoded data removed]",
      "text/plain": [
       "<matplotlib.figure.Figure at 0x7f908ec09990>"
      ]
     },
     "metadata": {},
     "output_type": "display_data"
    }
   ],
   "source": [
    "plt.hist(euclidean_distance_matrix[:,5])"
   ]
  },
  {
   "cell_type": "code",
   "execution_count": 33,
   "metadata": {
    "collapsed": false
   },
   "outputs": [
    {
     "data": {
      "text/plain": [
       "(array([ 1966.,  1447.,   901.,   448.,   234.,   109.,    34.,    22.,\n",
       "            4.,     4.]),\n",
       " array([  1.08771523e-06,   4.78113294e-02,   9.56215711e-02,\n",
       "          1.43431813e-01,   1.91242055e-01,   2.39052296e-01,\n",
       "          2.86862538e-01,   3.34672780e-01,   3.82483021e-01,\n",
       "          4.30293263e-01,   4.78103505e-01]),\n",
       " <a list of 10 Patch objects>)"
      ]
     },
     "execution_count": 33,
     "metadata": {},
     "output_type": "execute_result"
    },
    {
     "data": {
      "image/png": "[encoded data removed]",
      "text/plain": [
       "<matplotlib.figure.Figure at 0x7f908eae81d0>"
      ]
     },
     "metadata": {},
     "output_type": "display_data"
    }
   ],
   "source": [
    "plt.hist(euclidean_distance_matrix[:,6])"
   ]
  },
  {
   "cell_type": "code",
   "execution_count": 34,
   "metadata": {
    "collapsed": false
   },
   "outputs": [
    {
     "data": {
      "text/plain": [
       "(array([ 1801.,  1576.,   834.,   552.,   255.,    95.,    40.,    12.,\n",
       "            2.,     2.]),\n",
       " array([  1.09912402e-04,   6.09483957e-02,   1.21786879e-01,\n",
       "          1.82625362e-01,   2.43463846e-01,   3.04302329e-01,\n",
       "          3.65140812e-01,   4.25979296e-01,   4.86817779e-01,\n",
       "          5.47656262e-01,   6.08494746e-01]),\n",
       " <a list of 10 Patch objects>)"
      ]
     },
     "execution_count": 34,
     "metadata": {},
     "output_type": "execute_result"
    },
    {
     "data": {
      "image/png": "[encoded data removed]",
      "text/plain": [
       "<matplotlib.figure.Figure at 0x7f908eb19b10>"
      ]
     },
     "metadata": {},
     "output_type": "display_data"
    }
   ],
   "source": [
    "plt.hist(euclidean_distance_matrix[:,7])"
   ]
  },
  {
   "cell_type": "code",
   "execution_count": 36,
   "metadata": {
    "collapsed": false
   },
   "outputs": [
    {
     "data": {
      "text/plain": [
       "(array([ 1680.,   827.,  1138.,   529.,   504.,   181.,   171.,    82.,\n",
       "           30.,    27.]),\n",
       " array([ 0.00595238,  0.09047619,  0.175     ,  0.25952381,  0.34404762,\n",
       "         0.42857143,  0.51309524,  0.59761905,  0.68214286,  0.76666667,\n",
       "         0.85119048]),\n",
       " <a list of 10 Patch objects>)"
      ]
     },
     "execution_count": 36,
     "metadata": {},
     "output_type": "execute_result"
    },
    {
     "data": {
      "image/png": "[encoded data removed]",
      "text/plain": [
       "<matplotlib.figure.Figure at 0x7f908e98c6d0>"
      ]
     },
     "metadata": {},
     "output_type": "display_data"
    }
   ],
   "source": [
    "plt.hist(euclidean_distance_matrix[:,8])"
   ]
  },
  {
   "cell_type": "code",
   "execution_count": 37,
   "metadata": {
    "collapsed": false
   },
   "outputs": [
    {
     "data": {
      "text/plain": [
       "(array([ 1615.,  1129.,   996.,   563.,   411.,   159.,   150.,    74.,\n",
       "           43.,    29.]),\n",
       " array([ 0.        ,  0.08333333,  0.16666667,  0.25      ,  0.33333333,\n",
       "         0.41666667,  0.5       ,  0.58333333,  0.66666667,  0.75      ,\n",
       "         0.83333333]),\n",
       " <a list of 10 Patch objects>)"
      ]
     },
     "execution_count": 37,
     "metadata": {},
     "output_type": "execute_result"
    },
    {
     "data": {
      "image/png": "[encoded data removed]",
      "text/plain": [
       "<matplotlib.figure.Figure at 0x7f908e3c3090>"
      ]
     },
     "metadata": {},
     "output_type": "display_data"
    }
   ],
   "source": [
    "plt.hist(euclidean_distance_matrix[:,9])"
   ]
  },
  {
   "cell_type": "code",
   "execution_count": 38,
   "metadata": {
    "collapsed": false
   },
   "outputs": [
    {
     "data": {
      "text/plain": [
       "(array([  5.02300000e+03,   0.00000000e+00,   0.00000000e+00,\n",
       "          1.00000000e+00,   0.00000000e+00,   0.00000000e+00,\n",
       "          0.00000000e+00,   0.00000000e+00,   0.00000000e+00,\n",
       "          1.45000000e+02]),\n",
       " array([ 0. ,  0.1,  0.2,  0.3,  0.4,  0.5,  0.6,  0.7,  0.8,  0.9,  1. ]),\n",
       " <a list of 10 Patch objects>)"
      ]
     },
     "execution_count": 38,
     "metadata": {},
     "output_type": "execute_result"
    },
    {
     "data": {
      "image/png": "[encoded data removed]",
      "text/plain": [
       "<matplotlib.figure.Figure at 0x7f908e31bf10>"
      ]
     },
     "metadata": {},
     "output_type": "display_data"
    }
   ],
   "source": [
    "plt.hist(euclidean_distance_matrix[:,10])"
   ]
  },
  {
   "cell_type": "code",
   "execution_count": 39,
   "metadata": {
    "collapsed": false
   },
   "outputs": [
    {
     "data": {
      "text/plain": [
       "(array([ 2189.,  1558.,   732.,   361.,   149.,    95.,    46.,    24.,\n",
       "           10.,     5.]),\n",
       " array([  4.83469445e-07,   6.14374839e-02,   1.22874484e-01,\n",
       "          1.84311485e-01,   2.45748485e-01,   3.07185486e-01,\n",
       "          3.68622486e-01,   4.30059486e-01,   4.91496487e-01,\n",
       "          5.52933487e-01,   6.14370488e-01]),\n",
       " <a list of 10 Patch objects>)"
      ]
     },
     "execution_count": 39,
     "metadata": {},
     "output_type": "execute_result"
    },
    {
     "data": {
      "image/png": "[encoded data removed]",
      "text/plain": [
       "<matplotlib.figure.Figure at 0x7f908e284190>"
      ]
     },
     "metadata": {},
     "output_type": "display_data"
    }
   ],
   "source": [
    "plt.hist(euclidean_distance_matrix[:,11])"
   ]
  },
  {
   "cell_type": "code",
   "execution_count": 40,
   "metadata": {
    "collapsed": false
   },
   "outputs": [
    {
     "data": {
      "text/plain": [
       "(array([  2.68800000e+03,   1.32000000e+03,   6.39000000e+02,\n",
       "          2.82000000e+02,   1.28000000e+02,   6.80000000e+01,\n",
       "          2.60000000e+01,   1.20000000e+01,   2.00000000e+00,\n",
       "          4.00000000e+00]),\n",
       " array([ 0.        ,  0.0531333 ,  0.1062666 ,  0.15939989,  0.21253319,\n",
       "         0.26566649,  0.31879979,  0.37193308,  0.42506638,  0.47819968,\n",
       "         0.53133298]),\n",
       " <a list of 10 Patch objects>)"
      ]
     },
     "execution_count": 40,
     "metadata": {},
     "output_type": "execute_result"
    },
    {
     "data": {
      "image/png": "[encoded data removed]",
      "text/plain": [
       "<matplotlib.figure.Figure at 0x7f908e101350>"
      ]
     },
     "metadata": {},
     "output_type": "display_data"
    }
   ],
   "source": [
    "plt.hist(euclidean_distance_matrix[:,12])"
   ]
  },
  {
   "cell_type": "code",
   "execution_count": 41,
   "metadata": {
    "collapsed": false
   },
   "outputs": [
    {
     "data": {
      "text/plain": [
       "(array([ 2335.,  1018.,  1222.,    16.,   435.,    11.,   101.,    15.,\n",
       "           11.,     5.]),\n",
       " array([ 0.01785714,  0.08928571,  0.16071429,  0.23214286,  0.30357143,\n",
       "         0.375     ,  0.44642857,  0.51785714,  0.58928571,  0.66071429,\n",
       "         0.73214286]),\n",
       " <a list of 10 Patch objects>)"
      ]
     },
     "execution_count": 41,
     "metadata": {},
     "output_type": "execute_result"
    },
    {
     "data": {
      "image/png": "[encoded data removed]",
      "text/plain": [
       "<matplotlib.figure.Figure at 0x7f908e058a90>"
      ]
     },
     "metadata": {},
     "output_type": "display_data"
    }
   ],
   "source": [
    "plt.hist(euclidean_distance_matrix[:,13])"
   ]
  },
  {
   "cell_type": "code",
   "execution_count": 42,
   "metadata": {
    "collapsed": false
   },
   "outputs": [
    {
     "data": {
      "text/plain": [
       "(array([ 1132.,  1821.,   523.,   663.,   408.,   128.,   280.,    17.,\n",
       "          146.,    51.]),\n",
       " array([ 0.        ,  0.08571429,  0.17142857,  0.25714286,  0.34285714,\n",
       "         0.42857143,  0.51428571,  0.6       ,  0.68571429,  0.77142857,\n",
       "         0.85714286]),\n",
       " <a list of 10 Patch objects>)"
      ]
     },
     "execution_count": 42,
     "metadata": {},
     "output_type": "execute_result"
    },
    {
     "data": {
      "image/png": "[encoded data removed]",
      "text/plain": [
       "<matplotlib.figure.Figure at 0x7f908df97590>"
      ]
     },
     "metadata": {},
     "output_type": "display_data"
    }
   ],
   "source": [
    "plt.hist(euclidean_distance_matrix[:,14])"
   ]
  },
  {
   "cell_type": "code",
   "execution_count": 43,
   "metadata": {
    "collapsed": false
   },
   "outputs": [
    {
     "data": {
      "text/plain": [
       "(array([ 1826.,   848.,  1351.,   251.,   633.,    45.,   176.,     4.,\n",
       "           31.,     4.]),\n",
       " array([ 0.        ,  0.07321429,  0.14642857,  0.21964286,  0.29285714,\n",
       "         0.36607143,  0.43928571,  0.5125    ,  0.58571429,  0.65892857,\n",
       "         0.73214286]),\n",
       " <a list of 10 Patch objects>)"
      ]
     },
     "execution_count": 43,
     "metadata": {},
     "output_type": "execute_result"
    },
    {
     "data": {
      "image/png": "[encoded data removed]",
      "text/plain": [
       "<matplotlib.figure.Figure at 0x7f908de6dd10>"
      ]
     },
     "metadata": {},
     "output_type": "display_data"
    }
   ],
   "source": [
    "plt.hist(euclidean_distance_matrix[:,15])"
   ]
  },
  {
   "cell_type": "code",
   "execution_count": 44,
   "metadata": {
    "collapsed": false
   },
   "outputs": [
    {
     "data": {
      "text/plain": [
       "(array([ 2939.,   888.,   526.,   235.,   161.,   122.,   122.,    29.,\n",
       "           74.,    73.]),\n",
       " array([ 0. ,  0.1,  0.2,  0.3,  0.4,  0.5,  0.6,  0.7,  0.8,  0.9,  1. ]),\n",
       " <a list of 10 Patch objects>)"
      ]
     },
     "execution_count": 44,
     "metadata": {},
     "output_type": "execute_result"
    },
    {
     "data": {
      "image/png": "[encoded data removed]",
      "text/plain": [
       "<matplotlib.figure.Figure at 0x7f908ddd7a90>"
      ]
     },
     "metadata": {},
     "output_type": "display_data"
    }
   ],
   "source": [
    "plt.hist(euclidean_distance_matrix[:,16])"
   ]
  },
  {
   "cell_type": "code",
   "execution_count": 45,
   "metadata": {
    "collapsed": false
   },
   "outputs": [
    {
     "data": {
      "text/plain": [
       "(array([ 3843.,   486.,   368.,   144.,   112.,    73.,    65.,     9.,\n",
       "           35.,    34.]),\n",
       " array([ 0. ,  0.1,  0.2,  0.3,  0.4,  0.5,  0.6,  0.7,  0.8,  0.9,  1. ]),\n",
       " <a list of 10 Patch objects>)"
      ]
     },
     "execution_count": 45,
     "metadata": {},
     "output_type": "execute_result"
    },
    {
     "data": {
      "image/png": "[encoded data removed]",
      "text/plain": [
       "<matplotlib.figure.Figure at 0x7f908ddc3d90>"
      ]
     },
     "metadata": {},
     "output_type": "display_data"
    }
   ],
   "source": [
    "plt.hist(euclidean_distance_matrix[:,17])"
   ]
  },
  {
   "cell_type": "code",
   "execution_count": 46,
   "metadata": {
    "collapsed": false
   },
   "outputs": [
    {
     "data": {
      "text/plain": [
       "(array([  3.26700000e+03,   1.11000000e+03,   4.36000000e+02,\n",
       "          1.82000000e+02,   8.20000000e+01,   6.20000000e+01,\n",
       "          1.90000000e+01,   4.00000000e+00,   5.00000000e+00,\n",
       "          2.00000000e+00]),\n",
       " array([ 0. ,  0.1,  0.2,  0.3,  0.4,  0.5,  0.6,  0.7,  0.8,  0.9,  1. ]),\n",
       " <a list of 10 Patch objects>)"
      ]
     },
     "execution_count": 46,
     "metadata": {},
     "output_type": "execute_result"
    },
    {
     "data": {
      "image/png": "[encoded data removed]",
      "text/plain": [
       "<matplotlib.figure.Figure at 0x7f908dc02cd0>"
      ]
     },
     "metadata": {},
     "output_type": "display_data"
    }
   ],
   "source": [
    "plt.hist(euclidean_distance_matrix[:,18])"
   ]
  },
  {
   "cell_type": "markdown",
   "metadata": {},
   "source": [
    "## Test con distintos grupos de features"
   ]
  },
  {
   "cell_type": "raw",
   "metadata": {},
   "source": [
    "features_dict = {\"msal\":0,\"mlal\":1,\"kmDistance\":2,\"kmMaxDist\":3,\"kmMinDist\":4,\"rg\":5,\"unc_entropy\":6,\n",
    "                  \"random_entropy\":7,\"p100_diff_last_origin\":8,\"p100_diff_first_origin\":9,\"card_type\":10,\n",
    "                  \"start_time\":11,\"end_time\":12,\"traveled_days\":13,\"traveled_days_bs\":14,\"frequence_regularity\":15,\n",
    "                  \"p100_exclusive_bus_days\":16,\"p100_exclusive_metro_days\":17,\"P100_bus_trips\":18}"
   ]
  },
  {
   "cell_type": "code",
   "execution_count": 17,
   "metadata": {
    "collapsed": true
   },
   "outputs": [],
   "source": [
    "def powerset(iterable):\n",
    "    \"powerset([1,2,3]) --> () (1,) (2,) (3,) (1,2) (1,3) (2,3) (1,2,3)\"\n",
    "    s = list(iterable)\n",
    "    return chain.from_iterable(combinations(s, r) for r in range(len(s)+1))"
   ]
  },
  {
   "cell_type": "markdown",
   "metadata": {},
   "source": [
    "#### Todos"
   ]
  },
  {
   "cell_type": "code",
   "execution_count": 12,
   "metadata": {
    "collapsed": true
   },
   "outputs": [],
   "source": [
    "selected_features = [\"msal\",\"mlal\",\"kmDistance\",\"kmMaxDist\",\"rg\",\"unc_entropy\", \\\n",
    "    \"random_entropy\",\"p100_diff_first_origin\", \"start_time\",\"end_time\",\"traveled_days\" \\\n",
    "    \"traveled_days\",\"frequence_regularity\",\"p100_exclusive_bus_days\",\"p100_exclusive_metro_days\",\"P100_bus_trips\"]"
   ]
  },
  {
   "cell_type": "code",
   "execution_count": 14,
   "metadata": {
    "collapsed": true
   },
   "outputs": [],
   "source": [
    "#selected_features = ['msal', 'mlal', 'kmMaxDist', 'rg', 'random_entropy', 'p100_diff_first_origin', 'end_time', 'traveled_days', 'frequence_regularity', 'p100_exclusive_bus_days', 'p100_exclusive_metro_days', 'P100_bus_trips']\n",
    "selected_features = [\"msal\",\"mlal\",\"kmDistance\",\"kmMaxDist\",\"rg\",\"unc_entropy\", \\\n",
    "    \"random_entropy\",\"p100_diff_first_origin\",\"card_type\",\\\n",
    "    \"start_time\",\"end_time\",\"traveled_days\",\"frequence_regularity\",\\\n",
    "    \"p100_exclusive_bus_days\",\"p100_exclusive_metro_days\",\"P100_bus_trips\"]"
   ]
  },
  {
   "cell_type": "code",
   "execution_count": 15,
   "metadata": {
    "collapsed": false
   },
   "outputs": [
    {
     "data": {
      "text/plain": [
       "16"
      ]
     },
     "execution_count": 15,
     "metadata": {},
     "output_type": "execute_result"
    }
   ],
   "source": [
    "len(selected_features)"
   ]
  },
  {
   "cell_type": "code",
   "execution_count": 18,
   "metadata": {
    "collapsed": false
   },
   "outputs": [],
   "source": [
    "set_features = list(set(powerset(selected_features)))"
   ]
  },
  {
   "cell_type": "code",
   "execution_count": 180,
   "metadata": {
    "collapsed": false
   },
   "outputs": [
    {
     "name": "stdout",
     "output_type": "stream",
     "text": [
      "('mlal', 'kmDistance', 'kmMaxDist', 'unc_entropy', 'random_entropy', 'card_type', 'end_time', 'traveled_days', 'frequence_regularity', 'p100_exclusive_bus_days', 'p100_exclusive_metro_days', 'P100_bus_trips')\n"
     ]
    }
   ],
   "source": [
    "counter = 0\n",
    "for a in set_features:\n",
    "    if len(a)>10:\n",
    "        counter += 1\n",
    "    if counter == 1916:\n",
    "        print a\n",
    "        break"
   ]
  },
  {
   "cell_type": "code",
   "execution_count": 19,
   "metadata": {
    "collapsed": false
   },
   "outputs": [
    {
     "name": "stdout",
     "output_type": "stream",
     "text": [
      "5.25158333333\n",
      "5.46133333333\n"
     ]
    }
   ],
   "source": [
    "counter = 0\n",
    "for a_set in set_features:\n",
    "    if len(a_set) >= 5:\n",
    "        counter +=1\n",
    "\n",
    "print counter*0.3/3600\n",
    "print len(set_features)*0.3/3600"
   ]
  },
  {
   "cell_type": "markdown",
   "metadata": {},
   "source": [
    "### con 7-8 caracteristicas"
   ]
  },
  {
   "cell_type": "code",
   "execution_count": 160,
   "metadata": {
    "collapsed": false
   },
   "outputs": [
    {
     "name": "stdout",
     "output_type": "stream",
     "text": [
      "El set: ('msal', 'mlal', 'kmDistance', 'kmMaxDist', 'unc_entropy', 'random_entropy', 'p100_diff_first_origin', 'end_time', 'traveled_days', 'p100_exclusive_bus_days', 'p100_exclusive_metro_days', 'P100_bus_trips')\n",
      "18.2719860077\n",
      "Rendimiento 44.94%\n"
     ]
    }
   ],
   "source": [
    "counter = 0\n",
    "index_set = []\n",
    "rendimientos = []\n",
    "for a_set in set_features:\n",
    "    if len(a_set) >= 12:\n",
    "        print \"El set: \" + str(a_set)\n",
    "        abril_selected_features = filter_features(abril_vectors,a_set)\n",
    "        septiembre_selected_features = filter_features(septiembre_vectors,a_set)\n",
    "        a_matrix = compare_vectors_with_shared_matrix(abril_selected_features,septiembre_selected_features,abril_the_rois,septiembre_the_rois,shared_rois,limit,2)\n",
    "        n_identified,selected_distance,identified_indexs,abstenidos = get_n_correct(a_matrix,limit)\n",
    "        porcentaje_correcto = n_identified*100/limit\n",
    "        print \"Rendimiento \" + str(round(porcentaje_correcto,2))+ \"%\"\n",
    "        index_set.append(counter)\n",
    "        rendimientos.append(porcentaje_correcto)\n",
    "        counter += 1\n",
    "        if counter == 1:\n",
    "            break"
   ]
  },
  {
   "cell_type": "markdown",
   "metadata": {},
   "source": [
    "### con 9-10 caracteristicas"
   ]
  },
  {
   "cell_type": "code",
   "execution_count": 124,
   "metadata": {
    "collapsed": false
   },
   "outputs": [
    {
     "name": "stdout",
     "output_type": "stream",
     "text": [
      "El set: ('kmDistance', 'kmMaxDist', 'rg', 'unc_entropy', 'random_entropy', 'p100_diff_first_origin', 'traveled_days', 'frequence_regularity', 'P100_bus_trips')\n",
      "18.0996110439\n",
      "Rendimiento 44.21%\n",
      "El set: ('msal', 'kmDistance', 'kmMaxDist', 'rg', 'unc_entropy', 'p100_diff_first_origin', 'traveled_days', 'frequence_regularity', 'P100_bus_trips')\n",
      "17.9412660599\n",
      "Rendimiento 44.59%\n",
      "El set: ('msal', 'kmDistance', 'kmMaxDist', 'rg', 'unc_entropy', 'random_entropy', 'p100_diff_first_origin', 'frequence_regularity', 'P100_bus_trips')\n",
      "18.1914319992\n",
      "Rendimiento 44.61%\n",
      "El set: ('msal', 'kmDistance', 'kmMaxDist', 'unc_entropy', 'random_entropy', 'p100_diff_first_origin', 'traveled_days', 'frequence_regularity', 'P100_bus_trips')\n",
      "18.2164747715\n",
      "Rendimiento 44.38%\n",
      "El set: ('msal', 'kmMaxDist', 'rg', 'unc_entropy', 'random_entropy', 'p100_diff_first_origin', 'traveled_days', 'frequence_regularity', 'P100_bus_trips')\n",
      "18.4729380608\n",
      "Rendimiento 44.46%\n",
      "El set: ('msal', 'kmDistance', 'kmMaxDist', 'rg', 'unc_entropy', 'random_entropy', 'traveled_days', 'frequence_regularity', 'P100_bus_trips')\n",
      "18.2417869568\n",
      "Rendimiento 44.71%\n",
      "El set: ('msal', 'kmDistance', 'kmMaxDist', 'rg', 'unc_entropy', 'random_entropy', 'p100_diff_first_origin', 'traveled_days', 'frequence_regularity')\n",
      "18.6052629948\n",
      "Rendimiento 42.83%\n",
      "El set: ('msal', 'kmDistance', 'kmMaxDist', 'rg', 'unc_entropy', 'random_entropy', 'p100_diff_first_origin', 'traveled_days', 'frequence_regularity', 'P100_bus_trips')\n",
      "18.1782569885\n",
      "Rendimiento 44.65%\n",
      "El set: ('msal', 'kmDistance', 'rg', 'unc_entropy', 'random_entropy', 'p100_diff_first_origin', 'traveled_days', 'frequence_regularity', 'P100_bus_trips')\n",
      "18.2833890915\n",
      "Rendimiento 44.59%\n",
      "El set: ('msal', 'kmDistance', 'kmMaxDist', 'rg', 'random_entropy', 'p100_diff_first_origin', 'traveled_days', 'frequence_regularity', 'P100_bus_trips')\n",
      "18.557516098\n",
      "Rendimiento 44.77%\n",
      "El set: ('msal', 'kmDistance', 'kmMaxDist', 'rg', 'unc_entropy', 'random_entropy', 'p100_diff_first_origin', 'traveled_days', 'P100_bus_trips')\n",
      "18.5898039341\n",
      "Rendimiento 44.77%\n"
     ]
    }
   ],
   "source": [
    "counter = 0\n",
    "index_set = []\n",
    "rendimientos = []\n",
    "for a_set in set_features:\n",
    "    if len(a_set) >= 9:\n",
    "        print \"El set: \" + str(a_set)\n",
    "        abril_selected_features = filter_features(abril_vectors,a_set)\n",
    "        septiembre_selected_features = filter_features(septiembre_vectors,a_set)\n",
    "        a_matrix = compare_vectors_with_shared_matrix(abril_selected_features,septiembre_selected_features,abril_the_rois,septiembre_the_rois,shared_rois,limit,2)\n",
    "        n_identified,selected_distance,identified_indexs,abstenidos = get_n_correct(a_matrix,limit)\n",
    "        porcentaje_correcto = n_identified*100/limit\n",
    "        print \"Rendimiento \" + str(round(porcentaje_correcto,2))+ \"%\"\n",
    "        index_set.append(counter)\n",
    "        rendimientos.append(porcentaje_correcto)\n",
    "    counter += 1"
   ]
  },
  {
   "cell_type": "markdown",
   "metadata": {},
   "source": [
    "### Ultimatums"
   ]
  },
  {
   "cell_type": "code",
   "execution_count": 186,
   "metadata": {
    "collapsed": true
   },
   "outputs": [],
   "source": [
    "counter = 0\n",
    "index_set = []\n",
    "rendimientos = []\n",
    "for a_set in set_features:\n",
    "    #print \"El set: \" + str(a_set)\n",
    "    abril_selected_features = filter_features(abril_vectors,a_set)\n",
    "    septiembre_selected_features = filter_features(septiembre_vectors,a_set)\n",
    "    a_matrix = compare_vectors_with_neighbours_normalized(abril_selected_features,septiembre_selected_features,abril_the_rois,septiembre_the_rois,shared_rois,limit,2)\n",
    "    n_identified,selected_distance,identified_indexs,abstenidos = get_n_correct(a_matrix,limit)\n",
    "    porcentaje_correcto = n_identified*100/limit\n",
    "    #print \"Rendimiento \" + str(round(porcentaje_correcto,2))+ \"%\"\n",
    "    index_set.append(counter)\n",
    "    rendimientos.append(porcentaje_correcto)\n",
    "    counter += 1"
   ]
  },
  {
   "cell_type": "code",
   "execution_count": 187,
   "metadata": {
    "collapsed": true
   },
   "outputs": [],
   "source": [
    "with open('data/rendimientos2.pickle', 'w') as f:\n",
    "    pickle.dump(rendimientos, f)\n",
    "    #pickle.dump(index_set, f)"
   ]
  },
  {
   "cell_type": "code",
   "execution_count": 55,
   "metadata": {
    "collapsed": true
   },
   "outputs": [
    {
     "data": {
      "text/plain": [
       "('msal',\n",
       " 'kmMaxDist',\n",
       " 'unc_entropy',\n",
       " 'random_entropy',\n",
       " 'start_time',\n",
       " 'frequence_regularity',\n",
       " 'p100_exclusive_bus_days',\n",
       " 'P100_bus_trips')"
      ]
     },
     "execution_count": 55,
     "metadata": {},
     "output_type": "execute_result"
    }
   ],
   "source": [
    "set_features[1915]"
   ]
  },
  {
   "cell_type": "code",
   "execution_count": 10,
   "metadata": {
    "collapsed": true
   },
   "outputs": [],
   "source": [
    "with open('data/rendimientos2.pickle') as f:\n",
    "    rendimientos = pickle.load(f)"
   ]
  },
  {
   "cell_type": "code",
   "execution_count": 21,
   "metadata": {
    "collapsed": false
   },
   "outputs": [
    {
     "data": {
      "text/plain": [
       "20622"
      ]
     },
     "execution_count": 21,
     "metadata": {},
     "output_type": "execute_result"
    }
   ],
   "source": [
    "np.argmax(rendimientos)"
   ]
  },
  {
   "cell_type": "code",
   "execution_count": 22,
   "metadata": {
    "collapsed": false
   },
   "outputs": [
    {
     "data": {
      "text/plain": [
       "46.275875411104664"
      ]
     },
     "execution_count": 22,
     "metadata": {},
     "output_type": "execute_result"
    }
   ],
   "source": [
    "rendimientos[20622]"
   ]
  },
  {
   "cell_type": "code",
   "execution_count": 24,
   "metadata": {
    "collapsed": false
   },
   "outputs": [
    {
     "data": {
      "text/plain": [
       "('msal',\n",
       " 'mlal',\n",
       " 'kmDistance',\n",
       " 'kmMaxDist',\n",
       " 'rg',\n",
       " 'unc_entropy',\n",
       " 'random_entropy',\n",
       " 'card_type',\n",
       " 'start_time',\n",
       " 'end_time',\n",
       " 'P100_bus_trips')"
      ]
     },
     "execution_count": 24,
     "metadata": {},
     "output_type": "execute_result"
    }
   ],
   "source": [
    "set_features[20622]"
   ]
  },
  {
   "cell_type": "code",
   "execution_count": 27,
   "metadata": {
    "collapsed": false
   },
   "outputs": [
    {
     "data": {
      "text/plain": [
       "()"
      ]
     },
     "execution_count": 27,
     "metadata": {},
     "output_type": "execute_result"
    }
   ],
   "source": [
    "set_features[59830]"
   ]
  },
  {
   "cell_type": "code",
   "execution_count": 26,
   "metadata": {
    "collapsed": false
   },
   "outputs": [
    {
     "data": {
      "text/plain": [
       "59830"
      ]
     },
     "execution_count": 26,
     "metadata": {},
     "output_type": "execute_result"
    }
   ],
   "source": [
    "np.argmin(rendimientos)"
   ]
  },
  {
   "cell_type": "code",
   "execution_count": 28,
   "metadata": {
    "collapsed": false
   },
   "outputs": [
    {
     "data": {
      "text/plain": [
       "(array([   215.,   1114.,   5138.,  18705.,  33406.,   6821.,     70.,\n",
       "             0.,      0.]),\n",
       " array([40, 41, 42, 43, 44, 45, 46, 47, 48, 49]),\n",
       " <a list of 9 Patch objects>)"
      ]
     },
     "execution_count": 28,
     "metadata": {},
     "output_type": "execute_result"
    },
    {
     "data": {
      "image/png": "[encoded data removed]",
      "text/plain": [
       "<matplotlib.figure.Figure at 0x7f5e1a7f3cd0>"
      ]
     },
     "metadata": {},
     "output_type": "display_data"
    }
   ],
   "source": [
    "plt.hist(rendimientos,range(40,50))"
   ]
  },
  {
   "cell_type": "code",
   "execution_count": 34,
   "metadata": {
    "collapsed": false
   },
   "outputs": [
    {
     "data": {
      "text/plain": [
       "(array([ 5020, 17517, 20622, 27563, 37191, 56707]),)"
      ]
     },
     "execution_count": 34,
     "metadata": {},
     "output_type": "execute_result"
    }
   ],
   "source": [
    "np.where(np.asarray(rendimientos)>46.2)"
   ]
  },
  {
   "cell_type": "code",
   "execution_count": 42,
   "metadata": {
    "collapsed": false
   },
   "outputs": [
    {
     "data": {
      "text/plain": [
       "(('msal',\n",
       "  'kmDistance',\n",
       "  'kmMaxDist',\n",
       "  'rg',\n",
       "  'unc_entropy',\n",
       "  'card_type',\n",
       "  'start_time',\n",
       "  'end_time',\n",
       "  'P100_bus_trips'),\n",
       " 46.217837105823179)"
      ]
     },
     "execution_count": 42,
     "metadata": {},
     "output_type": "execute_result"
    }
   ],
   "source": [
    "set_features[5020],rendimientos[5020]"
   ]
  },
  {
   "cell_type": "code",
   "execution_count": 39,
   "metadata": {
    "collapsed": false
   },
   "outputs": [
    {
     "data": {
      "text/plain": [
       "(('msal',\n",
       "  'mlal',\n",
       "  'kmDistance',\n",
       "  'kmMaxDist',\n",
       "  'rg',\n",
       "  'unc_entropy',\n",
       "  'random_entropy',\n",
       "  'card_type',\n",
       "  'start_time',\n",
       "  'end_time',\n",
       "  'traveled_days',\n",
       "  'P100_bus_trips'),\n",
       " 46.217837105823179)"
      ]
     },
     "execution_count": 39,
     "metadata": {},
     "output_type": "execute_result"
    }
   ],
   "source": [
    "set_features[17517], rendimientos[17517]"
   ]
  },
  {
   "cell_type": "code",
   "execution_count": 46,
   "metadata": {
    "collapsed": false
   },
   "outputs": [
    {
     "data": {
      "text/plain": [
       "(('msal',\n",
       "  'kmDistance',\n",
       "  'rg',\n",
       "  'unc_entropy',\n",
       "  'card_type',\n",
       "  'start_time',\n",
       "  'end_time',\n",
       "  'traveled_days',\n",
       "  'P100_bus_trips'),\n",
       " 46.256529309344167)"
      ]
     },
     "execution_count": 46,
     "metadata": {},
     "output_type": "execute_result"
    }
   ],
   "source": [
    "set_features[56707], rendimientos[56707]"
   ]
  },
  {
   "cell_type": "code",
   "execution_count": 45,
   "metadata": {
    "collapsed": false
   },
   "outputs": [
    {
     "data": {
      "text/plain": [
       "(('msal',\n",
       "  'kmMaxDist',\n",
       "  'rg',\n",
       "  'unc_entropy',\n",
       "  'card_type',\n",
       "  'start_time',\n",
       "  'end_time',\n",
       "  'traveled_days',\n",
       "  'P100_bus_trips'),\n",
       " 46.275875411104664)"
      ]
     },
     "execution_count": 45,
     "metadata": {},
     "output_type": "execute_result"
    }
   ],
   "source": [
    "set_features[37191], rendimientos[37191]"
   ]
  },
  {
   "cell_type": "code",
   "execution_count": null,
   "metadata": {
    "collapsed": true
   },
   "outputs": [],
   "source": []
  }
 ],
 "metadata": {
  "kernelspec": {
   "display_name": "Python 2",
   "language": "python",
   "name": "python2"
  },
  "language_info": {
   "codemirror_mode": {
    "name": "ipython",
    "version": 2
   },
   "file_extension": ".py",
   "mimetype": "text/x-python",
   "name": "python",
   "nbconvert_exporter": "python",
   "pygments_lexer": "ipython2",
   "version": "2.7.11"
  }
 },
 "nbformat": 4,
 "nbformat_minor": 0
}
