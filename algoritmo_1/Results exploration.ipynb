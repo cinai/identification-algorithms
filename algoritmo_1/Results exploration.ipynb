{
 "cells": [
  {
   "cell_type": "code",
   "execution_count": 1,
   "metadata": {
    "collapsed": true
   },
   "outputs": [],
   "source": [
    "%matplotlib inline\n",
    "import numpy as np\n",
    "import pandas as pd\n",
    "import matplotlib.pyplot as plt\n",
    "import time\n",
    "import pickle\n",
    "from __future__ import division\n",
    "import csv\n",
    "import tpm_identification\n",
    "from auxiliar_functions import *\n",
    "import datetime"
   ]
  },
  {
   "cell_type": "code",
   "execution_count": 2,
   "metadata": {
    "collapsed": true
   },
   "outputs": [],
   "source": [
    "dict_metro = load_metro_dictionary()"
   ]
  },
  {
   "cell_type": "code",
   "execution_count": 3,
   "metadata": {
    "collapsed": true
   },
   "outputs": [],
   "source": [
    "if os.name == 'nt':\n",
    "    frame_path = 'C:\\Users\\catalina\\Documents\\Datois\\etapas_2013_abril_allyearsids_10_100000.csv'\n",
    "    df_period_path = 'C:\\Users\\catalina\\Documents\\Datois\\etapas_2013_septiembre_allyearsids_10_100000.csv'\n",
    "else:\n",
    "    frame_path = '/home/cata/Documentos/Datois/etapas_2013_abril_allyearsids_10_100000.csv'\n",
    "    df_period_path = 'C:\\Users\\catalina\\Documents\\Datois\\etapas_2013_septiembre_allyearsids_10_100000.csv'"
   ]
  },
  {
   "cell_type": "code",
   "execution_count": 4,
   "metadata": {
    "collapsed": true
   },
   "outputs": [],
   "source": [
    "with open('correct_and_wrong_indexs_alg1.pickle','r') as f:\n",
    "    correct_indexs = pickle.load(f)\n",
    "    wrong_indexs = pickle.load(f)"
   ]
  },
  {
   "cell_type": "code",
   "execution_count": null,
   "metadata": {
    "collapsed": true
   },
   "outputs": [],
   "source": [
    "with open('correct_and_wrong_indexs_alg1_spatiotemporal.pickle','r') as f:\n",
    "    correct_indexs_spatiotemporal = pickle.load(f)\n",
    "    wrong_indexs_spatiotemporal = pickle.load(f)"
   ]
  }
 ],
 "metadata": {
  "kernelspec": {
   "display_name": "Python 2",
   "language": "python",
   "name": "python2"
  },
  "language_info": {
   "codemirror_mode": {
    "name": "ipython",
    "version": 2
   },
   "file_extension": ".py",
   "mimetype": "text/x-python",
   "name": "python",
   "nbconvert_exporter": "python",
   "pygments_lexer": "ipython2",
   "version": "2.7.11"
  }
 },
 "nbformat": 4,
 "nbformat_minor": 0
}
