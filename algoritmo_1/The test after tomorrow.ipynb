{
 "cells": [
  {
   "cell_type": "markdown",
   "metadata": {},
   "source": [
    "## Import Export"
   ]
  },
  {
   "cell_type": "code",
   "execution_count": 1,
   "metadata": {
    "collapsed": false
   },
   "outputs": [],
   "source": [
    "%matplotlib inline\n",
    "import numpy as np\n",
    "import pandas as pd\n",
    "import matplotlib.pyplot as plt\n",
    "import time\n",
    "import pickle\n",
    "from __future__ import division\n",
    "import csv\n",
    "import tpm_identification\n",
    "from auxiliar_functions import *\n"
   ]
  },
  {
   "cell_type": "code",
   "execution_count": 12,
   "metadata": {
    "collapsed": false
   },
   "outputs": [
    {
     "data": {
      "text/plain": [
       "<module 'tpm_identification' from 'tpm_identification.py'>"
      ]
     },
     "execution_count": 12,
     "metadata": {},
     "output_type": "execute_result"
    }
   ],
   "source": [
    "reload(tpm_identification)"
   ]
  },
  {
   "cell_type": "code",
   "execution_count": 13,
   "metadata": {
    "collapsed": false
   },
   "outputs": [],
   "source": [
    "dict_metro = load_metro_dictionary()"
   ]
  },
  {
   "cell_type": "code",
   "execution_count": 14,
   "metadata": {
    "collapsed": false
   },
   "outputs": [
    {
     "data": {
      "text/html": [
       "<div>\n",
       "<table border=\"1\" class=\"dataframe\">\n",
       "  <thead>\n",
       "    <tr style=\"text-align: right;\">\n",
       "      <th></th>\n",
       "      <th>tiempo_subida</th>\n",
       "      <th>id</th>\n",
       "      <th>x_subida</th>\n",
       "      <th>y_subida</th>\n",
       "      <th>tipo_transporte</th>\n",
       "      <th>serviciosentidovariante</th>\n",
       "      <th>tipo_dia</th>\n",
       "      <th>nviaje</th>\n",
       "      <th>netapa</th>\n",
       "      <th>x_bajada</th>\n",
       "      <th>y_bajada</th>\n",
       "      <th>tiempo_bajada</th>\n",
       "      <th>par_subida</th>\n",
       "      <th>par_bajada</th>\n",
       "      <th>zona_subida</th>\n",
       "      <th>zona_bajada</th>\n",
       "      <th>adulto</th>\n",
       "    </tr>\n",
       "  </thead>\n",
       "  <tbody>\n",
       "    <tr>\n",
       "      <th>23</th>\n",
       "      <td>2013-04-14 06:45:44</td>\n",
       "      <td>1132106</td>\n",
       "      <td>348108.0</td>\n",
       "      <td>6289153.0</td>\n",
       "      <td>BUS</td>\n",
       "      <td>T203 00R</td>\n",
       "      <td>DOMINGO</td>\n",
       "      <td>1</td>\n",
       "      <td>1</td>\n",
       "      <td>346818.0</td>\n",
       "      <td>6299394.0</td>\n",
       "      <td>2013-04-14 07:07:02</td>\n",
       "      <td>T-22-205-SN-65</td>\n",
       "      <td>E-20-190-SN-40</td>\n",
       "      <td>328.0</td>\n",
       "      <td>307.0</td>\n",
       "      <td>0.0</td>\n",
       "    </tr>\n",
       "    <tr>\n",
       "      <th>22</th>\n",
       "      <td>2013-04-14 07:51:52</td>\n",
       "      <td>1132106</td>\n",
       "      <td>346751.0</td>\n",
       "      <td>6299389.0</td>\n",
       "      <td>BUS</td>\n",
       "      <td>T502 00I</td>\n",
       "      <td>DOMINGO</td>\n",
       "      <td>2</td>\n",
       "      <td>1</td>\n",
       "      <td>351363.0</td>\n",
       "      <td>6302549.0</td>\n",
       "      <td>2013-04-14 08:04:11</td>\n",
       "      <td>E-20-291-PO-20</td>\n",
       "      <td>T-15-135-PO-5</td>\n",
       "      <td>307.0</td>\n",
       "      <td>188.0</td>\n",
       "      <td>0.0</td>\n",
       "    </tr>\n",
       "    <tr>\n",
       "      <th>21</th>\n",
       "      <td>2013-04-14 19:56:47</td>\n",
       "      <td>1132106</td>\n",
       "      <td>351368.0</td>\n",
       "      <td>6302559.0</td>\n",
       "      <td>BUS</td>\n",
       "      <td>T502 00R</td>\n",
       "      <td>DOMINGO</td>\n",
       "      <td>3</td>\n",
       "      <td>1</td>\n",
       "      <td>346763.0</td>\n",
       "      <td>6299568.0</td>\n",
       "      <td>2013-04-14 20:09:11</td>\n",
       "      <td>T-15-135-OP-110</td>\n",
       "      <td>T-4-19-NS-100</td>\n",
       "      <td>188.0</td>\n",
       "      <td>55.0</td>\n",
       "      <td>0.0</td>\n",
       "    </tr>\n",
       "    <tr>\n",
       "      <th>20</th>\n",
       "      <td>2013-04-14 20:15:25</td>\n",
       "      <td>1132106</td>\n",
       "      <td>346713.0</td>\n",
       "      <td>6299427.0</td>\n",
       "      <td>BUS</td>\n",
       "      <td>T203 00I</td>\n",
       "      <td>DOMINGO</td>\n",
       "      <td>3</td>\n",
       "      <td>2</td>\n",
       "      <td>348095.0</td>\n",
       "      <td>6289148.0</td>\n",
       "      <td>2013-04-14 20:40:51</td>\n",
       "      <td>E-20-199-NS-2</td>\n",
       "      <td>T-24-205-NS-20</td>\n",
       "      <td>307.0</td>\n",
       "      <td>348.0</td>\n",
       "      <td>0.0</td>\n",
       "    </tr>\n",
       "    <tr>\n",
       "      <th>19</th>\n",
       "      <td>2013-04-15 21:04:59</td>\n",
       "      <td>1132106</td>\n",
       "      <td>348103.0</td>\n",
       "      <td>6289191.0</td>\n",
       "      <td>BUS</td>\n",
       "      <td>T206 00R</td>\n",
       "      <td>LABORAL</td>\n",
       "      <td>4</td>\n",
       "      <td>1</td>\n",
       "      <td>346844.0</td>\n",
       "      <td>6299320.0</td>\n",
       "      <td>2013-04-15 21:33:23</td>\n",
       "      <td>T-22-205-SN-65</td>\n",
       "      <td>T-20-190-SN-35</td>\n",
       "      <td>328.0</td>\n",
       "      <td>309.0</td>\n",
       "      <td>0.0</td>\n",
       "    </tr>\n",
       "  </tbody>\n",
       "</table>\n",
       "</div>"
      ],
      "text/plain": [
       "         tiempo_subida       id  x_subida   y_subida tipo_transporte  \\\n",
       "23 2013-04-14 06:45:44  1132106  348108.0  6289153.0             BUS   \n",
       "22 2013-04-14 07:51:52  1132106  346751.0  6299389.0             BUS   \n",
       "21 2013-04-14 19:56:47  1132106  351368.0  6302559.0             BUS   \n",
       "20 2013-04-14 20:15:25  1132106  346713.0  6299427.0             BUS   \n",
       "19 2013-04-15 21:04:59  1132106  348103.0  6289191.0             BUS   \n",
       "\n",
       "   serviciosentidovariante tipo_dia  nviaje  netapa  x_bajada   y_bajada  \\\n",
       "23                T203 00R  DOMINGO       1       1  346818.0  6299394.0   \n",
       "22                T502 00I  DOMINGO       2       1  351363.0  6302549.0   \n",
       "21                T502 00R  DOMINGO       3       1  346763.0  6299568.0   \n",
       "20                T203 00I  DOMINGO       3       2  348095.0  6289148.0   \n",
       "19                T206 00R  LABORAL       4       1  346844.0  6299320.0   \n",
       "\n",
       "          tiempo_bajada       par_subida      par_bajada  zona_subida  \\\n",
       "23  2013-04-14 07:07:02   T-22-205-SN-65  E-20-190-SN-40        328.0   \n",
       "22  2013-04-14 08:04:11   E-20-291-PO-20   T-15-135-PO-5        307.0   \n",
       "21  2013-04-14 20:09:11  T-15-135-OP-110   T-4-19-NS-100        188.0   \n",
       "20  2013-04-14 20:40:51    E-20-199-NS-2  T-24-205-NS-20        307.0   \n",
       "19  2013-04-15 21:33:23   T-22-205-SN-65  T-20-190-SN-35        328.0   \n",
       "\n",
       "    zona_bajada  adulto  \n",
       "23        307.0     0.0  \n",
       "22        188.0     0.0  \n",
       "21         55.0     0.0  \n",
       "20        348.0     0.0  \n",
       "19        309.0     0.0  "
      ]
     },
     "execution_count": 14,
     "metadata": {},
     "output_type": "execute_result"
    }
   ],
   "source": [
    "frame = pd.read_csv('/home/cata/Documentos/Datois/etapas_2013_abril_allyearsids_10_100000.csv')\n",
    "frame['tiempo_subida'] = pd.to_datetime(frame.tiempo_subida)\n",
    "frame = frame.sort_values(by=['id', 'tiempo_subida'])\n",
    "frame.head()"
   ]
  },
  {
   "cell_type": "code",
   "execution_count": 15,
   "metadata": {
    "collapsed": true
   },
   "outputs": [],
   "source": [
    "df_id_period = pd.read_csv('/home/cata/Documentos/Datois/etapas_2013_septiembre_allyearsids_10_100000.csv')\n",
    "df_id_period['tiempo_subida'] = pd.to_datetime(df_id_period.tiempo_subida)\n",
    "df_id_period = df_id_period.sort_values(by=['id', 'tiempo_subida'])"
   ]
  },
  {
   "cell_type": "code",
   "execution_count": 16,
   "metadata": {
    "collapsed": false
   },
   "outputs": [
    {
     "data": {
      "text/html": [
       "<div>\n",
       "<table border=\"1\" class=\"dataframe\">\n",
       "  <thead>\n",
       "    <tr style=\"text-align: right;\">\n",
       "      <th></th>\n",
       "      <th>tiempo_subida</th>\n",
       "      <th>id</th>\n",
       "      <th>x_subida</th>\n",
       "      <th>y_subida</th>\n",
       "      <th>tipo_transporte</th>\n",
       "      <th>serviciosentidovariante</th>\n",
       "      <th>tipo_dia</th>\n",
       "      <th>nviaje</th>\n",
       "      <th>netapa</th>\n",
       "      <th>x_bajada</th>\n",
       "      <th>y_bajada</th>\n",
       "      <th>tiempo_bajada</th>\n",
       "      <th>par_subida</th>\n",
       "      <th>par_bajada</th>\n",
       "      <th>zona_subida</th>\n",
       "      <th>zona_bajada</th>\n",
       "      <th>adulto</th>\n",
       "    </tr>\n",
       "  </thead>\n",
       "  <tbody>\n",
       "    <tr>\n",
       "      <th>26</th>\n",
       "      <td>2013-09-23 20:58:46</td>\n",
       "      <td>1132106</td>\n",
       "      <td>348106.0</td>\n",
       "      <td>6289139.0</td>\n",
       "      <td>BUS</td>\n",
       "      <td>T203 00R</td>\n",
       "      <td>LABORAL</td>\n",
       "      <td>1</td>\n",
       "      <td>1</td>\n",
       "      <td>346824.0</td>\n",
       "      <td>6299354.0</td>\n",
       "      <td>2013-09-23 21:23:02</td>\n",
       "      <td>T-22-205-SN-65</td>\n",
       "      <td>E-20-190-SN-40</td>\n",
       "      <td>328.0</td>\n",
       "      <td>307.0</td>\n",
       "      <td>0.0</td>\n",
       "    </tr>\n",
       "    <tr>\n",
       "      <th>25</th>\n",
       "      <td>2013-09-23 21:24:25</td>\n",
       "      <td>1132106</td>\n",
       "      <td>346789.0</td>\n",
       "      <td>6299372.0</td>\n",
       "      <td>BUS</td>\n",
       "      <td>T502 00I</td>\n",
       "      <td>LABORAL</td>\n",
       "      <td>1</td>\n",
       "      <td>2</td>\n",
       "      <td>351366.0</td>\n",
       "      <td>6302548.0</td>\n",
       "      <td>2013-09-23 21:37:55</td>\n",
       "      <td>E-20-291-PO-20</td>\n",
       "      <td>T-15-135-PO-5</td>\n",
       "      <td>307.0</td>\n",
       "      <td>188.0</td>\n",
       "      <td>0.0</td>\n",
       "    </tr>\n",
       "    <tr>\n",
       "      <th>24</th>\n",
       "      <td>2013-09-24 07:15:40</td>\n",
       "      <td>1132106</td>\n",
       "      <td>351362.0</td>\n",
       "      <td>6302563.0</td>\n",
       "      <td>BUS</td>\n",
       "      <td>T502 00R</td>\n",
       "      <td>LABORAL</td>\n",
       "      <td>2</td>\n",
       "      <td>1</td>\n",
       "      <td>346661.0</td>\n",
       "      <td>6299484.0</td>\n",
       "      <td>2013-09-24 07:32:11</td>\n",
       "      <td>T-15-135-OP-110</td>\n",
       "      <td>T-4-19-NS-100</td>\n",
       "      <td>188.0</td>\n",
       "      <td>55.0</td>\n",
       "      <td>0.0</td>\n",
       "    </tr>\n",
       "    <tr>\n",
       "      <th>23</th>\n",
       "      <td>2013-09-24 08:00:08</td>\n",
       "      <td>1132106</td>\n",
       "      <td>346719.0</td>\n",
       "      <td>6299344.0</td>\n",
       "      <td>BUS</td>\n",
       "      <td>T206 06I</td>\n",
       "      <td>LABORAL</td>\n",
       "      <td>3</td>\n",
       "      <td>1</td>\n",
       "      <td>348078.0</td>\n",
       "      <td>6289284.0</td>\n",
       "      <td>2013-09-24 08:36:40</td>\n",
       "      <td>E-20-199-NS-2</td>\n",
       "      <td>T-24-205-NS-20</td>\n",
       "      <td>307.0</td>\n",
       "      <td>348.0</td>\n",
       "      <td>0.0</td>\n",
       "    </tr>\n",
       "    <tr>\n",
       "      <th>22</th>\n",
       "      <td>2013-09-24 09:13:22</td>\n",
       "      <td>1132106</td>\n",
       "      <td>347658.0</td>\n",
       "      <td>6289320.0</td>\n",
       "      <td>BUS</td>\n",
       "      <td>T352 00R</td>\n",
       "      <td>LABORAL</td>\n",
       "      <td>3</td>\n",
       "      <td>2</td>\n",
       "      <td>NaN</td>\n",
       "      <td>NaN</td>\n",
       "      <td>NaN</td>\n",
       "      <td>L-24-26-OP-25</td>\n",
       "      <td>NaN</td>\n",
       "      <td>348.0</td>\n",
       "      <td>NaN</td>\n",
       "      <td>NaN</td>\n",
       "    </tr>\n",
       "  </tbody>\n",
       "</table>\n",
       "</div>"
      ],
      "text/plain": [
       "         tiempo_subida       id  x_subida   y_subida tipo_transporte  \\\n",
       "26 2013-09-23 20:58:46  1132106  348106.0  6289139.0             BUS   \n",
       "25 2013-09-23 21:24:25  1132106  346789.0  6299372.0             BUS   \n",
       "24 2013-09-24 07:15:40  1132106  351362.0  6302563.0             BUS   \n",
       "23 2013-09-24 08:00:08  1132106  346719.0  6299344.0             BUS   \n",
       "22 2013-09-24 09:13:22  1132106  347658.0  6289320.0             BUS   \n",
       "\n",
       "   serviciosentidovariante tipo_dia  nviaje  netapa  x_bajada   y_bajada  \\\n",
       "26                T203 00R  LABORAL       1       1  346824.0  6299354.0   \n",
       "25                T502 00I  LABORAL       1       2  351366.0  6302548.0   \n",
       "24                T502 00R  LABORAL       2       1  346661.0  6299484.0   \n",
       "23                T206 06I  LABORAL       3       1  348078.0  6289284.0   \n",
       "22                T352 00R  LABORAL       3       2       NaN        NaN   \n",
       "\n",
       "          tiempo_bajada       par_subida      par_bajada  zona_subida  \\\n",
       "26  2013-09-23 21:23:02   T-22-205-SN-65  E-20-190-SN-40        328.0   \n",
       "25  2013-09-23 21:37:55   E-20-291-PO-20   T-15-135-PO-5        307.0   \n",
       "24  2013-09-24 07:32:11  T-15-135-OP-110   T-4-19-NS-100        188.0   \n",
       "23  2013-09-24 08:36:40    E-20-199-NS-2  T-24-205-NS-20        307.0   \n",
       "22                  NaN    L-24-26-OP-25             NaN        348.0   \n",
       "\n",
       "    zona_bajada  adulto  \n",
       "26        307.0     0.0  \n",
       "25        188.0     0.0  \n",
       "24         55.0     0.0  \n",
       "23        348.0     0.0  \n",
       "22          NaN     NaN  "
      ]
     },
     "execution_count": 16,
     "metadata": {},
     "output_type": "execute_result"
    }
   ],
   "source": [
    "df_id_period.head()"
   ]
  },
  {
   "cell_type": "markdown",
   "metadata": {},
   "source": [
    "## Get Profiles from both periods"
   ]
  },
  {
   "cell_type": "code",
   "execution_count": 17,
   "metadata": {
    "collapsed": false
   },
   "outputs": [
    {
     "data": {
      "text/plain": [
       "<module 'tpm_identification' from 'tpm_identification.pyc'>"
      ]
     },
     "execution_count": 17,
     "metadata": {},
     "output_type": "execute_result"
    }
   ],
   "source": [
    "reload(tpm_identification)"
   ]
  },
  {
   "cell_type": "code",
   "execution_count": 18,
   "metadata": {
    "collapsed": false
   },
   "outputs": [],
   "source": [
    "users_profiles = tpm_identification.get_profiles(frame['id'],frame['zona_subida'],frame['zona_bajada'])"
   ]
  },
  {
   "cell_type": "code",
   "execution_count": 19,
   "metadata": {
    "collapsed": false
   },
   "outputs": [
    {
     "data": {
      "text/plain": [
       "5169"
      ]
     },
     "execution_count": 19,
     "metadata": {},
     "output_type": "execute_result"
    }
   ],
   "source": [
    "numero_usuarios = len(users_profiles)\n",
    "numero_usuarios"
   ]
  },
  {
   "cell_type": "code",
   "execution_count": 20,
   "metadata": {
    "collapsed": false
   },
   "outputs": [],
   "source": [
    "profiles = tpm_identification.get_sequences(df_id_period['id'],df_id_period['zona_subida'],df_id_period['zona_bajada'])"
   ]
  },
  {
   "cell_type": "code",
   "execution_count": 21,
   "metadata": {
    "collapsed": false
   },
   "outputs": [
    {
     "data": {
      "text/plain": [
       "5344"
      ]
     },
     "execution_count": 21,
     "metadata": {},
     "output_type": "execute_result"
    }
   ],
   "source": [
    "len(profiles)"
   ]
  },
  {
   "cell_type": "markdown",
   "metadata": {},
   "source": [
    "## Check if the ids are the same for both periods"
   ]
  },
  {
   "cell_type": "code",
   "execution_count": 22,
   "metadata": {
    "collapsed": false
   },
   "outputs": [],
   "source": [
    "last_iddd = 0\n",
    "for i in range(len(users_profiles)):\n",
    "    assert last_iddd < users_profiles[i]['user_id']\n",
    "    last_iddd = users_profiles[i]['user_id']\n",
    "    assert users_profiles[i]['user_id'] == profiles[i]['user_id']\n",
    "    "
   ]
  },
  {
   "cell_type": "markdown",
   "metadata": {},
   "source": [
    "## Comparee"
   ]
  },
  {
   "cell_type": "code",
   "execution_count": 23,
   "metadata": {
    "collapsed": false
   },
   "outputs": [],
   "source": [
    "start_time = time.time()\n",
    "iden = tpm_identification.get_identification_matrix(users_profiles,profiles)\n",
    "delta_time = time.time() - start_time"
   ]
  },
  {
   "cell_type": "code",
   "execution_count": 24,
   "metadata": {
    "collapsed": false
   },
   "outputs": [
    {
     "data": {
      "text/html": [
       "<div>\n",
       "<table border=\"1\" class=\"dataframe\">\n",
       "  <thead>\n",
       "    <tr style=\"text-align: right;\">\n",
       "      <th></th>\n",
       "      <th>0</th>\n",
       "      <th>1</th>\n",
       "      <th>2</th>\n",
       "      <th>3</th>\n",
       "      <th>4</th>\n",
       "      <th>5</th>\n",
       "      <th>6</th>\n",
       "      <th>7</th>\n",
       "      <th>8</th>\n",
       "      <th>9</th>\n",
       "      <th>...</th>\n",
       "      <th>5159</th>\n",
       "      <th>5160</th>\n",
       "      <th>5161</th>\n",
       "      <th>5162</th>\n",
       "      <th>5163</th>\n",
       "      <th>5164</th>\n",
       "      <th>5165</th>\n",
       "      <th>5166</th>\n",
       "      <th>5167</th>\n",
       "      <th>5168</th>\n",
       "    </tr>\n",
       "  </thead>\n",
       "  <tbody>\n",
       "    <tr>\n",
       "      <th>0</th>\n",
       "      <td>-68.142149</td>\n",
       "      <td>-750.000000</td>\n",
       "      <td>-780.000000</td>\n",
       "      <td>-774.00000</td>\n",
       "      <td>-750.00000</td>\n",
       "      <td>-780.00000</td>\n",
       "      <td>-750.00000</td>\n",
       "      <td>-783.0</td>\n",
       "      <td>-768.000000</td>\n",
       "      <td>-817.000000</td>\n",
       "      <td>...</td>\n",
       "      <td>-792.0</td>\n",
       "      <td>-770.0</td>\n",
       "      <td>-820.0</td>\n",
       "      <td>-810.0</td>\n",
       "      <td>-780.0</td>\n",
       "      <td>-799.0</td>\n",
       "      <td>-800.0</td>\n",
       "      <td>-756.0</td>\n",
       "      <td>-730.0</td>\n",
       "      <td>-783.0</td>\n",
       "    </tr>\n",
       "    <tr>\n",
       "      <th>1</th>\n",
       "      <td>-780.000000</td>\n",
       "      <td>-427.135729</td>\n",
       "      <td>-750.000000</td>\n",
       "      <td>-731.00000</td>\n",
       "      <td>-750.00000</td>\n",
       "      <td>-780.00000</td>\n",
       "      <td>-750.00000</td>\n",
       "      <td>-621.0</td>\n",
       "      <td>-768.000000</td>\n",
       "      <td>-817.000000</td>\n",
       "      <td>...</td>\n",
       "      <td>-792.0</td>\n",
       "      <td>-770.0</td>\n",
       "      <td>-820.0</td>\n",
       "      <td>-810.0</td>\n",
       "      <td>-780.0</td>\n",
       "      <td>-799.0</td>\n",
       "      <td>-800.0</td>\n",
       "      <td>-756.0</td>\n",
       "      <td>-730.0</td>\n",
       "      <td>-783.0</td>\n",
       "    </tr>\n",
       "    <tr>\n",
       "      <th>2</th>\n",
       "      <td>-780.000000</td>\n",
       "      <td>-775.000000</td>\n",
       "      <td>-363.640879</td>\n",
       "      <td>-774.00000</td>\n",
       "      <td>-750.00000</td>\n",
       "      <td>-780.00000</td>\n",
       "      <td>-750.00000</td>\n",
       "      <td>-783.0</td>\n",
       "      <td>-672.903090</td>\n",
       "      <td>-817.000000</td>\n",
       "      <td>...</td>\n",
       "      <td>-792.0</td>\n",
       "      <td>-770.0</td>\n",
       "      <td>-820.0</td>\n",
       "      <td>-810.0</td>\n",
       "      <td>-780.0</td>\n",
       "      <td>-799.0</td>\n",
       "      <td>-800.0</td>\n",
       "      <td>-756.0</td>\n",
       "      <td>-730.0</td>\n",
       "      <td>-783.0</td>\n",
       "    </tr>\n",
       "    <tr>\n",
       "      <th>3</th>\n",
       "      <td>-780.000000</td>\n",
       "      <td>-775.000000</td>\n",
       "      <td>-780.000000</td>\n",
       "      <td>-344.48455</td>\n",
       "      <td>-750.00000</td>\n",
       "      <td>-780.00000</td>\n",
       "      <td>-750.00000</td>\n",
       "      <td>-783.0</td>\n",
       "      <td>-768.000000</td>\n",
       "      <td>-817.000000</td>\n",
       "      <td>...</td>\n",
       "      <td>-792.0</td>\n",
       "      <td>-770.0</td>\n",
       "      <td>-820.0</td>\n",
       "      <td>-810.0</td>\n",
       "      <td>-780.0</td>\n",
       "      <td>-799.0</td>\n",
       "      <td>-800.0</td>\n",
       "      <td>-756.0</td>\n",
       "      <td>-730.0</td>\n",
       "      <td>-783.0</td>\n",
       "    </tr>\n",
       "    <tr>\n",
       "      <th>4</th>\n",
       "      <td>-780.000000</td>\n",
       "      <td>-775.000000</td>\n",
       "      <td>-780.000000</td>\n",
       "      <td>-774.00000</td>\n",
       "      <td>-351.59176</td>\n",
       "      <td>-780.00000</td>\n",
       "      <td>-750.00000</td>\n",
       "      <td>-783.0</td>\n",
       "      <td>-768.000000</td>\n",
       "      <td>-817.000000</td>\n",
       "      <td>...</td>\n",
       "      <td>-792.0</td>\n",
       "      <td>-770.0</td>\n",
       "      <td>-820.0</td>\n",
       "      <td>-810.0</td>\n",
       "      <td>-780.0</td>\n",
       "      <td>-799.0</td>\n",
       "      <td>-800.0</td>\n",
       "      <td>-756.0</td>\n",
       "      <td>-730.0</td>\n",
       "      <td>-783.0</td>\n",
       "    </tr>\n",
       "    <tr>\n",
       "      <th>5</th>\n",
       "      <td>-780.000000</td>\n",
       "      <td>-775.000000</td>\n",
       "      <td>-780.000000</td>\n",
       "      <td>-774.00000</td>\n",
       "      <td>-750.00000</td>\n",
       "      <td>-780.00000</td>\n",
       "      <td>-750.00000</td>\n",
       "      <td>-783.0</td>\n",
       "      <td>-768.000000</td>\n",
       "      <td>-817.000000</td>\n",
       "      <td>...</td>\n",
       "      <td>-792.0</td>\n",
       "      <td>-770.0</td>\n",
       "      <td>-820.0</td>\n",
       "      <td>-810.0</td>\n",
       "      <td>-780.0</td>\n",
       "      <td>-799.0</td>\n",
       "      <td>-800.0</td>\n",
       "      <td>-756.0</td>\n",
       "      <td>-730.0</td>\n",
       "      <td>-783.0</td>\n",
       "    </tr>\n",
       "    <tr>\n",
       "      <th>6</th>\n",
       "      <td>-780.000000</td>\n",
       "      <td>-775.000000</td>\n",
       "      <td>-780.000000</td>\n",
       "      <td>-774.00000</td>\n",
       "      <td>-750.00000</td>\n",
       "      <td>-720.09691</td>\n",
       "      <td>-500.29073</td>\n",
       "      <td>-783.0</td>\n",
       "      <td>-768.000000</td>\n",
       "      <td>-817.000000</td>\n",
       "      <td>...</td>\n",
       "      <td>-792.0</td>\n",
       "      <td>-770.0</td>\n",
       "      <td>-820.0</td>\n",
       "      <td>-810.0</td>\n",
       "      <td>-780.0</td>\n",
       "      <td>-799.0</td>\n",
       "      <td>-800.0</td>\n",
       "      <td>-756.0</td>\n",
       "      <td>-730.0</td>\n",
       "      <td>-783.0</td>\n",
       "    </tr>\n",
       "    <tr>\n",
       "      <th>7</th>\n",
       "      <td>-780.000000</td>\n",
       "      <td>-775.000000</td>\n",
       "      <td>-780.000000</td>\n",
       "      <td>-774.00000</td>\n",
       "      <td>-750.00000</td>\n",
       "      <td>-780.00000</td>\n",
       "      <td>-750.00000</td>\n",
       "      <td>-783.0</td>\n",
       "      <td>-768.000000</td>\n",
       "      <td>-817.000000</td>\n",
       "      <td>...</td>\n",
       "      <td>-792.0</td>\n",
       "      <td>-770.0</td>\n",
       "      <td>-820.0</td>\n",
       "      <td>-810.0</td>\n",
       "      <td>-780.0</td>\n",
       "      <td>-799.0</td>\n",
       "      <td>-800.0</td>\n",
       "      <td>-756.0</td>\n",
       "      <td>-730.0</td>\n",
       "      <td>-783.0</td>\n",
       "    </tr>\n",
       "    <tr>\n",
       "      <th>8</th>\n",
       "      <td>-780.000000</td>\n",
       "      <td>-775.000000</td>\n",
       "      <td>-750.096910</td>\n",
       "      <td>-774.00000</td>\n",
       "      <td>-750.00000</td>\n",
       "      <td>-780.00000</td>\n",
       "      <td>-750.00000</td>\n",
       "      <td>-783.0</td>\n",
       "      <td>-257.694065</td>\n",
       "      <td>-817.000000</td>\n",
       "      <td>...</td>\n",
       "      <td>-792.0</td>\n",
       "      <td>-770.0</td>\n",
       "      <td>-820.0</td>\n",
       "      <td>-810.0</td>\n",
       "      <td>-780.0</td>\n",
       "      <td>-799.0</td>\n",
       "      <td>-800.0</td>\n",
       "      <td>-756.0</td>\n",
       "      <td>-730.0</td>\n",
       "      <td>-783.0</td>\n",
       "    </tr>\n",
       "    <tr>\n",
       "      <th>9</th>\n",
       "      <td>-780.000000</td>\n",
       "      <td>-775.000000</td>\n",
       "      <td>-780.000000</td>\n",
       "      <td>-774.00000</td>\n",
       "      <td>-750.00000</td>\n",
       "      <td>-780.00000</td>\n",
       "      <td>-750.00000</td>\n",
       "      <td>-756.0</td>\n",
       "      <td>-768.000000</td>\n",
       "      <td>-315.583278</td>\n",
       "      <td>...</td>\n",
       "      <td>-792.0</td>\n",
       "      <td>-770.0</td>\n",
       "      <td>-800.0</td>\n",
       "      <td>-810.0</td>\n",
       "      <td>-780.0</td>\n",
       "      <td>-799.0</td>\n",
       "      <td>-800.0</td>\n",
       "      <td>-756.0</td>\n",
       "      <td>-730.0</td>\n",
       "      <td>-783.0</td>\n",
       "    </tr>\n",
       "  </tbody>\n",
       "</table>\n",
       "<p>10 rows × 5169 columns</p>\n",
       "</div>"
      ],
      "text/plain": [
       "         0           1           2          3          4          5     \\\n",
       "0  -68.142149 -750.000000 -780.000000 -774.00000 -750.00000 -780.00000   \n",
       "1 -780.000000 -427.135729 -750.000000 -731.00000 -750.00000 -780.00000   \n",
       "2 -780.000000 -775.000000 -363.640879 -774.00000 -750.00000 -780.00000   \n",
       "3 -780.000000 -775.000000 -780.000000 -344.48455 -750.00000 -780.00000   \n",
       "4 -780.000000 -775.000000 -780.000000 -774.00000 -351.59176 -780.00000   \n",
       "5 -780.000000 -775.000000 -780.000000 -774.00000 -750.00000 -780.00000   \n",
       "6 -780.000000 -775.000000 -780.000000 -774.00000 -750.00000 -720.09691   \n",
       "7 -780.000000 -775.000000 -780.000000 -774.00000 -750.00000 -780.00000   \n",
       "8 -780.000000 -775.000000 -750.096910 -774.00000 -750.00000 -780.00000   \n",
       "9 -780.000000 -775.000000 -780.000000 -774.00000 -750.00000 -780.00000   \n",
       "\n",
       "        6      7           8           9     ...     5159   5160   5161  \\\n",
       "0 -750.00000 -783.0 -768.000000 -817.000000  ...   -792.0 -770.0 -820.0   \n",
       "1 -750.00000 -621.0 -768.000000 -817.000000  ...   -792.0 -770.0 -820.0   \n",
       "2 -750.00000 -783.0 -672.903090 -817.000000  ...   -792.0 -770.0 -820.0   \n",
       "3 -750.00000 -783.0 -768.000000 -817.000000  ...   -792.0 -770.0 -820.0   \n",
       "4 -750.00000 -783.0 -768.000000 -817.000000  ...   -792.0 -770.0 -820.0   \n",
       "5 -750.00000 -783.0 -768.000000 -817.000000  ...   -792.0 -770.0 -820.0   \n",
       "6 -500.29073 -783.0 -768.000000 -817.000000  ...   -792.0 -770.0 -820.0   \n",
       "7 -750.00000 -783.0 -768.000000 -817.000000  ...   -792.0 -770.0 -820.0   \n",
       "8 -750.00000 -783.0 -257.694065 -817.000000  ...   -792.0 -770.0 -820.0   \n",
       "9 -750.00000 -756.0 -768.000000 -315.583278  ...   -792.0 -770.0 -800.0   \n",
       "\n",
       "    5162   5163   5164   5165   5166   5167   5168  \n",
       "0 -810.0 -780.0 -799.0 -800.0 -756.0 -730.0 -783.0  \n",
       "1 -810.0 -780.0 -799.0 -800.0 -756.0 -730.0 -783.0  \n",
       "2 -810.0 -780.0 -799.0 -800.0 -756.0 -730.0 -783.0  \n",
       "3 -810.0 -780.0 -799.0 -800.0 -756.0 -730.0 -783.0  \n",
       "4 -810.0 -780.0 -799.0 -800.0 -756.0 -730.0 -783.0  \n",
       "5 -810.0 -780.0 -799.0 -800.0 -756.0 -730.0 -783.0  \n",
       "6 -810.0 -780.0 -799.0 -800.0 -756.0 -730.0 -783.0  \n",
       "7 -810.0 -780.0 -799.0 -800.0 -756.0 -730.0 -783.0  \n",
       "8 -810.0 -780.0 -799.0 -800.0 -756.0 -730.0 -783.0  \n",
       "9 -810.0 -780.0 -799.0 -800.0 -756.0 -730.0 -783.0  \n",
       "\n",
       "[10 rows x 5169 columns]"
      ]
     },
     "execution_count": 24,
     "metadata": {},
     "output_type": "execute_result"
    }
   ],
   "source": [
    "iden_matrix = np.matrix(iden)\n",
    "df_ident = pd.DataFrame(iden_matrix)\n",
    "df_ident.head(10)\n"
   ]
  },
  {
   "cell_type": "code",
   "execution_count": 25,
   "metadata": {
    "collapsed": false
   },
   "outputs": [],
   "source": [
    "i = 0\n",
    "identified_indexs = []\n",
    "wrong_indexs = []\n",
    "correct_indexs = []\n",
    "selected_indexs = []\n",
    "n_identified = 0\n",
    "limit = min(len(users_profiles),len(profiles))\n",
    "while (i<limit):\n",
    "    the_index = np.argmax(iden_matrix[:,i])\n",
    "    selected_indexs.append(np.max(iden_matrix[:,i]))\n",
    "    identified_indexs.append(the_index)\n",
    "    if(the_index!=i):\n",
    "        wrong_indexs.append(the_index)\n",
    "    else:\n",
    "        correct_indexs.append(the_index)\n",
    "        n_identified += 1\n",
    "    i += 1"
   ]
  },
  {
   "cell_type": "code",
   "execution_count": 26,
   "metadata": {
    "collapsed": false,
    "scrolled": true
   },
   "outputs": [
    {
     "name": "stdout",
     "output_type": "stream",
     "text": [
      "66.26%\n"
     ]
    }
   ],
   "source": [
    "porcentaje_correcto = n_identified*100/limit\n",
    "print str(round(porcentaje_correcto,2))+ \"%\""
   ]
  },
  {
   "cell_type": "code",
   "execution_count": 27,
   "metadata": {
    "collapsed": false
   },
   "outputs": [],
   "source": [
    "a = [] \n",
    "b = []\n",
    "c = []\n",
    "d = []\n",
    "d_a = []\n",
    "d_b = []\n",
    "for i in range(len(selected_indexs)):\n",
    "    the_index = np.argmax(iden_matrix[:,i])\n",
    "    if the_index==i:\n",
    "        a.append(selected_indexs[i])\n",
    "        d_a.append(0)\n",
    "    else:\n",
    "        b.append(selected_indexs[i])\n",
    "        c.append(iden_matrix[i,i])\n",
    "        d_b.append(selected_indexs[i]-iden_matrix[i,i])\n",
    "        if (selected_indexs[i]-iden_matrix[i,i]) < 20:\n",
    "            d.append(selected_indexs[i])"
   ]
  },
  {
   "cell_type": "code",
   "execution_count": 28,
   "metadata": {
    "collapsed": false,
    "scrolled": true
   },
   "outputs": [
    {
     "data": {
      "image/png": "[encoded data removed]",
      "text/plain": [
       "<matplotlib.figure.Figure at 0x7fd8d6cef950>"
      ]
     },
     "metadata": {},
     "output_type": "display_data"
    }
   ],
   "source": [
    "colors = ['red', 'blue','green']\n",
    "plt.hist([a,b,c], 30, histtype='bar',color=colors)\n",
    "plt.show()"
   ]
  },
  {
   "cell_type": "code",
   "execution_count": 29,
   "metadata": {
    "collapsed": false
   },
   "outputs": [
    {
     "data": {
      "image/png": "[encoded data removed]",
      "text/plain": [
       "<matplotlib.figure.Figure at 0x7fd8fc262590>"
      ]
     },
     "metadata": {},
     "output_type": "display_data"
    }
   ],
   "source": [
    "colors = ['red', 'blue']\n",
    "plt.hist([a,b], 30, histtype='bar',color=colors)\n",
    "plt.show()"
   ]
  },
  {
   "cell_type": "code",
   "execution_count": 30,
   "metadata": {
    "collapsed": false
   },
   "outputs": [
    {
     "data": {
      "text/plain": [
       "(array([ 147.,   44.,   14.,    8.,    1.,    0.,    0.,    0.,    0.,\n",
       "           0.,    0.,    0.,    0.,    1.,    2.,    1.,    0.,    1.,    3.]),\n",
       " array([ 0,  1,  2,  3,  4,  5,  6,  7,  8,  9, 10, 11, 12, 13, 14, 15, 16,\n",
       "        17, 18, 19]),\n",
       " <a list of 19 Patch objects>)"
      ]
     },
     "execution_count": 30,
     "metadata": {},
     "output_type": "execute_result"
    },
    {
     "data": {
      "image/png": "[encoded data removed]",
      "text/plain": [
       "<matplotlib.figure.Figure at 0x7fd8d653a110>"
      ]
     },
     "metadata": {},
     "output_type": "display_data"
    }
   ],
   "source": [
    "plt.hist(d_b,range(0,20))"
   ]
  },
  {
   "cell_type": "code",
   "execution_count": 31,
   "metadata": {
    "collapsed": false
   },
   "outputs": [
    {
     "data": {
      "image/png": "[encoded data removed]",
      "text/plain": [
       "<matplotlib.figure.Figure at 0x7fd8d653a990>"
      ]
     },
     "metadata": {},
     "output_type": "display_data"
    }
   ],
   "source": [
    "colors = ['blue','green']\n",
    "plt.hist([b,d], 30, histtype='bar',color=colors)\n",
    "plt.show()"
   ]
  },
  {
   "cell_type": "code",
   "execution_count": 32,
   "metadata": {
    "collapsed": false
   },
   "outputs": [],
   "source": [
    "with open('iden_matrix_zona.pickle','w') as f:\n",
    "    pickle.dump(iden,f)"
   ]
  },
  {
   "cell_type": "code",
   "execution_count": 33,
   "metadata": {
    "collapsed": false
   },
   "outputs": [],
   "source": [
    "with open('iden_matrix.pickle','r') as f:\n",
    "    iden = pickle.load(f)"
   ]
  },
  {
   "cell_type": "code",
   "execution_count": 34,
   "metadata": {
    "collapsed": true
   },
   "outputs": [],
   "source": [
    "with open('iden_matrix_paradero.pickle','r') as f:\n",
    "    iden_paradero = pickle.load(f)"
   ]
  },
  {
   "cell_type": "markdown",
   "metadata": {},
   "source": [
    "### Comparee con paraderos"
   ]
  },
  {
   "cell_type": "code",
   "execution_count": 35,
   "metadata": {
    "collapsed": true
   },
   "outputs": [],
   "source": [
    "users_profiles = tpm_identification.get_profiles(frame['id'],frame['par_subida'],frame['par_bajada'])\n",
    "profiles = tpm_identification.get_sequences(df_id_period['id'],df_id_period['par_subida'],df_id_period['par_bajada'])"
   ]
  },
  {
   "cell_type": "code",
   "execution_count": 36,
   "metadata": {
    "collapsed": true
   },
   "outputs": [],
   "source": [
    "start_time = time.time()\n",
    "iden_paradero = tpm_identification.get_identification_matrix(users_profiles,profiles)\n",
    "delta_time = time.time() - start_time"
   ]
  },
  {
   "cell_type": "code",
   "execution_count": 37,
   "metadata": {
    "collapsed": false
   },
   "outputs": [],
   "source": [
    "iden_matrix_paradero = np.matrix(iden_paradero)\n",
    "df_ident_paradero = pd.DataFrame(iden_matrix_paradero)"
   ]
  },
  {
   "cell_type": "code",
   "execution_count": 38,
   "metadata": {
    "collapsed": false
   },
   "outputs": [],
   "source": [
    "i = 0\n",
    "identified_indexs = []\n",
    "wrong_indexs = []\n",
    "correct_indexs = []\n",
    "selected_indexs = []\n",
    "n_identified = 0\n",
    "limit = min(len(users_profiles),len(profiles))\n",
    "while (i<limit):\n",
    "    the_index = np.argmax(iden_matrix_paradero[:,i])\n",
    "    selected_indexs.append(np.max(iden_matrix_paradero[:,i]))\n",
    "    identified_indexs.append(the_index)\n",
    "    if(the_index!=i):\n",
    "        wrong_indexs.append(the_index)\n",
    "    else:\n",
    "        correct_indexs.append(the_index)\n",
    "        n_identified += 1\n",
    "    i += 1"
   ]
  },
  {
   "cell_type": "code",
   "execution_count": 39,
   "metadata": {
    "collapsed": true
   },
   "outputs": [],
   "source": [
    "with open('correct_and_wrong_indexs_alg1.pickle','w') as f:\n",
    "    pickle.dump(correct_indexs,f)\n",
    "    pickle.dump(wrong_indexs,f)"
   ]
  },
  {
   "cell_type": "code",
   "execution_count": 40,
   "metadata": {
    "collapsed": false
   },
   "outputs": [
    {
     "name": "stdout",
     "output_type": "stream",
     "text": [
      "68.95%\n"
     ]
    }
   ],
   "source": [
    "porcentaje_correcto = n_identified*100/limit\n",
    "print str(round(porcentaje_correcto,2))+ \"%\""
   ]
  },
  {
   "cell_type": "code",
   "execution_count": 41,
   "metadata": {
    "collapsed": true
   },
   "outputs": [],
   "source": [
    "a = [] \n",
    "b = []\n",
    "c = []\n",
    "d = []\n",
    "d_a = []\n",
    "d_b = []\n",
    "for i in range(len(selected_indexs)):\n",
    "    the_index = np.argmax(iden_matrix_paradero[:,i])\n",
    "    if the_index==i:\n",
    "        a.append(selected_indexs[i])\n",
    "        d_a.append(0)\n",
    "    else:\n",
    "        b.append(selected_indexs[i])\n",
    "        c.append(iden_matrix[i,i])\n",
    "        d_b.append(selected_indexs[i]-iden_matrix_paradero[i,i])\n",
    "        if (selected_indexs[i]-iden_matrix_paradero[i,i]) < 20:\n",
    "            d.append(selected_indexs[i])"
   ]
  },
  {
   "cell_type": "code",
   "execution_count": 42,
   "metadata": {
    "collapsed": false
   },
   "outputs": [
    {
     "data": {
      "image/png": "[encoded data removed]",
      "text/plain": [
       "<matplotlib.figure.Figure at 0x7fd906fe84d0>"
      ]
     },
     "metadata": {},
     "output_type": "display_data"
    }
   ],
   "source": [
    "colors = ['red', 'blue','green']\n",
    "plt.hist([a,b,c], 30, histtype='bar',color=colors)\n",
    "plt.show()"
   ]
  },
  {
   "cell_type": "code",
   "execution_count": 43,
   "metadata": {
    "collapsed": false
   },
   "outputs": [
    {
     "data": {
      "image/png": "[encoded data removed]",
      "text/plain": [
       "<matplotlib.figure.Figure at 0x7fd8c7788690>"
      ]
     },
     "metadata": {},
     "output_type": "display_data"
    }
   ],
   "source": [
    "colors = ['red', 'blue']\n",
    "plt.hist([a,b], 30, histtype='bar',color=colors)\n",
    "plt.show()"
   ]
  },
  {
   "cell_type": "code",
   "execution_count": 44,
   "metadata": {
    "collapsed": false
   },
   "outputs": [
    {
     "data": {
      "text/plain": [
       "(array([ 142.,   28.,    8.,    2.,    1.,    0.,    0.,    0.,    1.,\n",
       "           0.,    1.,    0.,    2.,    1.,    2.,    1.,    6.,    6.,    6.]),\n",
       " array([ 0,  1,  2,  3,  4,  5,  6,  7,  8,  9, 10, 11, 12, 13, 14, 15, 16,\n",
       "        17, 18, 19]),\n",
       " <a list of 19 Patch objects>)"
      ]
     },
     "execution_count": 44,
     "metadata": {},
     "output_type": "execute_result"
    },
    {
     "data": {
      "image/png": "[encoded data removed]",
      "text/plain": [
       "<matplotlib.figure.Figure at 0x7fd8d660e3d0>"
      ]
     },
     "metadata": {},
     "output_type": "display_data"
    }
   ],
   "source": [
    "plt.hist(d_b,range(0,20))"
   ]
  },
  {
   "cell_type": "code",
   "execution_count": 45,
   "metadata": {
    "collapsed": false
   },
   "outputs": [
    {
     "data": {
      "image/png": "[encoded data removed]",
      "text/plain": [
       "<matplotlib.figure.Figure at 0x7fd8c67ded90>"
      ]
     },
     "metadata": {},
     "output_type": "display_data"
    }
   ],
   "source": [
    "colors = ['blue','green']\n",
    "plt.hist([b,d], 30, histtype='bar',color=colors)\n",
    "plt.show()"
   ]
  },
  {
   "cell_type": "code",
   "execution_count": 46,
   "metadata": {
    "collapsed": true
   },
   "outputs": [],
   "source": [
    "with open('iden_matrix_paradero.pickle','w') as f:\n",
    "    pickle.dump(iden,f)"
   ]
  },
  {
   "cell_type": "code",
   "execution_count": null,
   "metadata": {
    "collapsed": true
   },
   "outputs": [],
   "source": []
  },
  {
   "cell_type": "code",
   "execution_count": null,
   "metadata": {
    "collapsed": true
   },
   "outputs": [],
   "source": []
  },
  {
   "cell_type": "code",
   "execution_count": null,
   "metadata": {
    "collapsed": true
   },
   "outputs": [],
   "source": []
  },
  {
   "cell_type": "code",
   "execution_count": null,
   "metadata": {
    "collapsed": true
   },
   "outputs": [],
   "source": []
  }
 ],
 "metadata": {
  "kernelspec": {
   "display_name": "Python 2",
   "language": "python",
   "name": "python2"
  },
  "language_info": {
   "codemirror_mode": {
    "name": "ipython",
    "version": 2
   },
   "file_extension": ".py",
   "mimetype": "text/x-python",
   "name": "python",
   "nbconvert_exporter": "python",
   "pygments_lexer": "ipython2",
   "version": "2.7.11"
  }
 },
 "nbformat": 4,
 "nbformat_minor": 0
}
