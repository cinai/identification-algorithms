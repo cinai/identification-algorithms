{
 "cells": [
  {
   "cell_type": "code",
   "execution_count": 4,
   "metadata": {
    "collapsed": false
   },
   "outputs": [],
   "source": [
    "%matplotlib inline\n",
    "import numpy as np\n",
    "import pandas as pd\n",
    "import matplotlib.pyplot as plt\n",
    "import time\n",
    "import pickle\n",
    "from __future__ import division\n",
    "import csv\n",
    "from tools import *\n",
    "import datetime"
   ]
  },
  {
   "cell_type": "code",
   "execution_count": 23,
   "metadata": {
    "collapsed": false
   },
   "outputs": [],
   "source": [
    "dict_metro = load_metro_dictionary()"
   ]
  },
  {
   "cell_type": "code",
   "execution_count": 28,
   "metadata": {
    "collapsed": true
   },
   "outputs": [],
   "source": [
    "if os.name == 'nt':\n",
    "    frame_path = 'C:\\Users\\catalina\\Documents\\Datois\\etapas_2013_abril_allyearsids_10_100000.csv'\n",
    "    df_period_path = 'C:\\Users\\catalina\\Documents\\Datois\\etapas_2013_septiembre_allyearsids_10_100000.csv'\n",
    "else:\n",
    "    frame_path = '/home/cata/Documentos/Datois/etapas_2013_abril_allyearsids_10_100000.csv'\n",
    "    df_period_path = '/home/cata/Documentos/Datois/etapas_2013_septiembre_allyearsids_10_100000.csv'"
   ]
  },
  {
   "cell_type": "code",
   "execution_count": 29,
   "metadata": {
    "collapsed": false
   },
   "outputs": [
    {
     "data": {
      "text/html": [
       "<div>\n",
       "<table border=\"1\" class=\"dataframe\">\n",
       "  <thead>\n",
       "    <tr style=\"text-align: right;\">\n",
       "      <th></th>\n",
       "      <th>tiempo_subida</th>\n",
       "      <th>id</th>\n",
       "      <th>x_subida</th>\n",
       "      <th>y_subida</th>\n",
       "      <th>tipo_transporte</th>\n",
       "      <th>serviciosentidovariante</th>\n",
       "      <th>tipo_dia</th>\n",
       "      <th>nviaje</th>\n",
       "      <th>netapa</th>\n",
       "      <th>x_bajada</th>\n",
       "      <th>y_bajada</th>\n",
       "      <th>tiempo_bajada</th>\n",
       "      <th>par_subida</th>\n",
       "      <th>par_bajada</th>\n",
       "      <th>zona_subida</th>\n",
       "      <th>zona_bajada</th>\n",
       "      <th>adulto</th>\n",
       "    </tr>\n",
       "  </thead>\n",
       "  <tbody>\n",
       "    <tr>\n",
       "      <th>23</th>\n",
       "      <td>2013-04-14 06:45:44</td>\n",
       "      <td>1132106</td>\n",
       "      <td>348108.0</td>\n",
       "      <td>6289153.0</td>\n",
       "      <td>BUS</td>\n",
       "      <td>T203 00R</td>\n",
       "      <td>DOMINGO</td>\n",
       "      <td>1</td>\n",
       "      <td>1</td>\n",
       "      <td>346818.0</td>\n",
       "      <td>6299394.0</td>\n",
       "      <td>2013-04-14 07:07:02</td>\n",
       "      <td>T-22-205-SN-65</td>\n",
       "      <td>E-20-190-SN-40</td>\n",
       "      <td>328.0</td>\n",
       "      <td>307.0</td>\n",
       "      <td>0.0</td>\n",
       "    </tr>\n",
       "    <tr>\n",
       "      <th>22</th>\n",
       "      <td>2013-04-14 07:51:52</td>\n",
       "      <td>1132106</td>\n",
       "      <td>346751.0</td>\n",
       "      <td>6299389.0</td>\n",
       "      <td>BUS</td>\n",
       "      <td>T502 00I</td>\n",
       "      <td>DOMINGO</td>\n",
       "      <td>2</td>\n",
       "      <td>1</td>\n",
       "      <td>351363.0</td>\n",
       "      <td>6302549.0</td>\n",
       "      <td>2013-04-14 08:04:11</td>\n",
       "      <td>E-20-291-PO-20</td>\n",
       "      <td>T-15-135-PO-5</td>\n",
       "      <td>307.0</td>\n",
       "      <td>188.0</td>\n",
       "      <td>0.0</td>\n",
       "    </tr>\n",
       "    <tr>\n",
       "      <th>21</th>\n",
       "      <td>2013-04-14 19:56:47</td>\n",
       "      <td>1132106</td>\n",
       "      <td>351368.0</td>\n",
       "      <td>6302559.0</td>\n",
       "      <td>BUS</td>\n",
       "      <td>T502 00R</td>\n",
       "      <td>DOMINGO</td>\n",
       "      <td>3</td>\n",
       "      <td>1</td>\n",
       "      <td>346763.0</td>\n",
       "      <td>6299568.0</td>\n",
       "      <td>2013-04-14 20:09:11</td>\n",
       "      <td>T-15-135-OP-110</td>\n",
       "      <td>T-4-19-NS-100</td>\n",
       "      <td>188.0</td>\n",
       "      <td>55.0</td>\n",
       "      <td>0.0</td>\n",
       "    </tr>\n",
       "    <tr>\n",
       "      <th>20</th>\n",
       "      <td>2013-04-14 20:15:25</td>\n",
       "      <td>1132106</td>\n",
       "      <td>346713.0</td>\n",
       "      <td>6299427.0</td>\n",
       "      <td>BUS</td>\n",
       "      <td>T203 00I</td>\n",
       "      <td>DOMINGO</td>\n",
       "      <td>3</td>\n",
       "      <td>2</td>\n",
       "      <td>348095.0</td>\n",
       "      <td>6289148.0</td>\n",
       "      <td>2013-04-14 20:40:51</td>\n",
       "      <td>E-20-199-NS-2</td>\n",
       "      <td>T-24-205-NS-20</td>\n",
       "      <td>307.0</td>\n",
       "      <td>348.0</td>\n",
       "      <td>0.0</td>\n",
       "    </tr>\n",
       "    <tr>\n",
       "      <th>19</th>\n",
       "      <td>2013-04-15 21:04:59</td>\n",
       "      <td>1132106</td>\n",
       "      <td>348103.0</td>\n",
       "      <td>6289191.0</td>\n",
       "      <td>BUS</td>\n",
       "      <td>T206 00R</td>\n",
       "      <td>LABORAL</td>\n",
       "      <td>4</td>\n",
       "      <td>1</td>\n",
       "      <td>346844.0</td>\n",
       "      <td>6299320.0</td>\n",
       "      <td>2013-04-15 21:33:23</td>\n",
       "      <td>T-22-205-SN-65</td>\n",
       "      <td>T-20-190-SN-35</td>\n",
       "      <td>328.0</td>\n",
       "      <td>309.0</td>\n",
       "      <td>0.0</td>\n",
       "    </tr>\n",
       "  </tbody>\n",
       "</table>\n",
       "</div>"
      ],
      "text/plain": [
       "         tiempo_subida       id  x_subida   y_subida tipo_transporte  \\\n",
       "23 2013-04-14 06:45:44  1132106  348108.0  6289153.0             BUS   \n",
       "22 2013-04-14 07:51:52  1132106  346751.0  6299389.0             BUS   \n",
       "21 2013-04-14 19:56:47  1132106  351368.0  6302559.0             BUS   \n",
       "20 2013-04-14 20:15:25  1132106  346713.0  6299427.0             BUS   \n",
       "19 2013-04-15 21:04:59  1132106  348103.0  6289191.0             BUS   \n",
       "\n",
       "   serviciosentidovariante tipo_dia  nviaje  netapa  x_bajada   y_bajada  \\\n",
       "23                T203 00R  DOMINGO       1       1  346818.0  6299394.0   \n",
       "22                T502 00I  DOMINGO       2       1  351363.0  6302549.0   \n",
       "21                T502 00R  DOMINGO       3       1  346763.0  6299568.0   \n",
       "20                T203 00I  DOMINGO       3       2  348095.0  6289148.0   \n",
       "19                T206 00R  LABORAL       4       1  346844.0  6299320.0   \n",
       "\n",
       "          tiempo_bajada       par_subida      par_bajada  zona_subida  \\\n",
       "23  2013-04-14 07:07:02   T-22-205-SN-65  E-20-190-SN-40        328.0   \n",
       "22  2013-04-14 08:04:11   E-20-291-PO-20   T-15-135-PO-5        307.0   \n",
       "21  2013-04-14 20:09:11  T-15-135-OP-110   T-4-19-NS-100        188.0   \n",
       "20  2013-04-14 20:40:51    E-20-199-NS-2  T-24-205-NS-20        307.0   \n",
       "19  2013-04-15 21:33:23   T-22-205-SN-65  T-20-190-SN-35        328.0   \n",
       "\n",
       "    zona_bajada  adulto  \n",
       "23        307.0     0.0  \n",
       "22        188.0     0.0  \n",
       "21         55.0     0.0  \n",
       "20        348.0     0.0  \n",
       "19        309.0     0.0  "
      ]
     },
     "execution_count": 29,
     "metadata": {},
     "output_type": "execute_result"
    }
   ],
   "source": [
    "frame = pd.read_csv(frame_path)\n",
    "frame['tiempo_subida'] = pd.to_datetime(frame.tiempo_subida)\n",
    "frame = frame.sort_values(by=['id', 'tiempo_subida'])\n",
    "frame.head()"
   ]
  },
  {
   "cell_type": "code",
   "execution_count": 30,
   "metadata": {
    "collapsed": false
   },
   "outputs": [],
   "source": [
    "df_id_period = pd.read_csv(df_period_path)\n",
    "df_id_period['tiempo_subida'] = pd.to_datetime(df_id_period.tiempo_subida)\n",
    "df_id_period = df_id_period.sort_values(by=['id', 'tiempo_subida'])"
   ]
  },
  {
   "cell_type": "code",
   "execution_count": 31,
   "metadata": {
    "collapsed": false
   },
   "outputs": [
    {
     "data": {
      "text/plain": [
       "<module 'tpm_identification' from 'tpm_identification.pyc'>"
      ]
     },
     "execution_count": 31,
     "metadata": {},
     "output_type": "execute_result"
    }
   ],
   "source": [
    "reload(tpm_identification)"
   ]
  },
  {
   "cell_type": "code",
   "execution_count": 32,
   "metadata": {
    "collapsed": true
   },
   "outputs": [],
   "source": [
    "profiles = tpm_identification.get_spatiotemporal_profiles(frame['id'],frame['tiempo_subida'],frame['par_subida'],frame['par_bajada'])"
   ]
  },
  {
   "cell_type": "code",
   "execution_count": 33,
   "metadata": {
    "collapsed": false,
    "scrolled": true
   },
   "outputs": [],
   "source": [
    "sequences = tpm_identification.get_spatiotemporal_sequences(df_id_period['id'],df_id_period['tiempo_subida'],df_id_period['par_subida'],df_id_period['par_bajada'])"
   ]
  },
  {
   "cell_type": "code",
   "execution_count": 22,
   "metadata": {
    "collapsed": true
   },
   "outputs": [],
   "source": [
    "start_time = time.time()\n",
    "iden = tpm_identification.get_spatiotemporal_identification_matrix(profiles,sequences)\n",
    "delta_time = time.time() - start_time\n",
    "print delta_time"
   ]
  },
  {
   "cell_type": "code",
   "execution_count": 34,
   "metadata": {
    "collapsed": true
   },
   "outputs": [
    {
     "ename": "NameError",
     "evalue": "name 'iden' is not defined",
     "output_type": "error",
     "traceback": [
      "\u001b[1;31m---------------------------------------------------------------------------\u001b[0m",
      "\u001b[1;31mNameError\u001b[0m                                 Traceback (most recent call last)",
      "\u001b[1;32m<ipython-input-34-e1ce4f8818bf>\u001b[0m in \u001b[0;36m<module>\u001b[1;34m()\u001b[0m\n\u001b[0;32m      1\u001b[0m \u001b[1;32mwith\u001b[0m \u001b[0mopen\u001b[0m\u001b[1;33m(\u001b[0m\u001b[1;34m'iden_matrix_spatiotemporal.pickle'\u001b[0m\u001b[1;33m,\u001b[0m\u001b[1;34m'w'\u001b[0m\u001b[1;33m)\u001b[0m \u001b[1;32mas\u001b[0m \u001b[0mf\u001b[0m\u001b[1;33m:\u001b[0m\u001b[1;33m\u001b[0m\u001b[0m\n\u001b[1;32m----> 2\u001b[1;33m     \u001b[0mpickle\u001b[0m\u001b[1;33m.\u001b[0m\u001b[0mdump\u001b[0m\u001b[1;33m(\u001b[0m\u001b[0miden\u001b[0m\u001b[1;33m,\u001b[0m\u001b[0mf\u001b[0m\u001b[1;33m)\u001b[0m\u001b[1;33m\u001b[0m\u001b[0m\n\u001b[0m",
      "\u001b[1;31mNameError\u001b[0m: name 'iden' is not defined"
     ]
    }
   ],
   "source": [
    "with open('iden_matrix_spatiotemporal.pickle','w') as f:\n",
    "    pickle.dump(iden,f)"
   ]
  },
  {
   "cell_type": "code",
   "execution_count": 60,
   "metadata": {
    "collapsed": true
   },
   "outputs": [],
   "source": [
    "profiles_st = tpm_identification.get_spatiotemporal_profiles_2(frame['id'],frame['tiempo_subida'],frame['par_subida'],frame['par_bajada'])"
   ]
  },
  {
   "cell_type": "code",
   "execution_count": 61,
   "metadata": {
    "collapsed": false
   },
   "outputs": [
    {
     "name": "stdout",
     "output_type": "stream",
     "text": [
      "6095.81366611\n"
     ]
    }
   ],
   "source": [
    "start_time = time.time()\n",
    "iden_st_2 = tpm_identification.get_spatiotemporal_identification_matrix_2(profiles_st,sequences)\n",
    "delta_time = time.time() - start_time\n",
    "print delta_time"
   ]
  },
  {
   "cell_type": "code",
   "execution_count": 62,
   "metadata": {
    "collapsed": true
   },
   "outputs": [],
   "source": [
    "with open('iden_matrix_spatiotemporal_2.pickle','w') as f:\n",
    "    pickle.dump(iden_st_2,f)"
   ]
  },
  {
   "cell_type": "code",
   "execution_count": 65,
   "metadata": {
    "collapsed": true
   },
   "outputs": [],
   "source": [
    "iden_matrix = np.matrix(iden_st_2)\n",
    "df_ident = pd.DataFrame(iden_matrix)\n",
    "i = 0\n",
    "identified_indexs = []\n",
    "wrong_indexs = []\n",
    "correct_indexs = []\n",
    "selected_indexs = []\n",
    "n_identified = 0\n",
    "limit = min(len(profiles),len(sequences))\n",
    "while (i<limit):\n",
    "    the_index = np.argmax(iden_matrix[:,i])\n",
    "    selected_indexs.append(np.max(iden_matrix[:,i]))\n",
    "    identified_indexs.append(the_index)\n",
    "    if(the_index!=i):\n",
    "        wrong_indexs.append(the_index)\n",
    "    else:\n",
    "        correct_indexs.append(the_index)\n",
    "        n_identified += 1\n",
    "    i += 1\n",
    "porcentaje_correcto = n_identified*100/limit\n",
    "print str(round(porcentaje_correcto,2))+ \"%\""
   ]
  },
  {
   "cell_type": "code",
   "execution_count": 68,
   "metadata": {
    "collapsed": false
   },
   "outputs": [
    {
     "data": {
      "text/plain": [
       "<module 'tpm_identification' from 'tpm_identification.py'>"
      ]
     },
     "execution_count": 68,
     "metadata": {},
     "output_type": "execute_result"
    }
   ],
   "source": [
    "reload(tpm_identification)"
   ]
  },
  {
   "cell_type": "code",
   "execution_count": 69,
   "metadata": {
    "collapsed": false
   },
   "outputs": [
    {
     "name": "stdout",
     "output_type": "stream",
     "text": [
      "6426.14186883\n"
     ]
    }
   ],
   "source": [
    "start_time = time.time()\n",
    "iden_st_3 = tpm_identification.get_spatiotemporal_identification_matrix_3(profiles_st,sequences)\n",
    "delta_time = time.time() - start_time\n",
    "print delta_time"
   ]
  },
  {
   "cell_type": "code",
   "execution_count": 70,
   "metadata": {
    "collapsed": true
   },
   "outputs": [],
   "source": [
    "with open('iden_matrix_spatiotemporal_3.pickle','w') as f:\n",
    "    pickle.dump(iden_st_3,f)"
   ]
  },
  {
   "cell_type": "code",
   "execution_count": 71,
   "metadata": {
    "collapsed": false
   },
   "outputs": [
    {
     "name": "stdout",
     "output_type": "stream",
     "text": [
      "24.2%\n"
     ]
    }
   ],
   "source": [
    "iden_matrix = np.matrix(iden_st_3)\n",
    "df_ident = pd.DataFrame(iden_matrix)\n",
    "i = 0\n",
    "identified_indexs = []\n",
    "wrong_indexs = []\n",
    "correct_indexs = []\n",
    "selected_indexs = []\n",
    "n_identified = 0\n",
    "limit = min(len(profiles),len(sequences))\n",
    "while (i<limit):\n",
    "    the_index = np.argmax(iden_matrix[:,i])\n",
    "    selected_indexs.append(np.max(iden_matrix[:,i]))\n",
    "    identified_indexs.append(the_index)\n",
    "    if(the_index!=i):\n",
    "        wrong_indexs.append(the_index)\n",
    "    else:\n",
    "        correct_indexs.append(the_index)\n",
    "        n_identified += 1\n",
    "    i += 1\n",
    "porcentaje_correcto = n_identified*100/limit\n",
    "print str(round(porcentaje_correcto,2))+ \"%\""
   ]
  },
  {
   "cell_type": "code",
   "execution_count": null,
   "metadata": {
    "collapsed": true
   },
   "outputs": [],
   "source": []
  }
 ],
 "metadata": {
  "anaconda-cloud": {},
  "kernelspec": {
   "display_name": "Python [default]",
   "language": "python",
   "name": "python2"
  }
 },
 "nbformat": 4,
 "nbformat_minor": 0
}
